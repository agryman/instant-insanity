{
 "cells": [
  {
   "cell_type": "markdown",
   "id": "ad880edf-3b56-4801-9394-4351c84a233d",
   "metadata": {},
   "source": [
    "# Graph Theory with Voiceovers\n",
    "*Arthur Ryman, last updated 2025-05-20*\n",
    "\n",
    "[<img src=\"images/colab-badge.png\" alt=\"Open in Colab\" style=\"width: 15%;\">\n",
    "](https://colab.research.google.com/github/agryman/instant-insanity/blob/main/notebooks/Graph-Theory-Voiceovers.ipynb)"
   ]
  },
  {
   "cell_type": "markdown",
   "id": "11714b4b-4184-4c2a-a5d8-4b6af2c8108d",
   "metadata": {},
   "source": [
    "## Introduction\n",
    "\n",
    "This notebook explains how to solve the Instant Insanity puzzle using graph theory,\n",
    "\n",
    "This notebook contains both voiceovers and explanatory text.\n",
    "The voiceovers are intended for use in the video.\n",
    "The explanatory text goes into more detail but may be too detailed for use in video."
   ]
  },
  {
   "cell_type": "markdown",
   "id": "3dd87788-ba50-460d-a9ad-4d7b57872969",
   "metadata": {},
   "source": [
    "## Change History\n",
    "\n",
    "This is a working document and will be edited frequency.\n",
    "I will annotate each voiceover with the date of its most recent update."
   ]
  },
  {
   "cell_type": "markdown",
   "id": "9c26ca56-1717-4279-9e8b-0b54ad84d316",
   "metadata": {},
   "source": [
    "## Graph Theory\n",
    "\n",
    "The material in this notebook should come after the combinatorics material.\n",
    "At this point the viewer should understand what it means to solve the puzzle and appreciate that out of the\n",
    "41,472 essentially distinct ways of arranging the cubes, only one of them solves the puzzle.\n",
    "\n",
    "The goal of this notebook is to explain the elegant graph theory solution to the puzzle that was published in 1947\n",
    "by four Cambridge mathematics students writing under the pseudonym of F. de Carteblache."
   ]
  },
  {
   "cell_type": "markdown",
   "id": "b2ebb8ef-77f4-43bd-a44b-bb206db0b0a2",
   "metadata": {},
   "source": [
    "## Scene: What is a Graph?\n",
    "\n",
    "The purpose of this scene is to introduce the basic concepts of graph theory.\n",
    "\n",
    "Show a diagram of a simple graph.\n",
    "For example, show the graph for the game \"rock-scissors-paper\".\n",
    "Image to be provided.\n",
    "\n",
    "### Voiceover: last updated 2025-05-20\n",
    "\n",
    "In the game rock-scissors-paper the rules are rock beats scissors, scissors beats paper, and paper beats rock.\n",
    "We can visualize these rules a diagram by drawing labelled dots for each object and drawing\n",
    "arrows from one object to another whenever the first object beats the second.\n",
    "This diagram is an example of a what mathematicians call a graph.\n",
    "To be more precise, it is an example of a directed, labelled graph.\n",
    "\n",
    "In general, a graph consists of set objects, a set of connections between them, and possibly some additional\n",
    "properties associated with the objects and connections.\n",
    "Graph theory is the branch of mathematics that studies the properties of graphs.\n",
    "\n",
    "The precise terminology used for graphs may change depending on the application.\n",
    "For example, the objects and connections may be called points and lines or vertices and edges when the connections \n",
    "are not directed, or nodes and arcs when the connections are directed. \n",
    "However, the terms nodes and edges are also often used together, so we'll use them here.\n",
    "\n",
    "The graph for the game of rock-scissors-paper has three nodes and three directed edges.\n",
    "A directed edge from node X to node Y means that object X beats object Y.\n",
    "\n",
    "Viewing a puzzle, game, or mathematical problem as a graph may be useful for a couple of reasons.\n",
    "First, viewing the problem as a graph lets us apply our powers of visual or geometric reasoning to its solution.\n",
    "Second, the graph may abstract away inessential features of the problem and thereby reduce it to a simpler problem."
   ]
  },
  {
   "cell_type": "markdown",
   "id": "29597835-fb55-4690-a0fa-ebfe6bd2ece7",
   "metadata": {},
   "source": []
  }
 ],
 "metadata": {
  "kernelspec": {
   "display_name": "Python 3 (ipykernel)",
   "language": "python",
   "name": "python3"
  },
  "language_info": {
   "codemirror_mode": {
    "name": "ipython",
    "version": 3
   },
   "file_extension": ".py",
   "mimetype": "text/x-python",
   "name": "python",
   "nbconvert_exporter": "python",
   "pygments_lexer": "ipython3",
   "version": "3.11.12"
  }
 },
 "nbformat": 4,
 "nbformat_minor": 5
}
