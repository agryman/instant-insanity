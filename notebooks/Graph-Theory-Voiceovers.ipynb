{
 "cells": [
  {
   "cell_type": "markdown",
   "id": "ad880edf-3b56-4801-9394-4351c84a233d",
   "metadata": {},
   "source": [
    "# Graph Theory with Voiceovers\n",
    "*Arthur Ryman, last updated 2025-06-17*\n",
    "\n",
    "[<img src=\"images/colab-badge.png\" alt=\"Open in Colab\" style=\"width: 15%;\">\n",
    "](https://colab.research.google.com/github/agryman/instant-insanity/blob/main/notebooks/Graph-Theory-Voiceovers.ipynb)"
   ]
  },
  {
   "cell_type": "markdown",
   "id": "11714b4b-4184-4c2a-a5d8-4b6af2c8108d",
   "metadata": {},
   "source": [
    "## Introduction\n",
    "\n",
    "The goal of this notebook is to explain the elegant graph theory solution to the \n",
    "Instant Insanity puzzle that was published in 1947\n",
    "by four Cambridge mathematics students writing under the pseudonym of F. de Carteblache.\n",
    "\n",
    "This notebook contains both voiceovers and explanatory text.\n",
    "The voiceovers are intended for use in the video.\n",
    "The explanatory text may go into more detail."
   ]
  },
  {
   "cell_type": "markdown",
   "id": "3dd87788-ba50-460d-a9ad-4d7b57872969",
   "metadata": {},
   "source": [
    "## Change History\n",
    "\n",
    "This is a working document and will be edited frequency.\n",
    "All voiceovers are saved as plain text files to make it easy to automate text-to-speech conversion.\n",
    "Each voiceover follows the figure or animation it describes."
   ]
  },
  {
   "cell_type": "markdown",
   "id": "9c26ca56-1717-4279-9e8b-0b54ad84d316",
   "metadata": {},
   "source": [
    "## Prerequisites\n",
    "\n",
    "The material in this notebook should come after the combinatorics material.\n",
    "At this point the viewer should understand what it means to solve the puzzle and appreciate that out of the\n",
    "41,472 essentially distinct ways of arranging the cubes, only one of them solves the puzzle."
   ]
  },
  {
   "cell_type": "markdown",
   "id": "963463bd-aec8-429f-a7cb-6335121808dc",
   "metadata": {},
   "source": [
    "## Scene: What is a Graph?\n",
    "\n",
    "The purpose of this scene is to introduce the basic concepts of graph theory.\n",
    "\n",
    "### The x-y Graph of a Parabola\n",
    "\n",
    "Show the graph of a parabola.\n",
    "\n",
    "<div style=\"text-align: center;\">\n",
    "    <img src=\"images/latex/parabola-graph.png\" alt=\"Parabola Graph\" style=\"width: 75%;\">\n",
    "</div>\n",
    "\n",
    "Explain that mathematicians also use the word graph for another type of object and\n",
    "that we will be discussing that use here."
   ]
  },
  {
   "cell_type": "code",
   "execution_count": 1,
   "id": "9293f013-5f32-4f45-bcb9-1dfb1d9a78fb",
   "metadata": {},
   "outputs": [
    {
     "name": "stdout",
     "output_type": "stream",
     "text": [
      "In high school, we learn to draw graphs of functions on the familiar x-y coordinate plane.\n",
      "For example, here's the graph of a parabola.\n",
      "\n",
      "Mathematicians also use the term graph for another kind of object.\n",
      "The second meaning of graph is simply any collection of points\n",
      "connected by lines.\n",
      "We'll be talking about graphs in this sense of the word here.\n"
     ]
    }
   ],
   "source": [
    "!cat voiceovers/graph-theory/what-is-a-graph-1.txt"
   ]
  },
  {
   "cell_type": "markdown",
   "id": "edd027f0-9cfd-4d9e-bc1b-4f44916fa04b",
   "metadata": {},
   "source": [
    "### A Small Example Graph\n",
    "\n",
    "Show the following diagram of a small example graph.\n",
    "\n",
    "<div style=\"text-align: center;\">\n",
    "    <img src=\"images/latex/example-simple-graph.png\" alt=\"Example Simple Graph\" style=\"width: 50%;\">\n",
    "</div>\n",
    "\n",
    "\n",
    "Explain graph terminology.\n",
    "\n",
    "It would be nice if we could animate the diagram and briefly highlight the points\n",
    "and then the lines, synchronizing the voiceover when it mentions the points and then the lines."
   ]
  },
  {
   "cell_type": "code",
   "execution_count": 2,
   "id": "c0de204c-117a-4c87-872f-3889017b0bec",
   "metadata": {},
   "outputs": [
    {
     "name": "stdout",
     "output_type": "stream",
     "text": [
      "Here's a diagram of a small graph.\n",
      "It consists of five points connected by four lines.\n",
      "\n",
      "Not only do mathematicians sometimes give different meanings to the same term,\n",
      "such as graph,\n",
      "they also sometimes define different terms to mean the same thing.\n",
      "This is very much the case in graph theory.\n",
      "A graph may be called a network.\n",
      "A point may be called a dot, vertex, or node.\n",
      "A line may be called a link, edge, or arc.\n",
      "Here, we’ll use the terms graph, node, and edge since they’ve become fairly standard.\n",
      "\n",
      "Drawing a diagram of a graph helps us understand its structure,\n",
      "but the exact placement of nodes and the way edges are drawn doesn’t matter.\n",
      "All that matters is which nodes are connected by which edges.\n",
      "The example shows just one of the many ways of drawing the graph as a diagram.\n"
     ]
    }
   ],
   "source": [
    "!cat voiceovers/graph-theory/what-is-a-graph-2.txt"
   ]
  },
  {
   "cell_type": "markdown",
   "id": "b78f0884-37d6-4e2a-8317-19bde40223e1",
   "metadata": {},
   "source": [
    "### The Same Graph with an Edge Crossover\n",
    "\n",
    "Show the following diagram that illustrates an edge crossover.\n",
    "\n",
    "<div style=\"text-align: center;\">\n",
    "    <img src=\"images/latex/example-crossover-graph.png\" alt=\"Example Crossover Graph\" style=\"width: 50%;\">\n",
    "</div>\n",
    "\n",
    "Explain that there are many ways to draw a diagram of a graph, some\n",
    "being clearer than others.\n",
    "\n",
    "It would be nice to animate this diagram by interpolating the original node position \n",
    "outside the triangle to the final one inside the triangle, causing a crossover."
   ]
  },
  {
   "cell_type": "code",
   "execution_count": 3,
   "id": "0ff072ef-ae3a-426f-a6f6-c40fb53c2ac0",
   "metadata": {},
   "outputs": [
    {
     "name": "stdout",
     "output_type": "stream",
     "text": [
      "Some diagrams are clearer than others.\n",
      "For example, a diagram becomes clearer as we reduce the number of times\n",
      "edges cross each other.\n",
      "The following diagram contains an edge crossover but represents that same graph\n",
      "as the previous diagram.\n"
     ]
    }
   ],
   "source": [
    "!cat voiceovers/graph-theory/what-is-a-graph-3.txt"
   ]
  },
  {
   "cell_type": "markdown",
   "id": "4896f08a-c102-456f-a0d0-1fe435880521",
   "metadata": {},
   "source": [
    "## Scene: When are Graphs Useful?\n",
    "\n",
    "The purpose of this scene is to discuss when graphs may be useful for problem solving.\n",
    "\n",
    "### Geographic London Tube Map\n",
    "\n",
    "Show a geographically accurate map of the Tube system.\n",
    "\n",
    "<div style=\"text-align: center;\">\n",
    "    <img src=\"images/central-london-connections.png\" alt=\"Central London Connections\" style=\"width: 50%;\">\n",
    "</div>\n",
    "\n",
    "Source: [Transit Maps - Geographical London Connections Map](https://transitmap.net/geographical-london-tfl/#jp-carousel-1546)\n",
    "\n",
    "Remark that it is somewhat difficult to plan your route using this map.\n",
    "\n",
    "Discuss visual reasoning and abstraction.\n",
    "Use the example of how to plan your route on the London Underground system, aka the Tube."
   ]
  },
  {
   "cell_type": "code",
   "execution_count": 4,
   "id": "ab4fa752-f70f-4059-ad7f-47b6020c77a9",
   "metadata": {},
   "outputs": [
    {
     "name": "stdout",
     "output_type": "stream",
     "text": [
      "There are two main reasons why representing a puzzle, game, or problem as a graph \n",
      "might be useful.\n",
      "First, visualizing a problem as a graph may let us apply our powers of visual reasoning to its solution.\n",
      "Second, thinking of a problem as a graph may lead us to omit some of its inessential features, \n",
      "possibly reducing it to a simpler and easier-to-solve problem.\n",
      "\n",
      "For example, suppose you are on vacation in London, England and \n",
      "want to travel around the city using the Underground, commonly known as the Tube.\n",
      "You could use the this geographically accurate map showing Central London Connections.\n",
      "This type of map has the advantage that you can accurately judge distances, but\n",
      "it is somewhat challenging to plan your route\n",
      "because of the way the Tube lines curve and cross.\n",
      "In a sense, this type of map contains too much information.\n",
      "All you are really interested in is how the Tube stations are connected.\n"
     ]
    }
   ],
   "source": [
    "!cat voiceovers/graph-theory/when-are-graphs-useful-1.txt"
   ]
  },
  {
   "cell_type": "markdown",
   "id": "98c4cb5b-5043-4a31-badd-c15af56b46be",
   "metadata": {},
   "source": [
    "### Functional London Tube Map\n",
    "\n",
    "Show the simplified functional map.\n",
    "\n",
    "<div style=\"text-align: center;\">\n",
    "    <img src=\"images/central-london-tube-map.png\" alt=\"Central London Tube Map\" style=\"width: 50%;\">\n",
    "</div>\n",
    "\n",
    "Source: [Transport for London - Standard Tube Map](https://content.tfl.gov.uk/standard-tube-map.pdf)\n",
    "\n",
    "Remark that now it is easier to plan your route.\n",
    "The functional map is not to scale but\n",
    "it is easier to use because it simplifies the connections between stations.\n",
    "\n",
    "It would be very cool if we could create an animation that smoothly morphed the geographically accurate map\n",
    "into the functional map. \n",
    "This would be a lot of tedious manual work for a human so I am going to see if ChatGPT can extract the positions\n",
    "and names of the Tube stations and the paths of their connecting lines from both maps."
   ]
  },
  {
   "cell_type": "code",
   "execution_count": 5,
   "id": "e6b66f5d-1e2d-4bea-ad29-63b7b0b05b59",
   "metadata": {},
   "outputs": [
    {
     "name": "stdout",
     "output_type": "stream",
     "text": [
      "Recall that in a diagram of a graph, the precise positions of the nodes and edges are not important.\n",
      "The only thing that counts is which nodes are connected by which edges.\n",
      "Transport for London has used this flexibility to simplify life for travellers.\n",
      "They published an iconic functional map of the Tube system\n",
      "in which lines are oriented at multiples of forty-five degrees\n",
      "and distances between stations are not drawn to scale.\n",
      "The result is a map that is much easier to understand and use.\n",
      "\n",
      "Discarding geographic accuracy to achieve a clearer layout\n",
      "is an excellent example of how abstraction can be helpful.\n",
      "This process of abstraction is again present in the use of\n",
      "graph theory to solve Instant Insanity.\n"
     ]
    }
   ],
   "source": [
    "!cat voiceovers/graph-theory/when-are-graphs-useful-2.txt"
   ]
  },
  {
   "cell_type": "markdown",
   "id": "1ef347c1-ac03-48fc-8a2c-b7748fc7187b",
   "metadata": {},
   "source": [
    "## Scene: Graph Features and Terminology\n",
    "\n",
    "The purpose of this scene is to discuss some important features of graphs and introduce the terms used to describe them.\n",
    "\n",
    "It would be very cool if we could highlight parts of the graphs when the voiceover mentions them."
   ]
  },
  {
   "cell_type": "markdown",
   "id": "1aff5919-bf66-4e6b-b66f-28511105438d",
   "metadata": {},
   "source": [
    "### Simple Graphs\n",
    "\n",
    "Show the example graph.\n",
    "\n",
    "<div style=\"text-align: center;\">\n",
    "    <img src=\"images/latex/example-simple-graph.png\" alt=\"Example Simple Graph\" style=\"width: 50%;\">\n",
    "</div>\n",
    "\n",
    "Define loops, parallel edges, and simple graphs.\n",
    "Remark that the example has no loops or parallel edges and is therefore a simple graph."
   ]
  },
  {
   "cell_type": "code",
   "execution_count": 6,
   "id": "dcfc1201-ce08-469f-9579-f26a8dd0989b",
   "metadata": {},
   "outputs": [
    {
     "name": "stdout",
     "output_type": "stream",
     "text": [
      "There are several variations on the basic concept of a graph.\n",
      "Here are some of the terms mathematicians use to describe them.\n",
      "\n",
      "An edge that connects a node to itself is called a loop.\n",
      "Edges that connect the same nodes are called parallel edges.\n",
      "\n",
      "A graph that does not contain any loops or parallel edges is called a simple graph.\n",
      "Our first example of a graph has no loops or parallel edges and is therefore a simple graph.\n"
     ]
    }
   ],
   "source": [
    "!cat voiceovers/graph-theory/graph-features-and-terminology-1.txt"
   ]
  },
  {
   "cell_type": "markdown",
   "id": "3d3b0b21-bb3f-440e-a401-288dcfb05958",
   "metadata": {},
   "source": [
    "### Labelled Graphs\n",
    "\n",
    "Show the example graph with the nodes and edges labelled.\n",
    "\n",
    "<div style=\"text-align: center;\">\n",
    "    <img src=\"images/latex/example-labelled-graph.png\" alt=\"Example Labelled Graph\" style=\"width: 50%;\">\n",
    "</div>\n",
    "\n",
    "Define labelled graphs.\n",
    "\n",
    "It would be nice to animate the addition of node and edge labels.\n",
    "Add the node labels one by one. Then add the edge labels one by one."
   ]
  },
  {
   "cell_type": "code",
   "execution_count": 7,
   "id": "23fd7fbb-5dea-4541-93c4-c87c66e35358",
   "metadata": {},
   "outputs": [
    {
     "name": "stdout",
     "output_type": "stream",
     "text": [
      "Graphs often arise in situations where nodes and edges have properties.\n",
      "A graph in which each node and edge is labelled with some data is called a labelled graph.\n",
      "The label might simply be an identifier, or it might contain numerical data.\n",
      "\n",
      "Let's label the nodes and edges of our example graph.\n",
      "Label the nodes as A through E.\n",
      "Label the edges as 1 through 4.\n",
      "Now we have a labelled graph.\n"
     ]
    }
   ],
   "source": [
    "!cat voiceovers/graph-theory/graph-features-and-terminology-2.txt"
   ]
  },
  {
   "cell_type": "markdown",
   "id": "58283991-12c2-4103-b7a1-412538e223bb",
   "metadata": {},
   "source": [
    "### Multigraphs\n",
    "\n",
    "Show the example graph with a loop and parallel edge added.\n",
    "\n",
    "<div style=\"text-align: center;\">\n",
    "    <img src=\"images/latex/example-multigraph.png\" alt=\"Example Multigraph\" style=\"width: 50%;\">\n",
    "</div>\n",
    "\n",
    "Define multigraphs."
   ]
  },
  {
   "cell_type": "code",
   "execution_count": 8,
   "id": "da2e42a8-2f5a-49aa-a628-886ced878a59",
   "metadata": {},
   "outputs": [
    {
     "name": "stdout",
     "output_type": "stream",
     "text": [
      "A graph that contains loops or parallel edges is called a multigraph.\n",
      "Let's add loop 5 at node B and a parallel edge 6 connecting nodes D and E.\n",
      "Now we have a labelled multigraph.\n"
     ]
    }
   ],
   "source": [
    "!cat voiceovers/graph-theory/graph-features-and-terminology-3.txt"
   ]
  },
  {
   "cell_type": "markdown",
   "id": "3680f62a-3e68-49db-b7eb-6bb4c1bd42a0",
   "metadata": {},
   "source": [
    "### Directed Graphs\n",
    "\n",
    "Show the example graph with edge directions added.\n",
    "\n",
    "<div style=\"text-align: center;\">\n",
    "    <img src=\"images/latex/example-directed-graph.png\" alt=\"Example Directed Graph\" style=\"width: 50%;\">\n",
    "</div>\n",
    "\n",
    "Define directed graphs."
   ]
  },
  {
   "cell_type": "code",
   "execution_count": 9,
   "id": "3ee90d71-1b52-498f-9ac4-9395138f004f",
   "metadata": {},
   "outputs": [
    {
     "name": "stdout",
     "output_type": "stream",
     "text": [
      "A graph in which each edge is assigned a direction is called a directed graph.\n",
      "Let's give each edge in our example graph a direction.\n",
      "Now we have a directed, labelled multigraph.\n",
      "\n",
      "Directed, labelled multigraphs will be used in the solution of Instant Insanity.\n"
     ]
    }
   ],
   "source": [
    "!cat voiceovers/graph-theory/graph-features-and-terminology-4.txt"
   ]
  },
  {
   "cell_type": "markdown",
   "id": "99ef1910-6387-4865-a7f1-6775876307b9",
   "metadata": {},
   "source": [
    "### Node Degrees\n",
    "\n",
    "Show the degree table for the example graph.\n",
    "\n",
    "<div style=\"text-align: center;\">\n",
    "    <img src=\"images/latex/example-degree-table.png\" alt=\"Example Degree Table\" style=\"width: 50%;\">\n",
    "</div>\n",
    "\n",
    "Define node degrees.\n",
    "\n",
    "It would be better if we showed the diagram and the degree table together and maybe \n",
    "animated the scene by iterating through each node and then iterating through the edges that meet\n",
    "it, incrementing the degree table entries are we go."
   ]
  },
  {
   "cell_type": "code",
   "execution_count": 10,
   "id": "cd97c910-8e57-4ad2-a52a-b6c4c85d4ced",
   "metadata": {},
   "outputs": [
    {
     "name": "stdout",
     "output_type": "stream",
     "text": [
      "Finally, the degree of a node is the number of edges that meet it\n",
      "where we count a loop as meeting the node twice.\n",
      "For example, node B has degree 4 and all the other nodes have degree 2.\n",
      "\n",
      "If the graph is directed, then the in-degree of a node is the number of\n",
      "edges that enter it and its out-degree is the number of edges that\n",
      "leave it. In this case, the degree of the node is called its\n",
      "total degree and is equal to the sum of its in-degree and out-degree.\n",
      "\n",
      "For example, node D has out-degree 2 and in-degree 0.\n",
      "The table shows the degrees of the nodes in our example\n",
      "directed graph.\n"
     ]
    }
   ],
   "source": [
    "!cat voiceovers/graph-theory/graph-features-and-terminology-5.txt"
   ]
  },
  {
   "cell_type": "markdown",
   "id": "dba90542-76ee-4257-b509-6545be2cc6d1",
   "metadata": {},
   "source": [
    "## Scene: Euler and the Seven Bridges\n",
    "\n",
    "The purpose of this scene is to remark that graph theory was in fact invented to solve a puzzle.\n",
    "Describe the Seven Bridges of Königsberg and how Leonhard Euler solved it in 1736.\n",
    "\n",
    "Source: [Wikipedia - Seven Bridges of Königsberg](https://en.wikipedia.org/wiki/Seven_Bridges_of_K%C3%B6nigsberg)"
   ]
  },
  {
   "cell_type": "code",
   "execution_count": 11,
   "id": "6581ce85-2df2-4d23-ace1-d29fedac8cfe",
   "metadata": {},
   "outputs": [
    {
     "name": "stdout",
     "output_type": "stream",
     "text": [
      "Before delving further into graph theory, let's take a brief excursion into its history.\n",
      "It turns out that solving a recreational puzzle inspired the creation of graph theory.\n",
      "The famous mathematician Leonhard Euler laid the foundations for graph theory in 1736\n",
      "when he settled the popular Seven Bridges of Konigsberg problem.\n",
      "Wikipedia explains this problem in great detail.\n",
      "Here's a brief summary.\n"
     ]
    }
   ],
   "source": [
    "!cat voiceovers/graph-theory/euler-and-the-seven-bridges-1.txt"
   ]
  },
  {
   "cell_type": "markdown",
   "id": "da3b6f79-b0ea-4ff2-bd2a-142d59d2a04a",
   "metadata": {},
   "source": [
    "### Geographic Map of Königsberg\n",
    "\n",
    "Show the geographic map of the bridges.\n",
    "\n",
    "<div style=\"text-align: center;\">\n",
    "    <img src=\"images/Konigsberg-bridges-map.png\" alt=\"Konigsberg Bridges Map\" style=\"width: 50%;\">\n",
    "</div>"
   ]
  },
  {
   "cell_type": "code",
   "execution_count": 12,
   "id": "60ab363e-6f37-4355-9486-820b15facb16",
   "metadata": {},
   "outputs": [
    {
     "name": "stdout",
     "output_type": "stream",
     "text": [
      "A river ran through the city of Konigsberg and seven bridges crossed it,\n",
      "interconnecting its two banks and two large islands.\n",
      "The people of Konigsberg amused themselves by trying to find\n",
      "a walking path that crossed each of the seven bridges exactly once.\n",
      "They were allowed to start and end the path anywhere, possibly on different landmasses.\n",
      "We'll refer to the sought-after walking path as a tour.\n",
      "Sadly, despite their efforts, no one could find a tour.\n"
     ]
    }
   ],
   "source": [
    "!cat voiceovers/graph-theory/euler-and-the-seven-bridges-2.txt"
   ]
  },
  {
   "cell_type": "markdown",
   "id": "5d2defc6-f7ce-4135-aa8b-985b33e9ac20",
   "metadata": {},
   "source": [
    "### Simplified Map of Königsberg\n",
    "\n",
    "Show the simplified map of Königsberg.\n",
    "\n",
    "<div style=\"text-align: center;\">\n",
    "    <img src=\"images/Konigsberg-bridges-drawing.png\" alt=\"Konigsberg Bridges Drawing\" style=\"width: 50%;\">\n",
    "</div>\n",
    "\n",
    "It would be good if we could animate the morphing of the geographic map into the simplified map."
   ]
  },
  {
   "cell_type": "code",
   "execution_count": 13,
   "id": "6bfd2fa5",
   "metadata": {},
   "outputs": [
    {
     "name": "stdout",
     "output_type": "stream",
     "text": [
      "Euler managed to prove that no tour existed!\n",
      "He demonstrated this by abstracting the layout of Konisberg into a graph \n",
      "in which the nodes represented its four landmasses and the edges\n",
      "represented the seven bridges connecting them.\n",
      "\n",
      "Start by simplifying the geographic map into\n",
      "a diagram that shows the four landmasses,\n",
      "the river separating them,\n",
      "and the seven bridges connecting them.\n",
      "\n"
     ]
    }
   ],
   "source": [
    "!cat voiceovers/graph-theory/euler-and-the-seven-bridges-3.txt"
   ]
  },
  {
   "cell_type": "markdown",
   "id": "4d5f9091-eb64-424f-b1ca-3ff81ce7f2ca",
   "metadata": {},
   "source": [
    "### Königsberg Bridge Graph\n",
    "\n",
    "Show the bridge graph.\n",
    "\n",
    "<div style=\"text-align: center;\">\n",
    "    <img src=\"images/Konigsberg-bridges-graph.png\" alt=\"Konigsberg Bridges Graph\" style=\"width: 50%;\">\n",
    "</div>\n",
    "\n",
    "TO DO: Label the nodes N, S, E, W and the bridges 1 through 7.\n",
    "\n",
    "It would be good if we could animate the morphing of the simplified map into the bridge graph."
   ]
  },
  {
   "cell_type": "code",
   "execution_count": 14,
   "id": "43e40b8a-8c7f-4054-a119-6c06df53e445",
   "metadata": {},
   "outputs": [
    {
     "name": "stdout",
     "output_type": "stream",
     "text": [
      "Next, collapse each landmass into a node.\n",
      "Now we have an abstract representation of the\n",
      "bridges as a multigraph containing four nodes\n",
      "and seven edges.\n",
      "All of the geographic information has been discarded.\n",
      "All that remains is how the bridges connect the\n",
      "landmasses.\n"
     ]
    }
   ],
   "source": [
    "!cat voiceovers/graph-theory/euler-and-the-seven-bridges-4.txt"
   ]
  },
  {
   "cell_type": "markdown",
   "id": "339cde2b-b6cf-4794-afb4-1a743952a99c",
   "metadata": {},
   "source": [
    "### Königsberg Bridge Graph Node Degree Table\n",
    "\n",
    "Show the following table node degree table.\n",
    "\n",
    "<div style=\"text-align: center;\">\n",
    "    <img src=\"images/latex/bridges-degree-table.png\" alt=\"Konigsberg Bridges Degree Table\" style=\"width: 50%;\">\n",
    "</div>\n",
    "\n",
    "It would be better if we showed the diagram and the table together and maybe \n",
    "animated the scene by iterating through each node and then iterating through the edges that meet\n",
    "it, incrementing the degree table entries are we go."
   ]
  },
  {
   "cell_type": "code",
   "execution_count": 15,
   "id": "ab9b6fc8",
   "metadata": {},
   "outputs": [
    {
     "name": "stdout",
     "output_type": "stream",
     "text": [
      "Now let's compute the degree of each node.\n",
      "Note that the degree of each node is an\n",
      "odd number.\n",
      "This is a crucial observation.\n",
      "\n"
     ]
    }
   ],
   "source": [
    "!cat voiceovers/graph-theory/euler-and-the-seven-bridges-5.txt"
   ]
  },
  {
   "cell_type": "markdown",
   "id": "d176b19d-88ab-483a-a239-bc45a877edbd",
   "metadata": {},
   "source": [
    "### Paths Through the Königsberg Bridge Graph\n",
    "\n",
    "Show the bridge graph again and discuss paths.\n",
    "\n",
    "<div style=\"text-align: center;\">\n",
    "    <img src=\"images/Konigsberg-bridges-graph.png\" alt=\"Konigsberg Bridges Graph\" style=\"width: 50%;\">\n",
    "</div>\n",
    "\n",
    "At this point we need labels on the bridge graph so we can refer to the nodes and edges\n",
    "that we include in a candidate path.\n",
    "\n",
    "It would be good if we could\n",
    "overlay some animations on the graph that show example paths and the corresponding node degrees\n",
    "of the subgraph defined by each path. \n",
    "Draw a path and then show the degree at each node on the path. \n",
    "Maybe increment the degrees as you draw the path.\n",
    "Initialize all degrees to 0 and then increment the degree as the path enters and exits each node.\n",
    "The degrees of the nodes, other than the start and end nodes, will always be even.\n",
    "Do this for several paths. \n",
    "Pick different start and end nodes too.\n",
    "Maybe draw three or four different paths."
   ]
  },
  {
   "cell_type": "code",
   "execution_count": 16,
   "id": "dd047b08",
   "metadata": {},
   "outputs": [
    {
     "name": "stdout",
     "output_type": "stream",
     "text": [
      "Here is how Euler reasoned.\n",
      "He realized that as you take any path, you both enter and exit each landmass,\n",
      "except possibly for the start and end of the path which are allowed to be different.\n",
      "If you cross each bridge exactly once, then the number of bridges that meet each landmass\n",
      "must therefore be an even number, except possibly for the start and end if they are on different landmases.\n",
      "\n",
      "We can translate this observation into the language of graph theory as follows.\n",
      "If a tour exists, then at most two nodes of the bridge graph can have odd degrees.\n",
      "\n",
      "But all four of the nodes in the Konigsberg bridge graph have odd degrees, namely\n",
      "three nodes have degree three and one node has degree five.\n",
      "So the Konisberg bridge graph has more than two nodes of odd degree which \n",
      "implies that no tour exists.\n",
      "\n",
      "Problem solved!\n"
     ]
    }
   ],
   "source": [
    "!cat voiceovers/graph-theory/euler-and-the-seven-bridges-6.txt"
   ]
  },
  {
   "cell_type": "markdown",
   "id": "0680d96c-6f01-4573-a364-933d797053e4",
   "metadata": {},
   "source": [
    "## Scene: The Rock-Paper-Scissors Graph\n",
    "\n",
    "Source:\n",
    "[Wikipedia - Rock paper scissors](https://en.wikipedia.org/wiki/Rock_paper_scissors)\n",
    "\n",
    "The purpose of this scene is to show how we can visualize data as a graph in order\n",
    "to make the data easier to understand.\n",
    "We'll represent the two-person game of Rock-Paper-Scissors as a directed, labelled graph.\n",
    "\n",
    "### The Rock-Paper-Scissors Payoff Matrix\n",
    "\n",
    "Show the following payoff matrix.\n",
    "\n",
    "<div style=\"text-align: center;\">\n",
    "    <img src=\"images/latex/payoff-matrix.png\" alt=\"Payoff Matrix\" style=\"width: 75%;\">\n",
    "</div>\n",
    "\n",
    "Explain the rules of the game and summarize them in the payoff matrix."
   ]
  },
  {
   "cell_type": "code",
   "execution_count": 17,
   "id": "38c28873-fca4-4094-a7aa-f0f4cdfc8db3",
   "metadata": {},
   "outputs": [
    {
     "name": "stdout",
     "output_type": "stream",
     "text": [
      "Before diving into how to represent Instant Insanity as a graph,\n",
      "let's consider the well-known two-player game of Rock–Paper–Scissors.\n",
      "We'll call our players Alice and Bob.\n",
      "Recall that each player secretly chooses\n",
      "one of the three objects: rock, paper, or scissors.\n",
      "Then, at the same time, they reveal a hand sign that represents their choice.\n",
      "The rules are simple: rock beats scissors, scissors beats paper, and paper beats rock.\n",
      "The loser pays the winner one dollar. If it’s a tie, no money changes hands.\n",
      "\n",
      "We can record all of these rules in a payoff matrix,\n",
      "which shows how much each player wins or loses depending on what they choose.\n",
      "The rows represent Alice's choice, and the columns represent Bob's.\n",
      "Each matrix cell contains a pair of numbers that give the payoff to Alice\n",
      "and Bob respectively.\n"
     ]
    }
   ],
   "source": [
    "!cat voiceovers/graph-theory/rock-paper-scissors-1.txt"
   ]
  },
  {
   "cell_type": "markdown",
   "id": "1e94182e-eb3a-40af-ac59-209b6306ffc8",
   "metadata": {},
   "source": [
    "### The Rock-Paper-Scissors Graph\n",
    "\n",
    "Show the following graph.\n",
    "\n",
    "<div style=\"text-align: center;\">\n",
    "    <img src=\"images/latex/rock-paper-scissors.png\" alt=\"Rock-Paper-Scissors\" style=\"width: 50%;\">\n",
    "</div>\n",
    "\n",
    "Explain how we can represent the game as a directed, labelled graph."
   ]
  },
  {
   "cell_type": "code",
   "execution_count": 18,
   "id": "3b42b4e8-540b-4e07-adae-db81a1427e06",
   "metadata": {},
   "outputs": [
    {
     "name": "stdout",
     "output_type": "stream",
     "text": [
      "The payoff matrix gives a complete definition of the game,\n",
      "but it takes some mental effort to understand.\n",
      "Here is where the power of graph theory comes in.\n",
      "\n",
      "The graphs that represent the Tube lines of London and the bridges of Konisberg are both abstractions of\n",
      "geographic information.\n",
      "The diagram of their graphs looks like a nongeographic version of their maps.\n",
      "\n",
      "However, we can also use a graph to represent nongeographic relationships \n",
      "that might exist between objects in some collection.\n",
      "In mathematics such a set of relationships is called a binary relation or, simply, a relation.\n",
      "\n",
      "We can visualize a relation as a graph by creating a node for each object and an edge for each relationship.\n",
      "If the relation has a direction then so do the edges.\n",
      "\n",
      "For the London Tube the objects are stations and the relation is that a Tube line connects them.\n",
      "\n",
      "For Konisberg the objects are landmasses and the relation is that a bridge connects them.\n",
      "\n",
      "For Rock-Paper-Scissors the objects are choices and the directed relation is that one choice beats the other.\n",
      "Its game graph has three nodes, each representing a possible choice, and three directed edges\n",
      "each representing a case where one choice beats another.\n"
     ]
    }
   ],
   "source": [
    "!cat voiceovers/graph-theory/rock-paper-scissors-2.txt"
   ]
  },
  {
   "cell_type": "markdown",
   "id": "5303e615-f835-4294-85dd-b66385cd0e66",
   "metadata": {},
   "source": [
    "### Rock-Paper-Scissors-Lizard-Spock\n",
    "\n",
    "Show the more complex graph for Rock-Paper-Scissors-Lizard-Spock. \n",
    "\n",
    "<div style=\"text-align: center;\">\n",
    "    <img src=\"images/latex/rock-paper-scissors-lizard-spock.png\" alt=\"Rock-Paper-Scissors-Lizard-Spock\" style=\"width: 50%;\">\n",
    "</div>"
   ]
  },
  {
   "cell_type": "code",
   "execution_count": 19,
   "id": "d318af6d-fbfc-4ffb-82f4-abc3756850af",
   "metadata": {},
   "outputs": [
    {
     "name": "stdout",
     "output_type": "stream",
     "text": [
      "If you feel that Rock-Paper-Scissors so simple that drawing its game graph is overkill,\n",
      "consider the more complex game of Rock-Paper-Scissors-Lizard-Spock.\n",
      "See Wikipedia for its rules.\n",
      "Now the game graph has five nodes and ten directed edges where, for simplicity, we have omitted\n",
      "the edge labels.\n",
      "The rules of this game can be read off at a glance from the graph.\n"
     ]
    }
   ],
   "source": [
    "!cat voiceovers/graph-theory/rock-paper-scissors-3.txt"
   ]
  },
  {
   "cell_type": "markdown",
   "id": "85ed6c58-f8db-4bf2-b811-f488b306c80f",
   "metadata": {},
   "source": [
    "## Scene: Carteblache's Elegant Idea\n",
    "\n",
    "The purpose of this scene is to explain Carteblanche's elegant idea of focusing on the \n",
    "opposite-face pairs.\n",
    "\n",
    "### Opposite-Face Pairs and Rotations\n",
    "\n",
    "TO DO: Show an animation of a cube rotating by quarter turns about its vertical axis."
   ]
  },
  {
   "cell_type": "code",
   "execution_count": 20,
   "id": "8f898c8c-3b04-44f0-949a-724f5a502411",
   "metadata": {},
   "outputs": [
    {
     "name": "stdout",
     "output_type": "stream",
     "text": [
      "Carteblanche realized that the key to cracking the puzzle was to\n",
      "focus on the opposite-face pairs that make up each cube.\n",
      "\n",
      "Observe that when you rotate some face of a cube into the top position\n",
      "then that determines which face is in the bottom position.\n",
      "\n",
      "However you can still rotate the cube by quarter turns about its vertical axis\n",
      "without changing the top and bottom faces.\n",
      "This limited freedom lets you choose which of the remaining four faces will occupy the front position.\n",
      "Of course, once you choose the front face then that determines the back face.\n",
      "\n",
      "In general, once you have positioned any one face then, as a side effect,\n",
      "you have also positioned its opposite face.\n",
      "You still have the freedom to rotate the cube about the axis through those\n",
      "faces without changing their positions.\n"
     ]
    }
   ],
   "source": [
    "!cat voiceovers/graph-theory/carteblanches-elegant-idea-1.txt"
   ]
  },
  {
   "cell_type": "markdown",
   "id": "e9324c81-74c0-4dc3-9808-7f305ba62ae5",
   "metadata": {},
   "source": [
    "### The Two-Stage Search Strategy\n",
    "\n",
    "TO DO: Show an animation of a partial solution in which the top-bottom faces are solved.\n",
    "Show that we can rotate any cube by a quarter turn about the vertical axis without ruining \n",
    "the top-bottom solution."
   ]
  },
  {
   "cell_type": "code",
   "execution_count": 21,
   "id": "7480b5dd-a8dc-4e8f-b8d7-23803600fd24",
   "metadata": {},
   "outputs": [
    {
     "name": "stdout",
     "output_type": "stream",
     "text": [
      "Now suppose you have an arrangement of the four cubes in which the top-bottom faces are solved, \n",
      "but the front-back faces might not be.\n",
      "You can then try to solve the front-back faces by turning each cube about its vertical axis \n",
      "without ruining the top-bottom solution.\n",
      "\n",
      "This observation suggests that you should try to solve the puzzle in two stages.\n",
      "First, you try to solve the top-bottom faces by rotating the cubes without any restrictions.\n",
      "Then, you try to solve the front-back faces but restricting yourself to quarter turns about the vertical axis so that\n",
      "you don't ruin the top-bottom solution.\n",
      "\n",
      "It may be that there are no front-back solutions that work with a given top-bottom solution.\n",
      "In this case you must look for another top-bottom solution and then try again to solve the front-back.\n",
      "This process is called backtracking.\n",
      "\n",
      "It turns out that using this two-stage search strategy leads to a speedy solution.\n"
     ]
    }
   ],
   "source": [
    "!cat voiceovers/graph-theory/carteblanches-elegant-idea-2.txt"
   ]
  },
  {
   "cell_type": "markdown",
   "id": "cb91c5d5-df96-4880-815b-0868ee982cf9",
   "metadata": {},
   "source": [
    "## Scene: Constructing the Opposite-Face Graph\n",
    "\n",
    "The purpose of this scene is to show how to represent the essence of Instant Insanity,\n",
    "namely the opposite-face pairs, as a labelled multigraph.\n",
    "\n",
    "### The Face Colour Table\n",
    "\n",
    "Show the Rock-Paper-Scissors payoff matrix beside the Instant Insanity face colour table.\n",
    "\n",
    "<div style=\"text-align: center;\">\n",
    "    <img src=\"images/latex/side-by-side-tables.png\" alt=\"Side-by-side Tables\" style=\"width: 75%;\">\n",
    "</div>"
   ]
  },
  {
   "cell_type": "code",
   "execution_count": 29,
   "id": "b5d6233f-2949-4797-941c-8f1304fe9da1",
   "metadata": {},
   "outputs": [
    {
     "name": "stdout",
     "output_type": "stream",
     "text": [
      "Let's compare the payoff matrix for Rock-Paper-Scissors to the colour table for Instant Insanity.\n",
      "Both tabulate all the relevant information about the game or puzzle at hand.\n",
      "However, using a table isn't necessarily the most effective to present this kind of information.\n",
      "Tables are great for summarizing quantitative data but here we are trying to understand relationships.\n",
      "In situations like this we may be able to gain deeper insight by visualizing the key relationships in a graph.\n",
      "\n",
      "For Rock-Paper-Scissors we needed to understand when one choice beats another.\n",
      "We were able to clearly exhibit this relation as a directed, labelled graph.\n",
      "Can we do something similar for Instant Insanity?\n",
      "\n",
      "The answer is Yes.\n",
      "Carteblanche found an excellent way to do represent the essence of Instant Insanity as a labelled multigraph.\n",
      "We'll construct that next.\n"
     ]
    }
   ],
   "source": [
    "!cat voiceovers/graph-theory/constructing-the-opposite-face-graph-1.txt"
   ]
  },
  {
   "cell_type": "markdown",
   "id": "6cb14658-846b-4e74-8e1a-652254ea394b",
   "metadata": {},
   "source": [
    "### Constructing the Opposite-Face Graph\n",
    "\n",
    "TO DO: Show an animation of the cubes morphing into the opposite-face graph as described in the voiceover."
   ]
  },
  {
   "cell_type": "code",
   "execution_count": 32,
   "id": "47b33975",
   "metadata": {},
   "outputs": [
    {
     "name": "stdout",
     "output_type": "stream",
     "text": [
      "Recall that focusing on the opposite-face pairs leads us to a two-stage search strategy\n",
      "in which we first solve the top-bottom faces and then solve the front-back faces without ruining the top-bottom solution.\n",
      "\n",
      "Carteblanche realized that you could succinctly represent the opposite-face colour information\n",
      "using a fairly small labelled multigraph which we'll call the opposite-face graph.\n",
      "It has four nodes, one for each face colour, and twelve edges, three for each cube.\n",
      "\n",
      "Here's how to construct the opposite-face graph.\n",
      "Start by arranging four nodes in a square and labelling each node one of the four colours.\n",
      "At this point the opposite-face graph has four nodes and no edges.\n",
      "\n",
      "Next, do the following for each cube.\n",
      "\n",
      "Imagine the faces of the cube detaching from each other and moving away from the centre of the cube.\n",
      "Connect pairs of opposite faces with an edge and label each of the three edges with the cube number and face name.\n",
      "For example, the edge labels for cube 1 are 1x, 1y, and 1z.\n",
      "Shrink the faces to be the size of the colour nodes of the graph.\n",
      "Move the x edge together with its face nodes onto the corresponding colour nodes of graph.\n",
      "Repeat this process for edges y and z.\n",
      "Now the graph has 3 new edges.\n",
      "\n",
      "After doing this for each cube the graph has 12 edges.\n",
      "\n",
      "This completes the construction of the graph.\n"
     ]
    }
   ],
   "source": [
    "!cat voiceovers/graph-theory/constructing-the-opposite-face-graph-2.txt"
   ]
  },
  {
   "cell_type": "markdown",
   "id": "40f649a8-7487-4d24-8b22-7bf35f0872cb",
   "metadata": {},
   "source": [
    "### Using the Opposite-Face Graph\n",
    "\n",
    "TO DO: Show a diagram of the opposite-face graph.\n",
    "Show a row of cubes that contains a top-bottom solution and animate its correspondence with a subgraph.\n",
    "\n",
    "#### Voiceover\n",
    "\n",
    "Now that we have represented the opposite-face information as a graph, \n",
    "we next have start thinking about the puzzle in graphical terms.\n",
    "\n",
    "Suppose we have solved the top-bottom faces.\n",
    "This means that we have selected one opposite-face pair from each cube.\n",
    "But an opposite-face pair corresponds to an edge of the graph.\n",
    "Therefore, we have selected four edges from the graph.\n",
    "\n",
    "A graph formed by a subset of nodes and edges is called a subgraph.\n",
    "Therefore, a top-bottom solution corresponds to a subgraph.\n",
    "This subgraph consists of four edges since there are four cubes.\n",
    "Furthermore, this subgraph must contain exactly one edge from each cube.\n",
    "\n",
    "A subgraph that contains all the nodes of a ...\n",
    "\n",
    "STOPPED HERE\n",
    "\n",
    "\n",
    "The subgraph contains one more special property, namely the degree of each node must be two because\n",
    "no colour is repeated on the top or bottom.\n",
    "\n",
    "A subgraph "
   ]
  },
  {
   "cell_type": "markdown",
   "id": "425c2424-84ab-4f9e-adac-049546777875",
   "metadata": {},
   "source": [
    "## Scene: Searching the Opposite-Face Graph\n",
    "\n",
    "The purpose of this scene is to show how to search the opposite-face graph for a solution of the puzzle.\n",
    "\n",
    "1. explain what a solution looks like in the graph\n",
    "2. explain how to find a solution\n",
    "3. explain how to convert the graph solution into a cube arrangemet - you need to give a direction to the subgraphs\n",
    "\n",
    "First show an animation that explains what a 2-factor is.\n",
    "A 2-factor is a subgraph in which the degree of each node is two.\n",
    "In addition, we are interested in 2-factors that contain one edge per cube.\n",
    "The animation should show the opposite-face graph and then briefly highlight some 2-factors, say in green with a success sound.\n",
    "It should also highlight some subgraphs that are not 2-factors, say in red with a failure sound.\n",
    "\n",
    "Show an animation where we find the solution as follows:\n",
    "1. find a 2-factor for the top-bottom faces, moving the selected edges below and to the left side of the display\n",
    "2. assign directions to the edges of the top-bottom 2-factor and use them to arrange the top-bottom faces of the solution\n",
    "3. find a 2-factor for the front-back faces, moving the selected edges below and to the right side of the display\n",
    "4. assign directions to the edges of the front-back 2-factor and use them to arrange the front-back faces of the solution\n",
    "5. rotate the result by one-quarter turns about the horizontal axis to verify that we have a solution\n",
    "\n",
    "TO DO: Record a video of me searching the graph using the props I created."
   ]
  },
  {
   "cell_type": "code",
   "execution_count": 24,
   "id": "ea7d1554-ade1-4dae-abcd-84cd75e60ebf",
   "metadata": {},
   "outputs": [
    {
     "name": "stdout",
     "output_type": "stream",
     "text": [
      "Solving the top-bottom and front-back faces corresponds to finding two special subsets of the\n",
      "opposite-face graph.\n",
      "\n",
      "Suppose we are given any arrangement of the cubes.\n",
      "Consider the smaller multigraph that consists of all four colour nodes\n",
      "but just those four edges, one for each cube, that correspond to the top-bottom faces\n",
      "of the arrangement.\n",
      "This smaller multigraph is called a subgraph of the full multigraph.\n",
      "Now draw arrows on the edges that point from the top face to the bottom face.\n",
      "We now have a directed multigraph.\n",
      "\n",
      "Now suppose that the arrangement is in fact a solution.\n",
      "Each colour appears exactly once on the top and once on the bottom.\n",
      "Therefore, each colour node of the subgraph must have exactly one edge going out\n",
      "and one edge coming in.\n",
      "The edge going out corresponds to the top face,\n",
      "and the edge coming in corresponds to the bottom face.\n",
      "This means that the subgraph has the special property that there are exactly two edges at each node,\n",
      "one going in and one coming out.\n",
      "Subgraphs with this property are called two-factors.\n",
      "\n",
      "We can express the solution procedure in terms of two-factors.\n",
      "First find a two-factor that has one edge from each cube.\n",
      "This two-factor will be used to arrange the top-bottom faces.\n",
      "Remove this two-factor from the opposite-face multigraph.\n",
      "\n",
      "Next, find a second two-factor that has one edge from each cube\n",
      "in the reduced opposite-face multigraph.\n",
      "This two-factor will be used to arrange the front-back faces.\n",
      "\n",
      "Problem solved!\n",
      "\n",
      "Since there are three edges per cube, there are at most only three to the power four equals\n",
      "81 possible top-bottom two-factors.\n",
      "After selecting a top-bottom two-factor, there are only two edges per cube remaining.\n",
      "The maximum number of front-back two-factors is two to the power four equals 16.\n",
      "Therefore, the graph-based solution search space is 81 times 16 equals 1,296,\n",
      "which is much smaller than the brute-force 41,472.\n",
      "\n",
      "Furthermore, the opposite-face multigraph is small enough that a human can\n",
      "find two-factors by inspection. Generating all 1,296 candidates is unnecessary.\n"
     ]
    }
   ],
   "source": [
    "!cat voiceovers/graph-theory/searching-the-opposite-face-graph.txt"
   ]
  }
 ],
 "metadata": {
  "kernelspec": {
   "display_name": "Python 3 (ipykernel)",
   "language": "python",
   "name": "python3"
  },
  "language_info": {
   "codemirror_mode": {
    "name": "ipython",
    "version": 3
   },
   "file_extension": ".py",
   "mimetype": "text/x-python",
   "name": "python",
   "nbconvert_exporter": "python",
   "pygments_lexer": "ipython3",
   "version": "3.11.12"
  }
 },
 "nbformat": 4,
 "nbformat_minor": 5
}
