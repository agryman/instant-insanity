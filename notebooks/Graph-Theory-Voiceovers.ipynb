{
 "cells": [
  {
   "cell_type": "markdown",
   "id": "ad880edf-3b56-4801-9394-4351c84a233d",
   "metadata": {},
   "source": [
    "# Graph Theory with Voiceovers\n",
    "*Arthur Ryman, last updated 2025-06-05*\n",
    "\n",
    "[<img src=\"images/colab-badge.png\" alt=\"Open in Colab\" style=\"width: 15%;\">\n",
    "](https://colab.research.google.com/github/agryman/instant-insanity/blob/main/notebooks/Graph-Theory-Voiceovers.ipynb)"
   ]
  },
  {
   "cell_type": "markdown",
   "id": "11714b4b-4184-4c2a-a5d8-4b6af2c8108d",
   "metadata": {},
   "source": [
    "## Introduction\n",
    "\n",
    "The goal of this notebook is to explain the elegant graph theory solution to the \n",
    "Instant Insanity puzzle that was published in 1947\n",
    "by four Cambridge mathematics students writing under the pseudonym of F. de Carteblache.\n",
    "\n",
    "This notebook contains both voiceovers and explanatory text.\n",
    "The voiceovers are intended for use in the video.\n",
    "The explanatory text may go into more detail."
   ]
  },
  {
   "cell_type": "markdown",
   "id": "3dd87788-ba50-460d-a9ad-4d7b57872969",
   "metadata": {},
   "source": [
    "## Change History\n",
    "\n",
    "This is a working document and will be edited frequency.\n",
    "All voiceovers are saved as plain text files to make it easy to automate text-to-speech conversion.\n",
    "The notebook displays the last modification date of each voiceover text file."
   ]
  },
  {
   "cell_type": "markdown",
   "id": "9c26ca56-1717-4279-9e8b-0b54ad84d316",
   "metadata": {},
   "source": [
    "## Prerequisites\n",
    "\n",
    "The material in this notebook should come after the combinatorics material.\n",
    "At this point the viewer should understand what it means to solve the puzzle and appreciate that out of the\n",
    "41,472 essentially distinct ways of arranging the cubes, only one of them solves the puzzle."
   ]
  },
  {
   "cell_type": "markdown",
   "id": "c854c462-5a7f-41ee-9827-126761e79e0d",
   "metadata": {},
   "source": [
    "## Scene: What is a Graph?\n",
    "\n",
    "The purpose of this scene is to introduce the basic concepts of graph theory.\n",
    "\n",
    "Show the following diagram of a simple graph.\n",
    "\n",
    "<div style=\"text-align: center;\">\n",
    "    <img src=\"images/latex/example-simple-graph.png\" alt=\"Example Simple Graph\" style=\"width: 50%;\">\n",
    "</div>"
   ]
  },
  {
   "cell_type": "code",
   "execution_count": 1,
   "id": "77938df7-1ea0-4899-be9c-353edc2984c7",
   "metadata": {},
   "outputs": [
    {
     "name": "stdout",
     "output_type": "stream",
     "text": [
      "-rw-r--r--@ 1 arthurryman  staff  804 Jun  5 11:23 voiceovers/graph-theory/what-is-a-graph.txt\n"
     ]
    }
   ],
   "source": [
    "!ls -l voiceovers/graph-theory/what-is-a-graph.txt"
   ]
  },
  {
   "cell_type": "code",
   "execution_count": 2,
   "id": "0ff072ef-ae3a-426f-a6f6-c40fb53c2ac0",
   "metadata": {},
   "outputs": [
    {
     "name": "stdout",
     "output_type": "stream",
     "text": [
      "In high school, we learn to draw graphs of functions on the familiar x-y coordinate plane.\n",
      "But in graph theory, the word graph has a different meaning.\n",
      "A graph is simply a collection of points, some of which are connected by lines.\n",
      "\n",
      "Mathematicians may use different words for these objects, depending on the context.\n",
      "A point may be called a dot, vertex, or node.\n",
      "A line may be called a link, edge, or arc.\n",
      "Here, we’ll use the terms node and edge, since they’re commonly used in software packages.\n",
      "\n",
      "The diagram shows an example of a simple graph that contains five nodes connected by four edges.\n",
      "Drawing a diagram helps us understand the structure of a graph,\n",
      "but the exact placement of nodes and the way edges are drawn doesn’t matter.\n",
      "All that matters is which nodes are connected by which edges.\n"
     ]
    }
   ],
   "source": [
    "!cat voiceovers/graph-theory/what-is-a-graph.txt"
   ]
  },
  {
   "cell_type": "markdown",
   "id": "f3aed4bf-41e0-449c-874d-82cae09b31c1",
   "metadata": {},
   "source": [
    "## When are Graphs Useful?\n",
    "\n",
    "The purpose of this scene is to discuss when graphs may be useful for problem solving.\n",
    "\n",
    "Discuss visual reasoning and abstraction.\n",
    "Use the example of the London Underground system, aka the Tube, and the problem of how to plan your route.\n",
    "It would be very cool if we could create an animation in which the geographically accurate map morphs into the functional map.\n",
    "We could create our own maps, maybe digitize the locations of the Tube stations in each map and then animate their movement.\n",
    "\n",
    "Show a geographically accurate map of the Tube system.\n",
    "Remark that it is somewhat difficult to plan your route using this map.\n",
    "\n",
    "<div style=\"text-align: center;\">\n",
    "    <img src=\"images/central-london-connections.png\" alt=\"Central London Connections\" style=\"width: 50%;\">\n",
    "</div>\n",
    "\n",
    "Then show the simplified functional map and remark that now it is easier to plan your route.\n",
    "The functional map is not to scale but\n",
    "it is easier to use because it simplifies the connections between stations.\n",
    "\n",
    "<div style=\"text-align: center;\">\n",
    "    <img src=\"images/central-london-tube-map.png\" alt=\"Central London Tube Map\" style=\"width: 50%;\">\n",
    "</div>\n",
    "\n",
    "It would be very cool if we could create an animation that smoothly morphed the geographically accurate map\n",
    "into the functional map."
   ]
  },
  {
   "cell_type": "code",
   "execution_count": 3,
   "id": "e08563de-5417-43fa-afdc-432e97f39072",
   "metadata": {},
   "outputs": [
    {
     "name": "stdout",
     "output_type": "stream",
     "text": [
      "-rw-r--r--@ 1 arthurryman  staff  1610 Jun  5 11:52 voiceovers/graph-theory/when-are-graphs-useful.txt\n"
     ]
    }
   ],
   "source": [
    "!ls -l voiceovers/graph-theory/when-are-graphs-useful.txt"
   ]
  },
  {
   "cell_type": "code",
   "execution_count": 4,
   "id": "e6b66f5d-1e2d-4bea-ad29-63b7b0b05b59",
   "metadata": {},
   "outputs": [
    {
     "name": "stdout",
     "output_type": "stream",
     "text": [
      "There are two main reasons why representing a puzzle, game, or problem as a graph \n",
      "might be useful.\n",
      "First, visualizing a problem as a graph may let us apply our powers of visual reasoning to its solution.\n",
      "Second, thinking of a problem as a graph may lead us to omit some of its inessential features, \n",
      "possibly reducing it to a simpler and easier-to-solve problem.\n",
      "\n",
      "For example, suppose you are on vacation in London, England and \n",
      "want to travel around the city using the Underground, commonly known as the Tube.\n",
      "You could use the following geographically accurate map showing Central London Connections.\n",
      "This type of map has the advantage that you can accurately judge distances but \n",
      "it is somewhat difficult to plan your route\n",
      "because of the way the Tube lines curve and cross.\n",
      "In a sense, this type of map contains too much information.\n",
      "All you are really interested in is how the Tube stations are connected.\n",
      "\n",
      "Recall that in a graph, the precise positions of the nodes and edges are not important.\n",
      "The only thing that counts is which node are connected by which which edges.\n",
      "Transport for London has used this fact to make life simpler for travellers\n",
      "by publishing an iconic functional map of the Tube system\n",
      "in which all lines are oriented at multiples of forty-five degrees \n",
      "and distances are not drawn to scale.\n",
      "The result is a map that is easier to understand and use.\n",
      "\n",
      "Discarding geographic accuracy in order to achieve a clearer layout\n",
      "is an excellent example of the potential benefit of abstraction.\n",
      "This process of abstraction plays a key role in the use of \n",
      "graph theory to solve Instant Insanity.\n"
     ]
    }
   ],
   "source": [
    "!cat voiceovers/graph-theory/when-are-graphs-useful.txt"
   ]
  },
  {
   "cell_type": "markdown",
   "id": "eac7091a-602d-4457-85a0-921431e55ddf",
   "metadata": {},
   "source": [
    "## Scene: Euler and the Seven Bridges\n",
    "\n",
    "The purpose of this scene is to remark that graph theory was in fact invented to solve a puzzle.\n",
    "Describe the Seven Bridges of Königsberg and how Leonhard Euler solved it in 1736.\n",
    "Cite the Wikipedia page: [Seven Bridges of Königsberg Problem](https://en.wikipedia.org/wiki/Seven_Bridges_of_K%C3%B6nigsberg)\n",
    "\n",
    "I copied the following diagrams from Wikipedia.\n",
    "Can we create an animation of morphing the map to the drawing to the graph?\n",
    "\n",
    "Show the map of the bridges.\n",
    "\n",
    "<div style=\"text-align: center;\">\n",
    "    <img src=\"images/Konigsberg-bridges-map.png\" alt=\"Konigsberg Bridges Map\" style=\"width: 50%;\">\n",
    "</div>\n",
    "\n",
    "Then morph the map into a drawing.\n",
    "\n",
    "<div style=\"text-align: center;\">\n",
    "    <img src=\"images/Konigsberg-bridges-drawing.png\" alt=\"Konigsberg Bridges Drawing\" style=\"width: 50%;\">\n",
    "</div>\n",
    "\n",
    "Then morph the drawing into a graph.\n",
    "\n",
    "<div style=\"text-align: center;\">\n",
    "    <img src=\"images/Konigsberg-bridges-graph.png\" alt=\"Konigsberg Bridges Graph\" style=\"width: 50%;\">\n",
    "</div>\n",
    "\n",
    "Add some animation on the graph that shows some paths and the corresponding node degrees. \n",
    "Draw a path and then show the degree at each node on the \n",
    "path. Maybe increment the degrees as you draw the path.\n",
    "Initialize all degrees to 0 and then increment the degree as the path enters and exits each node.\n",
    "The degrees of the nodes, other than the start and end nodes, will always be even.\n",
    "Do this for several paths. Pick different start and end nodes too.\n",
    "Maybe draw three or four different paths."
   ]
  },
  {
   "cell_type": "code",
   "execution_count": 5,
   "id": "e80e96f8-0585-430a-afa7-73ae82d9f7f3",
   "metadata": {},
   "outputs": [
    {
     "name": "stdout",
     "output_type": "stream",
     "text": [
      "-rw-r--r--@ 1 arthurryman  staff  1922 Jun  5 13:53 voiceovers/graph-theory/euler-and-the-seven-bridges.txt\n"
     ]
    }
   ],
   "source": [
    "!ls -l voiceovers/graph-theory/euler-and-the-seven-bridges.txt"
   ]
  },
  {
   "cell_type": "code",
   "execution_count": 6,
   "id": "7bef1f7f-6600-4164-9c78-e11e703233bd",
   "metadata": {},
   "outputs": [
    {
     "name": "stdout",
     "output_type": "stream",
     "text": [
      "Before delving further into graph theory, let's take a brief excursion into its history.\n",
      "It turns out that solving a recreational puzzle inspired the creation of graph theory.\n",
      "The famous mathematician Leonhard Euler laid the foundations for graph theory in 1736\n",
      "when he settled the popular Seven Bridges of Konigsberg problem.\n",
      "Wikipedia explains this problem in great detail.\n",
      "Here's a brief summary.\n",
      "\n",
      "A river ran through the city of Konigsberg and seven bridges crossed it, interconnecting its two banks and two large islands.\n",
      "The people of Konigsberg amused themselves by trying to find a walking path that crossed each of the seven bridges exactly once.\n",
      "They were allowed to start and end the tour anywhere, possibly on different land masses.\n",
      "We'll refer to the sought-after walking path as a tour.\n",
      "Sadly, despite their efforts no one could find a tour.\n",
      "Euler managed to prove that no tour existed!\n",
      "He demonstrated this by abstracting the layout of Konisberg into a graph \n",
      "in which the nodes represented its four land masses and the edges\n",
      "represented the seven bridges connecting them.\n",
      "\n",
      "Here is how he reasoned.\n",
      "The number of edges that meet a node is called its degree.\n",
      "The Konigsberg bridge graph has three nodes of degree three and one node of degree five.\n",
      "Note that these degrees, three and five, are odd numbers.\n",
      "Euler observed that if a tour exists, then each time you enter a land mass you must also leave it, \n",
      "except possibly for the case in which you start and end the tour on different land masses. \n",
      "Translating this observation into the language of graph theory gives the requirement that each node, \n",
      "except possibly the start and end of the tour, must have an even degree.\n",
      "Euler realized that this implies that if a tour exists then at most two nodes, \n",
      "namely the start and end, can have odd degrees.\n",
      "However, all four nodes of the Konisberg graph have odd degrees.\n",
      "Therefore no tour exists.\n",
      "Problem solved!\n"
     ]
    }
   ],
   "source": [
    "!cat voiceovers/graph-theory/euler-and-the-seven-bridges.txt"
   ]
  },
  {
   "cell_type": "markdown",
   "id": "c0a00a21-b799-4f54-9157-2a587877e72b",
   "metadata": {},
   "source": [
    "## Scene: Graph Features and Terminology\n",
    "\n",
    "The purpose of this scene is to discuss some important features of graphs and introduce the terms used to describe them.\n",
    "\n",
    "Define loops, parallel edges, and simple graphs.\n",
    "Show the example graph and remark that it has no loops or parallel edges and is therefore a simple graph.\n",
    "\n",
    "<div style=\"text-align: center;\">\n",
    "    <img src=\"images/latex/example-simple-graph.png\" alt=\"Example Simple Graph\" style=\"width: 50%;\">\n",
    "</div>\n",
    "\n",
    "Define labelled graphs.\n",
    "Show the example graph with the nodes and edges labelled.\n",
    "\n",
    "PLACEHOLDER:\n",
    "<div style=\"text-align: center;\">\n",
    "    <img src=\"images/latex/example-labelled-graph.png\" alt=\"Example Labelled Graph\" style=\"width: 50%;\">\n",
    "</div>\n",
    "\n",
    "Define multigraphs.\n",
    "Show the example graph with a loop and parallel edge added.\n",
    "\n",
    "PLACEHOLDER:\n",
    "<div style=\"text-align: center;\">\n",
    "    <img src=\"images/latex/example-multigraph.png\" alt=\"Example Multigraph\" style=\"width: 50%;\">\n",
    "</div>\n",
    "\n",
    "Define directed graphs.\n",
    "Show the example graph with edge directions added.\n",
    "\n",
    "PLACEHOLDER:\n",
    "<div style=\"text-align: center;\">\n",
    "    <img src=\"images/latex/example-simple-graph.png\" alt=\"Example Directed Graph\" style=\"width: 50%;\">\n",
    "</div>\n"
   ]
  },
  {
   "cell_type": "code",
   "execution_count": 7,
   "id": "7fafd4b1-4103-4780-b4b5-20fff63f602b",
   "metadata": {},
   "outputs": [
    {
     "name": "stdout",
     "output_type": "stream",
     "text": [
      "-rw-r--r--@ 1 arthurryman  staff  1173 Jun  5 14:15 voiceovers/graph-theory/graph-features-and-terminology.txt\n"
     ]
    }
   ],
   "source": [
    "!ls -l voiceovers/graph-theory/graph-features-and-terminology.txt"
   ]
  },
  {
   "cell_type": "code",
   "execution_count": 8,
   "id": "cd97c910-8e57-4ad2-a52a-b6c4c85d4ced",
   "metadata": {},
   "outputs": [
    {
     "name": "stdout",
     "output_type": "stream",
     "text": [
      "They are several variations on the basic concept of a graph.\n",
      "Here are some of the terms mathematicians use to describe them.\n",
      "\n",
      "An edge that connects a node to itself is called a loop.\n",
      "Edges that connect the same nodes are called parallel edges.\n",
      "\n",
      "A graph that does not contain any loops or parallel edges is called a simple graph.\n",
      "Our first example of a graph has not loops or parallel edges and is therefore a simple graph.\n",
      "\n",
      "Graphs often arise in situations where nodes and edges have properties.\n",
      "A graph in which each node and edge is labelled with some data is called a labelled graph.\n",
      "\n",
      "Let's label the nodes and edges of our example graph.\n",
      "Label the nodes as A through E.\n",
      "Label the edges as 1 through 4.\n",
      "Now we have a labelled graph.\n",
      "\n",
      "A graph that contains loops or parallel edges is called a multigraph.\n",
      "Let's add a parallel edge from A to B and a loop at C.\n",
      "Now we have a labelled multigraph.\n",
      "\n",
      "A graph in which each edge is assigned a direction is called a directed graph.\n",
      "Finally, let's assign a direction to each edge in our example graph.\n",
      "Now we have a directed, labelled multigraph.\n",
      "\n",
      "Directed, labelled multigraphs will be used in the solution of Instant Insanity.\n"
     ]
    }
   ],
   "source": [
    "!cat voiceovers/graph-theory/graph-features-and-terminology.txt"
   ]
  },
  {
   "cell_type": "markdown",
   "id": "830db54d-963c-411a-a05a-0bab69bec60a",
   "metadata": {},
   "source": [
    "## Scene: The Rock-Paper-Scissors Graph\n",
    "\n",
    "The purpose of this scene is to use the two-person game of Rock-Paper-Scissors as a warm-up exercise that\n",
    "shows how to represent the essence of a game as a directed, labelled graph.\n",
    "\n",
    "First explain the rules of the game and summarize them in the following payoff matrix.\n",
    "\n",
    "### Payoff Matrix for Rock-Paper-Scissors (Alice, Bob)\n",
    "\n",
    "|             | Rock        | Scissors    | Paper       |\n",
    "|-------------|-------------|-------------|-------------|\n",
    "| **Rock**    | (0, 0)      | (+1, -1)    | (-1, +1)    |\n",
    "| **Paper**   | (+1, -1)    | (-1, +1)    | (0, 0)      |\n",
    "| **Scissors**| (-1, +1)    | (0, 0)      | (+1, -1)    |\n",
    "\n",
    "\n",
    "Then explain how we can represent the game as a directed, labelled graph.\n",
    "Show the following graph.\n",
    "\n",
    "<div style=\"text-align: center;\">\n",
    "    <img src=\"images/latex/rock-paper-scissors.png\" alt=\"Rock-Paper-Scissors\" style=\"width: 50%;\">\n",
    "</div>\n",
    "\n",
    "Finally, show the more complex graph for Rock-Paper-Scissors-Lizard-Spock. \n",
    "\n",
    "<div style=\"text-align: center;\">\n",
    "    <img src=\"images/latex/rock-paper-scissors-lizard-spock.png\" alt=\"Rock-Paper-Scissors-Lizard-Spock\" style=\"width: 50%;\">\n",
    "</div>\n",
    "\n",
    "See Wikipedia for more information:\n",
    "[Rock paper scissors](https://en.wikipedia.org/wiki/Rock_paper_scissors)"
   ]
  },
  {
   "cell_type": "code",
   "execution_count": 9,
   "id": "7e0acbef-d5e7-4923-832f-f715a34982e0",
   "metadata": {},
   "outputs": [
    {
     "name": "stdout",
     "output_type": "stream",
     "text": [
      "-rw-r--r--@ 1 arthurryman  staff  1456 Jun  4 11:09 voiceovers/graph-theory/rock-paper-scissors.txt\n"
     ]
    }
   ],
   "source": [
    "!ls -l voiceovers/graph-theory/rock-paper-scissors.txt"
   ]
  },
  {
   "cell_type": "code",
   "execution_count": 10,
   "id": "38c28873-fca4-4094-a7aa-f0f4cdfc8db3",
   "metadata": {},
   "outputs": [
    {
     "name": "stdout",
     "output_type": "stream",
     "text": [
      "Before diving into how to represent Instant Insanity as a graph,\n",
      "let's consider the well-known two-player game of Rock–Paper–Scissors.\n",
      "We'll call our players Alice and Bob.\n",
      "Recall that each player secretly picks one of the three objects: rock, paper, or scissors. \n",
      "Then, they reveal their choices at the same time.\n",
      "The rules are simple: rock beats scissors, scissors beats paper, and paper beats rock.\n",
      "The loser pays the winner one dollar. If it’s a tie, no money changes hands.\n",
      "\n",
      "We can capture all of these rules in a payoff matrix, \n",
      "which shows how much each player wins or loses depending on what they choose.\n",
      "The rows represents Alice's choice and the columns represent Bob's.\n",
      "\n",
      "The payoff matrix gives a complete definition of the game but it takes some\n",
      "mental effort to understand.\n",
      "We can represent the essence of the game in a directed, labelled graph as follows.\n",
      "The game graph has three nodes, each labelled by a possible choice, and three directed edges\n",
      "each labelled by the beats relation.\n",
      "A directed edge from node X to node Y means that choice X beats choice Y.\n",
      "\n",
      "If you feel that Rock-Paper-Scissors so simple that drawing its game graph is overkill,\n",
      "consider the more complex game of Rock-Paper-Scissors-Lizard-Spock.\n",
      "See Wikipedia for its rules.\n",
      "Now the game graph has five labelled nodes and ten directed edges where, for simplicity, we have omitted \n",
      "the edge labels.\n",
      "The rules of this game can be read off at a glance from the graph.\n"
     ]
    }
   ],
   "source": [
    "!cat voiceovers/graph-theory/rock-paper-scissors.txt"
   ]
  },
  {
   "cell_type": "markdown",
   "id": "d1d43417-c968-4fb4-b55b-8cfba1da205f",
   "metadata": {},
   "source": [
    "## Scene: Carteblache's Elegant Idea\n",
    "\n",
    "The purpose of this scene is to explain Carteblanche's elegant idea of focusing on the \n",
    "opposite-face colourings.\n",
    "\n",
    "The members of Carteblanche were known as the Trinity Four. \n",
    "They also wrote under the pseudonym of Blache Descartes, the wife of Carteblanche.\n",
    "They were interested in the mathematical problem of \n",
    "[Squaring the Square](http://www.squaring.net/history_theory/history_theory.html) \n",
    "which arose from puzzle #40, Lady Isabel's Casket in Dudeney's book The Cantebury Puzzles.\n",
    "\n",
    "Show an animation of a partial solution in which the top and bottom faces are validly arranged.\n",
    "Show that we can rotate any cube by a quarter turn about the vertical axis without affecting the top and bottom faces.\n",
    "\n",
    "### Voiceover: last updated 2025-05-25\n",
    "\n",
    "Carteblache had the penetrating insight that the way to crack the puzzle was to focus on how the colours were\n",
    "arranged on pairs of opposite faces. \n",
    "\n",
    "Observe that when we fix the position of one face then we also fix the position of its opposite face.\n",
    "However we still have some freedom in how we position the four adjacent faces, namely we can rotate the cube\n",
    "by quarter turns about the axis through the fixed faces.\n",
    "\n",
    "This observation lets us break down the solution into two stages.\n",
    "First we search for a valid arrangement of the top-bottom faces. \n",
    "Next we search for a valid arrangement of the front-back faces but \n",
    "restrict ourselves to use only quarter turns about the vertical axis \n",
    "so that we don't invalid the top-bottom arrangment.\n",
    "\n",
    "Breaking down the problem into these two stages greatly reduces the search space.\n",
    "Furthermore, representing the opposite-face colourings as a labelled multigraph lets us use our\n",
    "powers of visual reasoning to find the solution."
   ]
  },
  {
   "cell_type": "markdown",
   "id": "ca6c408d-c07a-4c91-9676-0d8bf2f39ba5",
   "metadata": {},
   "source": [
    "## Scene: Constructing the Instant Insanity Graph\n",
    "\n",
    "The purpose of this scene is to show how to represent the essence of Instant Insanity,\n",
    "namely the opposite-face colourings, as a labelled multigraph.\n",
    "\n",
    "Start with a configuration of the four cubes in a horizontal row.\n",
    "Fade in a square of four coloured nodes above the cubes on the right side of the display.\n",
    "\n",
    "Show an animation of cube 1 in which we:\n",
    "1. float cube 1 above the row of remaining cubes and to the left side of the display\n",
    "1. explode the faces outward from the centre of cube, \n",
    "1. connect opposite faces with edges labelled 1x, 1y, and 1z,\n",
    "1. contract each face into a coloured node, and\n",
    "1. move the nodes to the corners of the square above the row of cubes and on the right side of the display\n",
    "\n",
    "The result is a labelled multigraph that has four nodes labelled by the four colours,\n",
    "and three edges labelled by 1x, 1y, and 1z.\n",
    "\n",
    "Next, repeat this process in turn for cubes 2, 3, and 4.\n",
    "The final result is a labelled multigraph with a total of twelve labelled edges.\n",
    "\n",
    "### Voiceover: last updated 2025-05-24\n",
    "\n",
    "We can record the way that pairs of opposite faces are coloured in a labelled multigraph as follows.\n",
    "Create four nodes, one for each colour and label each node with the colour it represents.\n",
    "Draw an edge between nodes whenever a cube has a pair of opposite faces with those colours.\n",
    "Each cube has three pairs of opposite faces, namely top-bottom, front-back, and left-right.\n",
    "There are four cubes so the multigraph contains twelve edges in total.\n",
    "Label each edge with its cube number and axis name. \n",
    "For example, 3z is the label for the top-bottom pair of faces of cube 3.\n",
    "\n",
    "STOPPED HERE"
   ]
  },
  {
   "cell_type": "markdown",
   "id": "425c2424-84ab-4f9e-adac-049546777875",
   "metadata": {},
   "source": [
    "## Scene: Searching the Instant Insanity Graph\n",
    "\n",
    "The purpose of this scene is to show how to search the multigraph for a solution of the puzzle.\n",
    "\n",
    "First show an animation that explains what a 2-factor is.\n",
    "\n",
    "Show an animation where we find the solution as follows:\n",
    "1. find a 2-factor for the top-bottom faces, moving the selected edges below and to the left side of the display\n",
    "2. assign directions to the edges of the top-bottom 2-factor and use them to arrange the top-bottom faces of the solution\n",
    "3. find a 2-factor for the front-back faces, moving the selected edges below and to the right side of the display\n",
    "4. assign directions to the edges of the front-back 2-factor and use them to arrange the front-back faces of the solution\n",
    "5. rotate the result by one-quarter turns about the horizontal axis to verify that we have a solution\n",
    "\n",
    "### Voiceover: last updated 2025-05-24\n",
    "\n",
    "Suppose we are given any arrangement of the cubes.\n",
    "Consider the smaller multigraph that consists of all four colour nodes\n",
    "but just those four edges, one for each cube, that correspond to the top-bottom faces of the arrangement.\n",
    "This smaller multigraph is called a subgraph of the full multigraph.\n",
    "Now draw arrows on the edges that point from the top face to the bottom face.\n",
    "We now have a directed multigraph.\n",
    "\n",
    "Now suppose that the arrangment is in fact a solution.\n",
    "Each colour appears exactly once on the top and once on the bottom.\n",
    "Therefore, each colour node of the subgraph must have exactly one edge going out and one edge coming in.\n",
    "The edge going out corresponds to the top face and the edge coming on corresponds to the bottom face.\n",
    "This means that the subgraph has the special property that there are exactly two edges at each node, \n",
    "one going in and one coming out.\n",
    "Subgraphs with this propery are called 2-factors.\n",
    "\n",
    "The procedure for using the multigraph to find a solution consists of \n",
    "first searching for a solution for the top-bottom faces, and\n",
    "then searching for a solution for the front-back faces using only rotations about the vertical axis \n",
    "so that the top-bottom solution is preserved."
   ]
  }
 ],
 "metadata": {
  "kernelspec": {
   "display_name": "Python 3 (ipykernel)",
   "language": "python",
   "name": "python3"
  },
  "language_info": {
   "codemirror_mode": {
    "name": "ipython",
    "version": 3
   },
   "file_extension": ".py",
   "mimetype": "text/x-python",
   "name": "python",
   "nbconvert_exporter": "python",
   "pygments_lexer": "ipython3",
   "version": "3.11.12"
  }
 },
 "nbformat": 4,
 "nbformat_minor": 5
}
