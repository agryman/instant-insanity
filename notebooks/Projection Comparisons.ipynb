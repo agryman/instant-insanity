{
 "cells": [
  {
   "cell_type": "markdown",
   "id": "4d1b78f8-4590-4281-a00e-cb1778345539",
   "metadata": {},
   "source": [
    "# Projection Comparisons\n",
    "*Arthur Ryman, lasted updated 2025-09-03*"
   ]
  },
  {
   "cell_type": "markdown",
   "id": "c4d6952e-e829-4b8c-81de-3928cedc11f5",
   "metadata": {},
   "source": [
    "## Introduction\n",
    "\n",
    "The goal of this notebook is to analyze the current semantics of some classes that govern the mapping from model\n",
    "space to scene space. \n",
    "My goal is to answer the following questions.\n",
    "\n",
    "### Q1: Should Projection take a camera location as an init parameter?\n",
    "The init parameters for Projection class are called scene_x, scene_y, and camera_z,\n",
    "which makes them look dissimilar, \n",
    "but are they in fact components of a camera position vector in model space?\n",
    "\n",
    "### Q2: Does PuzzleCube3D need the init parameter cube_centre?\n",
    "The init parameters for PuzzleCube3D includes cube_centre. \n",
    "Does it really give additional expressibility or can its effect\n",
    "be achieved by chaning the projection?\n",
    "\n",
    "### Q3: Does Puzzle3D need the init parameter cube_one_centre?\n",
    "Similarly, the init parameters for Puzzle3D include projection and cube_one_centre,\n",
    "but can cube_one_centre be eliminated by chosing a different projection."
   ]
  },
  {
   "cell_type": "markdown",
   "id": "7e0f5968-8967-4ba5-9655-385e3b99ec65",
   "metadata": {},
   "source": [
    "### Manim Voiceover UserWarning\n",
    "\n",
    "The manim_voiceover module is using a harmless deprecated feature which generates a distracting UserWarning when I import manim.\n",
    "We can safely ignore it."
   ]
  },
  {
   "cell_type": "code",
   "execution_count": 1,
   "id": "e3a5f9bd-39a0-4f92-a819-66d5cec40fc6",
   "metadata": {},
   "outputs": [],
   "source": [
    "import warnings\n",
    "warnings.filterwarnings(\"ignore\", category=UserWarning, module=\"manim_voiceover\")"
   ]
  },
  {
   "cell_type": "markdown",
   "id": "1c6a72ee-89ec-4588-a141-58b37f587870",
   "metadata": {},
   "source": [
    "# The Projection Class\n",
    "\n",
    "Source code: \n",
    "[projection.py](https://github.com/agryman/instant-insanity/blob/main/src/instant_insanity/core/projection.py)\n",
    "\n",
    "Here is its init method:"
   ]
  },
  {
   "cell_type": "code",
   "execution_count": 2,
   "id": "2e5d8b9b-284d-4304-83ab-577376d5a076",
   "metadata": {},
   "outputs": [
    {
     "data": {
      "text/html": [
       "<pre style=\"white-space:pre;overflow-x:auto;line-height:normal;font-family:Menlo,'DejaVu Sans Mono',consolas,'Courier New',monospace\"><span style=\"color: #181818; text-decoration-color: #181818; background-color: #f8f8f8; font-weight: bold\">  </span><span style=\"color: #adadad; text-decoration-color: #adadad; background-color: #f8f8f8\"> 1 </span><span style=\"color: #000000; text-decoration-color: #000000; background-color: #f8f8f8\">    </span><span style=\"color: #008000; text-decoration-color: #008000; background-color: #f8f8f8; font-weight: bold\">def</span><span style=\"color: #bbbbbb; text-decoration-color: #bbbbbb; background-color: #f8f8f8\"> </span><span style=\"color: #0000ff; text-decoration-color: #0000ff; background-color: #f8f8f8\">__init__</span><span style=\"color: #000000; text-decoration-color: #000000; background-color: #f8f8f8\">(</span><span style=\"color: #008000; text-decoration-color: #008000; background-color: #f8f8f8\">self</span><span style=\"color: #000000; text-decoration-color: #000000; background-color: #f8f8f8\">, scene_x: </span><span style=\"color: #008000; text-decoration-color: #008000; background-color: #f8f8f8\">float</span><span style=\"color: #000000; text-decoration-color: #000000; background-color: #f8f8f8\"> </span><span style=\"color: #666666; text-decoration-color: #666666; background-color: #f8f8f8\">=</span><span style=\"color: #000000; text-decoration-color: #000000; background-color: #f8f8f8\"> </span><span style=\"color: #666666; text-decoration-color: #666666; background-color: #f8f8f8\">0.0</span><span style=\"color: #000000; text-decoration-color: #000000; background-color: #f8f8f8\">, scene_y: </span><span style=\"color: #008000; text-decoration-color: #008000; background-color: #f8f8f8\">float</span><span style=\"color: #000000; text-decoration-color: #000000; background-color: #f8f8f8\"> </span><span style=\"color: #666666; text-decoration-color: #666666; background-color: #f8f8f8\">=</span><span style=\"color: #000000; text-decoration-color: #000000; background-color: #f8f8f8\"> </span><span style=\"color: #666666; text-decoration-color: #666666; background-color: #f8f8f8\">0.0</span><span style=\"color: #000000; text-decoration-color: #000000; background-color: #f8f8f8\">, camera_z: </span><span style=\"color: #008000; text-decoration-color: #008000; background-color: #f8f8f8\">float</span><span style=\"color: #000000; text-decoration-color: #000000; background-color: #f8f8f8\"> </span><span style=\"color: #666666; text-decoration-color: #666666; background-color: #f8f8f8\">=</span><span style=\"color: #000000; text-decoration-color: #000000; background-color: #f8f8f8\"> </span><span style=\"color: #666666; text-decoration-color: #666666; background-color: #f8f8f8\">2.0</span><span style=\"color: #000000; text-decoration-color: #000000; background-color: #f8f8f8\">, scale: </span><span style=\"color: #008000; text-decoration-color: #008000; background-color: #f8f8f8\">float</span><span style=\"color: #000000; text-decoration-color: #000000; background-color: #f8f8f8\"> </span><span style=\"color: #666666; text-decoration-color: #666666; background-color: #f8f8f8\">=</span><span style=\"color: #000000; text-decoration-color: #000000; background-color: #f8f8f8\"> </span><span style=\"color: #666666; text-decoration-color: #666666; background-color: #f8f8f8\">1.0</span><span style=\"color: #000000; text-decoration-color: #000000; background-color: #f8f8f8\">) </span>\n",
       "<span style=\"color: #181818; text-decoration-color: #181818; background-color: #f8f8f8; font-weight: bold\">  </span><span style=\"color: #adadad; text-decoration-color: #adadad; background-color: #f8f8f8\"> 2 </span><span style=\"color: #000000; text-decoration-color: #000000; background-color: #f8f8f8\">        </span><span style=\"color: #008000; text-decoration-color: #008000; background-color: #f8f8f8\">self</span><span style=\"color: #666666; text-decoration-color: #666666; background-color: #f8f8f8\">.</span><span style=\"color: #000000; text-decoration-color: #000000; background-color: #f8f8f8\">scene_x </span><span style=\"color: #666666; text-decoration-color: #666666; background-color: #f8f8f8\">=</span><span style=\"color: #000000; text-decoration-color: #000000; background-color: #f8f8f8\"> scene_x</span><span style=\"background-color: #f8f8f8\">                                                                                </span>\n",
       "<span style=\"color: #181818; text-decoration-color: #181818; background-color: #f8f8f8; font-weight: bold\">  </span><span style=\"color: #adadad; text-decoration-color: #adadad; background-color: #f8f8f8\"> 3 </span><span style=\"color: #000000; text-decoration-color: #000000; background-color: #f8f8f8\">        </span><span style=\"color: #008000; text-decoration-color: #008000; background-color: #f8f8f8\">self</span><span style=\"color: #666666; text-decoration-color: #666666; background-color: #f8f8f8\">.</span><span style=\"color: #000000; text-decoration-color: #000000; background-color: #f8f8f8\">scene_y </span><span style=\"color: #666666; text-decoration-color: #666666; background-color: #f8f8f8\">=</span><span style=\"color: #000000; text-decoration-color: #000000; background-color: #f8f8f8\"> scene_y</span><span style=\"background-color: #f8f8f8\">                                                                                </span>\n",
       "<span style=\"color: #181818; text-decoration-color: #181818; background-color: #f8f8f8; font-weight: bold\">  </span><span style=\"color: #adadad; text-decoration-color: #adadad; background-color: #f8f8f8\"> 4 </span><span style=\"color: #000000; text-decoration-color: #000000; background-color: #f8f8f8\">        </span><span style=\"color: #008000; text-decoration-color: #008000; background-color: #f8f8f8\">self</span><span style=\"color: #666666; text-decoration-color: #666666; background-color: #f8f8f8\">.</span><span style=\"color: #000000; text-decoration-color: #000000; background-color: #f8f8f8\">camera_z </span><span style=\"color: #666666; text-decoration-color: #666666; background-color: #f8f8f8\">=</span><span style=\"color: #000000; text-decoration-color: #000000; background-color: #f8f8f8\"> camera_z</span><span style=\"background-color: #f8f8f8\">                                                                              </span>\n",
       "<span style=\"color: #181818; text-decoration-color: #181818; background-color: #f8f8f8; font-weight: bold\">  </span><span style=\"color: #adadad; text-decoration-color: #adadad; background-color: #f8f8f8\"> 5 </span><span style=\"color: #000000; text-decoration-color: #000000; background-color: #f8f8f8\">        </span><span style=\"color: #008000; text-decoration-color: #008000; background-color: #f8f8f8\">self</span><span style=\"color: #666666; text-decoration-color: #666666; background-color: #f8f8f8\">.</span><span style=\"color: #000000; text-decoration-color: #000000; background-color: #f8f8f8\">scale </span><span style=\"color: #666666; text-decoration-color: #666666; background-color: #f8f8f8\">=</span><span style=\"color: #000000; text-decoration-color: #000000; background-color: #f8f8f8\"> scale</span><span style=\"background-color: #f8f8f8\">                                                                                    </span>\n",
       "<span style=\"color: #181818; text-decoration-color: #181818; background-color: #f8f8f8; font-weight: bold\">  </span><span style=\"color: #adadad; text-decoration-color: #adadad; background-color: #f8f8f8\"> 6 </span><span style=\"background-color: #f8f8f8\">                                                                                                              </span>\n",
       "<span style=\"color: #181818; text-decoration-color: #181818; background-color: #f8f8f8; font-weight: bold\">  </span><span style=\"color: #adadad; text-decoration-color: #adadad; background-color: #f8f8f8\"> 7 </span><span style=\"color: #000000; text-decoration-color: #000000; background-color: #f8f8f8\">        scene_origin: Point3D </span><span style=\"color: #666666; text-decoration-color: #666666; background-color: #f8f8f8\">=</span><span style=\"color: #000000; text-decoration-color: #000000; background-color: #f8f8f8\"> scene_x </span><span style=\"color: #666666; text-decoration-color: #666666; background-color: #f8f8f8\">*</span><span style=\"color: #000000; text-decoration-color: #000000; background-color: #f8f8f8\"> RIGHT </span><span style=\"color: #666666; text-decoration-color: #666666; background-color: #f8f8f8\">+</span><span style=\"color: #000000; text-decoration-color: #000000; background-color: #f8f8f8\"> scene_y </span><span style=\"color: #666666; text-decoration-color: #666666; background-color: #f8f8f8\">*</span><span style=\"color: #000000; text-decoration-color: #000000; background-color: #f8f8f8\"> UP </span><span style=\"color: #666666; text-decoration-color: #666666; background-color: #f8f8f8\">+</span><span style=\"color: #000000; text-decoration-color: #000000; background-color: #f8f8f8\"> camera_z </span><span style=\"color: #666666; text-decoration-color: #666666; background-color: #f8f8f8\">*</span><span style=\"color: #000000; text-decoration-color: #000000; background-color: #f8f8f8\"> OUT</span><span style=\"background-color: #f8f8f8\">                               </span>\n",
       "<span style=\"color: #181818; text-decoration-color: #181818; background-color: #f8f8f8; font-weight: bold\">  </span><span style=\"color: #adadad; text-decoration-color: #adadad; background-color: #f8f8f8\"> 8 </span><span style=\"color: #000000; text-decoration-color: #000000; background-color: #f8f8f8\">        scene_per_model: </span><span style=\"color: #008000; text-decoration-color: #008000; background-color: #f8f8f8\">float</span><span style=\"color: #000000; text-decoration-color: #000000; background-color: #f8f8f8\"> </span><span style=\"color: #666666; text-decoration-color: #666666; background-color: #f8f8f8\">=</span><span style=\"color: #000000; text-decoration-color: #000000; background-color: #f8f8f8\"> scale</span><span style=\"background-color: #f8f8f8\">                                                                        </span>\n",
       "<span style=\"color: #181818; text-decoration-color: #181818; background-color: #f8f8f8; font-weight: bold\">  </span><span style=\"color: #adadad; text-decoration-color: #adadad; background-color: #f8f8f8\"> 9 </span><span style=\"color: #000000; text-decoration-color: #000000; background-color: #f8f8f8\">        </span><span style=\"color: #008000; text-decoration-color: #008000; background-color: #f8f8f8\">self</span><span style=\"color: #666666; text-decoration-color: #666666; background-color: #f8f8f8\">.</span><span style=\"color: #000000; text-decoration-color: #000000; background-color: #f8f8f8\">conversion </span><span style=\"color: #666666; text-decoration-color: #666666; background-color: #f8f8f8\">=</span><span style=\"color: #000000; text-decoration-color: #000000; background-color: #f8f8f8\"> ModelToSceneConversion(scene_origin, scene_per_model)</span><span style=\"background-color: #f8f8f8\">                               </span>\n",
       "<span style=\"color: #181818; text-decoration-color: #181818; background-color: #f8f8f8; font-weight: bold\">  </span><span style=\"color: #adadad; text-decoration-color: #adadad; background-color: #f8f8f8\">10 </span><span style=\"background-color: #f8f8f8\">                                                                                                              </span>\n",
       "</pre>\n"
      ],
      "text/plain": [
       "\u001b[1;38;2;24;24;24;48;2;248;248;248m  \u001b[0m\u001b[38;2;173;173;173;48;2;248;248;248m 1 \u001b[0m\u001b[38;2;0;0;0;48;2;248;248;248m    \u001b[0m\u001b[1;38;2;0;128;0;48;2;248;248;248mdef\u001b[0m\u001b[38;2;187;187;187;48;2;248;248;248m \u001b[0m\u001b[38;2;0;0;255;48;2;248;248;248m__init__\u001b[0m\u001b[38;2;0;0;0;48;2;248;248;248m(\u001b[0m\u001b[38;2;0;128;0;48;2;248;248;248mself\u001b[0m\u001b[38;2;0;0;0;48;2;248;248;248m,\u001b[0m\u001b[38;2;0;0;0;48;2;248;248;248m \u001b[0m\u001b[38;2;0;0;0;48;2;248;248;248mscene_x\u001b[0m\u001b[38;2;0;0;0;48;2;248;248;248m:\u001b[0m\u001b[38;2;0;0;0;48;2;248;248;248m \u001b[0m\u001b[38;2;0;128;0;48;2;248;248;248mfloat\u001b[0m\u001b[38;2;0;0;0;48;2;248;248;248m \u001b[0m\u001b[38;2;102;102;102;48;2;248;248;248m=\u001b[0m\u001b[38;2;0;0;0;48;2;248;248;248m \u001b[0m\u001b[38;2;102;102;102;48;2;248;248;248m0.0\u001b[0m\u001b[38;2;0;0;0;48;2;248;248;248m,\u001b[0m\u001b[38;2;0;0;0;48;2;248;248;248m \u001b[0m\u001b[38;2;0;0;0;48;2;248;248;248mscene_y\u001b[0m\u001b[38;2;0;0;0;48;2;248;248;248m:\u001b[0m\u001b[38;2;0;0;0;48;2;248;248;248m \u001b[0m\u001b[38;2;0;128;0;48;2;248;248;248mfloat\u001b[0m\u001b[38;2;0;0;0;48;2;248;248;248m \u001b[0m\u001b[38;2;102;102;102;48;2;248;248;248m=\u001b[0m\u001b[38;2;0;0;0;48;2;248;248;248m \u001b[0m\u001b[38;2;102;102;102;48;2;248;248;248m0.0\u001b[0m\u001b[38;2;0;0;0;48;2;248;248;248m,\u001b[0m\u001b[38;2;0;0;0;48;2;248;248;248m \u001b[0m\u001b[38;2;0;0;0;48;2;248;248;248mcamera_z\u001b[0m\u001b[38;2;0;0;0;48;2;248;248;248m:\u001b[0m\u001b[38;2;0;0;0;48;2;248;248;248m \u001b[0m\u001b[38;2;0;128;0;48;2;248;248;248mfloat\u001b[0m\u001b[38;2;0;0;0;48;2;248;248;248m \u001b[0m\u001b[38;2;102;102;102;48;2;248;248;248m=\u001b[0m\u001b[38;2;0;0;0;48;2;248;248;248m \u001b[0m\u001b[38;2;102;102;102;48;2;248;248;248m2.0\u001b[0m\u001b[38;2;0;0;0;48;2;248;248;248m,\u001b[0m\u001b[38;2;0;0;0;48;2;248;248;248m \u001b[0m\u001b[38;2;0;0;0;48;2;248;248;248mscale\u001b[0m\u001b[38;2;0;0;0;48;2;248;248;248m:\u001b[0m\u001b[38;2;0;0;0;48;2;248;248;248m \u001b[0m\u001b[38;2;0;128;0;48;2;248;248;248mfloat\u001b[0m\u001b[38;2;0;0;0;48;2;248;248;248m \u001b[0m\u001b[38;2;102;102;102;48;2;248;248;248m=\u001b[0m\u001b[38;2;0;0;0;48;2;248;248;248m \u001b[0m\u001b[38;2;102;102;102;48;2;248;248;248m1.0\u001b[0m\u001b[38;2;0;0;0;48;2;248;248;248m)\u001b[0m\u001b[38;2;0;0;0;48;2;248;248;248m \u001b[0m\n",
       "\u001b[1;38;2;24;24;24;48;2;248;248;248m  \u001b[0m\u001b[38;2;173;173;173;48;2;248;248;248m 2 \u001b[0m\u001b[38;2;0;0;0;48;2;248;248;248m        \u001b[0m\u001b[38;2;0;128;0;48;2;248;248;248mself\u001b[0m\u001b[38;2;102;102;102;48;2;248;248;248m.\u001b[0m\u001b[38;2;0;0;0;48;2;248;248;248mscene_x\u001b[0m\u001b[38;2;0;0;0;48;2;248;248;248m \u001b[0m\u001b[38;2;102;102;102;48;2;248;248;248m=\u001b[0m\u001b[38;2;0;0;0;48;2;248;248;248m \u001b[0m\u001b[38;2;0;0;0;48;2;248;248;248mscene_x\u001b[0m\u001b[48;2;248;248;248m                                                                                \u001b[0m\n",
       "\u001b[1;38;2;24;24;24;48;2;248;248;248m  \u001b[0m\u001b[38;2;173;173;173;48;2;248;248;248m 3 \u001b[0m\u001b[38;2;0;0;0;48;2;248;248;248m        \u001b[0m\u001b[38;2;0;128;0;48;2;248;248;248mself\u001b[0m\u001b[38;2;102;102;102;48;2;248;248;248m.\u001b[0m\u001b[38;2;0;0;0;48;2;248;248;248mscene_y\u001b[0m\u001b[38;2;0;0;0;48;2;248;248;248m \u001b[0m\u001b[38;2;102;102;102;48;2;248;248;248m=\u001b[0m\u001b[38;2;0;0;0;48;2;248;248;248m \u001b[0m\u001b[38;2;0;0;0;48;2;248;248;248mscene_y\u001b[0m\u001b[48;2;248;248;248m                                                                                \u001b[0m\n",
       "\u001b[1;38;2;24;24;24;48;2;248;248;248m  \u001b[0m\u001b[38;2;173;173;173;48;2;248;248;248m 4 \u001b[0m\u001b[38;2;0;0;0;48;2;248;248;248m        \u001b[0m\u001b[38;2;0;128;0;48;2;248;248;248mself\u001b[0m\u001b[38;2;102;102;102;48;2;248;248;248m.\u001b[0m\u001b[38;2;0;0;0;48;2;248;248;248mcamera_z\u001b[0m\u001b[38;2;0;0;0;48;2;248;248;248m \u001b[0m\u001b[38;2;102;102;102;48;2;248;248;248m=\u001b[0m\u001b[38;2;0;0;0;48;2;248;248;248m \u001b[0m\u001b[38;2;0;0;0;48;2;248;248;248mcamera_z\u001b[0m\u001b[48;2;248;248;248m                                                                              \u001b[0m\n",
       "\u001b[1;38;2;24;24;24;48;2;248;248;248m  \u001b[0m\u001b[38;2;173;173;173;48;2;248;248;248m 5 \u001b[0m\u001b[38;2;0;0;0;48;2;248;248;248m        \u001b[0m\u001b[38;2;0;128;0;48;2;248;248;248mself\u001b[0m\u001b[38;2;102;102;102;48;2;248;248;248m.\u001b[0m\u001b[38;2;0;0;0;48;2;248;248;248mscale\u001b[0m\u001b[38;2;0;0;0;48;2;248;248;248m \u001b[0m\u001b[38;2;102;102;102;48;2;248;248;248m=\u001b[0m\u001b[38;2;0;0;0;48;2;248;248;248m \u001b[0m\u001b[38;2;0;0;0;48;2;248;248;248mscale\u001b[0m\u001b[48;2;248;248;248m                                                                                    \u001b[0m\n",
       "\u001b[1;38;2;24;24;24;48;2;248;248;248m  \u001b[0m\u001b[38;2;173;173;173;48;2;248;248;248m 6 \u001b[0m\u001b[48;2;248;248;248m                                                                                                              \u001b[0m\n",
       "\u001b[1;38;2;24;24;24;48;2;248;248;248m  \u001b[0m\u001b[38;2;173;173;173;48;2;248;248;248m 7 \u001b[0m\u001b[38;2;0;0;0;48;2;248;248;248m        \u001b[0m\u001b[38;2;0;0;0;48;2;248;248;248mscene_origin\u001b[0m\u001b[38;2;0;0;0;48;2;248;248;248m:\u001b[0m\u001b[38;2;0;0;0;48;2;248;248;248m \u001b[0m\u001b[38;2;0;0;0;48;2;248;248;248mPoint3D\u001b[0m\u001b[38;2;0;0;0;48;2;248;248;248m \u001b[0m\u001b[38;2;102;102;102;48;2;248;248;248m=\u001b[0m\u001b[38;2;0;0;0;48;2;248;248;248m \u001b[0m\u001b[38;2;0;0;0;48;2;248;248;248mscene_x\u001b[0m\u001b[38;2;0;0;0;48;2;248;248;248m \u001b[0m\u001b[38;2;102;102;102;48;2;248;248;248m*\u001b[0m\u001b[38;2;0;0;0;48;2;248;248;248m \u001b[0m\u001b[38;2;0;0;0;48;2;248;248;248mRIGHT\u001b[0m\u001b[38;2;0;0;0;48;2;248;248;248m \u001b[0m\u001b[38;2;102;102;102;48;2;248;248;248m+\u001b[0m\u001b[38;2;0;0;0;48;2;248;248;248m \u001b[0m\u001b[38;2;0;0;0;48;2;248;248;248mscene_y\u001b[0m\u001b[38;2;0;0;0;48;2;248;248;248m \u001b[0m\u001b[38;2;102;102;102;48;2;248;248;248m*\u001b[0m\u001b[38;2;0;0;0;48;2;248;248;248m \u001b[0m\u001b[38;2;0;0;0;48;2;248;248;248mUP\u001b[0m\u001b[38;2;0;0;0;48;2;248;248;248m \u001b[0m\u001b[38;2;102;102;102;48;2;248;248;248m+\u001b[0m\u001b[38;2;0;0;0;48;2;248;248;248m \u001b[0m\u001b[38;2;0;0;0;48;2;248;248;248mcamera_z\u001b[0m\u001b[38;2;0;0;0;48;2;248;248;248m \u001b[0m\u001b[38;2;102;102;102;48;2;248;248;248m*\u001b[0m\u001b[38;2;0;0;0;48;2;248;248;248m \u001b[0m\u001b[38;2;0;0;0;48;2;248;248;248mOUT\u001b[0m\u001b[48;2;248;248;248m                               \u001b[0m\n",
       "\u001b[1;38;2;24;24;24;48;2;248;248;248m  \u001b[0m\u001b[38;2;173;173;173;48;2;248;248;248m 8 \u001b[0m\u001b[38;2;0;0;0;48;2;248;248;248m        \u001b[0m\u001b[38;2;0;0;0;48;2;248;248;248mscene_per_model\u001b[0m\u001b[38;2;0;0;0;48;2;248;248;248m:\u001b[0m\u001b[38;2;0;0;0;48;2;248;248;248m \u001b[0m\u001b[38;2;0;128;0;48;2;248;248;248mfloat\u001b[0m\u001b[38;2;0;0;0;48;2;248;248;248m \u001b[0m\u001b[38;2;102;102;102;48;2;248;248;248m=\u001b[0m\u001b[38;2;0;0;0;48;2;248;248;248m \u001b[0m\u001b[38;2;0;0;0;48;2;248;248;248mscale\u001b[0m\u001b[48;2;248;248;248m                                                                        \u001b[0m\n",
       "\u001b[1;38;2;24;24;24;48;2;248;248;248m  \u001b[0m\u001b[38;2;173;173;173;48;2;248;248;248m 9 \u001b[0m\u001b[38;2;0;0;0;48;2;248;248;248m        \u001b[0m\u001b[38;2;0;128;0;48;2;248;248;248mself\u001b[0m\u001b[38;2;102;102;102;48;2;248;248;248m.\u001b[0m\u001b[38;2;0;0;0;48;2;248;248;248mconversion\u001b[0m\u001b[38;2;0;0;0;48;2;248;248;248m \u001b[0m\u001b[38;2;102;102;102;48;2;248;248;248m=\u001b[0m\u001b[38;2;0;0;0;48;2;248;248;248m \u001b[0m\u001b[38;2;0;0;0;48;2;248;248;248mModelToSceneConversion\u001b[0m\u001b[38;2;0;0;0;48;2;248;248;248m(\u001b[0m\u001b[38;2;0;0;0;48;2;248;248;248mscene_origin\u001b[0m\u001b[38;2;0;0;0;48;2;248;248;248m,\u001b[0m\u001b[38;2;0;0;0;48;2;248;248;248m \u001b[0m\u001b[38;2;0;0;0;48;2;248;248;248mscene_per_model\u001b[0m\u001b[38;2;0;0;0;48;2;248;248;248m)\u001b[0m\u001b[48;2;248;248;248m                               \u001b[0m\n",
       "\u001b[1;38;2;24;24;24;48;2;248;248;248m  \u001b[0m\u001b[38;2;173;173;173;48;2;248;248;248m10 \u001b[0m\u001b[48;2;248;248;248m                                                                                                              \u001b[0m\n"
      ]
     },
     "metadata": {},
     "output_type": "display_data"
    }
   ],
   "source": [
    "from listings.list_python import lst\n",
    "from instant_insanity.core.projection import Projection\n",
    "\n",
    "lst(Projection.__init__)"
   ]
  },
  {
   "cell_type": "markdown",
   "id": "56e17952-270c-45df-a353-79c12446a3bc",
   "metadata": {},
   "source": [
    "It is clear from the listing that the code is indeed treating the scene_x, scene_y, and camera_z as the components of a vector.\n",
    "It remains to confirm that the projection does in fact map this vector to the origin of scene space."
   ]
  },
  {
   "cell_type": "markdown",
   "id": "92324e27-28ef-4583-977d-2ab0f2727866",
   "metadata": {},
   "source": [
    "### Using SymPy for Verification\n",
    "\n",
    "The Projection class, and all other classes I have created for use with Manim, \n",
    "use NumPy to represent points in both model space and scene space.\n",
    "I could therefore write a suite of NumPy test cases to verify that the scene_origin vector in model space \n",
    "does indeed get mapped to the origin of scene space.\n",
    "\n",
    "However, that would only verify the behaviour in a finite number of cases and would not lead to a clearer understanding of the code.\n",
    "Given that projections are fairly mathematical, it might be feasible to verify the behaviour in all cases by using \n",
    "[symbolic exection](https://en.wikipedia.org/wiki/Symbolic_execution) \n",
    "of the code.\n",
    "Therefore, I am going to try using SymPy to verify the code symbolically."
   ]
  },
  {
   "cell_type": "markdown",
   "id": "16a5b1c5-a7f7-422a-809e-f78876fc8b37",
   "metadata": {},
   "source": [
    "## Symbolic Projection\n",
    "\n",
    "The Projection class and friends work on NumPy arrays.\n",
    "I have therefore created parallel versions of the code that work on SymPy objects.\n",
    "\n",
    "Source code: [symbolic_projection.py](https://github.com/agryman/instant-insanity/blob/main/src/instant_insanity/core/symbolic_projection.py)\n",
    "\n",
    "For example, here's the init method for the symbolic version of Projection."
   ]
  },
  {
   "cell_type": "code",
   "execution_count": 3,
   "id": "28e6bfa4-8ccf-4bda-ad9e-cceb83c0f273",
   "metadata": {},
   "outputs": [
    {
     "data": {
      "text/html": [
       "<pre style=\"white-space:pre;overflow-x:auto;line-height:normal;font-family:Menlo,'DejaVu Sans Mono',consolas,'Courier New',monospace\"><span style=\"color: #181818; text-decoration-color: #181818; background-color: #f8f8f8; font-weight: bold\">  </span><span style=\"color: #adadad; text-decoration-color: #adadad; background-color: #f8f8f8\"> 1 </span><span style=\"color: #000000; text-decoration-color: #000000; background-color: #f8f8f8\">    </span><span style=\"color: #008000; text-decoration-color: #008000; background-color: #f8f8f8; font-weight: bold\">def</span><span style=\"color: #bbbbbb; text-decoration-color: #bbbbbb; background-color: #f8f8f8\"> </span><span style=\"color: #0000ff; text-decoration-color: #0000ff; background-color: #f8f8f8\">__init__</span><span style=\"color: #000000; text-decoration-color: #000000; background-color: #f8f8f8\">(</span><span style=\"color: #008000; text-decoration-color: #008000; background-color: #f8f8f8\">self</span><span style=\"color: #000000; text-decoration-color: #000000; background-color: #f8f8f8\">,</span><span style=\"background-color: #f8f8f8\">                                                                                        </span>\n",
       "<span style=\"color: #181818; text-decoration-color: #181818; background-color: #f8f8f8; font-weight: bold\">  </span><span style=\"color: #adadad; text-decoration-color: #adadad; background-color: #f8f8f8\"> 2 </span><span style=\"color: #000000; text-decoration-color: #000000; background-color: #f8f8f8\">                 scene_x: Scalar </span><span style=\"color: #666666; text-decoration-color: #666666; background-color: #f8f8f8\">=</span><span style=\"color: #000000; text-decoration-color: #000000; background-color: #f8f8f8\"> S</span><span style=\"color: #666666; text-decoration-color: #666666; background-color: #f8f8f8\">.</span><span style=\"color: #000000; text-decoration-color: #000000; background-color: #f8f8f8\">Zero,</span><span style=\"background-color: #f8f8f8\">                                                                    </span>\n",
       "<span style=\"color: #181818; text-decoration-color: #181818; background-color: #f8f8f8; font-weight: bold\">  </span><span style=\"color: #adadad; text-decoration-color: #adadad; background-color: #f8f8f8\"> 3 </span><span style=\"color: #000000; text-decoration-color: #000000; background-color: #f8f8f8\">                 scene_y: Scalar </span><span style=\"color: #666666; text-decoration-color: #666666; background-color: #f8f8f8\">=</span><span style=\"color: #000000; text-decoration-color: #000000; background-color: #f8f8f8\"> S</span><span style=\"color: #666666; text-decoration-color: #666666; background-color: #f8f8f8\">.</span><span style=\"color: #000000; text-decoration-color: #000000; background-color: #f8f8f8\">Zero,</span><span style=\"background-color: #f8f8f8\">                                                                    </span>\n",
       "<span style=\"color: #181818; text-decoration-color: #181818; background-color: #f8f8f8; font-weight: bold\">  </span><span style=\"color: #adadad; text-decoration-color: #adadad; background-color: #f8f8f8\"> 4 </span><span style=\"color: #000000; text-decoration-color: #000000; background-color: #f8f8f8\">                 camera_z: Scalar </span><span style=\"color: #666666; text-decoration-color: #666666; background-color: #f8f8f8\">=</span><span style=\"color: #000000; text-decoration-color: #000000; background-color: #f8f8f8\"> S</span><span style=\"color: #666666; text-decoration-color: #666666; background-color: #f8f8f8\">.</span><span style=\"color: #000000; text-decoration-color: #000000; background-color: #f8f8f8\">Zero,</span><span style=\"background-color: #f8f8f8\">                                                                   </span>\n",
       "<span style=\"color: #181818; text-decoration-color: #181818; background-color: #f8f8f8; font-weight: bold\">  </span><span style=\"color: #adadad; text-decoration-color: #adadad; background-color: #f8f8f8\"> 5 </span><span style=\"color: #000000; text-decoration-color: #000000; background-color: #f8f8f8\">                 scale: Scalar </span><span style=\"color: #666666; text-decoration-color: #666666; background-color: #f8f8f8\">=</span><span style=\"color: #000000; text-decoration-color: #000000; background-color: #f8f8f8\"> S</span><span style=\"color: #666666; text-decoration-color: #666666; background-color: #f8f8f8\">.</span><span style=\"color: #000000; text-decoration-color: #000000; background-color: #f8f8f8\">One) </span><span style=\"color: #666666; text-decoration-color: #666666; background-color: #f8f8f8\">-&gt;</span><span style=\"color: #000000; text-decoration-color: #000000; background-color: #f8f8f8\"> </span><span style=\"color: #008000; text-decoration-color: #008000; background-color: #f8f8f8; font-weight: bold\">None</span><span style=\"color: #000000; text-decoration-color: #000000; background-color: #f8f8f8\">:</span><span style=\"background-color: #f8f8f8\">                                                              </span>\n",
       "<span style=\"color: #181818; text-decoration-color: #181818; background-color: #f8f8f8; font-weight: bold\">  </span><span style=\"color: #adadad; text-decoration-color: #adadad; background-color: #f8f8f8\"> 6 </span><span style=\"color: #000000; text-decoration-color: #000000; background-color: #f8f8f8\">        </span><span style=\"color: #008000; text-decoration-color: #008000; background-color: #f8f8f8\">self</span><span style=\"color: #666666; text-decoration-color: #666666; background-color: #f8f8f8\">.</span><span style=\"color: #000000; text-decoration-color: #000000; background-color: #f8f8f8\">scene_x </span><span style=\"color: #666666; text-decoration-color: #666666; background-color: #f8f8f8\">=</span><span style=\"color: #000000; text-decoration-color: #000000; background-color: #f8f8f8\"> scene_x</span><span style=\"background-color: #f8f8f8\">                                                                                </span>\n",
       "<span style=\"color: #181818; text-decoration-color: #181818; background-color: #f8f8f8; font-weight: bold\">  </span><span style=\"color: #adadad; text-decoration-color: #adadad; background-color: #f8f8f8\"> 7 </span><span style=\"color: #000000; text-decoration-color: #000000; background-color: #f8f8f8\">        </span><span style=\"color: #008000; text-decoration-color: #008000; background-color: #f8f8f8\">self</span><span style=\"color: #666666; text-decoration-color: #666666; background-color: #f8f8f8\">.</span><span style=\"color: #000000; text-decoration-color: #000000; background-color: #f8f8f8\">scene_y </span><span style=\"color: #666666; text-decoration-color: #666666; background-color: #f8f8f8\">=</span><span style=\"color: #000000; text-decoration-color: #000000; background-color: #f8f8f8\"> scene_y</span><span style=\"background-color: #f8f8f8\">                                                                                </span>\n",
       "<span style=\"color: #181818; text-decoration-color: #181818; background-color: #f8f8f8; font-weight: bold\">  </span><span style=\"color: #adadad; text-decoration-color: #adadad; background-color: #f8f8f8\"> 8 </span><span style=\"color: #000000; text-decoration-color: #000000; background-color: #f8f8f8\">        </span><span style=\"color: #008000; text-decoration-color: #008000; background-color: #f8f8f8\">self</span><span style=\"color: #666666; text-decoration-color: #666666; background-color: #f8f8f8\">.</span><span style=\"color: #000000; text-decoration-color: #000000; background-color: #f8f8f8\">camera_z </span><span style=\"color: #666666; text-decoration-color: #666666; background-color: #f8f8f8\">=</span><span style=\"color: #000000; text-decoration-color: #000000; background-color: #f8f8f8\"> camera_z</span><span style=\"background-color: #f8f8f8\">                                                                              </span>\n",
       "<span style=\"color: #181818; text-decoration-color: #181818; background-color: #f8f8f8; font-weight: bold\">  </span><span style=\"color: #adadad; text-decoration-color: #adadad; background-color: #f8f8f8\"> 9 </span><span style=\"color: #000000; text-decoration-color: #000000; background-color: #f8f8f8\">        </span><span style=\"color: #008000; text-decoration-color: #008000; background-color: #f8f8f8\">self</span><span style=\"color: #666666; text-decoration-color: #666666; background-color: #f8f8f8\">.</span><span style=\"color: #000000; text-decoration-color: #000000; background-color: #f8f8f8\">scale </span><span style=\"color: #666666; text-decoration-color: #666666; background-color: #f8f8f8\">=</span><span style=\"color: #000000; text-decoration-color: #000000; background-color: #f8f8f8\"> scale</span><span style=\"background-color: #f8f8f8\">                                                                                    </span>\n",
       "<span style=\"color: #181818; text-decoration-color: #181818; background-color: #f8f8f8; font-weight: bold\">  </span><span style=\"color: #adadad; text-decoration-color: #adadad; background-color: #f8f8f8\">10 </span><span style=\"background-color: #f8f8f8\">                                                                                                              </span>\n",
       "<span style=\"color: #181818; text-decoration-color: #181818; background-color: #f8f8f8; font-weight: bold\">  </span><span style=\"color: #adadad; text-decoration-color: #adadad; background-color: #f8f8f8\">11 </span><span style=\"color: #000000; text-decoration-color: #000000; background-color: #f8f8f8\">        scene_origin: Vector </span><span style=\"color: #666666; text-decoration-color: #666666; background-color: #f8f8f8\">=</span><span style=\"color: #000000; text-decoration-color: #000000; background-color: #f8f8f8\"> scene_x </span><span style=\"color: #666666; text-decoration-color: #666666; background-color: #f8f8f8\">*</span><span style=\"color: #000000; text-decoration-color: #000000; background-color: #f8f8f8\"> UNIT_I </span><span style=\"color: #666666; text-decoration-color: #666666; background-color: #f8f8f8\">+</span><span style=\"color: #000000; text-decoration-color: #000000; background-color: #f8f8f8\"> scene_y </span><span style=\"color: #666666; text-decoration-color: #666666; background-color: #f8f8f8\">*</span><span style=\"color: #000000; text-decoration-color: #000000; background-color: #f8f8f8\"> UNIT_J </span><span style=\"color: #666666; text-decoration-color: #666666; background-color: #f8f8f8\">+</span><span style=\"color: #000000; text-decoration-color: #000000; background-color: #f8f8f8\"> camera_z </span><span style=\"color: #666666; text-decoration-color: #666666; background-color: #f8f8f8\">*</span><span style=\"color: #000000; text-decoration-color: #000000; background-color: #f8f8f8\"> UNIT_K</span><span style=\"background-color: #f8f8f8\">                        </span>\n",
       "<span style=\"color: #181818; text-decoration-color: #181818; background-color: #f8f8f8; font-weight: bold\">  </span><span style=\"color: #adadad; text-decoration-color: #adadad; background-color: #f8f8f8\">12 </span><span style=\"color: #000000; text-decoration-color: #000000; background-color: #f8f8f8\">        scene_per_model: Scalar </span><span style=\"color: #666666; text-decoration-color: #666666; background-color: #f8f8f8\">=</span><span style=\"color: #000000; text-decoration-color: #000000; background-color: #f8f8f8\"> scale</span><span style=\"background-color: #f8f8f8\">                                                                       </span>\n",
       "<span style=\"color: #181818; text-decoration-color: #181818; background-color: #f8f8f8; font-weight: bold\">  </span><span style=\"color: #adadad; text-decoration-color: #adadad; background-color: #f8f8f8\">13 </span><span style=\"color: #000000; text-decoration-color: #000000; background-color: #f8f8f8\">        </span><span style=\"color: #008000; text-decoration-color: #008000; background-color: #f8f8f8\">self</span><span style=\"color: #666666; text-decoration-color: #666666; background-color: #f8f8f8\">.</span><span style=\"color: #000000; text-decoration-color: #000000; background-color: #f8f8f8\">conversion </span><span style=\"color: #666666; text-decoration-color: #666666; background-color: #f8f8f8\">=</span><span style=\"color: #000000; text-decoration-color: #000000; background-color: #f8f8f8\"> ModelToSceneConversion(scene_origin, scene_per_model)</span><span style=\"background-color: #f8f8f8\">                               </span>\n",
       "<span style=\"color: #181818; text-decoration-color: #181818; background-color: #f8f8f8; font-weight: bold\">  </span><span style=\"color: #adadad; text-decoration-color: #adadad; background-color: #f8f8f8\">14 </span><span style=\"background-color: #f8f8f8\">                                                                                                              </span>\n",
       "</pre>\n"
      ],
      "text/plain": [
       "\u001b[1;38;2;24;24;24;48;2;248;248;248m  \u001b[0m\u001b[38;2;173;173;173;48;2;248;248;248m 1 \u001b[0m\u001b[38;2;0;0;0;48;2;248;248;248m    \u001b[0m\u001b[1;38;2;0;128;0;48;2;248;248;248mdef\u001b[0m\u001b[38;2;187;187;187;48;2;248;248;248m \u001b[0m\u001b[38;2;0;0;255;48;2;248;248;248m__init__\u001b[0m\u001b[38;2;0;0;0;48;2;248;248;248m(\u001b[0m\u001b[38;2;0;128;0;48;2;248;248;248mself\u001b[0m\u001b[38;2;0;0;0;48;2;248;248;248m,\u001b[0m\u001b[48;2;248;248;248m                                                                                        \u001b[0m\n",
       "\u001b[1;38;2;24;24;24;48;2;248;248;248m  \u001b[0m\u001b[38;2;173;173;173;48;2;248;248;248m 2 \u001b[0m\u001b[38;2;0;0;0;48;2;248;248;248m                 \u001b[0m\u001b[38;2;0;0;0;48;2;248;248;248mscene_x\u001b[0m\u001b[38;2;0;0;0;48;2;248;248;248m:\u001b[0m\u001b[38;2;0;0;0;48;2;248;248;248m \u001b[0m\u001b[38;2;0;0;0;48;2;248;248;248mScalar\u001b[0m\u001b[38;2;0;0;0;48;2;248;248;248m \u001b[0m\u001b[38;2;102;102;102;48;2;248;248;248m=\u001b[0m\u001b[38;2;0;0;0;48;2;248;248;248m \u001b[0m\u001b[38;2;0;0;0;48;2;248;248;248mS\u001b[0m\u001b[38;2;102;102;102;48;2;248;248;248m.\u001b[0m\u001b[38;2;0;0;0;48;2;248;248;248mZero\u001b[0m\u001b[38;2;0;0;0;48;2;248;248;248m,\u001b[0m\u001b[48;2;248;248;248m                                                                    \u001b[0m\n",
       "\u001b[1;38;2;24;24;24;48;2;248;248;248m  \u001b[0m\u001b[38;2;173;173;173;48;2;248;248;248m 3 \u001b[0m\u001b[38;2;0;0;0;48;2;248;248;248m                 \u001b[0m\u001b[38;2;0;0;0;48;2;248;248;248mscene_y\u001b[0m\u001b[38;2;0;0;0;48;2;248;248;248m:\u001b[0m\u001b[38;2;0;0;0;48;2;248;248;248m \u001b[0m\u001b[38;2;0;0;0;48;2;248;248;248mScalar\u001b[0m\u001b[38;2;0;0;0;48;2;248;248;248m \u001b[0m\u001b[38;2;102;102;102;48;2;248;248;248m=\u001b[0m\u001b[38;2;0;0;0;48;2;248;248;248m \u001b[0m\u001b[38;2;0;0;0;48;2;248;248;248mS\u001b[0m\u001b[38;2;102;102;102;48;2;248;248;248m.\u001b[0m\u001b[38;2;0;0;0;48;2;248;248;248mZero\u001b[0m\u001b[38;2;0;0;0;48;2;248;248;248m,\u001b[0m\u001b[48;2;248;248;248m                                                                    \u001b[0m\n",
       "\u001b[1;38;2;24;24;24;48;2;248;248;248m  \u001b[0m\u001b[38;2;173;173;173;48;2;248;248;248m 4 \u001b[0m\u001b[38;2;0;0;0;48;2;248;248;248m                 \u001b[0m\u001b[38;2;0;0;0;48;2;248;248;248mcamera_z\u001b[0m\u001b[38;2;0;0;0;48;2;248;248;248m:\u001b[0m\u001b[38;2;0;0;0;48;2;248;248;248m \u001b[0m\u001b[38;2;0;0;0;48;2;248;248;248mScalar\u001b[0m\u001b[38;2;0;0;0;48;2;248;248;248m \u001b[0m\u001b[38;2;102;102;102;48;2;248;248;248m=\u001b[0m\u001b[38;2;0;0;0;48;2;248;248;248m \u001b[0m\u001b[38;2;0;0;0;48;2;248;248;248mS\u001b[0m\u001b[38;2;102;102;102;48;2;248;248;248m.\u001b[0m\u001b[38;2;0;0;0;48;2;248;248;248mZero\u001b[0m\u001b[38;2;0;0;0;48;2;248;248;248m,\u001b[0m\u001b[48;2;248;248;248m                                                                   \u001b[0m\n",
       "\u001b[1;38;2;24;24;24;48;2;248;248;248m  \u001b[0m\u001b[38;2;173;173;173;48;2;248;248;248m 5 \u001b[0m\u001b[38;2;0;0;0;48;2;248;248;248m                 \u001b[0m\u001b[38;2;0;0;0;48;2;248;248;248mscale\u001b[0m\u001b[38;2;0;0;0;48;2;248;248;248m:\u001b[0m\u001b[38;2;0;0;0;48;2;248;248;248m \u001b[0m\u001b[38;2;0;0;0;48;2;248;248;248mScalar\u001b[0m\u001b[38;2;0;0;0;48;2;248;248;248m \u001b[0m\u001b[38;2;102;102;102;48;2;248;248;248m=\u001b[0m\u001b[38;2;0;0;0;48;2;248;248;248m \u001b[0m\u001b[38;2;0;0;0;48;2;248;248;248mS\u001b[0m\u001b[38;2;102;102;102;48;2;248;248;248m.\u001b[0m\u001b[38;2;0;0;0;48;2;248;248;248mOne\u001b[0m\u001b[38;2;0;0;0;48;2;248;248;248m)\u001b[0m\u001b[38;2;0;0;0;48;2;248;248;248m \u001b[0m\u001b[38;2;102;102;102;48;2;248;248;248m-\u001b[0m\u001b[38;2;102;102;102;48;2;248;248;248m>\u001b[0m\u001b[38;2;0;0;0;48;2;248;248;248m \u001b[0m\u001b[1;38;2;0;128;0;48;2;248;248;248mNone\u001b[0m\u001b[38;2;0;0;0;48;2;248;248;248m:\u001b[0m\u001b[48;2;248;248;248m                                                              \u001b[0m\n",
       "\u001b[1;38;2;24;24;24;48;2;248;248;248m  \u001b[0m\u001b[38;2;173;173;173;48;2;248;248;248m 6 \u001b[0m\u001b[38;2;0;0;0;48;2;248;248;248m        \u001b[0m\u001b[38;2;0;128;0;48;2;248;248;248mself\u001b[0m\u001b[38;2;102;102;102;48;2;248;248;248m.\u001b[0m\u001b[38;2;0;0;0;48;2;248;248;248mscene_x\u001b[0m\u001b[38;2;0;0;0;48;2;248;248;248m \u001b[0m\u001b[38;2;102;102;102;48;2;248;248;248m=\u001b[0m\u001b[38;2;0;0;0;48;2;248;248;248m \u001b[0m\u001b[38;2;0;0;0;48;2;248;248;248mscene_x\u001b[0m\u001b[48;2;248;248;248m                                                                                \u001b[0m\n",
       "\u001b[1;38;2;24;24;24;48;2;248;248;248m  \u001b[0m\u001b[38;2;173;173;173;48;2;248;248;248m 7 \u001b[0m\u001b[38;2;0;0;0;48;2;248;248;248m        \u001b[0m\u001b[38;2;0;128;0;48;2;248;248;248mself\u001b[0m\u001b[38;2;102;102;102;48;2;248;248;248m.\u001b[0m\u001b[38;2;0;0;0;48;2;248;248;248mscene_y\u001b[0m\u001b[38;2;0;0;0;48;2;248;248;248m \u001b[0m\u001b[38;2;102;102;102;48;2;248;248;248m=\u001b[0m\u001b[38;2;0;0;0;48;2;248;248;248m \u001b[0m\u001b[38;2;0;0;0;48;2;248;248;248mscene_y\u001b[0m\u001b[48;2;248;248;248m                                                                                \u001b[0m\n",
       "\u001b[1;38;2;24;24;24;48;2;248;248;248m  \u001b[0m\u001b[38;2;173;173;173;48;2;248;248;248m 8 \u001b[0m\u001b[38;2;0;0;0;48;2;248;248;248m        \u001b[0m\u001b[38;2;0;128;0;48;2;248;248;248mself\u001b[0m\u001b[38;2;102;102;102;48;2;248;248;248m.\u001b[0m\u001b[38;2;0;0;0;48;2;248;248;248mcamera_z\u001b[0m\u001b[38;2;0;0;0;48;2;248;248;248m \u001b[0m\u001b[38;2;102;102;102;48;2;248;248;248m=\u001b[0m\u001b[38;2;0;0;0;48;2;248;248;248m \u001b[0m\u001b[38;2;0;0;0;48;2;248;248;248mcamera_z\u001b[0m\u001b[48;2;248;248;248m                                                                              \u001b[0m\n",
       "\u001b[1;38;2;24;24;24;48;2;248;248;248m  \u001b[0m\u001b[38;2;173;173;173;48;2;248;248;248m 9 \u001b[0m\u001b[38;2;0;0;0;48;2;248;248;248m        \u001b[0m\u001b[38;2;0;128;0;48;2;248;248;248mself\u001b[0m\u001b[38;2;102;102;102;48;2;248;248;248m.\u001b[0m\u001b[38;2;0;0;0;48;2;248;248;248mscale\u001b[0m\u001b[38;2;0;0;0;48;2;248;248;248m \u001b[0m\u001b[38;2;102;102;102;48;2;248;248;248m=\u001b[0m\u001b[38;2;0;0;0;48;2;248;248;248m \u001b[0m\u001b[38;2;0;0;0;48;2;248;248;248mscale\u001b[0m\u001b[48;2;248;248;248m                                                                                    \u001b[0m\n",
       "\u001b[1;38;2;24;24;24;48;2;248;248;248m  \u001b[0m\u001b[38;2;173;173;173;48;2;248;248;248m10 \u001b[0m\u001b[48;2;248;248;248m                                                                                                              \u001b[0m\n",
       "\u001b[1;38;2;24;24;24;48;2;248;248;248m  \u001b[0m\u001b[38;2;173;173;173;48;2;248;248;248m11 \u001b[0m\u001b[38;2;0;0;0;48;2;248;248;248m        \u001b[0m\u001b[38;2;0;0;0;48;2;248;248;248mscene_origin\u001b[0m\u001b[38;2;0;0;0;48;2;248;248;248m:\u001b[0m\u001b[38;2;0;0;0;48;2;248;248;248m \u001b[0m\u001b[38;2;0;0;0;48;2;248;248;248mVector\u001b[0m\u001b[38;2;0;0;0;48;2;248;248;248m \u001b[0m\u001b[38;2;102;102;102;48;2;248;248;248m=\u001b[0m\u001b[38;2;0;0;0;48;2;248;248;248m \u001b[0m\u001b[38;2;0;0;0;48;2;248;248;248mscene_x\u001b[0m\u001b[38;2;0;0;0;48;2;248;248;248m \u001b[0m\u001b[38;2;102;102;102;48;2;248;248;248m*\u001b[0m\u001b[38;2;0;0;0;48;2;248;248;248m \u001b[0m\u001b[38;2;0;0;0;48;2;248;248;248mUNIT_I\u001b[0m\u001b[38;2;0;0;0;48;2;248;248;248m \u001b[0m\u001b[38;2;102;102;102;48;2;248;248;248m+\u001b[0m\u001b[38;2;0;0;0;48;2;248;248;248m \u001b[0m\u001b[38;2;0;0;0;48;2;248;248;248mscene_y\u001b[0m\u001b[38;2;0;0;0;48;2;248;248;248m \u001b[0m\u001b[38;2;102;102;102;48;2;248;248;248m*\u001b[0m\u001b[38;2;0;0;0;48;2;248;248;248m \u001b[0m\u001b[38;2;0;0;0;48;2;248;248;248mUNIT_J\u001b[0m\u001b[38;2;0;0;0;48;2;248;248;248m \u001b[0m\u001b[38;2;102;102;102;48;2;248;248;248m+\u001b[0m\u001b[38;2;0;0;0;48;2;248;248;248m \u001b[0m\u001b[38;2;0;0;0;48;2;248;248;248mcamera_z\u001b[0m\u001b[38;2;0;0;0;48;2;248;248;248m \u001b[0m\u001b[38;2;102;102;102;48;2;248;248;248m*\u001b[0m\u001b[38;2;0;0;0;48;2;248;248;248m \u001b[0m\u001b[38;2;0;0;0;48;2;248;248;248mUNIT_K\u001b[0m\u001b[48;2;248;248;248m                        \u001b[0m\n",
       "\u001b[1;38;2;24;24;24;48;2;248;248;248m  \u001b[0m\u001b[38;2;173;173;173;48;2;248;248;248m12 \u001b[0m\u001b[38;2;0;0;0;48;2;248;248;248m        \u001b[0m\u001b[38;2;0;0;0;48;2;248;248;248mscene_per_model\u001b[0m\u001b[38;2;0;0;0;48;2;248;248;248m:\u001b[0m\u001b[38;2;0;0;0;48;2;248;248;248m \u001b[0m\u001b[38;2;0;0;0;48;2;248;248;248mScalar\u001b[0m\u001b[38;2;0;0;0;48;2;248;248;248m \u001b[0m\u001b[38;2;102;102;102;48;2;248;248;248m=\u001b[0m\u001b[38;2;0;0;0;48;2;248;248;248m \u001b[0m\u001b[38;2;0;0;0;48;2;248;248;248mscale\u001b[0m\u001b[48;2;248;248;248m                                                                       \u001b[0m\n",
       "\u001b[1;38;2;24;24;24;48;2;248;248;248m  \u001b[0m\u001b[38;2;173;173;173;48;2;248;248;248m13 \u001b[0m\u001b[38;2;0;0;0;48;2;248;248;248m        \u001b[0m\u001b[38;2;0;128;0;48;2;248;248;248mself\u001b[0m\u001b[38;2;102;102;102;48;2;248;248;248m.\u001b[0m\u001b[38;2;0;0;0;48;2;248;248;248mconversion\u001b[0m\u001b[38;2;0;0;0;48;2;248;248;248m \u001b[0m\u001b[38;2;102;102;102;48;2;248;248;248m=\u001b[0m\u001b[38;2;0;0;0;48;2;248;248;248m \u001b[0m\u001b[38;2;0;0;0;48;2;248;248;248mModelToSceneConversion\u001b[0m\u001b[38;2;0;0;0;48;2;248;248;248m(\u001b[0m\u001b[38;2;0;0;0;48;2;248;248;248mscene_origin\u001b[0m\u001b[38;2;0;0;0;48;2;248;248;248m,\u001b[0m\u001b[38;2;0;0;0;48;2;248;248;248m \u001b[0m\u001b[38;2;0;0;0;48;2;248;248;248mscene_per_model\u001b[0m\u001b[38;2;0;0;0;48;2;248;248;248m)\u001b[0m\u001b[48;2;248;248;248m                               \u001b[0m\n",
       "\u001b[1;38;2;24;24;24;48;2;248;248;248m  \u001b[0m\u001b[38;2;173;173;173;48;2;248;248;248m14 \u001b[0m\u001b[48;2;248;248;248m                                                                                                              \u001b[0m\n"
      ]
     },
     "metadata": {},
     "output_type": "display_data"
    }
   ],
   "source": [
    "import instant_insanity.core.symbolic_projection as sp\n",
    "\n",
    "lst(sp.Projection.__init__)"
   ]
  },
  {
   "cell_type": "markdown",
   "id": "12fefe6f-96ff-431b-a9ae-545e13555412",
   "metadata": {},
   "source": [
    "Now let's create some SymPy variables to use as init parameters."
   ]
  },
  {
   "cell_type": "code",
   "execution_count": 4,
   "id": "57f43dcf-7b00-410f-8e63-a08c0f43a32a",
   "metadata": {},
   "outputs": [
    {
     "data": {
      "text/latex": [
       "$\\displaystyle \\left[\\begin{matrix}scene_{x} & scene_{y} & camera_{z} & scale\\end{matrix}\\right]$"
      ],
      "text/plain": [
       "Matrix([[scene_x, scene_y, camera_z, scale]])"
      ]
     },
     "execution_count": 4,
     "metadata": {},
     "output_type": "execute_result"
    }
   ],
   "source": [
    "from sympy import *\n",
    "from instant_insanity.core.symbolic_projection import Scalar, Vector\n",
    "\n",
    "def scalar(name: str) -> Scalar:\n",
    "    return symbols(name, real=True)\n",
    "\n",
    "def positive_scalar(name: str) -> Scalar:\n",
    "    return symbols(name, real=True, positive=True)\n",
    "\n",
    "def vector(name: str) -> Vector:\n",
    "    return Matrix(symbols(name + '1:4', real=True))\n",
    "\n",
    "scene_x = scalar('scene_x')\n",
    "scene_y = scalar('scene_y')\n",
    "camera_z = scalar('camera_z')\n",
    "scale = positive_scalar('scale')\n",
    "\n",
    "Matrix([scene_x, scene_y, camera_z, scale]).T"
   ]
  },
  {
   "cell_type": "markdown",
   "id": "1d02fae1-b9c2-4d86-9841-32d107bc2f31",
   "metadata": {},
   "source": [
    "Projection is an abstract base class so we cannot instantiate it directly.\n",
    "We need to use one of its concrete subclasses.\n",
    "Here's the init method for the symbolic version of OrthographicProjection:"
   ]
  },
  {
   "cell_type": "code",
   "execution_count": 5,
   "id": "6cbffd8c-71dc-4935-b3b6-d5e38c82532e",
   "metadata": {},
   "outputs": [
    {
     "data": {
      "text/html": [
       "<pre style=\"white-space:pre;overflow-x:auto;line-height:normal;font-family:Menlo,'DejaVu Sans Mono',consolas,'Courier New',monospace\"><span style=\"color: #181818; text-decoration-color: #181818; background-color: #f8f8f8; font-weight: bold\">  </span><span style=\"color: #adadad; text-decoration-color: #adadad; background-color: #f8f8f8\"> 1 </span><span style=\"color: #008000; text-decoration-color: #008000; background-color: #f8f8f8; font-weight: bold\">class</span><span style=\"color: #bbbbbb; text-decoration-color: #bbbbbb; background-color: #f8f8f8\"> </span><span style=\"color: #0000ff; text-decoration-color: #0000ff; background-color: #f8f8f8; font-weight: bold\">OrthographicProjection</span><span style=\"color: #000000; text-decoration-color: #000000; background-color: #f8f8f8\">(Projection):</span><span style=\"background-color: #f8f8f8\">                                                                     </span>\n",
       "<span style=\"color: #181818; text-decoration-color: #181818; background-color: #f8f8f8; font-weight: bold\">  </span><span style=\"color: #adadad; text-decoration-color: #adadad; background-color: #f8f8f8\"> 2 </span><span style=\"color: #bbbbbb; text-decoration-color: #bbbbbb; background-color: #f8f8f8\">    </span><span style=\"color: #ba2121; text-decoration-color: #ba2121; background-color: #f8f8f8; font-style: italic\">\"\"\"This class models an orthographic projection.</span><span style=\"background-color: #f8f8f8\">                                                          </span>\n",
       "<span style=\"color: #181818; text-decoration-color: #181818; background-color: #f8f8f8; font-weight: bold\">  </span><span style=\"color: #adadad; text-decoration-color: #adadad; background-color: #f8f8f8\"> 3 </span><span style=\"background-color: #f8f8f8\">                                                                                                              </span>\n",
       "<span style=\"color: #181818; text-decoration-color: #181818; background-color: #f8f8f8; font-weight: bold\">  </span><span style=\"color: #adadad; text-decoration-color: #adadad; background-color: #f8f8f8\"> 4 </span><span style=\"color: #ba2121; text-decoration-color: #ba2121; background-color: #f8f8f8; font-style: italic\">    Attributes:</span><span style=\"background-color: #f8f8f8\">                                                                                               </span>\n",
       "<span style=\"color: #181818; text-decoration-color: #181818; background-color: #f8f8f8; font-weight: bold\">  </span><span style=\"color: #adadad; text-decoration-color: #adadad; background-color: #f8f8f8\"> 5 </span><span style=\"color: #ba2121; text-decoration-color: #ba2121; background-color: #f8f8f8; font-style: italic\">        u: A unit Vector that specifies the direction of the projection.</span><span style=\"background-color: #f8f8f8\">                                      </span>\n",
       "<span style=\"color: #181818; text-decoration-color: #181818; background-color: #f8f8f8; font-weight: bold\">  </span><span style=\"color: #adadad; text-decoration-color: #adadad; background-color: #f8f8f8\"> 6 </span><span style=\"color: #ba2121; text-decoration-color: #ba2121; background-color: #f8f8f8; font-style: italic\">    \"\"\"</span><span style=\"background-color: #f8f8f8\">                                                                                                       </span>\n",
       "<span style=\"color: #181818; text-decoration-color: #181818; background-color: #f8f8f8; font-weight: bold\">  </span><span style=\"color: #adadad; text-decoration-color: #adadad; background-color: #f8f8f8\"> 7 </span><span style=\"background-color: #f8f8f8\">                                                                                                              </span>\n",
       "<span style=\"color: #181818; text-decoration-color: #181818; background-color: #f8f8f8; font-weight: bold\">  </span><span style=\"color: #adadad; text-decoration-color: #adadad; background-color: #f8f8f8\"> 8 </span><span style=\"color: #000000; text-decoration-color: #000000; background-color: #f8f8f8\">    u: Vector</span><span style=\"background-color: #f8f8f8\">                                                                                                 </span>\n",
       "<span style=\"color: #181818; text-decoration-color: #181818; background-color: #f8f8f8; font-weight: bold\">  </span><span style=\"color: #adadad; text-decoration-color: #adadad; background-color: #f8f8f8\"> 9 </span><span style=\"background-color: #f8f8f8\">                                                                                                              </span>\n",
       "<span style=\"color: #181818; text-decoration-color: #181818; background-color: #f8f8f8; font-weight: bold\">  </span><span style=\"color: #adadad; text-decoration-color: #adadad; background-color: #f8f8f8\">10 </span><span style=\"color: #000000; text-decoration-color: #000000; background-color: #f8f8f8\">    </span><span style=\"color: #008000; text-decoration-color: #008000; background-color: #f8f8f8; font-weight: bold\">def</span><span style=\"color: #bbbbbb; text-decoration-color: #bbbbbb; background-color: #f8f8f8\"> </span><span style=\"color: #0000ff; text-decoration-color: #0000ff; background-color: #f8f8f8\">__init__</span><span style=\"color: #000000; text-decoration-color: #000000; background-color: #f8f8f8\">(</span><span style=\"color: #008000; text-decoration-color: #008000; background-color: #f8f8f8\">self</span><span style=\"color: #000000; text-decoration-color: #000000; background-color: #f8f8f8\">, u: Vector, </span><span style=\"color: #666666; text-decoration-color: #666666; background-color: #f8f8f8\">**</span><span style=\"color: #000000; text-decoration-color: #000000; background-color: #f8f8f8\">kwargs) </span><span style=\"color: #666666; text-decoration-color: #666666; background-color: #f8f8f8\">-&gt;</span><span style=\"color: #000000; text-decoration-color: #000000; background-color: #f8f8f8\"> </span><span style=\"color: #008000; text-decoration-color: #008000; background-color: #f8f8f8; font-weight: bold\">None</span><span style=\"color: #000000; text-decoration-color: #000000; background-color: #f8f8f8\">:</span><span style=\"background-color: #f8f8f8\">                                                          </span>\n",
       "<span style=\"color: #181818; text-decoration-color: #181818; background-color: #f8f8f8; font-weight: bold\">  </span><span style=\"color: #adadad; text-decoration-color: #adadad; background-color: #f8f8f8\">11 </span><span style=\"color: #bbbbbb; text-decoration-color: #bbbbbb; background-color: #f8f8f8\">        </span><span style=\"color: #ba2121; text-decoration-color: #ba2121; background-color: #f8f8f8; font-style: italic\">\"\"\"Initializes an orthographic projection object.</span><span style=\"background-color: #f8f8f8\">                                                     </span>\n",
       "<span style=\"color: #181818; text-decoration-color: #181818; background-color: #f8f8f8; font-weight: bold\">  </span><span style=\"color: #adadad; text-decoration-color: #adadad; background-color: #f8f8f8\">12 </span><span style=\"background-color: #f8f8f8\">                                                                                                              </span>\n",
       "<span style=\"color: #181818; text-decoration-color: #181818; background-color: #f8f8f8; font-weight: bold\">  </span><span style=\"color: #adadad; text-decoration-color: #adadad; background-color: #f8f8f8\">13 </span><span style=\"color: #ba2121; text-decoration-color: #ba2121; background-color: #f8f8f8; font-style: italic\">        Args:</span><span style=\"background-color: #f8f8f8\">                                                                                                 </span>\n",
       "<span style=\"color: #181818; text-decoration-color: #181818; background-color: #f8f8f8; font-weight: bold\">  </span><span style=\"color: #adadad; text-decoration-color: #adadad; background-color: #f8f8f8\">14 </span><span style=\"color: #ba2121; text-decoration-color: #ba2121; background-color: #f8f8f8; font-style: italic\">            u: A unit vector that specifies the direction of the projection.</span><span style=\"background-color: #f8f8f8\">                                  </span>\n",
       "<span style=\"color: #181818; text-decoration-color: #181818; background-color: #f8f8f8; font-weight: bold\">  </span><span style=\"color: #adadad; text-decoration-color: #adadad; background-color: #f8f8f8\">15 </span><span style=\"background-color: #f8f8f8\">                                                                                                              </span>\n",
       "<span style=\"color: #181818; text-decoration-color: #181818; background-color: #f8f8f8; font-weight: bold\">  </span><span style=\"color: #adadad; text-decoration-color: #adadad; background-color: #f8f8f8\">16 </span><span style=\"color: #ba2121; text-decoration-color: #ba2121; background-color: #f8f8f8; font-style: italic\">        Raises:</span><span style=\"background-color: #f8f8f8\">                                                                                               </span>\n",
       "<span style=\"color: #181818; text-decoration-color: #181818; background-color: #f8f8f8; font-weight: bold\">  </span><span style=\"color: #adadad; text-decoration-color: #adadad; background-color: #f8f8f8\">17 </span><span style=\"color: #ba2121; text-decoration-color: #ba2121; background-color: #f8f8f8; font-style: italic\">            TypeError: if u is not a unit Vector.</span><span style=\"background-color: #f8f8f8\">                                                             </span>\n",
       "<span style=\"color: #181818; text-decoration-color: #181818; background-color: #f8f8f8; font-weight: bold\">  </span><span style=\"color: #adadad; text-decoration-color: #adadad; background-color: #f8f8f8\">18 </span><span style=\"color: #ba2121; text-decoration-color: #ba2121; background-color: #f8f8f8; font-style: italic\">            ValueError: if the z-component of u is zero.</span><span style=\"background-color: #f8f8f8\">                                                      </span>\n",
       "<span style=\"color: #181818; text-decoration-color: #181818; background-color: #f8f8f8; font-weight: bold\">  </span><span style=\"color: #adadad; text-decoration-color: #adadad; background-color: #f8f8f8\">19 </span><span style=\"color: #ba2121; text-decoration-color: #ba2121; background-color: #f8f8f8; font-style: italic\">        \"\"\"</span><span style=\"background-color: #f8f8f8\">                                                                                                   </span>\n",
       "<span style=\"color: #181818; text-decoration-color: #181818; background-color: #f8f8f8; font-weight: bold\">  </span><span style=\"color: #adadad; text-decoration-color: #adadad; background-color: #f8f8f8\">20 </span><span style=\"color: #000000; text-decoration-color: #000000; background-color: #f8f8f8\">        </span><span style=\"color: #008000; text-decoration-color: #008000; background-color: #f8f8f8; font-weight: bold\">assert</span><span style=\"color: #000000; text-decoration-color: #000000; background-color: #f8f8f8\"> </span><span style=\"color: #008000; text-decoration-color: #008000; background-color: #f8f8f8\">isinstance</span><span style=\"color: #000000; text-decoration-color: #000000; background-color: #f8f8f8\">(u, Matrix)</span><span style=\"background-color: #f8f8f8\">                                                                          </span>\n",
       "<span style=\"color: #181818; text-decoration-color: #181818; background-color: #f8f8f8; font-weight: bold\">  </span><span style=\"color: #adadad; text-decoration-color: #adadad; background-color: #f8f8f8\">21 </span><span style=\"color: #000000; text-decoration-color: #000000; background-color: #f8f8f8\">        </span><span style=\"color: #008000; text-decoration-color: #008000; background-color: #f8f8f8; font-weight: bold\">assert</span><span style=\"color: #000000; text-decoration-color: #000000; background-color: #f8f8f8\"> u</span><span style=\"color: #666666; text-decoration-color: #666666; background-color: #f8f8f8\">.</span><span style=\"color: #000000; text-decoration-color: #000000; background-color: #f8f8f8\">shape </span><span style=\"color: #666666; text-decoration-color: #666666; background-color: #f8f8f8\">==</span><span style=\"color: #000000; text-decoration-color: #000000; background-color: #f8f8f8\"> (</span><span style=\"color: #666666; text-decoration-color: #666666; background-color: #f8f8f8\">3</span><span style=\"color: #000000; text-decoration-color: #000000; background-color: #f8f8f8\">, </span><span style=\"color: #666666; text-decoration-color: #666666; background-color: #f8f8f8\">1</span><span style=\"color: #000000; text-decoration-color: #000000; background-color: #f8f8f8\">)</span><span style=\"background-color: #f8f8f8\">                                                                              </span>\n",
       "<span style=\"color: #181818; text-decoration-color: #181818; background-color: #f8f8f8; font-weight: bold\">  </span><span style=\"color: #adadad; text-decoration-color: #adadad; background-color: #f8f8f8\">22 </span><span style=\"background-color: #f8f8f8\">                                                                                                              </span>\n",
       "<span style=\"color: #181818; text-decoration-color: #181818; background-color: #f8f8f8; font-weight: bold\">  </span><span style=\"color: #adadad; text-decoration-color: #adadad; background-color: #f8f8f8\">23 </span><span style=\"color: #000000; text-decoration-color: #000000; background-color: #f8f8f8\">        </span><span style=\"color: #008000; text-decoration-color: #008000; background-color: #f8f8f8\">super</span><span style=\"color: #000000; text-decoration-color: #000000; background-color: #f8f8f8\">()</span><span style=\"color: #666666; text-decoration-color: #666666; background-color: #f8f8f8\">.</span><span style=\"color: #0000ff; text-decoration-color: #0000ff; background-color: #f8f8f8\">__init__</span><span style=\"color: #000000; text-decoration-color: #000000; background-color: #f8f8f8\">(</span><span style=\"color: #666666; text-decoration-color: #666666; background-color: #f8f8f8\">**</span><span style=\"color: #000000; text-decoration-color: #000000; background-color: #f8f8f8\">kwargs)</span><span style=\"background-color: #f8f8f8\">                                                                            </span>\n",
       "<span style=\"color: #181818; text-decoration-color: #181818; background-color: #f8f8f8; font-weight: bold\">  </span><span style=\"color: #adadad; text-decoration-color: #adadad; background-color: #f8f8f8\">24 </span><span style=\"background-color: #f8f8f8\">                                                                                                              </span>\n",
       "<span style=\"color: #181818; text-decoration-color: #181818; background-color: #f8f8f8; font-weight: bold\">  </span><span style=\"color: #adadad; text-decoration-color: #adadad; background-color: #f8f8f8\">25 </span><span style=\"color: #000000; text-decoration-color: #000000; background-color: #f8f8f8\">        norm_u: Scalar </span><span style=\"color: #666666; text-decoration-color: #666666; background-color: #f8f8f8\">=</span><span style=\"color: #000000; text-decoration-color: #000000; background-color: #f8f8f8\"> simplify(u</span><span style=\"color: #666666; text-decoration-color: #666666; background-color: #f8f8f8\">.</span><span style=\"color: #000000; text-decoration-color: #000000; background-color: #f8f8f8\">norm())</span><span style=\"background-color: #f8f8f8\">                                                                   </span>\n",
       "<span style=\"color: #181818; text-decoration-color: #181818; background-color: #f8f8f8; font-weight: bold\">  </span><span style=\"color: #adadad; text-decoration-color: #adadad; background-color: #f8f8f8\">26 </span><span style=\"color: #000000; text-decoration-color: #000000; background-color: #f8f8f8\">        </span><span style=\"color: #008000; text-decoration-color: #008000; background-color: #f8f8f8; font-weight: bold\">assert</span><span style=\"color: #000000; text-decoration-color: #000000; background-color: #f8f8f8\"> norm_u </span><span style=\"color: #666666; text-decoration-color: #666666; background-color: #f8f8f8\">==</span><span style=\"color: #000000; text-decoration-color: #000000; background-color: #f8f8f8\"> S</span><span style=\"color: #666666; text-decoration-color: #666666; background-color: #f8f8f8\">.</span><span style=\"color: #000000; text-decoration-color: #000000; background-color: #f8f8f8\">One</span><span style=\"background-color: #f8f8f8\">                                                                                </span>\n",
       "<span style=\"color: #181818; text-decoration-color: #181818; background-color: #f8f8f8; font-weight: bold\">  </span><span style=\"color: #adadad; text-decoration-color: #adadad; background-color: #f8f8f8\">27 </span><span style=\"background-color: #f8f8f8\">                                                                                                              </span>\n",
       "<span style=\"color: #181818; text-decoration-color: #181818; background-color: #f8f8f8; font-weight: bold\">  </span><span style=\"color: #adadad; text-decoration-color: #adadad; background-color: #f8f8f8\">28 </span><span style=\"color: #000000; text-decoration-color: #000000; background-color: #f8f8f8\">        u_z: Scalar</span><span style=\"background-color: #f8f8f8\">                                                                                           </span>\n",
       "<span style=\"color: #181818; text-decoration-color: #181818; background-color: #f8f8f8; font-weight: bold\">  </span><span style=\"color: #adadad; text-decoration-color: #adadad; background-color: #f8f8f8\">29 </span><span style=\"color: #000000; text-decoration-color: #000000; background-color: #f8f8f8\">        _, _, u_z </span><span style=\"color: #666666; text-decoration-color: #666666; background-color: #f8f8f8\">=</span><span style=\"color: #000000; text-decoration-color: #000000; background-color: #f8f8f8\"> u</span><span style=\"background-color: #f8f8f8\">                                                                                         </span>\n",
       "<span style=\"color: #181818; text-decoration-color: #181818; background-color: #f8f8f8; font-weight: bold\">  </span><span style=\"color: #adadad; text-decoration-color: #adadad; background-color: #f8f8f8\">30 </span><span style=\"color: #000000; text-decoration-color: #000000; background-color: #f8f8f8\">        </span><span style=\"color: #008000; text-decoration-color: #008000; background-color: #f8f8f8; font-weight: bold\">if</span><span style=\"color: #000000; text-decoration-color: #000000; background-color: #f8f8f8\"> u_z </span><span style=\"color: #666666; text-decoration-color: #666666; background-color: #f8f8f8\">==</span><span style=\"color: #000000; text-decoration-color: #000000; background-color: #f8f8f8\"> S</span><span style=\"color: #666666; text-decoration-color: #666666; background-color: #f8f8f8\">.</span><span style=\"color: #000000; text-decoration-color: #000000; background-color: #f8f8f8\">Zero:</span><span style=\"background-color: #f8f8f8\">                                                                                     </span>\n",
       "<span style=\"color: #181818; text-decoration-color: #181818; background-color: #f8f8f8; font-weight: bold\">  </span><span style=\"color: #adadad; text-decoration-color: #adadad; background-color: #f8f8f8\">31 </span><span style=\"color: #000000; text-decoration-color: #000000; background-color: #f8f8f8\">            </span><span style=\"color: #008000; text-decoration-color: #008000; background-color: #f8f8f8; font-weight: bold\">raise</span><span style=\"color: #000000; text-decoration-color: #000000; background-color: #f8f8f8\"> </span><span style=\"color: #cb3f38; text-decoration-color: #cb3f38; background-color: #f8f8f8; font-weight: bold\">ValueError</span><span style=\"color: #000000; text-decoration-color: #000000; background-color: #f8f8f8\">(</span><span style=\"color: #ba2121; text-decoration-color: #ba2121; background-color: #f8f8f8\">'unit vector z-component is zero'</span><span style=\"color: #000000; text-decoration-color: #000000; background-color: #f8f8f8\">)</span><span style=\"background-color: #f8f8f8\">                                               </span>\n",
       "<span style=\"color: #181818; text-decoration-color: #181818; background-color: #f8f8f8; font-weight: bold\">  </span><span style=\"color: #adadad; text-decoration-color: #adadad; background-color: #f8f8f8\">32 </span><span style=\"background-color: #f8f8f8\">                                                                                                              </span>\n",
       "<span style=\"color: #181818; text-decoration-color: #181818; background-color: #f8f8f8; font-weight: bold\">  </span><span style=\"color: #adadad; text-decoration-color: #adadad; background-color: #f8f8f8\">33 </span><span style=\"color: #000000; text-decoration-color: #000000; background-color: #f8f8f8\">        </span><span style=\"color: #008000; text-decoration-color: #008000; background-color: #f8f8f8\">self</span><span style=\"color: #666666; text-decoration-color: #666666; background-color: #f8f8f8\">.</span><span style=\"color: #000000; text-decoration-color: #000000; background-color: #f8f8f8\">u </span><span style=\"color: #666666; text-decoration-color: #666666; background-color: #f8f8f8\">=</span><span style=\"color: #000000; text-decoration-color: #000000; background-color: #f8f8f8\"> u</span><span style=\"background-color: #f8f8f8\">                                                                                            </span>\n",
       "<span style=\"color: #181818; text-decoration-color: #181818; background-color: #f8f8f8; font-weight: bold\">  </span><span style=\"color: #adadad; text-decoration-color: #adadad; background-color: #f8f8f8\">34 </span><span style=\"background-color: #f8f8f8\">                                                                                                              </span>\n",
       "<span style=\"color: #181818; text-decoration-color: #181818; background-color: #f8f8f8; font-weight: bold\">  </span><span style=\"color: #adadad; text-decoration-color: #adadad; background-color: #f8f8f8\">35 </span><span style=\"color: #000000; text-decoration-color: #000000; background-color: #f8f8f8\">    </span><span style=\"color: #008000; text-decoration-color: #008000; background-color: #f8f8f8; font-weight: bold\">def</span><span style=\"color: #bbbbbb; text-decoration-color: #bbbbbb; background-color: #f8f8f8\"> </span><span style=\"color: #0000ff; text-decoration-color: #0000ff; background-color: #f8f8f8\">compute_u</span><span style=\"color: #000000; text-decoration-color: #000000; background-color: #f8f8f8\">(</span><span style=\"color: #008000; text-decoration-color: #008000; background-color: #f8f8f8\">self</span><span style=\"color: #000000; text-decoration-color: #000000; background-color: #f8f8f8\">, model_point: Vector) </span><span style=\"color: #666666; text-decoration-color: #666666; background-color: #f8f8f8\">-&gt;</span><span style=\"color: #000000; text-decoration-color: #000000; background-color: #f8f8f8\"> Vector:</span><span style=\"background-color: #f8f8f8\">                                                       </span>\n",
       "<span style=\"color: #181818; text-decoration-color: #181818; background-color: #f8f8f8; font-weight: bold\">  </span><span style=\"color: #adadad; text-decoration-color: #adadad; background-color: #f8f8f8\">36 </span><span style=\"color: #000000; text-decoration-color: #000000; background-color: #f8f8f8\">        </span><span style=\"color: #008000; text-decoration-color: #008000; background-color: #f8f8f8; font-weight: bold\">assert</span><span style=\"color: #000000; text-decoration-color: #000000; background-color: #f8f8f8\"> </span><span style=\"color: #008000; text-decoration-color: #008000; background-color: #f8f8f8\">isinstance</span><span style=\"color: #000000; text-decoration-color: #000000; background-color: #f8f8f8\">(model_point, Matrix)</span><span style=\"background-color: #f8f8f8\">                                                                </span>\n",
       "<span style=\"color: #181818; text-decoration-color: #181818; background-color: #f8f8f8; font-weight: bold\">  </span><span style=\"color: #adadad; text-decoration-color: #adadad; background-color: #f8f8f8\">37 </span><span style=\"color: #000000; text-decoration-color: #000000; background-color: #f8f8f8\">        </span><span style=\"color: #008000; text-decoration-color: #008000; background-color: #f8f8f8; font-weight: bold\">assert</span><span style=\"color: #000000; text-decoration-color: #000000; background-color: #f8f8f8\"> model_point</span><span style=\"color: #666666; text-decoration-color: #666666; background-color: #f8f8f8\">.</span><span style=\"color: #000000; text-decoration-color: #000000; background-color: #f8f8f8\">shape </span><span style=\"color: #666666; text-decoration-color: #666666; background-color: #f8f8f8\">==</span><span style=\"color: #000000; text-decoration-color: #000000; background-color: #f8f8f8\"> (</span><span style=\"color: #666666; text-decoration-color: #666666; background-color: #f8f8f8\">3</span><span style=\"color: #000000; text-decoration-color: #000000; background-color: #f8f8f8\">, </span><span style=\"color: #666666; text-decoration-color: #666666; background-color: #f8f8f8\">1</span><span style=\"color: #000000; text-decoration-color: #000000; background-color: #f8f8f8\">)</span><span style=\"background-color: #f8f8f8\">                                                                    </span>\n",
       "<span style=\"color: #181818; text-decoration-color: #181818; background-color: #f8f8f8; font-weight: bold\">  </span><span style=\"color: #adadad; text-decoration-color: #adadad; background-color: #f8f8f8\">38 </span><span style=\"background-color: #f8f8f8\">                                                                                                              </span>\n",
       "<span style=\"color: #181818; text-decoration-color: #181818; background-color: #f8f8f8; font-weight: bold\">  </span><span style=\"color: #adadad; text-decoration-color: #adadad; background-color: #f8f8f8\">39 </span><span style=\"color: #000000; text-decoration-color: #000000; background-color: #f8f8f8\">        </span><span style=\"color: #008000; text-decoration-color: #008000; background-color: #f8f8f8; font-weight: bold\">return</span><span style=\"color: #000000; text-decoration-color: #000000; background-color: #f8f8f8\"> </span><span style=\"color: #008000; text-decoration-color: #008000; background-color: #f8f8f8\">self</span><span style=\"color: #666666; text-decoration-color: #666666; background-color: #f8f8f8\">.</span><span style=\"color: #000000; text-decoration-color: #000000; background-color: #f8f8f8\">u</span><span style=\"background-color: #f8f8f8\">                                                                                         </span>\n",
       "<span style=\"color: #181818; text-decoration-color: #181818; background-color: #f8f8f8; font-weight: bold\">  </span><span style=\"color: #adadad; text-decoration-color: #adadad; background-color: #f8f8f8\">40 </span><span style=\"background-color: #f8f8f8\">                                                                                                              </span>\n",
       "</pre>\n"
      ],
      "text/plain": [
       "\u001b[1;38;2;24;24;24;48;2;248;248;248m  \u001b[0m\u001b[38;2;173;173;173;48;2;248;248;248m 1 \u001b[0m\u001b[1;38;2;0;128;0;48;2;248;248;248mclass\u001b[0m\u001b[38;2;187;187;187;48;2;248;248;248m \u001b[0m\u001b[1;38;2;0;0;255;48;2;248;248;248mOrthographicProjection\u001b[0m\u001b[38;2;0;0;0;48;2;248;248;248m(\u001b[0m\u001b[38;2;0;0;0;48;2;248;248;248mProjection\u001b[0m\u001b[38;2;0;0;0;48;2;248;248;248m)\u001b[0m\u001b[38;2;0;0;0;48;2;248;248;248m:\u001b[0m\u001b[48;2;248;248;248m                                                                     \u001b[0m\n",
       "\u001b[1;38;2;24;24;24;48;2;248;248;248m  \u001b[0m\u001b[38;2;173;173;173;48;2;248;248;248m 2 \u001b[0m\u001b[38;2;187;187;187;48;2;248;248;248m    \u001b[0m\u001b[3;38;2;186;33;33;48;2;248;248;248m\"\"\"This class models an orthographic projection.\u001b[0m\u001b[48;2;248;248;248m                                                          \u001b[0m\n",
       "\u001b[1;38;2;24;24;24;48;2;248;248;248m  \u001b[0m\u001b[38;2;173;173;173;48;2;248;248;248m 3 \u001b[0m\u001b[48;2;248;248;248m                                                                                                              \u001b[0m\n",
       "\u001b[1;38;2;24;24;24;48;2;248;248;248m  \u001b[0m\u001b[38;2;173;173;173;48;2;248;248;248m 4 \u001b[0m\u001b[3;38;2;186;33;33;48;2;248;248;248m    Attributes:\u001b[0m\u001b[48;2;248;248;248m                                                                                               \u001b[0m\n",
       "\u001b[1;38;2;24;24;24;48;2;248;248;248m  \u001b[0m\u001b[38;2;173;173;173;48;2;248;248;248m 5 \u001b[0m\u001b[3;38;2;186;33;33;48;2;248;248;248m        u: A unit Vector that specifies the direction of the projection.\u001b[0m\u001b[48;2;248;248;248m                                      \u001b[0m\n",
       "\u001b[1;38;2;24;24;24;48;2;248;248;248m  \u001b[0m\u001b[38;2;173;173;173;48;2;248;248;248m 6 \u001b[0m\u001b[3;38;2;186;33;33;48;2;248;248;248m    \"\"\"\u001b[0m\u001b[48;2;248;248;248m                                                                                                       \u001b[0m\n",
       "\u001b[1;38;2;24;24;24;48;2;248;248;248m  \u001b[0m\u001b[38;2;173;173;173;48;2;248;248;248m 7 \u001b[0m\u001b[48;2;248;248;248m                                                                                                              \u001b[0m\n",
       "\u001b[1;38;2;24;24;24;48;2;248;248;248m  \u001b[0m\u001b[38;2;173;173;173;48;2;248;248;248m 8 \u001b[0m\u001b[38;2;0;0;0;48;2;248;248;248m    \u001b[0m\u001b[38;2;0;0;0;48;2;248;248;248mu\u001b[0m\u001b[38;2;0;0;0;48;2;248;248;248m:\u001b[0m\u001b[38;2;0;0;0;48;2;248;248;248m \u001b[0m\u001b[38;2;0;0;0;48;2;248;248;248mVector\u001b[0m\u001b[48;2;248;248;248m                                                                                                 \u001b[0m\n",
       "\u001b[1;38;2;24;24;24;48;2;248;248;248m  \u001b[0m\u001b[38;2;173;173;173;48;2;248;248;248m 9 \u001b[0m\u001b[48;2;248;248;248m                                                                                                              \u001b[0m\n",
       "\u001b[1;38;2;24;24;24;48;2;248;248;248m  \u001b[0m\u001b[38;2;173;173;173;48;2;248;248;248m10 \u001b[0m\u001b[38;2;0;0;0;48;2;248;248;248m    \u001b[0m\u001b[1;38;2;0;128;0;48;2;248;248;248mdef\u001b[0m\u001b[38;2;187;187;187;48;2;248;248;248m \u001b[0m\u001b[38;2;0;0;255;48;2;248;248;248m__init__\u001b[0m\u001b[38;2;0;0;0;48;2;248;248;248m(\u001b[0m\u001b[38;2;0;128;0;48;2;248;248;248mself\u001b[0m\u001b[38;2;0;0;0;48;2;248;248;248m,\u001b[0m\u001b[38;2;0;0;0;48;2;248;248;248m \u001b[0m\u001b[38;2;0;0;0;48;2;248;248;248mu\u001b[0m\u001b[38;2;0;0;0;48;2;248;248;248m:\u001b[0m\u001b[38;2;0;0;0;48;2;248;248;248m \u001b[0m\u001b[38;2;0;0;0;48;2;248;248;248mVector\u001b[0m\u001b[38;2;0;0;0;48;2;248;248;248m,\u001b[0m\u001b[38;2;0;0;0;48;2;248;248;248m \u001b[0m\u001b[38;2;102;102;102;48;2;248;248;248m*\u001b[0m\u001b[38;2;102;102;102;48;2;248;248;248m*\u001b[0m\u001b[38;2;0;0;0;48;2;248;248;248mkwargs\u001b[0m\u001b[38;2;0;0;0;48;2;248;248;248m)\u001b[0m\u001b[38;2;0;0;0;48;2;248;248;248m \u001b[0m\u001b[38;2;102;102;102;48;2;248;248;248m-\u001b[0m\u001b[38;2;102;102;102;48;2;248;248;248m>\u001b[0m\u001b[38;2;0;0;0;48;2;248;248;248m \u001b[0m\u001b[1;38;2;0;128;0;48;2;248;248;248mNone\u001b[0m\u001b[38;2;0;0;0;48;2;248;248;248m:\u001b[0m\u001b[48;2;248;248;248m                                                          \u001b[0m\n",
       "\u001b[1;38;2;24;24;24;48;2;248;248;248m  \u001b[0m\u001b[38;2;173;173;173;48;2;248;248;248m11 \u001b[0m\u001b[38;2;187;187;187;48;2;248;248;248m        \u001b[0m\u001b[3;38;2;186;33;33;48;2;248;248;248m\"\"\"Initializes an orthographic projection object.\u001b[0m\u001b[48;2;248;248;248m                                                     \u001b[0m\n",
       "\u001b[1;38;2;24;24;24;48;2;248;248;248m  \u001b[0m\u001b[38;2;173;173;173;48;2;248;248;248m12 \u001b[0m\u001b[48;2;248;248;248m                                                                                                              \u001b[0m\n",
       "\u001b[1;38;2;24;24;24;48;2;248;248;248m  \u001b[0m\u001b[38;2;173;173;173;48;2;248;248;248m13 \u001b[0m\u001b[3;38;2;186;33;33;48;2;248;248;248m        Args:\u001b[0m\u001b[48;2;248;248;248m                                                                                                 \u001b[0m\n",
       "\u001b[1;38;2;24;24;24;48;2;248;248;248m  \u001b[0m\u001b[38;2;173;173;173;48;2;248;248;248m14 \u001b[0m\u001b[3;38;2;186;33;33;48;2;248;248;248m            u: A unit vector that specifies the direction of the projection.\u001b[0m\u001b[48;2;248;248;248m                                  \u001b[0m\n",
       "\u001b[1;38;2;24;24;24;48;2;248;248;248m  \u001b[0m\u001b[38;2;173;173;173;48;2;248;248;248m15 \u001b[0m\u001b[48;2;248;248;248m                                                                                                              \u001b[0m\n",
       "\u001b[1;38;2;24;24;24;48;2;248;248;248m  \u001b[0m\u001b[38;2;173;173;173;48;2;248;248;248m16 \u001b[0m\u001b[3;38;2;186;33;33;48;2;248;248;248m        Raises:\u001b[0m\u001b[48;2;248;248;248m                                                                                               \u001b[0m\n",
       "\u001b[1;38;2;24;24;24;48;2;248;248;248m  \u001b[0m\u001b[38;2;173;173;173;48;2;248;248;248m17 \u001b[0m\u001b[3;38;2;186;33;33;48;2;248;248;248m            TypeError: if u is not a unit Vector.\u001b[0m\u001b[48;2;248;248;248m                                                             \u001b[0m\n",
       "\u001b[1;38;2;24;24;24;48;2;248;248;248m  \u001b[0m\u001b[38;2;173;173;173;48;2;248;248;248m18 \u001b[0m\u001b[3;38;2;186;33;33;48;2;248;248;248m            ValueError: if the z-component of u is zero.\u001b[0m\u001b[48;2;248;248;248m                                                      \u001b[0m\n",
       "\u001b[1;38;2;24;24;24;48;2;248;248;248m  \u001b[0m\u001b[38;2;173;173;173;48;2;248;248;248m19 \u001b[0m\u001b[3;38;2;186;33;33;48;2;248;248;248m        \"\"\"\u001b[0m\u001b[48;2;248;248;248m                                                                                                   \u001b[0m\n",
       "\u001b[1;38;2;24;24;24;48;2;248;248;248m  \u001b[0m\u001b[38;2;173;173;173;48;2;248;248;248m20 \u001b[0m\u001b[38;2;0;0;0;48;2;248;248;248m        \u001b[0m\u001b[1;38;2;0;128;0;48;2;248;248;248massert\u001b[0m\u001b[38;2;0;0;0;48;2;248;248;248m \u001b[0m\u001b[38;2;0;128;0;48;2;248;248;248misinstance\u001b[0m\u001b[38;2;0;0;0;48;2;248;248;248m(\u001b[0m\u001b[38;2;0;0;0;48;2;248;248;248mu\u001b[0m\u001b[38;2;0;0;0;48;2;248;248;248m,\u001b[0m\u001b[38;2;0;0;0;48;2;248;248;248m \u001b[0m\u001b[38;2;0;0;0;48;2;248;248;248mMatrix\u001b[0m\u001b[38;2;0;0;0;48;2;248;248;248m)\u001b[0m\u001b[48;2;248;248;248m                                                                          \u001b[0m\n",
       "\u001b[1;38;2;24;24;24;48;2;248;248;248m  \u001b[0m\u001b[38;2;173;173;173;48;2;248;248;248m21 \u001b[0m\u001b[38;2;0;0;0;48;2;248;248;248m        \u001b[0m\u001b[1;38;2;0;128;0;48;2;248;248;248massert\u001b[0m\u001b[38;2;0;0;0;48;2;248;248;248m \u001b[0m\u001b[38;2;0;0;0;48;2;248;248;248mu\u001b[0m\u001b[38;2;102;102;102;48;2;248;248;248m.\u001b[0m\u001b[38;2;0;0;0;48;2;248;248;248mshape\u001b[0m\u001b[38;2;0;0;0;48;2;248;248;248m \u001b[0m\u001b[38;2;102;102;102;48;2;248;248;248m==\u001b[0m\u001b[38;2;0;0;0;48;2;248;248;248m \u001b[0m\u001b[38;2;0;0;0;48;2;248;248;248m(\u001b[0m\u001b[38;2;102;102;102;48;2;248;248;248m3\u001b[0m\u001b[38;2;0;0;0;48;2;248;248;248m,\u001b[0m\u001b[38;2;0;0;0;48;2;248;248;248m \u001b[0m\u001b[38;2;102;102;102;48;2;248;248;248m1\u001b[0m\u001b[38;2;0;0;0;48;2;248;248;248m)\u001b[0m\u001b[48;2;248;248;248m                                                                              \u001b[0m\n",
       "\u001b[1;38;2;24;24;24;48;2;248;248;248m  \u001b[0m\u001b[38;2;173;173;173;48;2;248;248;248m22 \u001b[0m\u001b[48;2;248;248;248m                                                                                                              \u001b[0m\n",
       "\u001b[1;38;2;24;24;24;48;2;248;248;248m  \u001b[0m\u001b[38;2;173;173;173;48;2;248;248;248m23 \u001b[0m\u001b[38;2;0;0;0;48;2;248;248;248m        \u001b[0m\u001b[38;2;0;128;0;48;2;248;248;248msuper\u001b[0m\u001b[38;2;0;0;0;48;2;248;248;248m(\u001b[0m\u001b[38;2;0;0;0;48;2;248;248;248m)\u001b[0m\u001b[38;2;102;102;102;48;2;248;248;248m.\u001b[0m\u001b[38;2;0;0;255;48;2;248;248;248m__init__\u001b[0m\u001b[38;2;0;0;0;48;2;248;248;248m(\u001b[0m\u001b[38;2;102;102;102;48;2;248;248;248m*\u001b[0m\u001b[38;2;102;102;102;48;2;248;248;248m*\u001b[0m\u001b[38;2;0;0;0;48;2;248;248;248mkwargs\u001b[0m\u001b[38;2;0;0;0;48;2;248;248;248m)\u001b[0m\u001b[48;2;248;248;248m                                                                            \u001b[0m\n",
       "\u001b[1;38;2;24;24;24;48;2;248;248;248m  \u001b[0m\u001b[38;2;173;173;173;48;2;248;248;248m24 \u001b[0m\u001b[48;2;248;248;248m                                                                                                              \u001b[0m\n",
       "\u001b[1;38;2;24;24;24;48;2;248;248;248m  \u001b[0m\u001b[38;2;173;173;173;48;2;248;248;248m25 \u001b[0m\u001b[38;2;0;0;0;48;2;248;248;248m        \u001b[0m\u001b[38;2;0;0;0;48;2;248;248;248mnorm_u\u001b[0m\u001b[38;2;0;0;0;48;2;248;248;248m:\u001b[0m\u001b[38;2;0;0;0;48;2;248;248;248m \u001b[0m\u001b[38;2;0;0;0;48;2;248;248;248mScalar\u001b[0m\u001b[38;2;0;0;0;48;2;248;248;248m \u001b[0m\u001b[38;2;102;102;102;48;2;248;248;248m=\u001b[0m\u001b[38;2;0;0;0;48;2;248;248;248m \u001b[0m\u001b[38;2;0;0;0;48;2;248;248;248msimplify\u001b[0m\u001b[38;2;0;0;0;48;2;248;248;248m(\u001b[0m\u001b[38;2;0;0;0;48;2;248;248;248mu\u001b[0m\u001b[38;2;102;102;102;48;2;248;248;248m.\u001b[0m\u001b[38;2;0;0;0;48;2;248;248;248mnorm\u001b[0m\u001b[38;2;0;0;0;48;2;248;248;248m(\u001b[0m\u001b[38;2;0;0;0;48;2;248;248;248m)\u001b[0m\u001b[38;2;0;0;0;48;2;248;248;248m)\u001b[0m\u001b[48;2;248;248;248m                                                                   \u001b[0m\n",
       "\u001b[1;38;2;24;24;24;48;2;248;248;248m  \u001b[0m\u001b[38;2;173;173;173;48;2;248;248;248m26 \u001b[0m\u001b[38;2;0;0;0;48;2;248;248;248m        \u001b[0m\u001b[1;38;2;0;128;0;48;2;248;248;248massert\u001b[0m\u001b[38;2;0;0;0;48;2;248;248;248m \u001b[0m\u001b[38;2;0;0;0;48;2;248;248;248mnorm_u\u001b[0m\u001b[38;2;0;0;0;48;2;248;248;248m \u001b[0m\u001b[38;2;102;102;102;48;2;248;248;248m==\u001b[0m\u001b[38;2;0;0;0;48;2;248;248;248m \u001b[0m\u001b[38;2;0;0;0;48;2;248;248;248mS\u001b[0m\u001b[38;2;102;102;102;48;2;248;248;248m.\u001b[0m\u001b[38;2;0;0;0;48;2;248;248;248mOne\u001b[0m\u001b[48;2;248;248;248m                                                                                \u001b[0m\n",
       "\u001b[1;38;2;24;24;24;48;2;248;248;248m  \u001b[0m\u001b[38;2;173;173;173;48;2;248;248;248m27 \u001b[0m\u001b[48;2;248;248;248m                                                                                                              \u001b[0m\n",
       "\u001b[1;38;2;24;24;24;48;2;248;248;248m  \u001b[0m\u001b[38;2;173;173;173;48;2;248;248;248m28 \u001b[0m\u001b[38;2;0;0;0;48;2;248;248;248m        \u001b[0m\u001b[38;2;0;0;0;48;2;248;248;248mu_z\u001b[0m\u001b[38;2;0;0;0;48;2;248;248;248m:\u001b[0m\u001b[38;2;0;0;0;48;2;248;248;248m \u001b[0m\u001b[38;2;0;0;0;48;2;248;248;248mScalar\u001b[0m\u001b[48;2;248;248;248m                                                                                           \u001b[0m\n",
       "\u001b[1;38;2;24;24;24;48;2;248;248;248m  \u001b[0m\u001b[38;2;173;173;173;48;2;248;248;248m29 \u001b[0m\u001b[38;2;0;0;0;48;2;248;248;248m        \u001b[0m\u001b[38;2;0;0;0;48;2;248;248;248m_\u001b[0m\u001b[38;2;0;0;0;48;2;248;248;248m,\u001b[0m\u001b[38;2;0;0;0;48;2;248;248;248m \u001b[0m\u001b[38;2;0;0;0;48;2;248;248;248m_\u001b[0m\u001b[38;2;0;0;0;48;2;248;248;248m,\u001b[0m\u001b[38;2;0;0;0;48;2;248;248;248m \u001b[0m\u001b[38;2;0;0;0;48;2;248;248;248mu_z\u001b[0m\u001b[38;2;0;0;0;48;2;248;248;248m \u001b[0m\u001b[38;2;102;102;102;48;2;248;248;248m=\u001b[0m\u001b[38;2;0;0;0;48;2;248;248;248m \u001b[0m\u001b[38;2;0;0;0;48;2;248;248;248mu\u001b[0m\u001b[48;2;248;248;248m                                                                                         \u001b[0m\n",
       "\u001b[1;38;2;24;24;24;48;2;248;248;248m  \u001b[0m\u001b[38;2;173;173;173;48;2;248;248;248m30 \u001b[0m\u001b[38;2;0;0;0;48;2;248;248;248m        \u001b[0m\u001b[1;38;2;0;128;0;48;2;248;248;248mif\u001b[0m\u001b[38;2;0;0;0;48;2;248;248;248m \u001b[0m\u001b[38;2;0;0;0;48;2;248;248;248mu_z\u001b[0m\u001b[38;2;0;0;0;48;2;248;248;248m \u001b[0m\u001b[38;2;102;102;102;48;2;248;248;248m==\u001b[0m\u001b[38;2;0;0;0;48;2;248;248;248m \u001b[0m\u001b[38;2;0;0;0;48;2;248;248;248mS\u001b[0m\u001b[38;2;102;102;102;48;2;248;248;248m.\u001b[0m\u001b[38;2;0;0;0;48;2;248;248;248mZero\u001b[0m\u001b[38;2;0;0;0;48;2;248;248;248m:\u001b[0m\u001b[48;2;248;248;248m                                                                                     \u001b[0m\n",
       "\u001b[1;38;2;24;24;24;48;2;248;248;248m  \u001b[0m\u001b[38;2;173;173;173;48;2;248;248;248m31 \u001b[0m\u001b[38;2;0;0;0;48;2;248;248;248m            \u001b[0m\u001b[1;38;2;0;128;0;48;2;248;248;248mraise\u001b[0m\u001b[38;2;0;0;0;48;2;248;248;248m \u001b[0m\u001b[1;38;2;203;63;56;48;2;248;248;248mValueError\u001b[0m\u001b[38;2;0;0;0;48;2;248;248;248m(\u001b[0m\u001b[38;2;186;33;33;48;2;248;248;248m'\u001b[0m\u001b[38;2;186;33;33;48;2;248;248;248munit vector z-component is zero\u001b[0m\u001b[38;2;186;33;33;48;2;248;248;248m'\u001b[0m\u001b[38;2;0;0;0;48;2;248;248;248m)\u001b[0m\u001b[48;2;248;248;248m                                               \u001b[0m\n",
       "\u001b[1;38;2;24;24;24;48;2;248;248;248m  \u001b[0m\u001b[38;2;173;173;173;48;2;248;248;248m32 \u001b[0m\u001b[48;2;248;248;248m                                                                                                              \u001b[0m\n",
       "\u001b[1;38;2;24;24;24;48;2;248;248;248m  \u001b[0m\u001b[38;2;173;173;173;48;2;248;248;248m33 \u001b[0m\u001b[38;2;0;0;0;48;2;248;248;248m        \u001b[0m\u001b[38;2;0;128;0;48;2;248;248;248mself\u001b[0m\u001b[38;2;102;102;102;48;2;248;248;248m.\u001b[0m\u001b[38;2;0;0;0;48;2;248;248;248mu\u001b[0m\u001b[38;2;0;0;0;48;2;248;248;248m \u001b[0m\u001b[38;2;102;102;102;48;2;248;248;248m=\u001b[0m\u001b[38;2;0;0;0;48;2;248;248;248m \u001b[0m\u001b[38;2;0;0;0;48;2;248;248;248mu\u001b[0m\u001b[48;2;248;248;248m                                                                                            \u001b[0m\n",
       "\u001b[1;38;2;24;24;24;48;2;248;248;248m  \u001b[0m\u001b[38;2;173;173;173;48;2;248;248;248m34 \u001b[0m\u001b[48;2;248;248;248m                                                                                                              \u001b[0m\n",
       "\u001b[1;38;2;24;24;24;48;2;248;248;248m  \u001b[0m\u001b[38;2;173;173;173;48;2;248;248;248m35 \u001b[0m\u001b[38;2;0;0;0;48;2;248;248;248m    \u001b[0m\u001b[1;38;2;0;128;0;48;2;248;248;248mdef\u001b[0m\u001b[38;2;187;187;187;48;2;248;248;248m \u001b[0m\u001b[38;2;0;0;255;48;2;248;248;248mcompute_u\u001b[0m\u001b[38;2;0;0;0;48;2;248;248;248m(\u001b[0m\u001b[38;2;0;128;0;48;2;248;248;248mself\u001b[0m\u001b[38;2;0;0;0;48;2;248;248;248m,\u001b[0m\u001b[38;2;0;0;0;48;2;248;248;248m \u001b[0m\u001b[38;2;0;0;0;48;2;248;248;248mmodel_point\u001b[0m\u001b[38;2;0;0;0;48;2;248;248;248m:\u001b[0m\u001b[38;2;0;0;0;48;2;248;248;248m \u001b[0m\u001b[38;2;0;0;0;48;2;248;248;248mVector\u001b[0m\u001b[38;2;0;0;0;48;2;248;248;248m)\u001b[0m\u001b[38;2;0;0;0;48;2;248;248;248m \u001b[0m\u001b[38;2;102;102;102;48;2;248;248;248m-\u001b[0m\u001b[38;2;102;102;102;48;2;248;248;248m>\u001b[0m\u001b[38;2;0;0;0;48;2;248;248;248m \u001b[0m\u001b[38;2;0;0;0;48;2;248;248;248mVector\u001b[0m\u001b[38;2;0;0;0;48;2;248;248;248m:\u001b[0m\u001b[48;2;248;248;248m                                                       \u001b[0m\n",
       "\u001b[1;38;2;24;24;24;48;2;248;248;248m  \u001b[0m\u001b[38;2;173;173;173;48;2;248;248;248m36 \u001b[0m\u001b[38;2;0;0;0;48;2;248;248;248m        \u001b[0m\u001b[1;38;2;0;128;0;48;2;248;248;248massert\u001b[0m\u001b[38;2;0;0;0;48;2;248;248;248m \u001b[0m\u001b[38;2;0;128;0;48;2;248;248;248misinstance\u001b[0m\u001b[38;2;0;0;0;48;2;248;248;248m(\u001b[0m\u001b[38;2;0;0;0;48;2;248;248;248mmodel_point\u001b[0m\u001b[38;2;0;0;0;48;2;248;248;248m,\u001b[0m\u001b[38;2;0;0;0;48;2;248;248;248m \u001b[0m\u001b[38;2;0;0;0;48;2;248;248;248mMatrix\u001b[0m\u001b[38;2;0;0;0;48;2;248;248;248m)\u001b[0m\u001b[48;2;248;248;248m                                                                \u001b[0m\n",
       "\u001b[1;38;2;24;24;24;48;2;248;248;248m  \u001b[0m\u001b[38;2;173;173;173;48;2;248;248;248m37 \u001b[0m\u001b[38;2;0;0;0;48;2;248;248;248m        \u001b[0m\u001b[1;38;2;0;128;0;48;2;248;248;248massert\u001b[0m\u001b[38;2;0;0;0;48;2;248;248;248m \u001b[0m\u001b[38;2;0;0;0;48;2;248;248;248mmodel_point\u001b[0m\u001b[38;2;102;102;102;48;2;248;248;248m.\u001b[0m\u001b[38;2;0;0;0;48;2;248;248;248mshape\u001b[0m\u001b[38;2;0;0;0;48;2;248;248;248m \u001b[0m\u001b[38;2;102;102;102;48;2;248;248;248m==\u001b[0m\u001b[38;2;0;0;0;48;2;248;248;248m \u001b[0m\u001b[38;2;0;0;0;48;2;248;248;248m(\u001b[0m\u001b[38;2;102;102;102;48;2;248;248;248m3\u001b[0m\u001b[38;2;0;0;0;48;2;248;248;248m,\u001b[0m\u001b[38;2;0;0;0;48;2;248;248;248m \u001b[0m\u001b[38;2;102;102;102;48;2;248;248;248m1\u001b[0m\u001b[38;2;0;0;0;48;2;248;248;248m)\u001b[0m\u001b[48;2;248;248;248m                                                                    \u001b[0m\n",
       "\u001b[1;38;2;24;24;24;48;2;248;248;248m  \u001b[0m\u001b[38;2;173;173;173;48;2;248;248;248m38 \u001b[0m\u001b[48;2;248;248;248m                                                                                                              \u001b[0m\n",
       "\u001b[1;38;2;24;24;24;48;2;248;248;248m  \u001b[0m\u001b[38;2;173;173;173;48;2;248;248;248m39 \u001b[0m\u001b[38;2;0;0;0;48;2;248;248;248m        \u001b[0m\u001b[1;38;2;0;128;0;48;2;248;248;248mreturn\u001b[0m\u001b[38;2;0;0;0;48;2;248;248;248m \u001b[0m\u001b[38;2;0;128;0;48;2;248;248;248mself\u001b[0m\u001b[38;2;102;102;102;48;2;248;248;248m.\u001b[0m\u001b[38;2;0;0;0;48;2;248;248;248mu\u001b[0m\u001b[48;2;248;248;248m                                                                                         \u001b[0m\n",
       "\u001b[1;38;2;24;24;24;48;2;248;248;248m  \u001b[0m\u001b[38;2;173;173;173;48;2;248;248;248m40 \u001b[0m\u001b[48;2;248;248;248m                                                                                                              \u001b[0m\n"
      ]
     },
     "metadata": {},
     "output_type": "display_data"
    }
   ],
   "source": [
    "lst(sp.OrthographicProjection)"
   ]
  },
  {
   "cell_type": "markdown",
   "id": "e9218746-c63d-4489-a048-212ced2c09c7",
   "metadata": {},
   "source": [
    "The model defines a standard orthographic projection."
   ]
  },
  {
   "cell_type": "code",
   "execution_count": 6,
   "id": "54a3713f-a79d-41ab-b9dc-fba5ef855f40",
   "metadata": {},
   "outputs": [
    {
     "data": {
      "text/html": [
       "<pre style=\"white-space:pre;overflow-x:auto;line-height:normal;font-family:Menlo,'DejaVu Sans Mono',consolas,'Courier New',monospace\"><span style=\"color: #181818; text-decoration-color: #181818; background-color: #f8f8f8; font-weight: bold\">  </span><span style=\"color: #adadad; text-decoration-color: #adadad; background-color: #f8f8f8\"> 1 </span><span style=\"color: #008000; text-decoration-color: #008000; background-color: #f8f8f8; font-weight: bold\">def</span><span style=\"color: #bbbbbb; text-decoration-color: #bbbbbb; background-color: #f8f8f8\"> </span><span style=\"color: #0000ff; text-decoration-color: #0000ff; background-color: #f8f8f8\">mk_standard_orthographic_projection</span><span style=\"color: #000000; text-decoration-color: #000000; background-color: #f8f8f8\">() </span><span style=\"color: #666666; text-decoration-color: #666666; background-color: #f8f8f8\">-&gt;</span><span style=\"color: #000000; text-decoration-color: #000000; background-color: #f8f8f8\"> OrthographicProjection:</span><span style=\"background-color: #f8f8f8\">                                          </span>\n",
       "<span style=\"color: #181818; text-decoration-color: #181818; background-color: #f8f8f8; font-weight: bold\">  </span><span style=\"color: #adadad; text-decoration-color: #adadad; background-color: #f8f8f8\"> 2 </span><span style=\"color: #000000; text-decoration-color: #000000; background-color: #f8f8f8\">    direction: Vector </span><span style=\"color: #666666; text-decoration-color: #666666; background-color: #f8f8f8\">=</span><span style=\"color: #000000; text-decoration-color: #000000; background-color: #f8f8f8\"> Matrix([Rational(</span><span style=\"color: #666666; text-decoration-color: #666666; background-color: #f8f8f8\">3</span><span style=\"color: #000000; text-decoration-color: #000000; background-color: #f8f8f8\">, </span><span style=\"color: #666666; text-decoration-color: #666666; background-color: #f8f8f8\">2</span><span style=\"color: #000000; text-decoration-color: #000000; background-color: #f8f8f8\">), S</span><span style=\"color: #666666; text-decoration-color: #666666; background-color: #f8f8f8\">.</span><span style=\"color: #000000; text-decoration-color: #000000; background-color: #f8f8f8\">One, Integer(</span><span style=\"color: #666666; text-decoration-color: #666666; background-color: #f8f8f8\">5</span><span style=\"color: #000000; text-decoration-color: #000000; background-color: #f8f8f8\">)])</span><span style=\"background-color: #f8f8f8\">                                           </span>\n",
       "<span style=\"color: #181818; text-decoration-color: #181818; background-color: #f8f8f8; font-weight: bold\">  </span><span style=\"color: #adadad; text-decoration-color: #adadad; background-color: #f8f8f8\"> 3 </span><span style=\"color: #000000; text-decoration-color: #000000; background-color: #f8f8f8\">    u: Vector </span><span style=\"color: #666666; text-decoration-color: #666666; background-color: #f8f8f8\">=</span><span style=\"color: #000000; text-decoration-color: #000000; background-color: #f8f8f8\"> direction </span><span style=\"color: #666666; text-decoration-color: #666666; background-color: #f8f8f8\">/</span><span style=\"color: #000000; text-decoration-color: #000000; background-color: #f8f8f8\"> direction</span><span style=\"color: #666666; text-decoration-color: #666666; background-color: #f8f8f8\">.</span><span style=\"color: #000000; text-decoration-color: #000000; background-color: #f8f8f8\">norm()</span><span style=\"background-color: #f8f8f8\">                                                                  </span>\n",
       "<span style=\"color: #181818; text-decoration-color: #181818; background-color: #f8f8f8; font-weight: bold\">  </span><span style=\"color: #adadad; text-decoration-color: #adadad; background-color: #f8f8f8\"> 4 </span><span style=\"color: #000000; text-decoration-color: #000000; background-color: #f8f8f8\">    projection: OrthographicProjection </span><span style=\"color: #666666; text-decoration-color: #666666; background-color: #f8f8f8\">=</span><span style=\"color: #000000; text-decoration-color: #000000; background-color: #f8f8f8\"> OrthographicProjection(u,</span><span style=\"background-color: #f8f8f8\">                                            </span>\n",
       "<span style=\"color: #181818; text-decoration-color: #181818; background-color: #f8f8f8; font-weight: bold\">  </span><span style=\"color: #adadad; text-decoration-color: #adadad; background-color: #f8f8f8\"> 5 </span><span style=\"color: #000000; text-decoration-color: #000000; background-color: #f8f8f8\">                                                                scale</span><span style=\"color: #666666; text-decoration-color: #666666; background-color: #f8f8f8\">=</span><span style=\"color: #000000; text-decoration-color: #000000; background-color: #f8f8f8\">Rational(</span><span style=\"color: #666666; text-decoration-color: #666666; background-color: #f8f8f8\">1</span><span style=\"color: #000000; text-decoration-color: #000000; background-color: #f8f8f8\">, </span><span style=\"color: #666666; text-decoration-color: #666666; background-color: #f8f8f8\">2</span><span style=\"color: #000000; text-decoration-color: #000000; background-color: #f8f8f8\">),</span><span style=\"background-color: #f8f8f8\">                         </span>\n",
       "<span style=\"color: #181818; text-decoration-color: #181818; background-color: #f8f8f8; font-weight: bold\">  </span><span style=\"color: #adadad; text-decoration-color: #adadad; background-color: #f8f8f8\"> 6 </span><span style=\"color: #000000; text-decoration-color: #000000; background-color: #f8f8f8\">                                                                scene_x</span><span style=\"color: #666666; text-decoration-color: #666666; background-color: #f8f8f8\">=</span><span style=\"color: #000000; text-decoration-color: #000000; background-color: #f8f8f8\">Integer(</span><span style=\"color: #666666; text-decoration-color: #666666; background-color: #f8f8f8\">2</span><span style=\"color: #000000; text-decoration-color: #000000; background-color: #f8f8f8\">),</span><span style=\"background-color: #f8f8f8\">                           </span>\n",
       "<span style=\"color: #181818; text-decoration-color: #181818; background-color: #f8f8f8; font-weight: bold\">  </span><span style=\"color: #adadad; text-decoration-color: #adadad; background-color: #f8f8f8\"> 7 </span><span style=\"color: #000000; text-decoration-color: #000000; background-color: #f8f8f8\">                                                                scene_y</span><span style=\"color: #666666; text-decoration-color: #666666; background-color: #f8f8f8\">=</span><span style=\"color: #000000; text-decoration-color: #000000; background-color: #f8f8f8\">Integer(</span><span style=\"color: #666666; text-decoration-color: #666666; background-color: #f8f8f8\">-3</span><span style=\"color: #000000; text-decoration-color: #000000; background-color: #f8f8f8\">),</span><span style=\"background-color: #f8f8f8\">                          </span>\n",
       "<span style=\"color: #181818; text-decoration-color: #181818; background-color: #f8f8f8; font-weight: bold\">  </span><span style=\"color: #adadad; text-decoration-color: #adadad; background-color: #f8f8f8\"> 8 </span><span style=\"color: #000000; text-decoration-color: #000000; background-color: #f8f8f8\">                                                                camera_z</span><span style=\"color: #666666; text-decoration-color: #666666; background-color: #f8f8f8\">=</span><span style=\"color: #000000; text-decoration-color: #000000; background-color: #f8f8f8\">S</span><span style=\"color: #666666; text-decoration-color: #666666; background-color: #f8f8f8\">.</span><span style=\"color: #000000; text-decoration-color: #000000; background-color: #f8f8f8\">One)</span><span style=\"background-color: #f8f8f8\">                               </span>\n",
       "<span style=\"color: #181818; text-decoration-color: #181818; background-color: #f8f8f8; font-weight: bold\">  </span><span style=\"color: #adadad; text-decoration-color: #adadad; background-color: #f8f8f8\"> 9 </span><span style=\"color: #000000; text-decoration-color: #000000; background-color: #f8f8f8\">    </span><span style=\"color: #008000; text-decoration-color: #008000; background-color: #f8f8f8; font-weight: bold\">return</span><span style=\"color: #000000; text-decoration-color: #000000; background-color: #f8f8f8\"> projection</span><span style=\"background-color: #f8f8f8\">                                                                                         </span>\n",
       "<span style=\"color: #181818; text-decoration-color: #181818; background-color: #f8f8f8; font-weight: bold\">  </span><span style=\"color: #adadad; text-decoration-color: #adadad; background-color: #f8f8f8\">10 </span><span style=\"background-color: #f8f8f8\">                                                                                                              </span>\n",
       "</pre>\n"
      ],
      "text/plain": [
       "\u001b[1;38;2;24;24;24;48;2;248;248;248m  \u001b[0m\u001b[38;2;173;173;173;48;2;248;248;248m 1 \u001b[0m\u001b[1;38;2;0;128;0;48;2;248;248;248mdef\u001b[0m\u001b[38;2;187;187;187;48;2;248;248;248m \u001b[0m\u001b[38;2;0;0;255;48;2;248;248;248mmk_standard_orthographic_projection\u001b[0m\u001b[38;2;0;0;0;48;2;248;248;248m(\u001b[0m\u001b[38;2;0;0;0;48;2;248;248;248m)\u001b[0m\u001b[38;2;0;0;0;48;2;248;248;248m \u001b[0m\u001b[38;2;102;102;102;48;2;248;248;248m-\u001b[0m\u001b[38;2;102;102;102;48;2;248;248;248m>\u001b[0m\u001b[38;2;0;0;0;48;2;248;248;248m \u001b[0m\u001b[38;2;0;0;0;48;2;248;248;248mOrthographicProjection\u001b[0m\u001b[38;2;0;0;0;48;2;248;248;248m:\u001b[0m\u001b[48;2;248;248;248m                                          \u001b[0m\n",
       "\u001b[1;38;2;24;24;24;48;2;248;248;248m  \u001b[0m\u001b[38;2;173;173;173;48;2;248;248;248m 2 \u001b[0m\u001b[38;2;0;0;0;48;2;248;248;248m    \u001b[0m\u001b[38;2;0;0;0;48;2;248;248;248mdirection\u001b[0m\u001b[38;2;0;0;0;48;2;248;248;248m:\u001b[0m\u001b[38;2;0;0;0;48;2;248;248;248m \u001b[0m\u001b[38;2;0;0;0;48;2;248;248;248mVector\u001b[0m\u001b[38;2;0;0;0;48;2;248;248;248m \u001b[0m\u001b[38;2;102;102;102;48;2;248;248;248m=\u001b[0m\u001b[38;2;0;0;0;48;2;248;248;248m \u001b[0m\u001b[38;2;0;0;0;48;2;248;248;248mMatrix\u001b[0m\u001b[38;2;0;0;0;48;2;248;248;248m(\u001b[0m\u001b[38;2;0;0;0;48;2;248;248;248m[\u001b[0m\u001b[38;2;0;0;0;48;2;248;248;248mRational\u001b[0m\u001b[38;2;0;0;0;48;2;248;248;248m(\u001b[0m\u001b[38;2;102;102;102;48;2;248;248;248m3\u001b[0m\u001b[38;2;0;0;0;48;2;248;248;248m,\u001b[0m\u001b[38;2;0;0;0;48;2;248;248;248m \u001b[0m\u001b[38;2;102;102;102;48;2;248;248;248m2\u001b[0m\u001b[38;2;0;0;0;48;2;248;248;248m)\u001b[0m\u001b[38;2;0;0;0;48;2;248;248;248m,\u001b[0m\u001b[38;2;0;0;0;48;2;248;248;248m \u001b[0m\u001b[38;2;0;0;0;48;2;248;248;248mS\u001b[0m\u001b[38;2;102;102;102;48;2;248;248;248m.\u001b[0m\u001b[38;2;0;0;0;48;2;248;248;248mOne\u001b[0m\u001b[38;2;0;0;0;48;2;248;248;248m,\u001b[0m\u001b[38;2;0;0;0;48;2;248;248;248m \u001b[0m\u001b[38;2;0;0;0;48;2;248;248;248mInteger\u001b[0m\u001b[38;2;0;0;0;48;2;248;248;248m(\u001b[0m\u001b[38;2;102;102;102;48;2;248;248;248m5\u001b[0m\u001b[38;2;0;0;0;48;2;248;248;248m)\u001b[0m\u001b[38;2;0;0;0;48;2;248;248;248m]\u001b[0m\u001b[38;2;0;0;0;48;2;248;248;248m)\u001b[0m\u001b[48;2;248;248;248m                                           \u001b[0m\n",
       "\u001b[1;38;2;24;24;24;48;2;248;248;248m  \u001b[0m\u001b[38;2;173;173;173;48;2;248;248;248m 3 \u001b[0m\u001b[38;2;0;0;0;48;2;248;248;248m    \u001b[0m\u001b[38;2;0;0;0;48;2;248;248;248mu\u001b[0m\u001b[38;2;0;0;0;48;2;248;248;248m:\u001b[0m\u001b[38;2;0;0;0;48;2;248;248;248m \u001b[0m\u001b[38;2;0;0;0;48;2;248;248;248mVector\u001b[0m\u001b[38;2;0;0;0;48;2;248;248;248m \u001b[0m\u001b[38;2;102;102;102;48;2;248;248;248m=\u001b[0m\u001b[38;2;0;0;0;48;2;248;248;248m \u001b[0m\u001b[38;2;0;0;0;48;2;248;248;248mdirection\u001b[0m\u001b[38;2;0;0;0;48;2;248;248;248m \u001b[0m\u001b[38;2;102;102;102;48;2;248;248;248m/\u001b[0m\u001b[38;2;0;0;0;48;2;248;248;248m \u001b[0m\u001b[38;2;0;0;0;48;2;248;248;248mdirection\u001b[0m\u001b[38;2;102;102;102;48;2;248;248;248m.\u001b[0m\u001b[38;2;0;0;0;48;2;248;248;248mnorm\u001b[0m\u001b[38;2;0;0;0;48;2;248;248;248m(\u001b[0m\u001b[38;2;0;0;0;48;2;248;248;248m)\u001b[0m\u001b[48;2;248;248;248m                                                                  \u001b[0m\n",
       "\u001b[1;38;2;24;24;24;48;2;248;248;248m  \u001b[0m\u001b[38;2;173;173;173;48;2;248;248;248m 4 \u001b[0m\u001b[38;2;0;0;0;48;2;248;248;248m    \u001b[0m\u001b[38;2;0;0;0;48;2;248;248;248mprojection\u001b[0m\u001b[38;2;0;0;0;48;2;248;248;248m:\u001b[0m\u001b[38;2;0;0;0;48;2;248;248;248m \u001b[0m\u001b[38;2;0;0;0;48;2;248;248;248mOrthographicProjection\u001b[0m\u001b[38;2;0;0;0;48;2;248;248;248m \u001b[0m\u001b[38;2;102;102;102;48;2;248;248;248m=\u001b[0m\u001b[38;2;0;0;0;48;2;248;248;248m \u001b[0m\u001b[38;2;0;0;0;48;2;248;248;248mOrthographicProjection\u001b[0m\u001b[38;2;0;0;0;48;2;248;248;248m(\u001b[0m\u001b[38;2;0;0;0;48;2;248;248;248mu\u001b[0m\u001b[38;2;0;0;0;48;2;248;248;248m,\u001b[0m\u001b[48;2;248;248;248m                                            \u001b[0m\n",
       "\u001b[1;38;2;24;24;24;48;2;248;248;248m  \u001b[0m\u001b[38;2;173;173;173;48;2;248;248;248m 5 \u001b[0m\u001b[38;2;0;0;0;48;2;248;248;248m                                                                \u001b[0m\u001b[38;2;0;0;0;48;2;248;248;248mscale\u001b[0m\u001b[38;2;102;102;102;48;2;248;248;248m=\u001b[0m\u001b[38;2;0;0;0;48;2;248;248;248mRational\u001b[0m\u001b[38;2;0;0;0;48;2;248;248;248m(\u001b[0m\u001b[38;2;102;102;102;48;2;248;248;248m1\u001b[0m\u001b[38;2;0;0;0;48;2;248;248;248m,\u001b[0m\u001b[38;2;0;0;0;48;2;248;248;248m \u001b[0m\u001b[38;2;102;102;102;48;2;248;248;248m2\u001b[0m\u001b[38;2;0;0;0;48;2;248;248;248m)\u001b[0m\u001b[38;2;0;0;0;48;2;248;248;248m,\u001b[0m\u001b[48;2;248;248;248m                         \u001b[0m\n",
       "\u001b[1;38;2;24;24;24;48;2;248;248;248m  \u001b[0m\u001b[38;2;173;173;173;48;2;248;248;248m 6 \u001b[0m\u001b[38;2;0;0;0;48;2;248;248;248m                                                                \u001b[0m\u001b[38;2;0;0;0;48;2;248;248;248mscene_x\u001b[0m\u001b[38;2;102;102;102;48;2;248;248;248m=\u001b[0m\u001b[38;2;0;0;0;48;2;248;248;248mInteger\u001b[0m\u001b[38;2;0;0;0;48;2;248;248;248m(\u001b[0m\u001b[38;2;102;102;102;48;2;248;248;248m2\u001b[0m\u001b[38;2;0;0;0;48;2;248;248;248m)\u001b[0m\u001b[38;2;0;0;0;48;2;248;248;248m,\u001b[0m\u001b[48;2;248;248;248m                           \u001b[0m\n",
       "\u001b[1;38;2;24;24;24;48;2;248;248;248m  \u001b[0m\u001b[38;2;173;173;173;48;2;248;248;248m 7 \u001b[0m\u001b[38;2;0;0;0;48;2;248;248;248m                                                                \u001b[0m\u001b[38;2;0;0;0;48;2;248;248;248mscene_y\u001b[0m\u001b[38;2;102;102;102;48;2;248;248;248m=\u001b[0m\u001b[38;2;0;0;0;48;2;248;248;248mInteger\u001b[0m\u001b[38;2;0;0;0;48;2;248;248;248m(\u001b[0m\u001b[38;2;102;102;102;48;2;248;248;248m-\u001b[0m\u001b[38;2;102;102;102;48;2;248;248;248m3\u001b[0m\u001b[38;2;0;0;0;48;2;248;248;248m)\u001b[0m\u001b[38;2;0;0;0;48;2;248;248;248m,\u001b[0m\u001b[48;2;248;248;248m                          \u001b[0m\n",
       "\u001b[1;38;2;24;24;24;48;2;248;248;248m  \u001b[0m\u001b[38;2;173;173;173;48;2;248;248;248m 8 \u001b[0m\u001b[38;2;0;0;0;48;2;248;248;248m                                                                \u001b[0m\u001b[38;2;0;0;0;48;2;248;248;248mcamera_z\u001b[0m\u001b[38;2;102;102;102;48;2;248;248;248m=\u001b[0m\u001b[38;2;0;0;0;48;2;248;248;248mS\u001b[0m\u001b[38;2;102;102;102;48;2;248;248;248m.\u001b[0m\u001b[38;2;0;0;0;48;2;248;248;248mOne\u001b[0m\u001b[38;2;0;0;0;48;2;248;248;248m)\u001b[0m\u001b[48;2;248;248;248m                               \u001b[0m\n",
       "\u001b[1;38;2;24;24;24;48;2;248;248;248m  \u001b[0m\u001b[38;2;173;173;173;48;2;248;248;248m 9 \u001b[0m\u001b[38;2;0;0;0;48;2;248;248;248m    \u001b[0m\u001b[1;38;2;0;128;0;48;2;248;248;248mreturn\u001b[0m\u001b[38;2;0;0;0;48;2;248;248;248m \u001b[0m\u001b[38;2;0;0;0;48;2;248;248;248mprojection\u001b[0m\u001b[48;2;248;248;248m                                                                                         \u001b[0m\n",
       "\u001b[1;38;2;24;24;24;48;2;248;248;248m  \u001b[0m\u001b[38;2;173;173;173;48;2;248;248;248m10 \u001b[0m\u001b[48;2;248;248;248m                                                                                                              \u001b[0m\n"
      ]
     },
     "metadata": {},
     "output_type": "display_data"
    }
   ],
   "source": [
    "lst(sp.mk_standard_orthographic_projection)"
   ]
  },
  {
   "cell_type": "markdown",
   "id": "097ce1e5-feef-4aa2-8fe7-69f3ad6e5308",
   "metadata": {},
   "source": [
    "Create an instance of the standard orthographic projection."
   ]
  },
  {
   "cell_type": "code",
   "execution_count": 7,
   "id": "06f38fb5-9eea-41d5-a0c5-b036fd224fcd",
   "metadata": {},
   "outputs": [
    {
     "data": {
      "text/latex": [
       "$\\displaystyle \\left[\\begin{matrix}\\frac{3 \\sqrt{113}}{113} & \\frac{2 \\sqrt{113}}{113} & \\frac{10 \\sqrt{113}}{113}\\end{matrix}\\right]$"
      ],
      "text/plain": [
       "Matrix([[3*sqrt(113)/113, 2*sqrt(113)/113, 10*sqrt(113)/113]])"
      ]
     },
     "execution_count": 7,
     "metadata": {},
     "output_type": "execute_result"
    }
   ],
   "source": [
    "sop = sp.mk_standard_orthographic_projection()\n",
    "\n",
    "sop.u.T"
   ]
  },
  {
   "cell_type": "code",
   "execution_count": 8,
   "id": "9bd2bcfa-558c-4f03-847e-4dbfb10b22b5",
   "metadata": {},
   "outputs": [
    {
     "data": {
      "text/latex": [
       "$\\displaystyle \\left[\\begin{matrix}2 & -3 & 1\\end{matrix}\\right]$"
      ],
      "text/plain": [
       "Matrix([[2, -3, 1]])"
      ]
     },
     "execution_count": 8,
     "metadata": {},
     "output_type": "execute_result"
    }
   ],
   "source": [
    "sop.conversion.scene_origin.T"
   ]
  },
  {
   "cell_type": "markdown",
   "id": "d2a4040b-a16b-4690-bd7c-1139efef363a",
   "metadata": {},
   "source": [
    "Map the scene origin to scene space."
   ]
  },
  {
   "cell_type": "code",
   "execution_count": 9,
   "id": "2572aefd-9abe-4ae7-8777-31fdbacfa562",
   "metadata": {},
   "outputs": [
    {
     "data": {
      "text/latex": [
       "$\\displaystyle \\left[\\begin{matrix}0 & 0 & \\frac{1}{2}\\end{matrix}\\right]$"
      ],
      "text/plain": [
       "Matrix([[0, 0, 1/2]])"
      ]
     },
     "execution_count": 9,
     "metadata": {},
     "output_type": "execute_result"
    }
   ],
   "source": [
    "model_camera_origin = sop.project_point(sop.conversion.scene_origin)\n",
    "\n",
    "model_camera_origin.T"
   ]
  },
  {
   "cell_type": "markdown",
   "id": "a8b95ea2-e518-4802-815a-5ceac61a01c2",
   "metadata": {},
   "source": [
    "The putative camera origin in scene space does not get mapped to the origin of model space.\n",
    "I think this is confusing.\n",
    "\n",
    "Let's look at a totally generic OrthographicProjection and see where it maps the putative camera origin.\n",
    "\n",
    "An OrthographicProjection takes a unit vector as an init parameter. We need to create a generic unit vector.\n",
    "The best way to do that is to specify its spherical polar coordinates."
   ]
  },
  {
   "cell_type": "code",
   "execution_count": 10,
   "id": "decdf80f-1c89-4be6-b726-f6eda45dda6d",
   "metadata": {},
   "outputs": [
    {
     "data": {
      "text/latex": [
       "$\\displaystyle \\left[\\begin{matrix}\\theta & \\phi\\end{matrix}\\right]$"
      ],
      "text/plain": [
       "Matrix([[theta, phi]])"
      ]
     },
     "execution_count": 10,
     "metadata": {},
     "output_type": "execute_result"
    }
   ],
   "source": [
    "theta = scalar('theta')\n",
    "phi = scalar('phi')\n",
    "\n",
    "Matrix([theta, phi]).T"
   ]
  },
  {
   "cell_type": "code",
   "execution_count": 11,
   "id": "2583999a-0734-41ab-be2d-d08bbfc6c7da",
   "metadata": {},
   "outputs": [
    {
     "data": {
      "text/latex": [
       "$\\displaystyle \\left[\\begin{matrix}\\sin{\\left(\\theta \\right)} \\cos{\\left(\\phi \\right)} & \\sin{\\left(\\phi \\right)} \\sin{\\left(\\theta \\right)} & \\cos{\\left(\\theta \\right)}\\end{matrix}\\right]$"
      ],
      "text/plain": [
       "Matrix([[sin(theta)*cos(phi), sin(phi)*sin(theta), cos(theta)]])"
      ]
     },
     "execution_count": 11,
     "metadata": {},
     "output_type": "execute_result"
    }
   ],
   "source": [
    "u_x = sin(theta) * cos(phi)\n",
    "u_y = sin(theta) * sin(phi)\n",
    "u_z = cos(theta)\n",
    "u = Matrix([u_x, u_y, u_z])\n",
    "\n",
    "u.T"
   ]
  },
  {
   "cell_type": "code",
   "execution_count": 12,
   "id": "246344dd-cf79-4a32-9c8c-e661154035de",
   "metadata": {},
   "outputs": [
    {
     "data": {
      "text/latex": [
       "$\\displaystyle \\sqrt{\\sin^{2}{\\left(\\phi \\right)} \\sin^{2}{\\left(\\theta \\right)} + \\sin^{2}{\\left(\\theta \\right)} \\cos^{2}{\\left(\\phi \\right)} + \\cos^{2}{\\left(\\theta \\right)}}$"
      ],
      "text/plain": [
       "sqrt(sin(phi)**2*sin(theta)**2 + sin(theta)**2*cos(phi)**2 + cos(theta)**2)"
      ]
     },
     "execution_count": 12,
     "metadata": {},
     "output_type": "execute_result"
    }
   ],
   "source": [
    "u.norm()"
   ]
  },
  {
   "cell_type": "code",
   "execution_count": 13,
   "id": "7143a9ce-0ad7-4736-854f-184258c6e7ed",
   "metadata": {},
   "outputs": [
    {
     "data": {
      "text/latex": [
       "$\\displaystyle 1$"
      ],
      "text/plain": [
       "1"
      ]
     },
     "execution_count": 13,
     "metadata": {},
     "output_type": "execute_result"
    }
   ],
   "source": [
    "simplify(u.norm())"
   ]
  },
  {
   "cell_type": "code",
   "execution_count": 14,
   "id": "f92473d2-83d1-40ed-a120-c2fa54c1d365",
   "metadata": {},
   "outputs": [
    {
     "data": {
      "text/latex": [
       "$\\displaystyle 1$"
      ],
      "text/plain": [
       "1"
      ]
     },
     "execution_count": 14,
     "metadata": {},
     "output_type": "execute_result"
    }
   ],
   "source": [
    "trigsimp(u.norm())"
   ]
  },
  {
   "cell_type": "code",
   "execution_count": 15,
   "id": "39187b80-8106-4025-828b-932f1e61dba0",
   "metadata": {},
   "outputs": [
    {
     "data": {
      "text/latex": [
       "$\\displaystyle \\left[\\begin{matrix}\\sin{\\left(\\theta \\right)} \\cos{\\left(\\phi \\right)} & \\sin{\\left(\\phi \\right)} \\sin{\\left(\\theta \\right)} & \\cos{\\left(\\theta \\right)}\\end{matrix}\\right]$"
      ],
      "text/plain": [
       "Matrix([[sin(theta)*cos(phi), sin(phi)*sin(theta), cos(theta)]])"
      ]
     },
     "execution_count": 15,
     "metadata": {},
     "output_type": "execute_result"
    }
   ],
   "source": [
    "op = sp.OrthographicProjection(u, scene_x=scene_x, scene_y=scene_y, camera_z=camera_z, scale=scale)\n",
    "\n",
    "op.u.T"
   ]
  },
  {
   "cell_type": "code",
   "execution_count": 16,
   "id": "9b211b1d-1dbc-4109-becc-0bc17b8dc6fe",
   "metadata": {},
   "outputs": [
    {
     "data": {
      "text/latex": [
       "$\\displaystyle \\left[\\begin{matrix}scene_{x} & scene_{y} & camera_{z}\\end{matrix}\\right]$"
      ],
      "text/plain": [
       "Matrix([[scene_x, scene_y, camera_z]])"
      ]
     },
     "execution_count": 16,
     "metadata": {},
     "output_type": "execute_result"
    }
   ],
   "source": [
    "op.conversion.scene_origin.T"
   ]
  },
  {
   "cell_type": "code",
   "execution_count": 17,
   "id": "f46e3328-e99c-4871-816b-ffbec3755e24",
   "metadata": {},
   "outputs": [
    {
     "data": {
      "text/latex": [
       "$\\displaystyle \\left[\\begin{matrix}0 & 0 & camera_{z} scale\\end{matrix}\\right]$"
      ],
      "text/plain": [
       "Matrix([[0, 0, camera_z*scale]])"
      ]
     },
     "execution_count": 17,
     "metadata": {},
     "output_type": "execute_result"
    }
   ],
   "source": [
    "scene_origin = op.conversion.scene_origin\n",
    "\n",
    "projected_scene_origin = op.project_point(scene_origin)\n",
    "\n",
    "projected_scene_origin.T"
   ]
  },
  {
   "cell_type": "markdown",
   "id": "caf52310-9745-4643-8140-2b886f721120",
   "metadata": {},
   "source": [
    "In general, the projection of the scene origin has a nonzero z-component. This seems wrong.\n",
    "I think it would be more intuitive if the model space scene origin mapped to the origin of scene space.\n",
    "Furthermore, what we call the scene origing in model space should be called the camera origin as an extension of using camera_z.\n",
    "\n",
    "I also think that when we create 3D objects, their natural centres should be located at the origin of model space, \n",
    "and that further positioning and scaling should be done by the projection by setting the camera origin."
   ]
  },
  {
   "cell_type": "markdown",
   "id": "2f298797-cab2-44bd-b075-ca748c832e0d",
   "metadata": {},
   "source": [
    "## PerspectiveProjection\n",
    "\n",
    "Create a generic perspective projection and see where the scene origin gets mapped to.\n",
    "\n",
    "Here's the initializer:"
   ]
  },
  {
   "cell_type": "code",
   "execution_count": 18,
   "id": "5c2da559-0951-4f3e-b6e7-868438db9803",
   "metadata": {},
   "outputs": [
    {
     "data": {
      "text/html": [
       "<pre style=\"white-space:pre;overflow-x:auto;line-height:normal;font-family:Menlo,'DejaVu Sans Mono',consolas,'Courier New',monospace\"><span style=\"color: #181818; text-decoration-color: #181818; background-color: #f8f8f8; font-weight: bold\">  </span><span style=\"color: #adadad; text-decoration-color: #adadad; background-color: #f8f8f8\"> 1 </span><span style=\"color: #000000; text-decoration-color: #000000; background-color: #f8f8f8\">    </span><span style=\"color: #008000; text-decoration-color: #008000; background-color: #f8f8f8; font-weight: bold\">def</span><span style=\"color: #bbbbbb; text-decoration-color: #bbbbbb; background-color: #f8f8f8\"> </span><span style=\"color: #0000ff; text-decoration-color: #0000ff; background-color: #f8f8f8\">__init__</span><span style=\"color: #000000; text-decoration-color: #000000; background-color: #f8f8f8\">(</span><span style=\"color: #008000; text-decoration-color: #008000; background-color: #f8f8f8\">self</span><span style=\"color: #000000; text-decoration-color: #000000; background-color: #f8f8f8\">, viewpoint: Vector, </span><span style=\"color: #666666; text-decoration-color: #666666; background-color: #f8f8f8\">**</span><span style=\"color: #000000; text-decoration-color: #000000; background-color: #f8f8f8\">kwargs) </span><span style=\"color: #666666; text-decoration-color: #666666; background-color: #f8f8f8\">-&gt;</span><span style=\"color: #000000; text-decoration-color: #000000; background-color: #f8f8f8\"> </span><span style=\"color: #008000; text-decoration-color: #008000; background-color: #f8f8f8; font-weight: bold\">None</span><span style=\"color: #000000; text-decoration-color: #000000; background-color: #f8f8f8\">:</span><span style=\"background-color: #f8f8f8\">                                                  </span>\n",
       "<span style=\"color: #181818; text-decoration-color: #181818; background-color: #f8f8f8; font-weight: bold\">  </span><span style=\"color: #adadad; text-decoration-color: #adadad; background-color: #f8f8f8\"> 2 </span><span style=\"color: #bbbbbb; text-decoration-color: #bbbbbb; background-color: #f8f8f8\">        </span><span style=\"color: #ba2121; text-decoration-color: #ba2121; background-color: #f8f8f8; font-style: italic\">\"\"\"Initialize the projection.</span><span style=\"background-color: #f8f8f8\">                                                                         </span>\n",
       "<span style=\"color: #181818; text-decoration-color: #181818; background-color: #f8f8f8; font-weight: bold\">  </span><span style=\"color: #adadad; text-decoration-color: #adadad; background-color: #f8f8f8\"> 3 </span><span style=\"background-color: #f8f8f8\">                                                                                                              </span>\n",
       "<span style=\"color: #181818; text-decoration-color: #181818; background-color: #f8f8f8; font-weight: bold\">  </span><span style=\"color: #adadad; text-decoration-color: #adadad; background-color: #f8f8f8\"> 4 </span><span style=\"color: #ba2121; text-decoration-color: #ba2121; background-color: #f8f8f8; font-style: italic\">        Args:</span><span style=\"background-color: #f8f8f8\">                                                                                                 </span>\n",
       "<span style=\"color: #181818; text-decoration-color: #181818; background-color: #f8f8f8; font-weight: bold\">  </span><span style=\"color: #adadad; text-decoration-color: #adadad; background-color: #f8f8f8\"> 5 </span><span style=\"color: #ba2121; text-decoration-color: #ba2121; background-color: #f8f8f8; font-style: italic\">            viewpoint: The position of the viewpoint.</span><span style=\"background-color: #f8f8f8\">                                                         </span>\n",
       "<span style=\"color: #181818; text-decoration-color: #181818; background-color: #f8f8f8; font-weight: bold\">  </span><span style=\"color: #adadad; text-decoration-color: #adadad; background-color: #f8f8f8\"> 6 </span><span style=\"background-color: #f8f8f8\">                                                                                                              </span>\n",
       "<span style=\"color: #181818; text-decoration-color: #181818; background-color: #f8f8f8; font-weight: bold\">  </span><span style=\"color: #adadad; text-decoration-color: #adadad; background-color: #f8f8f8\"> 7 </span><span style=\"color: #ba2121; text-decoration-color: #ba2121; background-color: #f8f8f8; font-style: italic\">        Raises:</span><span style=\"background-color: #f8f8f8\">                                                                                               </span>\n",
       "<span style=\"color: #181818; text-decoration-color: #181818; background-color: #f8f8f8; font-weight: bold\">  </span><span style=\"color: #adadad; text-decoration-color: #adadad; background-color: #f8f8f8\"> 8 </span><span style=\"color: #ba2121; text-decoration-color: #ba2121; background-color: #f8f8f8; font-style: italic\">            TypeError: if viewpoint is not a Vector.</span><span style=\"background-color: #f8f8f8\">                                                          </span>\n",
       "<span style=\"color: #181818; text-decoration-color: #181818; background-color: #f8f8f8; font-weight: bold\">  </span><span style=\"color: #adadad; text-decoration-color: #adadad; background-color: #f8f8f8\"> 9 </span><span style=\"background-color: #f8f8f8\">                                                                                                              </span>\n",
       "<span style=\"color: #181818; text-decoration-color: #181818; background-color: #f8f8f8; font-weight: bold\">  </span><span style=\"color: #adadad; text-decoration-color: #adadad; background-color: #f8f8f8\">10 </span><span style=\"color: #ba2121; text-decoration-color: #ba2121; background-color: #f8f8f8; font-style: italic\">        \"\"\"</span><span style=\"background-color: #f8f8f8\">                                                                                                   </span>\n",
       "<span style=\"color: #181818; text-decoration-color: #181818; background-color: #f8f8f8; font-weight: bold\">  </span><span style=\"color: #adadad; text-decoration-color: #adadad; background-color: #f8f8f8\">11 </span><span style=\"color: #000000; text-decoration-color: #000000; background-color: #f8f8f8\">        </span><span style=\"color: #008000; text-decoration-color: #008000; background-color: #f8f8f8; font-weight: bold\">assert</span><span style=\"color: #000000; text-decoration-color: #000000; background-color: #f8f8f8\"> </span><span style=\"color: #008000; text-decoration-color: #008000; background-color: #f8f8f8\">isinstance</span><span style=\"color: #000000; text-decoration-color: #000000; background-color: #f8f8f8\">(viewpoint, Matrix)</span><span style=\"background-color: #f8f8f8\">                                                                  </span>\n",
       "<span style=\"color: #181818; text-decoration-color: #181818; background-color: #f8f8f8; font-weight: bold\">  </span><span style=\"color: #adadad; text-decoration-color: #adadad; background-color: #f8f8f8\">12 </span><span style=\"color: #000000; text-decoration-color: #000000; background-color: #f8f8f8\">        </span><span style=\"color: #008000; text-decoration-color: #008000; background-color: #f8f8f8; font-weight: bold\">assert</span><span style=\"color: #000000; text-decoration-color: #000000; background-color: #f8f8f8\"> viewpoint</span><span style=\"color: #666666; text-decoration-color: #666666; background-color: #f8f8f8\">.</span><span style=\"color: #000000; text-decoration-color: #000000; background-color: #f8f8f8\">shape </span><span style=\"color: #666666; text-decoration-color: #666666; background-color: #f8f8f8\">==</span><span style=\"color: #000000; text-decoration-color: #000000; background-color: #f8f8f8\"> (</span><span style=\"color: #666666; text-decoration-color: #666666; background-color: #f8f8f8\">3</span><span style=\"color: #000000; text-decoration-color: #000000; background-color: #f8f8f8\">, </span><span style=\"color: #666666; text-decoration-color: #666666; background-color: #f8f8f8\">1</span><span style=\"color: #000000; text-decoration-color: #000000; background-color: #f8f8f8\">)</span><span style=\"background-color: #f8f8f8\">                                                                      </span>\n",
       "<span style=\"color: #181818; text-decoration-color: #181818; background-color: #f8f8f8; font-weight: bold\">  </span><span style=\"color: #adadad; text-decoration-color: #adadad; background-color: #f8f8f8\">13 </span><span style=\"background-color: #f8f8f8\">                                                                                                              </span>\n",
       "<span style=\"color: #181818; text-decoration-color: #181818; background-color: #f8f8f8; font-weight: bold\">  </span><span style=\"color: #adadad; text-decoration-color: #adadad; background-color: #f8f8f8\">14 </span><span style=\"color: #000000; text-decoration-color: #000000; background-color: #f8f8f8\">        </span><span style=\"color: #008000; text-decoration-color: #008000; background-color: #f8f8f8\">super</span><span style=\"color: #000000; text-decoration-color: #000000; background-color: #f8f8f8\">()</span><span style=\"color: #666666; text-decoration-color: #666666; background-color: #f8f8f8\">.</span><span style=\"color: #0000ff; text-decoration-color: #0000ff; background-color: #f8f8f8\">__init__</span><span style=\"color: #000000; text-decoration-color: #000000; background-color: #f8f8f8\">(</span><span style=\"color: #666666; text-decoration-color: #666666; background-color: #f8f8f8\">**</span><span style=\"color: #000000; text-decoration-color: #000000; background-color: #f8f8f8\">kwargs)</span><span style=\"background-color: #f8f8f8\">                                                                            </span>\n",
       "<span style=\"color: #181818; text-decoration-color: #181818; background-color: #f8f8f8; font-weight: bold\">  </span><span style=\"color: #adadad; text-decoration-color: #adadad; background-color: #f8f8f8\">15 </span><span style=\"color: #000000; text-decoration-color: #000000; background-color: #f8f8f8\">        </span><span style=\"color: #008000; text-decoration-color: #008000; background-color: #f8f8f8\">self</span><span style=\"color: #666666; text-decoration-color: #666666; background-color: #f8f8f8\">.</span><span style=\"color: #000000; text-decoration-color: #000000; background-color: #f8f8f8\">viewpoint </span><span style=\"color: #666666; text-decoration-color: #666666; background-color: #f8f8f8\">=</span><span style=\"color: #000000; text-decoration-color: #000000; background-color: #f8f8f8\"> viewpoint</span><span style=\"background-color: #f8f8f8\">                                                                            </span>\n",
       "<span style=\"color: #181818; text-decoration-color: #181818; background-color: #f8f8f8; font-weight: bold\">  </span><span style=\"color: #adadad; text-decoration-color: #adadad; background-color: #f8f8f8\">16 </span><span style=\"background-color: #f8f8f8\">                                                                                                              </span>\n",
       "</pre>\n"
      ],
      "text/plain": [
       "\u001b[1;38;2;24;24;24;48;2;248;248;248m  \u001b[0m\u001b[38;2;173;173;173;48;2;248;248;248m 1 \u001b[0m\u001b[38;2;0;0;0;48;2;248;248;248m    \u001b[0m\u001b[1;38;2;0;128;0;48;2;248;248;248mdef\u001b[0m\u001b[38;2;187;187;187;48;2;248;248;248m \u001b[0m\u001b[38;2;0;0;255;48;2;248;248;248m__init__\u001b[0m\u001b[38;2;0;0;0;48;2;248;248;248m(\u001b[0m\u001b[38;2;0;128;0;48;2;248;248;248mself\u001b[0m\u001b[38;2;0;0;0;48;2;248;248;248m,\u001b[0m\u001b[38;2;0;0;0;48;2;248;248;248m \u001b[0m\u001b[38;2;0;0;0;48;2;248;248;248mviewpoint\u001b[0m\u001b[38;2;0;0;0;48;2;248;248;248m:\u001b[0m\u001b[38;2;0;0;0;48;2;248;248;248m \u001b[0m\u001b[38;2;0;0;0;48;2;248;248;248mVector\u001b[0m\u001b[38;2;0;0;0;48;2;248;248;248m,\u001b[0m\u001b[38;2;0;0;0;48;2;248;248;248m \u001b[0m\u001b[38;2;102;102;102;48;2;248;248;248m*\u001b[0m\u001b[38;2;102;102;102;48;2;248;248;248m*\u001b[0m\u001b[38;2;0;0;0;48;2;248;248;248mkwargs\u001b[0m\u001b[38;2;0;0;0;48;2;248;248;248m)\u001b[0m\u001b[38;2;0;0;0;48;2;248;248;248m \u001b[0m\u001b[38;2;102;102;102;48;2;248;248;248m-\u001b[0m\u001b[38;2;102;102;102;48;2;248;248;248m>\u001b[0m\u001b[38;2;0;0;0;48;2;248;248;248m \u001b[0m\u001b[1;38;2;0;128;0;48;2;248;248;248mNone\u001b[0m\u001b[38;2;0;0;0;48;2;248;248;248m:\u001b[0m\u001b[48;2;248;248;248m                                                  \u001b[0m\n",
       "\u001b[1;38;2;24;24;24;48;2;248;248;248m  \u001b[0m\u001b[38;2;173;173;173;48;2;248;248;248m 2 \u001b[0m\u001b[38;2;187;187;187;48;2;248;248;248m        \u001b[0m\u001b[3;38;2;186;33;33;48;2;248;248;248m\"\"\"Initialize the projection.\u001b[0m\u001b[48;2;248;248;248m                                                                         \u001b[0m\n",
       "\u001b[1;38;2;24;24;24;48;2;248;248;248m  \u001b[0m\u001b[38;2;173;173;173;48;2;248;248;248m 3 \u001b[0m\u001b[48;2;248;248;248m                                                                                                              \u001b[0m\n",
       "\u001b[1;38;2;24;24;24;48;2;248;248;248m  \u001b[0m\u001b[38;2;173;173;173;48;2;248;248;248m 4 \u001b[0m\u001b[3;38;2;186;33;33;48;2;248;248;248m        Args:\u001b[0m\u001b[48;2;248;248;248m                                                                                                 \u001b[0m\n",
       "\u001b[1;38;2;24;24;24;48;2;248;248;248m  \u001b[0m\u001b[38;2;173;173;173;48;2;248;248;248m 5 \u001b[0m\u001b[3;38;2;186;33;33;48;2;248;248;248m            viewpoint: The position of the viewpoint.\u001b[0m\u001b[48;2;248;248;248m                                                         \u001b[0m\n",
       "\u001b[1;38;2;24;24;24;48;2;248;248;248m  \u001b[0m\u001b[38;2;173;173;173;48;2;248;248;248m 6 \u001b[0m\u001b[48;2;248;248;248m                                                                                                              \u001b[0m\n",
       "\u001b[1;38;2;24;24;24;48;2;248;248;248m  \u001b[0m\u001b[38;2;173;173;173;48;2;248;248;248m 7 \u001b[0m\u001b[3;38;2;186;33;33;48;2;248;248;248m        Raises:\u001b[0m\u001b[48;2;248;248;248m                                                                                               \u001b[0m\n",
       "\u001b[1;38;2;24;24;24;48;2;248;248;248m  \u001b[0m\u001b[38;2;173;173;173;48;2;248;248;248m 8 \u001b[0m\u001b[3;38;2;186;33;33;48;2;248;248;248m            TypeError: if viewpoint is not a Vector.\u001b[0m\u001b[48;2;248;248;248m                                                          \u001b[0m\n",
       "\u001b[1;38;2;24;24;24;48;2;248;248;248m  \u001b[0m\u001b[38;2;173;173;173;48;2;248;248;248m 9 \u001b[0m\u001b[48;2;248;248;248m                                                                                                              \u001b[0m\n",
       "\u001b[1;38;2;24;24;24;48;2;248;248;248m  \u001b[0m\u001b[38;2;173;173;173;48;2;248;248;248m10 \u001b[0m\u001b[3;38;2;186;33;33;48;2;248;248;248m        \"\"\"\u001b[0m\u001b[48;2;248;248;248m                                                                                                   \u001b[0m\n",
       "\u001b[1;38;2;24;24;24;48;2;248;248;248m  \u001b[0m\u001b[38;2;173;173;173;48;2;248;248;248m11 \u001b[0m\u001b[38;2;0;0;0;48;2;248;248;248m        \u001b[0m\u001b[1;38;2;0;128;0;48;2;248;248;248massert\u001b[0m\u001b[38;2;0;0;0;48;2;248;248;248m \u001b[0m\u001b[38;2;0;128;0;48;2;248;248;248misinstance\u001b[0m\u001b[38;2;0;0;0;48;2;248;248;248m(\u001b[0m\u001b[38;2;0;0;0;48;2;248;248;248mviewpoint\u001b[0m\u001b[38;2;0;0;0;48;2;248;248;248m,\u001b[0m\u001b[38;2;0;0;0;48;2;248;248;248m \u001b[0m\u001b[38;2;0;0;0;48;2;248;248;248mMatrix\u001b[0m\u001b[38;2;0;0;0;48;2;248;248;248m)\u001b[0m\u001b[48;2;248;248;248m                                                                  \u001b[0m\n",
       "\u001b[1;38;2;24;24;24;48;2;248;248;248m  \u001b[0m\u001b[38;2;173;173;173;48;2;248;248;248m12 \u001b[0m\u001b[38;2;0;0;0;48;2;248;248;248m        \u001b[0m\u001b[1;38;2;0;128;0;48;2;248;248;248massert\u001b[0m\u001b[38;2;0;0;0;48;2;248;248;248m \u001b[0m\u001b[38;2;0;0;0;48;2;248;248;248mviewpoint\u001b[0m\u001b[38;2;102;102;102;48;2;248;248;248m.\u001b[0m\u001b[38;2;0;0;0;48;2;248;248;248mshape\u001b[0m\u001b[38;2;0;0;0;48;2;248;248;248m \u001b[0m\u001b[38;2;102;102;102;48;2;248;248;248m==\u001b[0m\u001b[38;2;0;0;0;48;2;248;248;248m \u001b[0m\u001b[38;2;0;0;0;48;2;248;248;248m(\u001b[0m\u001b[38;2;102;102;102;48;2;248;248;248m3\u001b[0m\u001b[38;2;0;0;0;48;2;248;248;248m,\u001b[0m\u001b[38;2;0;0;0;48;2;248;248;248m \u001b[0m\u001b[38;2;102;102;102;48;2;248;248;248m1\u001b[0m\u001b[38;2;0;0;0;48;2;248;248;248m)\u001b[0m\u001b[48;2;248;248;248m                                                                      \u001b[0m\n",
       "\u001b[1;38;2;24;24;24;48;2;248;248;248m  \u001b[0m\u001b[38;2;173;173;173;48;2;248;248;248m13 \u001b[0m\u001b[48;2;248;248;248m                                                                                                              \u001b[0m\n",
       "\u001b[1;38;2;24;24;24;48;2;248;248;248m  \u001b[0m\u001b[38;2;173;173;173;48;2;248;248;248m14 \u001b[0m\u001b[38;2;0;0;0;48;2;248;248;248m        \u001b[0m\u001b[38;2;0;128;0;48;2;248;248;248msuper\u001b[0m\u001b[38;2;0;0;0;48;2;248;248;248m(\u001b[0m\u001b[38;2;0;0;0;48;2;248;248;248m)\u001b[0m\u001b[38;2;102;102;102;48;2;248;248;248m.\u001b[0m\u001b[38;2;0;0;255;48;2;248;248;248m__init__\u001b[0m\u001b[38;2;0;0;0;48;2;248;248;248m(\u001b[0m\u001b[38;2;102;102;102;48;2;248;248;248m*\u001b[0m\u001b[38;2;102;102;102;48;2;248;248;248m*\u001b[0m\u001b[38;2;0;0;0;48;2;248;248;248mkwargs\u001b[0m\u001b[38;2;0;0;0;48;2;248;248;248m)\u001b[0m\u001b[48;2;248;248;248m                                                                            \u001b[0m\n",
       "\u001b[1;38;2;24;24;24;48;2;248;248;248m  \u001b[0m\u001b[38;2;173;173;173;48;2;248;248;248m15 \u001b[0m\u001b[38;2;0;0;0;48;2;248;248;248m        \u001b[0m\u001b[38;2;0;128;0;48;2;248;248;248mself\u001b[0m\u001b[38;2;102;102;102;48;2;248;248;248m.\u001b[0m\u001b[38;2;0;0;0;48;2;248;248;248mviewpoint\u001b[0m\u001b[38;2;0;0;0;48;2;248;248;248m \u001b[0m\u001b[38;2;102;102;102;48;2;248;248;248m=\u001b[0m\u001b[38;2;0;0;0;48;2;248;248;248m \u001b[0m\u001b[38;2;0;0;0;48;2;248;248;248mviewpoint\u001b[0m\u001b[48;2;248;248;248m                                                                            \u001b[0m\n",
       "\u001b[1;38;2;24;24;24;48;2;248;248;248m  \u001b[0m\u001b[38;2;173;173;173;48;2;248;248;248m16 \u001b[0m\u001b[48;2;248;248;248m                                                                                                              \u001b[0m\n"
      ]
     },
     "metadata": {},
     "output_type": "display_data"
    }
   ],
   "source": [
    "lst(sp.PerspectiveProjection.__init__)"
   ]
  },
  {
   "cell_type": "code",
   "execution_count": 19,
   "id": "fa82cc4b-9584-496e-bfce-987fb89812bc",
   "metadata": {},
   "outputs": [
    {
     "data": {
      "text/latex": [
       "$\\displaystyle \\left[\\begin{matrix}v_{1} & v_{2} & v_{3}\\end{matrix}\\right]$"
      ],
      "text/plain": [
       "Matrix([[v1, v2, v3]])"
      ]
     },
     "execution_count": 19,
     "metadata": {},
     "output_type": "execute_result"
    }
   ],
   "source": [
    "viewpoint = vector('v')\n",
    "\n",
    "viewpoint.T"
   ]
  },
  {
   "cell_type": "code",
   "execution_count": 20,
   "id": "610bc0dd-f449-414e-94fa-8b5a37f72cfd",
   "metadata": {},
   "outputs": [
    {
     "data": {
      "text/latex": [
       "$\\displaystyle \\left[\\begin{matrix}v_{1} & v_{2} & v_{3}\\end{matrix}\\right]$"
      ],
      "text/plain": [
       "Matrix([[v1, v2, v3]])"
      ]
     },
     "execution_count": 20,
     "metadata": {},
     "output_type": "execute_result"
    }
   ],
   "source": [
    "pp = sp.PerspectiveProjection(viewpoint, scene_x=scene_x, scene_y=scene_y, camera_z=camera_z, scale=scale)\n",
    "\n",
    "pp.viewpoint.T"
   ]
  },
  {
   "cell_type": "code",
   "execution_count": 21,
   "id": "a5a98804-d035-4658-a26b-48e9e5e60894",
   "metadata": {},
   "outputs": [
    {
     "data": {
      "text/latex": [
       "$\\displaystyle \\left[\\begin{matrix}0 & 0 & camera_{z} scale\\end{matrix}\\right]$"
      ],
      "text/plain": [
       "Matrix([[0, 0, camera_z*scale]])"
      ]
     },
     "execution_count": 21,
     "metadata": {},
     "output_type": "execute_result"
    }
   ],
   "source": [
    "model_scene_origin_pp = pp.project_point(scene_origin)\n",
    "\n",
    "model_scene_origin_pp.T"
   ]
  },
  {
   "cell_type": "code",
   "execution_count": 22,
   "id": "f0c54a0c-6902-4b80-8023-915b7b27ad1a",
   "metadata": {},
   "outputs": [
    {
     "data": {
      "text/latex": [
       "$\\displaystyle \\left[\\begin{matrix}scene_{x} & scene_{y} & camera_{z}\\end{matrix}\\right]$"
      ],
      "text/plain": [
       "Matrix([[scene_x, scene_y, camera_z]])"
      ]
     },
     "execution_count": 22,
     "metadata": {},
     "output_type": "execute_result"
    }
   ],
   "source": [
    "pp.conversion.scene_origin.T"
   ]
  },
  {
   "cell_type": "markdown",
   "id": "3c428051-093d-4047-9925-9a8a8eaabe59",
   "metadata": {},
   "source": [
    "At least the projections are consistent."
   ]
  },
  {
   "cell_type": "markdown",
   "id": "46ef0c3f-18fb-4425-a559-c9abe1d139e9",
   "metadata": {},
   "source": [
    "## Action\n",
    "\n",
    "Look at the code and decide if it make sense to interpret the so-called scene origin as the point in model space that maps to the\n",
    "origin of scene space. Should this point be called the camera origin?"
   ]
  }
 ],
 "metadata": {
  "kernelspec": {
   "display_name": "Python 3 (ipykernel)",
   "language": "python",
   "name": "python3"
  },
  "language_info": {
   "codemirror_mode": {
    "name": "ipython",
    "version": 3
   },
   "file_extension": ".py",
   "mimetype": "text/x-python",
   "name": "python",
   "nbconvert_exporter": "python",
   "pygments_lexer": "ipython3",
   "version": "3.13.5"
  }
 },
 "nbformat": 4,
 "nbformat_minor": 5
}
