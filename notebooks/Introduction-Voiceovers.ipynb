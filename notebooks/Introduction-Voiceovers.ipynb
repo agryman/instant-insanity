{
 "cells": [
  {
   "cell_type": "markdown",
   "id": "4f289f42-c65e-48ec-a7ea-54414b997e7f",
   "metadata": {},
   "source": [
    "# Introduction with Voiceovers\n",
    "*Arthur Ryman, last updated 2025-07-02*\n",
    "\n",
    "[<img src=\"images/colab-badge.png\" alt=\"Open in Colab\" style=\"width: 15%;\">\n",
    "](https://colab.research.google.com/github/agryman/instant-insanity/blob/main/notebooks/Introduction-Voiceovers.ipynb)"
   ]
  },
  {
   "cell_type": "markdown",
   "id": "800b6be1-8bdc-4945-ac6f-ceeabee4ba1c",
   "metadata": {},
   "source": [
    "## Introduction\n",
    "\n",
    "Source: [Wikipedia - Instant Insanity](https://en.wikipedia.org/wiki/Instant_Insanity)\n",
    "\n",
    "This notebook describes the introduction for a short video that explains the graph theory solution to the \n",
    "Instant Insanity puzzle."
   ]
  },
  {
   "cell_type": "markdown",
   "id": "4ffe8f2a-24a7-415b-878b-1e57056cabf9",
   "metadata": {},
   "source": [
    "## Change History\n",
    "\n",
    "This is a working document and will be edited frequency.\n",
    "All voiceovers are saved as plain text files to make it easy to automate text-to-speech conversion.\n",
    "Each voiceover follows the figure or animation it describes.\n",
    "\n",
    "### 2025-07-02\n",
    "\n",
    "First draft of voiceovers is complete."
   ]
  },
  {
   "cell_type": "markdown",
   "id": "1a832ac5-c8fc-46ee-9db4-8732c680cd45",
   "metadata": {},
   "source": [
    "## Scene: Introduction\n",
    "\n",
    "The purpose of this scene is to describe the subject matter and target audience of the video.\n",
    "\n",
    "Show a sequences of four images, one for each of the four puzzles mentioned, and include their year of publication.\n",
    "Try to convey the impression that we are going back in time.\n",
    "Maybe use a page flip animation with the pages going back in time like on a desk calendar.\n",
    "\n",
    "1. Wordle, 2021\n",
    "2. Sudoku, 1986\n",
    "3. Rubik's Cube, 1974\n",
    "4. Instant Insanity, 1967\n",
    "\n",
    "<div style=\"text-align: center;\">\n",
    "    <img src=\"images/package-front.jpeg\" alt=\"Instant Insanity package\" style=\"width: 25%;\">\n",
    "</div>"
   ]
  },
  {
   "cell_type": "code",
   "execution_count": 1,
   "id": "abe4beaa-45a7-4c2c-95b0-3bbdba0beb2a",
   "metadata": {},
   "outputs": [
    {
     "name": "stdout",
     "output_type": "stream",
     "text": [
      "Before Wordle, before Sudoku, before Rubik's Cube, there was Instant Insanity.\n",
      "\n",
      "Released in 1967 by Parker Brothers, Instant Insanity became a craze.\n",
      "Millions of copies were sold, including one to a certain high school student named Arthur.\n"
     ]
    }
   ],
   "source": [
    "!cat voiceovers/introduction/introduction.txt"
   ]
  },
  {
   "cell_type": "markdown",
   "id": "ee3b398e-9e77-42c4-b4cf-262e35cc0782",
   "metadata": {},
   "source": [
    "## Scene: The Puzzle and Its Solution\n",
    "\n",
    "This purpose of this scene is to explain the puzzle and the video.\n",
    "\n",
    "Show the animation of the cubes dropping.\n",
    "Line up the cubes on a horizontal row.\n",
    "Perform some random cube rotations.\n",
    "\n",
    "Rotate the cubes into a solution and then rotate the row four times to show that\n",
    "no colour is repeated along each side.\n",
    "\n",
    "Continue to rotate the solution until the end of the voiceover.\n",
    "\n",
    "<div style=\"text-align: center;\">\n",
    "    <img src=\"images/solution-1.jpeg\" alt=\"Solution Side 1\" style=\"width: 25%;\">\n",
    "</div>\n",
    "\n",
    "<div style=\"text-align: center;\">\n",
    "    <img src=\"images/solution-2.jpeg\" alt=\"Solution Side 2\" style=\"width: 25%;\">\n",
    "</div>\n",
    "\n",
    "<div style=\"text-align: center;\">\n",
    "    <img src=\"images/solution-3.jpeg\" alt=\"Solution Side 3\" style=\"width: 25%;\">\n",
    "</div>\n",
    "\n",
    "<div style=\"text-align: center;\">\n",
    "    <img src=\"images/solution-4.jpeg\" alt=\"Solution Side 4\" style=\"width: 25%;\">\n",
    "</div>"
   ]
  },
  {
   "cell_type": "code",
   "execution_count": 2,
   "id": "49785d3c-146c-4c3f-8e0e-7309b5654c65",
   "metadata": {},
   "outputs": [
    {
     "name": "stdout",
     "output_type": "stream",
     "text": [
      "The Instant Insanity puzzle consists of four cubes whose faces are coloured either red, white, blue, or green.\n",
      "The object of the puzzle is to arrange the cubes in a row so that no colour is\n",
      "repeated along each of the four sides.\n",
      "\n",
      "As its name suggests, Instant Insanity is very challenging to solve simply by trial and error.\n",
      "There are a huge number of possible ways to arrange the cubes - the box claims 82,944.\n",
      "\n",
      "The surprising and delightful thing about this puzzle is that you can solve it quickly \n",
      "using an elegant method based on simple concepts from the branch of mathematics known as graph theory.\n",
      "\n",
      "One day in 1968, a university professor visited Arthur's high school and taught a math class about graph theory.\n",
      "He finished the lecture by showing how to quickly solve Instant Insanity using graph theory.\n",
      "Arthur was very impressed and looked for ways to use graph theory in his later academic and professional life.\n",
      "\n",
      "Fast forward to the Internet era where we now have a wealth of excellent math animations on YouTube.\n",
      "It occurred to Arthur that someone should create a compelling animation of the graph theory solution to Instant Insanity\n",
      "in the hopes that this solution might also delight the current generation of young math enthusiasts\n",
      "and perhaps inspire them to learn a little graph theory.\n",
      "\n",
      "Fate intervened and reconnected Arthur with Will, a fellow high school student who had gone on to\n",
      "become a professional animator.\n",
      "This video is a collaboration between Will and Arthur.\n",
      "It explains the puzzle and its graph theory solution without assuming any prior knowledge of the subject.\n",
      "If you enjoy solving puzzles and have some exposure to high school mathematics then this video is for you.\n"
     ]
    }
   ],
   "source": [
    "!cat voiceovers/introduction/the-puzzle-and-its-solution.txt"
   ]
  }
 ],
 "metadata": {
  "kernelspec": {
   "display_name": "Python 3 (ipykernel)",
   "language": "python",
   "name": "python3"
  },
  "language_info": {
   "codemirror_mode": {
    "name": "ipython",
    "version": 3
   },
   "file_extension": ".py",
   "mimetype": "text/x-python",
   "name": "python",
   "nbconvert_exporter": "python",
   "pygments_lexer": "ipython3",
   "version": "3.13.5"
  }
 },
 "nbformat": 4,
 "nbformat_minor": 5
}
