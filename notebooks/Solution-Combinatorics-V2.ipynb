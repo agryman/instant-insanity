{
 "cells": [
  {
   "cell_type": "markdown",
   "id": "863a1ab7-c5c1-4c05-8714-6a36a1e7886e",
   "metadata": {},
   "source": [
    "# Solution Combinatorics - V2\n",
    "*Arthur Ryman, last updated 2025-04-03*"
   ]
  },
  {
   "cell_type": "markdown",
   "id": "80a3a26e-dbb5-48ba-a5e7-22567af58789",
   "metadata": {},
   "source": [
    "## Introduction\n",
    "\n",
    "This notebook shows how to compute the total number of combinations of the Instant Insanity puzzle.\n",
    "The branch of mathematics that focuses on how to count combinations is called *Combinatorics*.\n",
    "The number of combinations for any puzzle is very interesting since it indicates how hard it is to solve the\n",
    "puzzle."
   ]
  },
  {
   "cell_type": "markdown",
   "id": "05d2bffc-1e19-4250-949a-0801b2970c0d",
   "metadata": {},
   "source": [
    "### Change History\n",
    "\n",
    "* Initial version, 2025-01-29 : focused on explaining the numbers 41,472 and 82,944 which are cited as the number of combinations\n",
    "* V2, 2025-02-06: starts with the idea of a random arrangement of cubes, computes the number of such arrangements, and shows how the operation of reordering an arrangement sends solutions to solutions"
   ]
  },
  {
   "cell_type": "markdown",
   "id": "cbae630d-4bdf-4d13-9a38-6f09dc94a2f4",
   "metadata": {},
   "source": [
    "## 41,472 or 82,944?\n",
    "\n",
    "### 41,472\n",
    "\n",
    "The 1947 Eureka paper [The Coloured Cubes Problem\n",
    "](https://onedrive.live.com/?authkey=%21AG4HZAmpHD0fSWs&cid=BF134020839BC69B&id=BF134020839BC69B%21210&parId=BF134020839BC69B%21147&o=OneUp)\n",
    "by F. de Carteblanche which gives the elegant graph theory solution to the problem states that if you pick a random arrangement\n",
    "of the cubes your chance of it being a solution is 1 in 41,472.\n",
    "At that time, the puzzle was called the *Tantalizer*.\n",
    "Carteblanche was the pseudonym of a group of four Cambridge mathematics students which included the future eminent graph theorist\n",
    "Bill Tutte.\n",
    "\n",
    "### 82,944\n",
    "\n",
    "The 2008 Gresham College lecture [The Four Cubes Problem](https://youtu.be/sI7lX3M7OZo?si=ijtOwtu-WV1sY4lH) \n",
    "by Robin Wilson, Gresham Professor of Geometry, gives the number as 82,944.\n",
    "\n",
    "The 2018 PBS Infinite Series video [Instant Insanity Puzzle](https://youtu.be/Lw1pF47N-0Q?si=WX3NlcEhPNLdY6Na) by Tai-Danea Bradley\n",
    "also gives the number as 82,944.\n",
    "\n",
    "The 2024 Winning Solutions [Instant Insanity](https://winning-moves.com/product/InstantInsanity.asp)\n",
    "package similarly advertises 82,944 combinations.\n",
    "\n",
    "<img src=\"images/package-front.jpeg\" alt=\"Instant Insanity package\" style=\"width: 25%;\">\n",
    "\n",
    "### Who's Correct?\n",
    "\n",
    "Let's apply some combinatorics and compute the answer for ourselves."
   ]
  },
  {
   "cell_type": "markdown",
   "id": "a786530c-6175-4403-ba28-a1055ed4b331",
   "metadata": {},
   "source": [
    "## Stacks and Solutions\n",
    "\n",
    "First we need to precisely define what we mean by a combination of the cubes.\n",
    "The 1947 Carteblanche paper describes the goal of the puzzle as follows:\n",
    "\n",
    "> The problem is to stack these cubes in a vertical pile (thus forming a square prism) in such a way that each of the four vertical faces of this pile contains all four colours.\n",
    "\n",
    "We'll call any vertical pile of the four cubes a *stack* and any stack that solves the problem a *solution*.\n",
    "\n",
    "Let the number of stacks be $N$ and the number of solutions be $S$.\n",
    "If we pick a stack at random, the probability that it is a solution is $S/N$.\n",
    "Carteblanche makes the following claim:\n",
    "\n",
    "> The chance of obtaining the solution by a random arrangement of the cubes is only $1/41472$.\n",
    "\n",
    "In terms of $N$ and $S$, Carteblanche's claim is:\n",
    "$$\n",
    "\\frac{S}{N} = \\frac{1}{41472}\n",
    "$$\n",
    "\n",
    "Let's compute $N$ and $S$."
   ]
  },
  {
   "cell_type": "markdown",
   "id": "5da95dbe-57f0-47df-b0b4-b80f8295e1e0",
   "metadata": {},
   "source": [
    "## Counting the Number of Stacks\n",
    "\n",
    "To count the number of stacks, consider the following procedure.\n",
    "Put the four cubes in a bag, shake it, draw the cubes out one at a time without looking, and stack them.\n",
    "This procedure will eventually produce all possible stacks."
   ]
  },
  {
   "cell_type": "markdown",
   "id": "59a2bec1-992e-4f3f-b918-19e99421ba50",
   "metadata": {},
   "source": [
    "**Animation #1: random draws**"
   ]
  },
  {
   "cell_type": "markdown",
   "id": "75a1865a-e969-4ee9-9ca0-f903b85313ba",
   "metadata": {},
   "source": [
    "Each stack consists of the cubes in some order, with each cube having some orientation.\n",
    "We need to count the number of cube orderings and the number of orientations that each cube can have."
   ]
  },
  {
   "cell_type": "markdown",
   "id": "c70d7032-7f7d-42f9-9669-dbb1970e5162",
   "metadata": {},
   "source": [
    "### Counting the Number of Cube Orderings\n",
    "\n",
    "One of the most basic theorems of combinatorics is that if you have a set of $n$ distinct objects then you\n",
    "can order them in \n",
    "$$n \\times (n-1) \\times \\dots \\times 2 \\times 1$$ \n",
    "ways.\n",
    "This quantity is denoted $n!$ which is spoken as $n$ *factorial*.\n",
    "To see this observe that you have $n$ ways to choose the first object.\n",
    "Now there are $n-1$ objects remaining so for each of the $n$ first objects there are $n-1$ ways to choose the second\n",
    "object. Therefore there are $n \\times (n-1)$ orderings of two objects.\n",
    "Continuing this reasoning, we get that there are $n!$ orderings $n$ objects.\n",
    "\n",
    "Let's compute $4!$."
   ]
  },
  {
   "cell_type": "code",
   "execution_count": 1,
   "id": "28f91b0d-6662-418c-b860-05dec6154d36",
   "metadata": {},
   "outputs": [
    {
     "data": {
      "text/plain": [
       "24"
      ]
     },
     "execution_count": 1,
     "metadata": {},
     "output_type": "execute_result"
    }
   ],
   "source": [
    "4 * 3 * 2 * 1\n"
   ]
  },
  {
   "cell_type": "markdown",
   "id": "7da5b2d5-5057-4ae0-9667-bd38bcd917b0",
   "metadata": {},
   "source": [
    "Python has a built-in `factorial` function."
   ]
  },
  {
   "cell_type": "code",
   "execution_count": 2,
   "id": "9d5d0735-ae4c-4004-ae7d-f658a949d30a",
   "metadata": {},
   "outputs": [
    {
     "name": "stdout",
     "output_type": "stream",
     "text": [
      "24\n"
     ]
    }
   ],
   "source": [
    "from math import factorial\n",
    "\n",
    "number_of_cube_orderings = factorial(4)\n",
    "\n",
    "print(number_of_cube_orderings)"
   ]
  },
  {
   "cell_type": "markdown",
   "id": "876b5a96-5646-4b89-94ee-97e7e4f2e886",
   "metadata": {},
   "source": [
    "### Counting the Number of Cube Orientations\n",
    "\n",
    "How many ways can a single cube be oriented?\n",
    "We can specify an orientation by saying which face is on top and which face is in front.\n",
    "Let's count the number of orientations.\n",
    "\n",
    "We'll use another basic theorem of combinatorics. \n",
    "If we have two sets of things, say $X$ containing $n$ things and $Y$ containing $m$ things\n",
    "then the number of ways we can pair things from $X$ with things from $Y$ is $n \\times m$.\n",
    "\n",
    "A cube has 6 faces. Therefore, there are 6 ways to pick the top face."
   ]
  },
  {
   "cell_type": "markdown",
   "id": "c84d8c1f-316d-4b75-81e4-17363ac64d80",
   "metadata": {},
   "source": [
    "**Animation #2: 6 choices for top face**"
   ]
  },
  {
   "cell_type": "code",
   "execution_count": 3,
   "id": "29e8ac38-62bc-457b-a94a-00606496c073",
   "metadata": {},
   "outputs": [],
   "source": [
    "number_of_top_face_choices = 6"
   ]
  },
  {
   "cell_type": "markdown",
   "id": "3649fc35-9e77-46e3-9c74-85823abe7d85",
   "metadata": {},
   "source": [
    "Having picked the top face, we can spin the cube one quarter turn about its vertical axis to pick the front face.\n",
    "We can do this four ways."
   ]
  },
  {
   "cell_type": "markdown",
   "id": "4d353277-056f-44ee-af5b-d0e276641cac",
   "metadata": {},
   "source": [
    "**Animation #3: 4 choices for front face**"
   ]
  },
  {
   "cell_type": "code",
   "execution_count": 4,
   "id": "e50c4d5d-f242-495a-8eda-1b53b55e33e4",
   "metadata": {},
   "outputs": [],
   "source": [
    "number_of_front_face_choices = 4"
   ]
  },
  {
   "cell_type": "markdown",
   "id": "94bda4d6-0a40-4e55-a1b1-665549d62e43",
   "metadata": {},
   "source": [
    "Therefore, the total number of cube orientations is $6 \\times 4$."
   ]
  },
  {
   "cell_type": "code",
   "execution_count": 5,
   "id": "b4d5a464-9ad7-4b3c-99b9-8a65fe87106f",
   "metadata": {},
   "outputs": [
    {
     "name": "stdout",
     "output_type": "stream",
     "text": [
      "24\n"
     ]
    }
   ],
   "source": [
    "number_of_cube_orientations = number_of_top_face_choices * number_of_front_face_choices\n",
    "\n",
    "print(number_of_cube_orientations)"
   ]
  },
  {
   "cell_type": "markdown",
   "id": "f526d723-7dab-405e-ad0f-350967038248",
   "metadata": {},
   "source": [
    "### Counting the Number of Stacks\n",
    "\n",
    "A stack is specified by the order of the four cubes and by the orientation of each of them.\n",
    "There are 24 orderings of the cubes.\n",
    "Each cube has 24 orientations.\n",
    "Apply the basic combination rule again to get the total number of stacks.\n",
    "Multiply the number of cube orderings and the number of cube orientations multiplied by itself four times\n",
    "which is the same as raising the number of cube orientations to the power 4."
   ]
  },
  {
   "cell_type": "code",
   "execution_count": 6,
   "id": "2ed2e447-baee-46fa-ae4a-0ce2341bb751",
   "metadata": {},
   "outputs": [
    {
     "name": "stdout",
     "output_type": "stream",
     "text": [
      "7962624\n"
     ]
    }
   ],
   "source": [
    "number_of_stacks = number_of_cube_orderings * number_of_cube_orientations ** 4\n",
    "\n",
    "print(number_of_stacks)"
   ]
  },
  {
   "cell_type": "markdown",
   "id": "8af7321f-61e9-4494-a292-d0846497be77",
   "metadata": {},
   "source": [
    "We get a whopping total of $7,962,624$ stacks which is much bigger than the claimed number of combinations.\n",
    "Clearly, we are overcounting.\n",
    "\n",
    "Relating this back to our variable $N$ we have"
   ]
  },
  {
   "cell_type": "code",
   "execution_count": 7,
   "id": "7a68c68d-7a4f-4f10-adc9-fff7d56004bc",
   "metadata": {},
   "outputs": [
    {
     "data": {
      "text/plain": [
       "7962624"
      ]
     },
     "execution_count": 7,
     "metadata": {},
     "output_type": "execute_result"
    }
   ],
   "source": [
    "N = number_of_stacks\n",
    "\n",
    "N"
   ]
  },
  {
   "cell_type": "markdown",
   "id": "d7a986de-0a61-4e5d-88d6-cec63677e123",
   "metadata": {},
   "source": [
    "### When Are Two Stacks Equivalent?\n",
    "\n",
    "Do we really care about the order of the cubes?\n",
    "If we have found one solution then we can produce another solution simply by swapping the positions of the cubes without changing\n",
    "their orientations."
   ]
  },
  {
   "cell_type": "markdown",
   "id": "212da943-5973-4cbb-93f3-003973e5e0e4",
   "metadata": {},
   "source": [
    "**Animation #4: changing the order of the cubes**"
   ]
  },
  {
   "cell_type": "markdown",
   "id": "bd2748fa-aea1-4177-be8f-16f5b07d6f99",
   "metadata": {},
   "source": [
    "In fact, given a solution, there are a total of 24 related orderings of the cubes that are also solutions.\n",
    "That seems like artificially inflating the number of solutions.\n",
    "Two solutions that differ simply in the order of the cubes should be considered equivalent.\n",
    "Therefore, let's simply pick an order for the cubes.\n",
    "We'll simply number the cubes from 1 to 4 and always stack them in that order\n",
    "\n",
    "Swapping the positions of the cubes without changing their orientations is an example of a *symmetry operation* on the set of solutions\n",
    "since it sends solutions to solutions.\n",
    "A set of related symmetry operations is referred to mathematically as a *group*\n",
    "In general, we'll consider solutions that are related to each other by some symmetry to be equivalent.\n",
    "\n",
    "Let $O$ be the set of all order-changing stack symmetries, that is, operations that swap cube positions but not cube orientations.\n",
    "As mentioned above, the number of stacks related to each other $O$ operations is 24.\n",
    "We refer to this as the *size* of the set of related symmetry operations.\n",
    "The set of order-changing symmetry operations evenly divides the set of all stacks into families of size 24 such that \n",
    "each stack within a family is related to every other stack in the family by some order-changing symmetry.\n",
    "Compute the number of order-changing symmetry families."
   ]
  },
  {
   "cell_type": "code",
   "execution_count": 8,
   "id": "7f8df864-3917-45a1-92b9-30e3449d33b6",
   "metadata": {},
   "outputs": [
    {
     "data": {
      "text/plain": [
       "331776"
      ]
     },
     "execution_count": 8,
     "metadata": {},
     "output_type": "execute_result"
    }
   ],
   "source": [
    "size_O = 24\n",
    "number_of_stacks_O = number_of_stacks // size_O\n",
    "\n",
    "number_of_stacks_O"
   ]
  },
  {
   "cell_type": "markdown",
   "id": "4c716c40-c423-4633-8a50-7f0220f2aa12",
   "metadata": {},
   "source": [
    "We get 331,776 which is much bigger than 82,944.\n",
    "Why the difference?\n",
    "The reason is that we should regard more arrangements as being essentially the same.\n",
    "\n",
    "Suppose we have a solution. Then we can easily get another solution simply by rotating the stack one quarter of a turn\n",
    "about the long axis. Furthermore, we can do this four times before ending up with the arrangement we started from.\n",
    "Therefore each solution belongs of a family of four essentially equivalent solutions."
   ]
  },
  {
   "cell_type": "markdown",
   "id": "3d3c1e1b-5d07-4edc-b03d-f3623652222f",
   "metadata": {},
   "source": [
    "**Animation #5 rotating the stack of cubes one-quarter turn about the long axis**"
   ]
  },
  {
   "cell_type": "markdown",
   "id": "ba7a3506-06b0-4b85-a990-c2780694d995",
   "metadata": {},
   "source": [
    "Let $Q$ be the set of these quarter-turn symmetry operations. Clearly, this operation does not change the order the cubes\n",
    "and it sends one $O$ family to another. In fact, it groups the set the $O$ families into families of four related families.\n",
    "We refer to these families of families as $OQ$ families.\n",
    "Compute the number of $OQ$ families"
   ]
  },
  {
   "cell_type": "code",
   "execution_count": 9,
   "id": "53c8819a-9223-4a35-9212-3947f8f24828",
   "metadata": {},
   "outputs": [
    {
     "name": "stdout",
     "output_type": "stream",
     "text": [
      "82944\n"
     ]
    }
   ],
   "source": [
    "size_Q = 4\n",
    "number_of_stacks_OQ = number_of_stacks_O // size_Q\n",
    "\n",
    "print(number_of_stacks_OQ)"
   ]
  },
  {
   "cell_type": "markdown",
   "id": "e95fd838-22a7-4fd5-892d-affc7f90d9e7",
   "metadata": {},
   "source": [
    "Progress! Now we understand where the number 82,944 comes from.\n",
    "It is the number of stacks where we consider stacks related by operations in $O$ or $Q$ to be equivalent.\n",
    "\n",
    "But what about 41,472?\n",
    "The explanation is similar to the above.\n",
    "We have yet another symmetry.\n",
    "\n",
    "Suppose we have a solution. We can obtain another solution by rotating each cube by one half turn about its vertical axis."
   ]
  },
  {
   "cell_type": "markdown",
   "id": "463e8e1d-874e-4d98-9220-f04fb54b9725",
   "metadata": {},
   "source": [
    "**Animation #6: rotating each cube one-half turn perpendicular to the long axis**"
   ]
  },
  {
   "cell_type": "markdown",
   "id": "f1e48e7b-080b-4399-bef7-6a1c88965192",
   "metadata": {},
   "source": [
    "Let $H$ be this half-turn operation.\n",
    "We can apply the $H$ operation twice before returning to the starting arrangement.\n",
    "Therefore, we need to further divide the number of arrangements by 2 to get the number of essentially distinct arrangements."
   ]
  },
  {
   "cell_type": "code",
   "execution_count": 10,
   "id": "32008e52-1564-4176-a008-19707d742705",
   "metadata": {},
   "outputs": [
    {
     "name": "stdout",
     "output_type": "stream",
     "text": [
      "41472\n"
     ]
    }
   ],
   "source": [
    "size_H = 2\n",
    "number_of_stacks_OQH = number_of_stacks_OQ // size_H\n",
    "\n",
    "print(number_of_stacks_OQH)"
   ]
  },
  {
   "cell_type": "markdown",
   "id": "4c20fa5e-7104-4aba-aa68-af71f96fac30",
   "metadata": {},
   "source": [
    "Success! We now understand where the number 41,472 comes from. \n",
    "It is the number of essentially distinct stacks if we consider stacks related by $O$, $Q$, or $H$ operations to be equivalent.\n",
    "Furthermore, as we will soon prove, there is exactly one $OQH$ family that solves the problem.\n",
    "Carteblanche was right.\n",
    "\n",
    "Relating this back to our variable $S$ we have"
   ]
  },
  {
   "cell_type": "code",
   "execution_count": 11,
   "id": "dcc63967-621c-4477-a6df-51b61c4892e9",
   "metadata": {},
   "outputs": [
    {
     "name": "stdout",
     "output_type": "stream",
     "text": [
      "7962624 192 41472\n"
     ]
    }
   ],
   "source": [
    "S = size_O * size_Q * size_H\n",
    "\n",
    "print(N, S, N // S)"
   ]
  },
  {
   "cell_type": "markdown",
   "id": "0488bbe2-0516-42af-9e60-f4669ad49bf0",
   "metadata": {},
   "source": [
    "There are around 8 million stacks but these are divided into families each consisting of 192 mutually equivalent stacks.\n",
    "The total number of essentially distinct stacks is $41,472$."
   ]
  },
  {
   "cell_type": "markdown",
   "id": "145f7c92-7e63-4268-8df4-02644ff08c7c",
   "metadata": {},
   "source": [
    "## Brute-Force Search\n",
    "\n",
    "We now know how many arrangements, namely 41,472, we'd have to check in order to find a solution.\n",
    "Given enough time and patience, we could systematically generate every possible essentially distinct arrangement\n",
    "and check if it was a solution. Mathematicians call this approach a *brute-force search*.\n",
    "\n",
    "How long would a brute-force search take?\n",
    "Suppose a human was doing the search. As a rough estimate, suppose it takes 1 second to rotate a cube and 1 second to check\n",
    "if the arrangement is a solution.\n",
    "Let's compute the total time."
   ]
  },
  {
   "cell_type": "code",
   "execution_count": 12,
   "id": "a996882a-189f-450c-bcd4-43e4247047e5",
   "metadata": {},
   "outputs": [
    {
     "name": "stdout",
     "output_type": "stream",
     "text": [
      "207360\n"
     ]
    }
   ],
   "source": [
    "seconds_per_stack = 5\n",
    "total_seconds = number_of_stacks_OQH * seconds_per_stack\n",
    "\n",
    "print(total_seconds)"
   ]
  },
  {
   "cell_type": "code",
   "execution_count": 13,
   "id": "1e14f129-7b5e-4643-a0cf-d5579dccd831",
   "metadata": {},
   "outputs": [
    {
     "name": "stdout",
     "output_type": "stream",
     "text": [
      "3456.0\n"
     ]
    }
   ],
   "source": [
    "seconds_per_minute = 60\n",
    "total_minutes = total_seconds / seconds_per_minute\n",
    "\n",
    "print(total_minutes)"
   ]
  },
  {
   "cell_type": "code",
   "execution_count": 14,
   "id": "6b82bf44-e50b-42a4-96ac-ee34de154ed9",
   "metadata": {},
   "outputs": [
    {
     "name": "stdout",
     "output_type": "stream",
     "text": [
      "57.6\n"
     ]
    }
   ],
   "source": [
    "minutes_per_hour = 60\n",
    "total_hours = total_minutes / minutes_per_hour\n",
    "\n",
    "print(total_hours)"
   ]
  },
  {
   "cell_type": "code",
   "execution_count": 15,
   "id": "3d4d6bba-054c-4b1b-8f0f-b124830a9e7e",
   "metadata": {},
   "outputs": [
    {
     "name": "stdout",
     "output_type": "stream",
     "text": [
      "2.4\n"
     ]
    }
   ],
   "source": [
    "hours_per_day = 24\n",
    "total_days = total_hours / hours_per_day\n",
    "\n",
    "print(total_days)"
   ]
  },
  {
   "cell_type": "markdown",
   "id": "2377aee3-8747-47c9-b57e-2c1d1c4efcea",
   "metadata": {},
   "source": [
    "Therefore, a human would find the solution if they worked nonstop for 2.4 days and made no errors.\n",
    "This is called the *worst case* time since it assumes that you are unlucky and have to generate all the arrangements\n",
    "before you find the solution.\n",
    "\n",
    "Clearly, this puzzle is challenging which accounts for its popularity.\n",
    "The package states that over 20 million copies have been sold!"
   ]
  },
  {
   "cell_type": "markdown",
   "id": "3a680278-2360-48a7-ae1b-f98c56e43fa2",
   "metadata": {},
   "source": [
    "## Next\n",
    "\n",
    "How long would a computer take to find the solution? \n",
    "One of us actually tried this in 1967 using a Fortran 4 program running on their high school's IBM 1130 computer.\n",
    "Next, we'll write some Python code to perform the brute-force search and then optimize it for speed."
   ]
  }
 ],
 "metadata": {
  "kernelspec": {
   "display_name": "Python 3 (ipykernel)",
   "language": "python",
   "name": "python3"
  },
  "language_info": {
   "codemirror_mode": {
    "name": "ipython",
    "version": 3
   },
   "file_extension": ".py",
   "mimetype": "text/x-python",
   "name": "python",
   "nbconvert_exporter": "python",
   "pygments_lexer": "ipython3",
   "version": "3.11.11"
  }
 },
 "nbformat": 4,
 "nbformat_minor": 5
}
