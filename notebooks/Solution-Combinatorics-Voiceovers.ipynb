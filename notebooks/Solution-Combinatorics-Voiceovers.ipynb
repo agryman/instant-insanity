{
 "cells": [
  {
   "cell_type": "markdown",
   "id": "863a1ab7-c5c1-4c05-8714-6a36a1e7886e",
   "metadata": {},
   "source": [
    "# Solution Combinatorics with Voiceovers\n",
    "*Arthur Ryman, last updated 2025-04-14*\n",
    "\n",
    "[![Open In Colab](https://colab.research.google.com/assets/colab-badge.svg)](https://colab.research.google.com/github/agryman/instant-insanity/blob/main/notebooks/Solution-Combinatorics-Voiceovers.ipynb)"
   ]
  },
  {
   "cell_type": "markdown",
   "id": "fcf2bb17-d85a-466a-a284-a7dad2d12842",
   "metadata": {},
   "source": [
    "## Introduction\n",
    "\n",
    "This notebook focuses on the combinatorics of the Instant Insanity puzzle, namely how to count the number of combinations of the cubes.\n",
    "Other notebooks will focus on other aspects of the puzzle such as its graph theory solution and history.\n",
    "\n",
    "This notebook contains both voiceovers and explanatory text.\n",
    "The voiceovers are intended for use in the video.\n",
    "The explanatory text goes into more detail but may be too detailed for use in video."
   ]
  },
  {
   "cell_type": "markdown",
   "id": "500374bb-4a37-4de3-9d06-3f9bff7eeae0",
   "metadata": {},
   "source": [
    "## Change History\n",
    "\n",
    "This is a working document and will be edited frequency.\n",
    "I will annotate each voiceover with the date of its most recent update."
   ]
  },
  {
   "cell_type": "markdown",
   "id": "1c1d7752-71f8-4af3-afca-11d17cbcb6f7",
   "metadata": {},
   "source": [
    "## Combinatorics\n",
    "\n",
    "This section should come after the general introduction to the puzzle.\n",
    "We should have already described the puzzle and defined what it means to solve it, namely you are required to line up the four cubes in a horizontal row such that\n",
    "no colour is repeated along the front, back, top, or bottom sides."
   ]
  },
  {
   "cell_type": "markdown",
   "id": "259d3865-a77d-4cef-b251-d4921a8f4657",
   "metadata": {},
   "source": [
    "This notebook shows how to compute the total number of combinations of the Instant Insanity puzzle.\n",
    "The branch of mathematics that focuses on how to count combinations is called *Combinatorics*.\n",
    "The number of combinations for any puzzle is very interesting since it indicates how hard it is to solve the\n",
    "puzzle."
   ]
  },
  {
   "cell_type": "markdown",
   "id": "0b15c0ae-f2eb-41a5-b7fe-9ad44075f3a7",
   "metadata": {},
   "source": [
    "## How Difficult is This Puzzle?\n",
    "\n",
    "### Scene\n",
    "\n",
    "Show an animation that hints at the difficulty of searching for a solution.\n",
    "Show the row of four cubes. Pick one cube at random and give it a random rotation.\n",
    "\n",
    "### Voiceover: last updated 2025-04-11\n",
    "\n",
    "How difficult is it to solve the puzzle?\n",
    "One way to solve it is to try every possible combination of the cubes until we find one that works.\n",
    "In computer science, this solution strategy is called a brute-force search.\n",
    "In the absence of any further insight into the puzzle,\n",
    "its difficulty is therefore directly proportional to the total number of combinations.\n",
    "\n",
    "So how many combinations are there?"
   ]
  },
  {
   "cell_type": "markdown",
   "id": "9d485e61-5e09-4887-8fc6-73d45eed2a90",
   "metadata": {},
   "source": [
    "## 82,944 or 41,472?\n",
    "\n",
    "### Scene\n",
    "\n",
    "Show the text \"82,944 or 41,472?\"\n",
    "\n",
    "### Voiceover: last updated 2025-04-11\n",
    "\n",
    "Here we encounter an interesting situation. \n",
    "We have two competing claims for the number of combinations.\n",
    "The puzzle package, and several YouTube videos, claim that there are 82,944 combinations.\n",
    "However, an article published at Cambridge University in 1947 gives an elegant solution to the puzzle and claims there are only 41,472."
   ]
  },
  {
   "cell_type": "markdown",
   "id": "6af07afd-acf0-41a9-8399-fc4d94d785e5",
   "metadata": {},
   "source": [
    "## Winning Solutions: 82,944\n",
    "\n",
    "See: [Instant Insanity](https://winning-moves.com/product/InstantInsanity.asp)\n",
    "\n",
    "### Scene\n",
    "\n",
    "Show the puzzle package and the text: \"82,944 Combinations. Can You Solve It?\"\n",
    "\n",
    "<img src=\"images/package-front.jpeg\" alt=\"Instant Insanity package\" style=\"width: 25%;\">\n",
    "\n",
    "### Voiceover: lasted updated 2025-04-04\n",
    "The 2024 Winning Solutions Instant Insanity package advertises 82,944 combinations."
   ]
  },
  {
   "cell_type": "markdown",
   "id": "2e1017b4-796f-4e65-b280-00de4fcc1a1e",
   "metadata": {},
   "source": [
    "## Robin Wilson, Gresham College: 82,944\n",
    "\n",
    "See: [The Four Cubes Problem](https://youtu.be/sI7lX3M7OZo?si=ijtOwtu-WV1sY4lH)\n",
    "\n",
    "### Scene\n",
    "\n",
    "Play a clip from the YouTube video where Robin Wilson says there are 82,944 combinations.\n",
    "\n",
    "### Voiceover: last updated 2025-04-11\n",
    "The 2008 Gresham College lecture, The Four Cubes Problem\n",
    "by Robin Wilson, Gresham Professor of Geometry, gives the number as 82,944."
   ]
  },
  {
   "cell_type": "markdown",
   "id": "027d4920-b209-4633-8f55-6e5dedf90e3d",
   "metadata": {},
   "source": [
    "## Tai-Danea Bradley, PBS Infinite Series: 82,944\n",
    "\n",
    "See: [Instant Insanity Puzzle](https://youtu.be/Lw1pF47N-0Q?si=WX3NlcEhPNLdY6Na)\n",
    "\n",
    "### Scene\n",
    "\n",
    "Play a clip from the YouTube video where Tai-Danea Bradley says there are 82,944 combinations.\n",
    "\n",
    "### Voiceover: last updated 2025-04-11\n",
    "\n",
    "The 2018 PBS Infinite Series video, Instant Insanity Puzzle  by Tai-Danea Bradley\n",
    "also gives the number as 82,944."
   ]
  },
  {
   "cell_type": "markdown",
   "id": "cf0bd98b-e5f6-4605-bafa-571bc32dc041",
   "metadata": {},
   "source": [
    "## F. de Carteblanche, Eureka: 41,472\n",
    "\n",
    "See: [The Coloured Cubes Problem\n",
    "](https://onedrive.live.com/?authkey=%21AG4HZAmpHD0fSWs&cid=BF134020839BC69B&id=BF134020839BC69B%21210&parId=BF134020839BC69B%21147&o=OneUp)\n",
    "\n",
    "### Scene\n",
    "\n",
    "Show the statement from the 1947 paper.\n",
    "\n",
    "### Voiceover: last updated 2025-04-04\n",
    "\n",
    "The 1947 Eureka paper, The Coloured Cubes Problem\n",
    "by F. de Carteblanche which gives the elegant graph theory solution to the problem states that if you pick a random arrangement\n",
    "of the cubes your chance of it being a solution is 1 in 41,472.\n",
    "At that time, the puzzle was called the Tantalizer.\n",
    "F. de Carteblanche was the pseudonym of a group of four Cambridge mathematics students which included the future eminent graph theorist\n",
    "Bill Tutte."
   ]
  },
  {
   "cell_type": "markdown",
   "id": "f00025d1-d75f-4c38-85a0-1a362b95c928",
   "metadata": {},
   "source": [
    "## Which Number is Correct?\n",
    "\n",
    "### Scene\n",
    "\n",
    "Show the puzzle box (82,944) and the Carteblanche paper (41,472) side-by-side, highlighting the two numbers.\n",
    "\n",
    "### Voiceover: last updated 2025-04-11\n",
    "\n",
    "Neither the original Cambridge paper nor the YouTube videos actually show us how they arrived at their numbers.\n",
    "Let's apply some combinatorics and compute the answer ourselves."
   ]
  },
  {
   "cell_type": "markdown",
   "id": "46034873-cc22-49b8-b17d-54756966ae39",
   "metadata": {},
   "source": [
    "## Combination and Solutions\n",
    "\n",
    "### Scene\n",
    "\n",
    "Show a vertical stack solution and the sentence from the 1947 Carteblache paper that says:\n",
    "\n",
    "> The problem is to stack these cubes in a vertical pile (thus forming a square prism) in such a way that each of the four vertical faces of this pile contains all four colours.\n",
    "\n",
    "Show a horizontal row solution and the sentence from the back of the puzzle box that says:\n",
    "\n",
    "> Can you arrange the cubes in a row or stack so that all four colors appear on each side?\n",
    "\n",
    "Maybe split the screen into left and right frames and show a vertical stack on the left and a horizontal row on the right, with the textual quotes below them.\n",
    "\n",
    "### Voiceover: last updated 2025-04-14\n",
    "\n",
    "First we need to precisely define what we mean by a combination of the cubes and a solution of the puzzle.\n",
    "The 1947 Carteblanche paper describes the goal of the puzzle as follows:\n",
    "\n",
    "The problem is to stack these cubes in a vertical pile (thus forming a square prism) in such a way that each of the four vertical faces of this pile contains all four colours.\n",
    "\n",
    "The puzzle box asks:\n",
    "\n",
    "Can you arrange the cubes in a row or stack so that all four colors appear on each side?\n",
    "\n",
    "We'll call any vertical or horizontal arrangement of the four cubes a combination and any combination that solves the puzzle a solution.\n",
    "\n",
    "Clearly, we'll get the same number of combinations whether we arrange the cubes vertically or horizontally since we can easily convert one type of arrangement into the other.\n",
    "In this video, we'll usually arrange the cubes in a horizonal row."
   ]
  },
  {
   "cell_type": "markdown",
   "id": "4e45dffa-af12-45f6-84ce-e8688b4ba5f3",
   "metadata": {},
   "source": [
    "## The Probability of a Solution\n",
    "\n",
    "### Scene\n",
    "\n",
    "Show the following mathematical formula. I'll generate a 720x1440 pixel PNG image.\n",
    "\n",
    "\\begin{align*}\n",
    "N &: \\mathrm{the\\ number\\ of\\ combinations} \\\\\n",
    "S &: \\mathrm{the\\ number\\ of\\ solutions} \\\\\n",
    "P &: \\mathrm{the\\ probability\\ of\\ a\\ solution} \\\\\n",
    "\\\\\n",
    "P &= \\frac{S}{N} = \\frac{1}{41,472}\n",
    "\\end{align*}\n",
    "\n",
    "### Voiceover: last updated 2025-04-14\n",
    "\n",
    "Carteblanche makes the following claim.\n",
    "\n",
    "The chance of obtaining the solution by a random arrangement of the cubes is only 1 in 41,472.\n",
    "\n",
    "Let N be the total number of possible cube combinations and let S be the total number of solutions.\n",
    "Let P be the probability that a randomly chosen combination is a solution.\n",
    "The probability P is therefore the number of solutions S divided by the number of combinations N.\n",
    "\n",
    "Let's compute N and S and see what we get for P."
   ]
  },
  {
   "attachments": {},
   "cell_type": "markdown",
   "id": "c267b33c-6ca5-4e00-9863-a3daccbe77be",
   "metadata": {},
   "source": [
    "## Generating all Possible Combinations\n",
    "\n",
    "### Scene\n",
    "\n",
    "Animate a random cube combination generator.\n",
    "This could be like one of those lottery machines that scrambles numbered balls and pumps them out one at a time to produce the winning number.\n",
    "Alternatively, it could be a physics simulation of dropping the four cubes and then lining them up in a horizontal row.\n",
    "\n",
    "### Voiceover: last updated 2025-04-14\n",
    "\n",
    "To generate all possible combinations, consider the following random procedure.\n",
    "Put the four cubes in a bag, shake it, draw the cubes out one at a time, and, without looking at them, arrange them in a row.\n",
    "If we repeat this procedure often enough it will eventually produce all possible combinations.\n",
    "\n",
    "How many combinations can we produce?\n",
    "\n",
    "Observe that we can fully describe any combination by first giving the order of the cubes,\n",
    "and then giving the orientation of each cube."
   ]
  },
  {
   "cell_type": "markdown",
   "id": "32994d76-02e1-440c-84fc-6b4aef2e1f27",
   "metadata": {},
   "source": [
    "## Naming the Cubes and Their Faces\n",
    "\n",
    "### Scene\n",
    "\n",
    "The purpose of this scene is to assign names to the cubes and their faces so we can talk about them more easily.\n",
    "We'll use the naming scheme on p9 of the Carteblanche article.\n",
    "\n",
    "Start by showing a horizontal row of the four cubes.\n",
    "The perspective should be chosen so that the front, right, and top faces are visible.\n",
    "\n",
    "Fade in the numbers from 1 to 4 to name the cubes.\n",
    "\n",
    "Fade in the names x, y, and z on the front, right, and top faces of each cube.\n",
    "\n",
    "Animate unfolding the cubes and add the names x', y', and z' to the back, left, and bottom faces.\n",
    "\n",
    "Animate rearranging the faces of each flattened cube into a vertical column of six faces in the order x, x', y, y', z, z'.\n",
    "\n",
    "Animate moving the faces into an array with six rows (one per face) and four columns (one per cube).\n",
    "\n",
    "Fade in the table row and column names to produce a table like that on page 9 of Carteblache but using the actual layout of the cubes in the current Winning Moves puzzle.\n",
    "Here is the table for the puzzle.\n",
    "\n",
    "| Face | 1 | 2 | 3 | 4 |\n",
    "|------|---|---|---|---|\n",
    "| x (front)   | G | R | W | B |\n",
    "| x' (back)   | W | G | R | R |\n",
    "| y (right)   | B | B | W | G |\n",
    "| y' (left)   | R | B | B | W |\n",
    "| z (top)     | R | W | G | B |\n",
    "| z' (bottom) | R | G | R | W |\n",
    "\n",
    "### Voiceover: last updated 2025-04-14\n",
    "\n",
    "The task of describing and counting the number of combinations will be easier if we assign short symbolic names to the cubes and their faces.\n",
    "\n",
    "We'll use the naming scheme defined on p9 of the Carteblanche article.\n",
    "\n",
    "In this scheme, we pick some arbitrary order for the cubes and name them 1, 2, 3, and 4.\n",
    "\n",
    "We then pick some arbitrary orientation for each cube and name the front, right, and top faces x, y, and z.\n",
    "We name their opposite faces x', y', and z'.\n",
    "\n",
    "For example, face 3y' is the name of the left face of cube 3 which is blue."
   ]
  },
  {
   "cell_type": "markdown",
   "id": "65cf5999-b6fe-4e7a-ab9b-48fd90ec7fde",
   "metadata": {},
   "source": [
    "## Counting the Number of Cube Orderings\n",
    "\n",
    "### Scene\n",
    "\n",
    "The purpose of this scene is to count the number of cube orderings.\n",
    "\n",
    "A nice way to visualize this is to create a horizontally oriented tree.\n",
    "\n",
    "Put the root node on the left. It represents and empty sequence of cubes.\n",
    "\n",
    "We need to pick the first cube in the order.\n",
    "There are four choices so draw 4 arcs from the root to each of the choices.\n",
    "We could draw the cube with its name or just the name.\n",
    "\n",
    "Next we choose the second cube.\n",
    "There are now only three possible choices so draw three arcs from the first cube to each of the three possible second cubes.\n",
    "\n",
    "Proceed until all four cubes have been chosen.\n",
    "The final tree has 24 leaf nodes.\n",
    "\n",
    "Animate counting the leaf nodes by writing the numbers 1 to 24 to the right of each root node.\n",
    "\n",
    "### Voiceover: last updated 2025-04-14\n",
    "\n",
    "We're now ready to count the total number of possible cube orderings.\n",
    "We'll build up each ordering from left to right and keep track of our progress in a decision tree.\n",
    "Each cube ordering requires us to make four choices.\n",
    "We have four choices for the first cube.\n",
    "After we have made the first choice there are three cubes left so for each choice of the first cube we have three possibilities left for the second cube.\n",
    "Similarly, for each ordering of the first two cubes we have two possibilities left for the third cube.\n",
    "Finally, for each ordering of the first three cubes we only have one possibility left for the four cube.\n",
    "\n",
    "Count all the cube orderings. There are 24 of them."
   ]
  },
  {
   "cell_type": "markdown",
   "id": "2c48c688-0124-4c9a-9910-3ab1cf242d30",
   "metadata": {},
   "source": [
    "## Factorials\n",
    "\n",
    "### Scene\n",
    "\n",
    "The purpose of this scene is to make contact with the concept of permuations and the factorial function.\n",
    "\n",
    "Show an image of the math formula for $n!$.\n",
    "\n",
    "$$n! = n \\times (n-1) \\times \\dots \\times 2 \\times 1$$ \n",
    "\n",
    "Then fade that into the case $n = 4$ giving the answer $24$.\n",
    "\n",
    "$$4! = 4 \\times 3 \\times 2 \\times 1 = 24$$ \n",
    "\n",
    "### Voiceover: last updated 2025-04-14\n",
    "\n",
    "Combinatorics is the branch of mathematics that tells us how to count things.\n",
    "\n",
    "One of the most important cases in combinatorics is how to count the number of ways that you can arrange a set of distinct objects in some order.\n",
    "An arrangement of a set of distinct objects in some order is called a permuation of that set.\n",
    "\n",
    "Combinatorics tells us that there are n factorial permuations of a set of n distinct objects.\n",
    "To see this, observe that there are n ways to pick the first object, then n minus 1 ways to pick the second, and so on.\n",
    "\n",
    "This is exactly how we counted the number of cube orders.\n",
    "There are four cubes and four factorial equals twenty-four."
   ]
  },
  {
   "cell_type": "markdown",
   "id": "a12a39bf-46d4-4944-9d0f-bf25d61dde1c",
   "metadata": {},
   "source": [
    "## The factorial Function in Python\n",
    "\n",
    "This is an optional scene.\n",
    "\n",
    "### Scene\n",
    "\n",
    "The purpose of this scene is to make contact with combinatorics and Python.\n",
    "Show the following Jupyter notebook cells.\n",
    "\n",
    "### Voiceover: last updated 2025-04-14\n",
    "\n",
    "Python has some built-in support for combinatorics.\n",
    "\n",
    "Let's compute four factorial"
   ]
  },
  {
   "cell_type": "code",
   "execution_count": 1,
   "id": "28f91b0d-6662-418c-b860-05dec6154d36",
   "metadata": {},
   "outputs": [
    {
     "data": {
      "text/plain": [
       "24"
      ]
     },
     "execution_count": 1,
     "metadata": {},
     "output_type": "execute_result"
    }
   ],
   "source": [
    "4 * 3 * 2 * 1\n"
   ]
  },
  {
   "cell_type": "markdown",
   "id": "7da5b2d5-5057-4ae0-9667-bd38bcd917b0",
   "metadata": {},
   "source": [
    "### Voiceover: last updated 2025-04-14\n",
    "\n",
    "Python has a built-in factorial function.\n",
    "Import it from the math package."
   ]
  },
  {
   "cell_type": "code",
   "execution_count": 2,
   "id": "9d5d0735-ae4c-4004-ae7d-f658a949d30a",
   "metadata": {},
   "outputs": [
    {
     "name": "stdout",
     "output_type": "stream",
     "text": [
      "24\n"
     ]
    }
   ],
   "source": [
    "from math import factorial\n",
    "\n",
    "number_of_cube_orderings = factorial(4)\n",
    "\n",
    "print(number_of_cube_orderings)"
   ]
  },
  {
   "attachments": {},
   "cell_type": "markdown",
   "id": "36a31cec-0a1c-4874-ae9f-f04fadbaa612",
   "metadata": {},
   "source": [
    "## Counting the Number of Cube Orientations\n",
    "\n",
    "### Scene\n",
    "\n",
    "The purpose of this scene is to count the number of cube orientations.\n",
    "We'll build up each orientation by first choosing the top face and then choosing the front face.\n",
    "\n",
    "Start with an animation showing a cube. \n",
    "Rotate the cube slowly about each axis so that we can see the face names x, y, z, x', y', and z'.\n",
    "\n",
    "Next we'll build up a decision tree from left to right.\n",
    "The leftmost node is the tree root which represents no choices yet.\n",
    "\n",
    "We'll choose the top face first.\n",
    "Draw six lines from the root to nodes that represent the six possible top faces x, y, z, x', y', and z'.\n",
    "\n",
    "Then draw four lines from each of the six possible top face nodes to four more nodes that represent the possible front faces.\n",
    "\n",
    "The following table summarizes the possible choices for the front face given a choice for the top face.\n",
    "| Top | Front |\n",
    "|-----|-------|\n",
    "| x | y, z, y', z' |\n",
    "| x' | y, z, y', z' |\n",
    "| y | x, z, x', z' |\n",
    "| y' | x, z, x', z' |\n",
    "| z | x, y, x', y' |\n",
    "| z | x, y, x', y' |\n",
    "\n",
    "Finally, count the number of the leaf nodes.\n",
    "There are 24. Draw each cube to the right of the corresponding leaf node.\n",
    "\n",
    "Here is a table of the orientations.\n",
    "\n",
    "| Number | Top | Front |\n",
    "|--------|-----|-------|\n",
    "| 1 | x | y |\n",
    "| 2 | x | z |\n",
    "| 3 | x | y' |\n",
    "| 4 | x | z' |\n",
    "| 5 | x' | y |\n",
    "| 6 | x' | z |\n",
    "| 7 | x' | y' |\n",
    "| 8 | x' | z' |\n",
    "| 9 | y | x |\n",
    "| 10 | y | z |\n",
    "| 11 | y | x' |\n",
    "| 12 | y | z' |\n",
    "| 13 | y' | x |\n",
    "| 14 | y' | z |\n",
    "| 15 | y' | x' |\n",
    "| 16 | y' | z |\n",
    "| 17 | z | x |\n",
    "| 18 | z | y |\n",
    "| 19 | z | x' |\n",
    "| 20 | z | y' |\n",
    "| 21 | z' | x |\n",
    "| 22 | z' | y |\n",
    "| 23 | z' | x' |\n",
    "| 24 | z' | y' |\n",
    "\n",
    "### Voiceover: last updated 2025-04-14\n",
    "\n",
    "How many ways can a single cube be oriented?\n",
    "We can specify an orientation by saying which face is on top and which face is in front.\n",
    "Let's count the number of orientations.\n",
    "\n",
    "We'll use another basic theorem of combinatorics. \n",
    "If we have two sets of things, say A containing n things and B containing m things\n",
    "then the number of ways we can pair things from A with things from B is n times m.\n",
    "\n",
    "A cube has 6 faces. Therefore, there are 6 ways to pick the top face.\n",
    "\n",
    "Having picked the top face, we can pick any of the four adjacent faces as the front face by spinning the cube about its vertical axis.\n",
    "We can do this in four ways.\n",
    "\n",
    "Therefore, the total number of cube orientations is six times four which equals twenty-four."
   ]
  },
  {
   "cell_type": "markdown",
   "id": "e267a6e6-d969-4546-be8a-d407313c5890",
   "metadata": {},
   "source": [
    "## Optional Python Code"
   ]
  },
  {
   "cell_type": "code",
   "execution_count": 3,
   "id": "9d12616f-63d7-4f1f-8972-55d04e224a93",
   "metadata": {},
   "outputs": [
    {
     "name": "stdout",
     "output_type": "stream",
     "text": [
      "24\n"
     ]
    }
   ],
   "source": [
    "number_of_top_face_choices = 6\n",
    "\n",
    "number_of_front_face_choices = 4\n",
    "\n",
    "number_of_cube_orientations = number_of_top_face_choices * number_of_front_face_choices\n",
    "\n",
    "print(number_of_cube_orientations)"
   ]
  },
  {
   "attachments": {},
   "cell_type": "markdown",
   "id": "cc612e74-26e7-4add-a19a-1bab7a7f159a",
   "metadata": {},
   "source": [
    "## Counting the Number of Combinations\n",
    "\n",
    "### Scene\n",
    "\n",
    "The purpose of this scene is to compute the total number of combinations $N$.\n",
    "We'll use the previously computed values for the number of cube orderings and orientations.\n",
    "\n",
    "Show an image of the following math formula:\n",
    "\n",
    "\\begin{align*}\n",
    "N \n",
    "    &= \\mathrm{number\\ of\\ cube\\ orderings} \\times \\mathrm{number\\ of\\ cube\\ orientations}^4 \\\\\n",
    "    &= 24 \\times 24^4 \\\\\n",
    "    &= 24^5 \\\\\n",
    "    &= 7,962,624\n",
    "\\end{align*}\n",
    "\n",
    "### Voiceover: last updated 2025-04-14\n",
    "\n",
    "A combination is fully specified by giving the ordering of the four cubes and the orientation of each of cube.\n",
    "There are 24 orderings of the cubes.\n",
    "Each cube has 24 orientations.\n",
    "Apply the basic combination rule again to get the total number of combinations.\n",
    "Multiply the number of cube orderings and the number of cube orientations multiplied by itself four times\n",
    "which is the same as raising the number of cube orientations to the power 4.\n",
    "\n",
    "We get a whopping total of 7,962,624 combinations which is much bigger than the number of combinations, namely 82,944, claimed on the box and in the YouTube videos.\n",
    "Why the difference?\n",
    "\n",
    "The answer is that although there are in fact 7,962,624 distinct cube combinations when we randomly draw them out of a bag, we can be more intelligent in our search for a solution\n",
    "by skipping combinations that are essentially equivalent to combinations we have already considered."
   ]
  },
  {
   "cell_type": "markdown",
   "id": "f3d9de97-709e-4375-bdd7-2e49a15be632",
   "metadata": {},
   "source": [
    "## Optional Python Code"
   ]
  },
  {
   "cell_type": "code",
   "execution_count": 4,
   "id": "2ed2e447-baee-46fa-ae4a-0ce2341bb751",
   "metadata": {},
   "outputs": [
    {
     "name": "stdout",
     "output_type": "stream",
     "text": [
      "7962624\n"
     ]
    }
   ],
   "source": [
    "N = number_of_combinations = number_of_cube_orderings * number_of_cube_orientations ** 4\n",
    "\n",
    "print(N)"
   ]
  },
  {
   "cell_type": "markdown",
   "id": "3034e479-5415-43f7-8c37-a5edf3b4cbb7",
   "metadata": {},
   "source": [
    "## When Are Two Combinations Essentially Equivalent?\n",
    "\n",
    "### Scene\n",
    "\n",
    "The purpose of this scene is to introduce the notion of essentially equivalent combinations by first considering the cube ordering.\n",
    "\n",
    "Line up the four cubes in a solution.\n",
    "The following combination is a solution:\n",
    "\n",
    "$$\n",
    "(1zx', 2zx', 3zy', 4zx')\n",
    "$$\n",
    "\n",
    "Animate the action of swapping the positions of any two cubes and noting that we still have a solution.\n",
    "Do a few swaps, e.g. swap cubes 1 and 2, 2 and 4, etc.\n",
    "If we started with a solution then we still have a solution after the swaps.\n",
    "\n",
    "### Voiceover: last updated 2025-04-14\n",
    "\n",
    "We can specify a combination by giving a cube ordering and an orientation for each cube.\n",
    "An orientation is given by specifying the top and front faces.\n",
    "Consider the combination given by the four-tuple (one z x', two z x', three z y', four z x').\n",
    "This combination is a solution.\n",
    "\n",
    "Now create a new combination by swapping the positions of any two cubes, say one and two, without changing their orientations.\n",
    "The new combination is given by the four-tuple (two z x', one z x', three z y', four z x').\n",
    "Since each side of the row contained four different colours before the swap, it will still contain four different colours after the swap.\n",
    "Therefore the new combination is also a solution.\n",
    "We can achieve any cube ordering by swapping pairs of cubes.\n",
    "In fact, given any solution, it belongs to a family of twenty-four solutions that are related to eachother by swaps.\n",
    "\n",
    "Swapping the positions of the cubes without changing their orientations is an example of what is called a transformation of the set\n",
    "of all combinations since it sends combinations to combinations.\n",
    "A set of related transformations is said to form a group.\n",
    "Furthermore, swaps are said to be symmetries of the set of all solutions since they send solutions to solutions.\n",
    "Group theory is the branch of mathematics that tells us about transformations and symmetries.\n",
    "\n",
    "It is natural to regard solutions that differ only in the cube ordering as being essentially equivalent since we can transform one into the other by a sequence of swaps.\n",
    "We can therefore use this notion of equivalence to cut down the size of our search space by a factor of twenty-four.\n",
    "Rather than examining all combinations for solutions, we can safely confine our attention to one fixed cube ordering, say the natural ordering one, two, three, four."
   ]
  },
  {
   "cell_type": "markdown",
   "id": "a46af38d-8963-4a37-a20e-81ae922de7ae",
   "metadata": {},
   "source": [
    "## The Number of Combinations Modulo Order\n",
    "\n",
    "### Scene\n",
    "\n",
    "The purpose of this scene is to compute the number of combinations that are essentially equivalent when we disregard cube orderings.\n",
    "\n",
    "Display and image of the following mathematical formulas.\n",
    "\n",
    "STOPPED HERE\n",
    "\n",
    "### Voiceover\n",
    "\n",
    "Let $O$ be the set of all order-changing stack symmetries, that is, operations that swap cube positions but not cube orientations.\n",
    "As mentioned above, the number of stacks related to each other $O$ operations is 24.\n",
    "We refer to this as the *size* of the set of related symmetry operations.\n",
    "The set of order-changing symmetry operations evenly divides the set of all stacks into families of size 24 such that \n",
    "each stack within a family is related to every other stack in the family by some order-changing symmetry.\n",
    "Compute the number of order-changing symmetry families."
   ]
  },
  {
   "cell_type": "code",
   "execution_count": 5,
   "id": "7f8df864-3917-45a1-92b9-30e3449d33b6",
   "metadata": {},
   "outputs": [
    {
     "data": {
      "text/plain": [
       "331776"
      ]
     },
     "execution_count": 5,
     "metadata": {},
     "output_type": "execute_result"
    }
   ],
   "source": [
    "size_O = 24\n",
    "number_of_combinations_O = number_of_combinations // size_O\n",
    "\n",
    "number_of_combinations_O"
   ]
  },
  {
   "cell_type": "markdown",
   "id": "4c716c40-c423-4633-8a50-7f0220f2aa12",
   "metadata": {},
   "source": [
    "We get 331,776 which is much bigger than 82,944.\n",
    "Why the difference?\n",
    "The reason is that we should regard more arrangements as being essentially the same.\n",
    "\n",
    "Suppose we have a solution. Then we can easily get another solution simply by rotating the stack one quarter of a turn\n",
    "about the long axis. Furthermore, we can do this four times before ending up with the arrangement we started from.\n",
    "Therefore each solution belongs of a family of four essentially equivalent solutions."
   ]
  },
  {
   "cell_type": "markdown",
   "id": "3d3c1e1b-5d07-4edc-b03d-f3623652222f",
   "metadata": {},
   "source": [
    "**Animation #5 rotating the stack of cubes one-quarter turn about the long axis**"
   ]
  },
  {
   "cell_type": "markdown",
   "id": "ba7a3506-06b0-4b85-a990-c2780694d995",
   "metadata": {},
   "source": [
    "Let $Q$ be the set of these quarter-turn symmetry operations. Clearly, this operation does not change the order the cubes\n",
    "and it sends one $O$ family to another. In fact, it groups the set the $O$ families into families of four related families.\n",
    "We refer to these families of families as $OQ$ families.\n",
    "Compute the number of $OQ$ families"
   ]
  },
  {
   "cell_type": "code",
   "execution_count": 6,
   "id": "53c8819a-9223-4a35-9212-3947f8f24828",
   "metadata": {},
   "outputs": [
    {
     "name": "stdout",
     "output_type": "stream",
     "text": [
      "82944\n"
     ]
    }
   ],
   "source": [
    "size_Q = 4\n",
    "number_of_combinations_OQ = number_of_combinations_O // size_Q\n",
    "\n",
    "print(number_of_combinations_OQ)"
   ]
  },
  {
   "cell_type": "markdown",
   "id": "e95fd838-22a7-4fd5-892d-affc7f90d9e7",
   "metadata": {},
   "source": [
    "Progress! Now we understand where the number 82,944 comes from.\n",
    "It is the number of stacks where we consider stacks related by operations in $O$ or $Q$ to be equivalent.\n",
    "\n",
    "But what about 41,472?\n",
    "The explanation is similar to the above.\n",
    "We have yet another symmetry.\n",
    "\n",
    "Suppose we have a solution. We can obtain another solution by rotating each cube by one half turn about its vertical axis."
   ]
  },
  {
   "cell_type": "markdown",
   "id": "463e8e1d-874e-4d98-9220-f04fb54b9725",
   "metadata": {},
   "source": [
    "**Animation #6: rotating each cube one-half turn perpendicular to the long axis**"
   ]
  },
  {
   "cell_type": "markdown",
   "id": "f1e48e7b-080b-4399-bef7-6a1c88965192",
   "metadata": {},
   "source": [
    "Let $H$ be this half-turn operation.\n",
    "We can apply the $H$ operation twice before returning to the starting arrangement.\n",
    "Therefore, we need to further divide the number of arrangements by 2 to get the number of essentially distinct arrangements."
   ]
  },
  {
   "cell_type": "code",
   "execution_count": 7,
   "id": "32008e52-1564-4176-a008-19707d742705",
   "metadata": {},
   "outputs": [
    {
     "name": "stdout",
     "output_type": "stream",
     "text": [
      "41472\n"
     ]
    }
   ],
   "source": [
    "size_H = 2\n",
    "number_of_combinations_OQH = number_of_combinations_OQ // size_H\n",
    "\n",
    "print(number_of_combinations_OQH)"
   ]
  },
  {
   "cell_type": "markdown",
   "id": "4c20fa5e-7104-4aba-aa68-af71f96fac30",
   "metadata": {},
   "source": [
    "Success! We now understand where the number 41,472 comes from. \n",
    "It is the number of essentially distinct stacks if we consider stacks related by $O$, $Q$, or $H$ operations to be equivalent.\n",
    "Furthermore, as we will soon prove, there is exactly one $OQH$ family that solves the problem.\n",
    "Carteblanche was right.\n",
    "\n",
    "Relating this back to our variable $S$ we have"
   ]
  },
  {
   "cell_type": "code",
   "execution_count": 8,
   "id": "dcc63967-621c-4477-a6df-51b61c4892e9",
   "metadata": {},
   "outputs": [
    {
     "name": "stdout",
     "output_type": "stream",
     "text": [
      "7962624 192 41472\n"
     ]
    }
   ],
   "source": [
    "S = size_O * size_Q * size_H\n",
    "\n",
    "print(N, S, N // S)"
   ]
  },
  {
   "cell_type": "markdown",
   "id": "0488bbe2-0516-42af-9e60-f4669ad49bf0",
   "metadata": {},
   "source": [
    "There are around 8 million stacks but these are divided into families each consisting of 192 mutually equivalent stacks.\n",
    "The total number of essentially distinct stacks is $41,472$."
   ]
  },
  {
   "cell_type": "markdown",
   "id": "145f7c92-7e63-4268-8df4-02644ff08c7c",
   "metadata": {},
   "source": [
    "## Brute-Force Search\n",
    "\n",
    "We now know how many arrangements, namely 41,472, we'd have to check in order to find a solution.\n",
    "Given enough time and patience, we could systematically generate every possible essentially distinct arrangement\n",
    "and check if it was a solution. Mathematicians call this approach a *brute-force search*.\n",
    "\n",
    "How long would a brute-force search take?\n",
    "Suppose a human was doing the search. As a rough estimate, suppose it takes 1 second to rotate a cube and 1 second to check\n",
    "if the arrangement is a solution.\n",
    "Let's compute the total time."
   ]
  },
  {
   "cell_type": "code",
   "execution_count": 9,
   "id": "a996882a-189f-450c-bcd4-43e4247047e5",
   "metadata": {},
   "outputs": [
    {
     "name": "stdout",
     "output_type": "stream",
     "text": [
      "207360\n"
     ]
    }
   ],
   "source": [
    "seconds_per_combination = 5\n",
    "total_seconds = number_of_combinations_OQH * seconds_per_combination\n",
    "\n",
    "print(total_seconds)"
   ]
  },
  {
   "cell_type": "code",
   "execution_count": 10,
   "id": "1e14f129-7b5e-4643-a0cf-d5579dccd831",
   "metadata": {},
   "outputs": [
    {
     "name": "stdout",
     "output_type": "stream",
     "text": [
      "3456.0\n"
     ]
    }
   ],
   "source": [
    "seconds_per_minute = 60\n",
    "total_minutes = total_seconds / seconds_per_minute\n",
    "\n",
    "print(total_minutes)"
   ]
  },
  {
   "cell_type": "code",
   "execution_count": 11,
   "id": "6b82bf44-e50b-42a4-96ac-ee34de154ed9",
   "metadata": {},
   "outputs": [
    {
     "name": "stdout",
     "output_type": "stream",
     "text": [
      "57.6\n"
     ]
    }
   ],
   "source": [
    "minutes_per_hour = 60\n",
    "total_hours = total_minutes / minutes_per_hour\n",
    "\n",
    "print(total_hours)"
   ]
  },
  {
   "cell_type": "code",
   "execution_count": 12,
   "id": "3d4d6bba-054c-4b1b-8f0f-b124830a9e7e",
   "metadata": {},
   "outputs": [
    {
     "name": "stdout",
     "output_type": "stream",
     "text": [
      "2.4\n"
     ]
    }
   ],
   "source": [
    "hours_per_day = 24\n",
    "total_days = total_hours / hours_per_day\n",
    "\n",
    "print(total_days)"
   ]
  },
  {
   "cell_type": "markdown",
   "id": "2377aee3-8747-47c9-b57e-2c1d1c4efcea",
   "metadata": {},
   "source": [
    "Therefore, a human would find the solution if they worked nonstop for 2.4 days and made no errors.\n",
    "This is called the *worst case* time since it assumes that you are unlucky and have to generate all the combinations\n",
    "before you find the solution.\n",
    "\n",
    "Clearly, this puzzle is challenging which accounts for its popularity.\n",
    "The package states that over 20 million copies have been sold!"
   ]
  },
  {
   "cell_type": "markdown",
   "id": "3a680278-2360-48a7-ae1b-f98c56e43fa2",
   "metadata": {},
   "source": [
    "## Next\n",
    "\n",
    "How long would a computer take to find the solution? \n",
    "One of us actually tried this in 1967 using a Fortran 4 program running on their high school's IBM 1130 computer.\n",
    "Next, we'll write some Python code to perform the brute-force search and then optimize it for speed."
   ]
  }
 ],
 "metadata": {
  "kernelspec": {
   "display_name": "Python 3 (ipykernel)",
   "language": "python",
   "name": "python3"
  },
  "language_info": {
   "codemirror_mode": {
    "name": "ipython",
    "version": 3
   },
   "file_extension": ".py",
   "mimetype": "text/x-python",
   "name": "python",
   "nbconvert_exporter": "python",
   "pygments_lexer": "ipython3",
   "version": "3.11.11"
  }
 },
 "nbformat": 4,
 "nbformat_minor": 5
}
