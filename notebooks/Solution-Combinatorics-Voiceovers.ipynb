{
 "cells": [
  {
   "cell_type": "markdown",
   "id": "863a1ab7-c5c1-4c05-8714-6a36a1e7886e",
   "metadata": {},
   "source": [
    "# Solution Combinatorics with Voiceovers\n",
    "*Arthur Ryman, last updated 2025-06-26*\n",
    "\n",
    "[<img src=\"images/colab-badge.png\" alt=\"Open in Colab\" style=\"width: 15%;\">\n",
    "](https://colab.research.google.com/github/agryman/instant-insanity/blob/main/notebooks/Solution-Combinatorics-Voiceovers.ipynb)"
   ]
  },
  {
   "cell_type": "markdown",
   "id": "fcf2bb17-d85a-466a-a284-a7dad2d12842",
   "metadata": {},
   "source": [
    "## Introduction\n",
    "\n",
    "This notebook focuses on the combinatorics of the Instant Insanity puzzle, namely how to count the number of combinations of the cubes.\n",
    "Other notebooks will focus on other aspects of the puzzle such as its graph theory solution and history.\n",
    "\n",
    "This notebook contains both voiceovers and explanatory text.\n",
    "The voiceovers are intended for use in the video.\n",
    "The explanatory text goes into more detail but may be too detailed for use in video."
   ]
  },
  {
   "cell_type": "markdown",
   "id": "500374bb-4a37-4de3-9d06-3f9bff7eeae0",
   "metadata": {},
   "source": [
    "## Change History\n",
    "\n",
    "This is a working document and will be edited frequency.\n",
    "Each voiceover is placed in a text file.\n",
    "\n",
    "### 2025-06-26\n",
    "\n",
    "The first draft of all the voiceovers is complete.\n",
    "\n",
    "### 2025-06-19\n",
    "\n",
    "Moved the discussion of the Cube Colour Table out of the Graph Theory notebook and into this notebook.\n",
    "\n",
    "### 2025-05-17\n",
    "\n",
    "Added start times for the YouTube videos as per \n",
    "[Issue 23](https://github.com/agryman/instant-insanity/issues/23):\n",
    "* Robin Wilson https://www.youtube.com/watch?v=sI7lX3M7OZo&t=46s\n",
    "* Tai-Danae Bradley https://www.youtube.com/watch?v=Lw1pF47N-0Q&t=65s"
   ]
  },
  {
   "cell_type": "markdown",
   "id": "1c1d7752-71f8-4af3-afca-11d17cbcb6f7",
   "metadata": {},
   "source": [
    "## Combinatorics\n",
    "\n",
    "This section should come after the general introduction to the puzzle.\n",
    "We should have already described the puzzle and defined what it means to solve it, namely you are required to line up the four cubes in a horizontal row such that\n",
    "no colour is repeated along the front, back, top, or bottom sides."
   ]
  },
  {
   "cell_type": "markdown",
   "id": "259d3865-a77d-4cef-b251-d4921a8f4657",
   "metadata": {},
   "source": [
    "This notebook shows how to compute the total number of combinations of the Instant Insanity puzzle.\n",
    "The branch of mathematics that focuses on how to count combinations is called *Combinatorics*.\n",
    "The number of combinations for any puzzle is very interesting since it indicates how hard it is to solve the\n",
    "puzzle."
   ]
  },
  {
   "cell_type": "markdown",
   "id": "259a2b22-bcc4-4dde-bfa4-7e1eb11f4a57",
   "metadata": {},
   "source": [
    "## Scene: How Difficult is This Puzzle?\n",
    "\n",
    "The purpose of this scene is to give the viewer a feel for the difficulty of the puzzle.\n",
    "\n",
    "Show an animation that hints at the difficulty of searching for a solution.\n",
    "Show the row of four cubes. \n",
    "Pick one cube at random and give it a random rotation, then check if we have a solution.\n",
    "Maybe show a big red X and a buzzer sound like in game shows.\n",
    "Keep repeating this process to show that simply trying random arrangements would be very unlikely to succeed."
   ]
  },
  {
   "cell_type": "code",
   "execution_count": 1,
   "id": "d6cfa9d6-b8d7-4409-8176-4649088160d6",
   "metadata": {},
   "outputs": [
    {
     "name": "stdout",
     "output_type": "stream",
     "text": [
      "How difficult is it to solve the puzzle?\n",
      "One way to solve it is to try every possible combination of the cubes until we find one that works.\n",
      "In computer science, this solution strategy is called a brute-force search.\n",
      "In the absence of any further insight into how to solve the puzzle,\n",
      "its difficulty is therefore directly proportional to the total number of combinations.\n",
      "\n",
      "So how many combinations are there?\n"
     ]
    }
   ],
   "source": [
    "!cat voiceovers/combinatorics/how-difficult-is-this-puzzle.txt"
   ]
  },
  {
   "cell_type": "markdown",
   "id": "c610ca82-7632-488f-82ec-406dfb9e0ff5",
   "metadata": {},
   "source": [
    "## Scene: 82,944 or 41,472?\n",
    "\n",
    "The purpose of this scene is to introduce the minor controversy about conflicting claims for the number of combinations.\n",
    "\n",
    "Show the text \"82,944 or 41,472?\""
   ]
  },
  {
   "cell_type": "code",
   "execution_count": 2,
   "id": "33348524-8d43-4d6e-bc44-aced9bbb6528",
   "metadata": {},
   "outputs": [
    {
     "name": "stdout",
     "output_type": "stream",
     "text": [
      "How difficult is it to solve the puzzle?\n",
      "One way to solve it is to try every possible combination of the cubes until we find one that works.\n",
      "In computer science, this solution strategy is called a brute-force search.\n",
      "In the absence of any further insight into how to solve the puzzle,\n",
      "its difficulty is therefore directly proportional to the total number of combinations.\n",
      "\n",
      "So how many combinations are there?\n"
     ]
    }
   ],
   "source": [
    "!cat voiceovers/combinatorics/how-difficult-is-this-puzzle.txt"
   ]
  },
  {
   "cell_type": "markdown",
   "id": "1df9b839-e9f7-402d-a162-ffa17cba0dd1",
   "metadata": {},
   "source": [
    "## Scene: Winning Solutions - 82,944\n",
    "\n",
    "Source: [Instant Insanity](https://winning-moves.com/product/InstantInsanity.asp)\n",
    "\n",
    "The purpose of this scene is to establish that the puzzle package claims there are 82,944 combinations.\n",
    "\n",
    "Show the puzzle package and the text: \"82,944 Combinations. Can You Solve It?\"\n",
    "\n",
    "<div style=\"text-align: center;\">\n",
    "    <img src=\"images/package-front.jpeg\" alt=\"Instant Insanity package\" style=\"width: 25%;\">\n",
    "</div>"
   ]
  },
  {
   "cell_type": "code",
   "execution_count": 3,
   "id": "aabe1076-107b-48bc-b3ec-20237451fee1",
   "metadata": {},
   "outputs": [
    {
     "name": "stdout",
     "output_type": "stream",
     "text": [
      "The 2024 Winning Solutions Instant Insanity package advertises 82,944 combinations.\n"
     ]
    }
   ],
   "source": [
    "!cat voiceovers/combinatorics/winning-solutions.txt"
   ]
  },
  {
   "cell_type": "markdown",
   "id": "2e1017b4-796f-4e65-b280-00de4fcc1a1e",
   "metadata": {},
   "source": [
    "## Scene: Robin Wilson, Gresham College - 82,944\n",
    "\n",
    "Source: [The Four Cubes Problem](https://youtu.be/sI7lX3M7OZo?si=ijtOwtu-WV1sY4lH)\n",
    "\n",
    "The purpose of this scene is to establish that the Robin Wilson video claims there are 82,944 combinations.\n",
    "\n",
    "Play a clip from the YouTube video where Robin Wilson says there are 82,944 combinations.\n",
    "\n",
    "Starting at 0:46 https://youtu.be/sI7lX3M7OZo?t=46, he says:\n",
    "\n",
    "> I've only got five minutes left. Unfortunately, there are 82,944 ways of stacking them and only one way works.\n",
    "\n",
    "He then shows a diagram at the 1:01 mark which contains the statement:\n",
    "\n",
    "> 82944 ways - only one works.\n",
    "\n",
    "End the clip after 1:01 mark showing the diagram for a few seconds."
   ]
  },
  {
   "cell_type": "code",
   "execution_count": 4,
   "id": "3c97ffb4-86a4-4b98-b637-9d9d28b03e82",
   "metadata": {},
   "outputs": [
    {
     "name": "stdout",
     "output_type": "stream",
     "text": [
      "The 2008 Gresham College lecture, \n",
      "The Four Cubes Problem by Robin Wilson, Gresham Professor of Geometry, \n",
      "gives the number as 82,944.\n"
     ]
    }
   ],
   "source": [
    "!cat voiceovers/combinatorics/robin-wilson.txt"
   ]
  },
  {
   "cell_type": "markdown",
   "id": "027d4920-b209-4633-8f55-6e5dedf90e3d",
   "metadata": {},
   "source": [
    "## Scene: Tai-Danae Bradley, PBS Infinite Series: 82,944\n",
    "\n",
    "Source: [Instant Insanity Puzzle](https://youtu.be/Lw1pF47N-0Q?si=WX3NlcEhPNLdY6Na)\n",
    "\n",
    "The purpose of this scene is to establish that the Tai-Danae Bradley video claims there are 82,944 combinations.\n",
    "\n",
    "Play a clip from the YouTube video where Tai-Danae Bradley video says there are 82,944 combinations.\n",
    "\n",
    "At 1:05 https://youtu.be/Lw1pF47N-0Q?t=65 she says:\n",
    "\n",
    "> All right, there are thousands of different configurations that we can make with these cubes, 82,944\n",
    "> to be exact, which is why this is often called the Instant Insanity puzzle.\n",
    "\n",
    "End the clip at 1:17 showing the frame that displays the word: 82,944 configurations Instant Insanity Puzzle"
   ]
  },
  {
   "cell_type": "code",
   "execution_count": 5,
   "id": "71d1fc99-4b7d-48bd-a1c2-1b82acd49111",
   "metadata": {},
   "outputs": [
    {
     "name": "stdout",
     "output_type": "stream",
     "text": [
      "The 2018 PBS Infinite Series video, \n",
      "Instant Insanity Puzzle by Tai-Danae Bradley,\n",
      "also gives the number as 82,944.\n"
     ]
    }
   ],
   "source": [
    "!cat voiceovers/combinatorics/tai-danae-bradley.txt"
   ]
  },
  {
   "cell_type": "markdown",
   "id": "cf0bd98b-e5f6-4605-bafa-571bc32dc041",
   "metadata": {},
   "source": [
    "## Scene: F. de Carteblanche, Eureka: 41,472\n",
    "\n",
    "See: [The Coloured Cubes Problem\n",
    "](https://onedrive.live.com/?authkey=%21AG4HZAmpHD0fSWs&cid=BF134020839BC69B&id=BF134020839BC69B%21210&parId=BF134020839BC69B%21147&o=OneUp)\n",
    "\n",
    "The purpose of this scene is to establish that the 1947 Carteblanche paper claims there are 41,472 combinations.\n",
    "\n",
    "Show the statement from the 1947 Carteblanche paper.\n",
    "\n",
    "<div style=\"text-align: center;\">\n",
    "    <img src=\"images/the-chance-is-1-in-41472.png\" alt=\"The Chance is 1 in 41472\" style=\"width: 50%;\">\n",
    "</div>"
   ]
  },
  {
   "cell_type": "code",
   "execution_count": 6,
   "id": "5810fd53-4e2c-47ec-8708-bbd1f4557462",
   "metadata": {},
   "outputs": [
    {
     "name": "stdout",
     "output_type": "stream",
     "text": [
      "The 1947 Eureka paper, \n",
      "The Coloured Cubes Problem by F. de Carteblanche \n",
      "which gives the elegant graph theory solution to the problem states that \n",
      "if you pick a random arrangement of the cubes your chance of it being a solution is 1 in 41,472.\n",
      "At that time, the puzzle was called the Tantalizer.\n",
      "F. de Carteblanche was the pseudonym of a group of four Cambridge mathematics students \n",
      "which included the future eminent graph theorist Bill Tutte.\n"
     ]
    }
   ],
   "source": [
    "!cat voiceovers/combinatorics/f-de-carteblanche.txt"
   ]
  },
  {
   "cell_type": "markdown",
   "id": "f00025d1-d75f-4c38-85a0-1a362b95c928",
   "metadata": {},
   "source": [
    "## Scene: Which Number is Correct?\n",
    "\n",
    "The purpose of this scene is to present the conflicting claims side-by-side.\n",
    "\n",
    "Show the puzzle box (82,944) and the 1947 Carteblanche paper (41,472) side-by-side, highlighting the two numbers."
   ]
  },
  {
   "cell_type": "code",
   "execution_count": 7,
   "id": "a55d7e5c-0bdb-40f9-a1ae-737538385af5",
   "metadata": {},
   "outputs": [
    {
     "name": "stdout",
     "output_type": "stream",
     "text": [
      "Neither the original 1947 Carteblanche paper \n",
      "nor the YouTube videos actually show us how they arrived at their numbers.\n",
      "\n",
      "Let's use some combinatorics to compute the answer ourselves.\n"
     ]
    }
   ],
   "source": [
    "!cat voiceovers/combinatorics/which-number-is-correct.txt"
   ]
  },
  {
   "cell_type": "markdown",
   "id": "58c0c663-7301-474c-96bf-cb3fe3e84f1b",
   "metadata": {},
   "source": [
    "## Scene: The Face-Colour Table\n",
    "\n",
    "The purpose of this scene is to explain how Carteblanche assigned names\n",
    "to the cubes and their faces and organized the face colours into a table.\n",
    "\n",
    "Start by showing the following table from\n",
    "p9 of the 1947 Carteblanche paper.\n",
    "\n",
    "<div style=\"text-align: center;\">\n",
    "    <img src=\"images/face-colour-table.png\" alt=\"Face Colour Table\" style=\"width: 50%;\">\n",
    "</div>"
   ]
  },
  {
   "cell_type": "code",
   "execution_count": 8,
   "id": "a25d066b-cc11-4771-b7a4-d0fc5f784bc0",
   "metadata": {},
   "outputs": [
    {
     "name": "stdout",
     "output_type": "stream",
     "text": [
      "Let's start the process of counting the number of combinations by first assigning names to\n",
      "the cubes and their faces.\n",
      "Fortunately, Carteblanche defined a nice naming scheme so we'll use that.\n",
      "Carteblanche describes his scheme as follows:\n",
      "\n",
      "In order to make the discussion clearer we shall give names to\n",
      "the faces of the cubes in this way: the front, or nearest face will\n",
      "be named the x face; and opposite face, or back, will be named\n",
      "the x’ face. On the right will be the y face, and on the left the\n",
      "y’ face. The top will be the z face and the bottom the z’ face.\n",
      "\n",
      "The letters correspond to the usual x-y-z axes of three-dimensional space oriented using the so-called right-hand rule.\n",
      "If you grab the z-axis with your right hand pointing your thumb in the positive z direction then\n",
      "your fingers point in the direction of a rotation that sends the x-axis towards the y-axis.\n",
      "\n",
      "Carteblanche summarized the face colours in a table.\n",
      "Let's call this a face-colour table.\n",
      "Here the face colours are G for green, R for red, O for orange, and W for white\n",
      "which were the colours used in the 1947 version of the puzzle known as the Tantalizer.\n"
     ]
    }
   ],
   "source": [
    "!cat voiceovers/combinatorics/the-face-colour-table-1.txt"
   ]
  },
  {
   "attachments": {},
   "cell_type": "markdown",
   "id": "62998c12-bce4-4195-bb4c-09988cbe6d79",
   "metadata": {},
   "source": [
    "For bonus marks show an animation where we start with the four cubes and the table with no colours filled in.\n",
    "Then animate the process of filling in the face-colour table for Instant Insanity.\n",
    "\n",
    "Start by showing a horizontal row of the four cubes and an empty face-colour table.\n",
    "The perspective on the cubes should be chosen so that the front, right, and top faces are visible.\n",
    "\n",
    "Fade in the numbers from 1 to 4 to name the cubes.\n",
    "\n",
    "Fade in the names x, y, and z on the front, right, and top faces of each cube.\n",
    "\n",
    "The animation should fill in the table one cube at a time.\n",
    "\n",
    "Animate unfolding the cubes and add the names x', y', and z' to the back, left, and bottom faces.\n",
    "\n",
    "Animate rearranging the faces of each flattened cube into a vertical column of six faces \n",
    "in the order x, x', y, y', z, z'.\n",
    "\n",
    "Animate moving the faces into the face-colour table.\n",
    "\n",
    "Here is the filled-in version of the face-colour table for Instant Insanity.\n",
    "\n",
    "<div style=\"text-align: center;\">\n",
    "    <img src=\"images/latex/instant-insanity-table.png\" alt=\"Instant Insanity Face Colours\" style=\"width: 75%;\">\n",
    "</div>"
   ]
  },
  {
   "cell_type": "code",
   "execution_count": 9,
   "id": "b8651152-0055-4c52-b12b-7d6eefa4a566",
   "metadata": {},
   "outputs": [
    {
     "name": "stdout",
     "output_type": "stream",
     "text": [
      "Let's apply this naming scheme to the Instant Insanity puzzle currently sold by Winning Moves.\n",
      "\n",
      "First arrange the four cubes in some order name them 1, 2, 3, and 4.\n",
      "Any order will do.\n",
      "\n",
      "Next orient each cube by chosing one of its six faces to be the top\n",
      "and one of the four adjacent faces to be the front.\n",
      "Any orientation will do.\n",
      "Name the front, right, and top faces as x, y, and z.\n",
      "Name their opposite faces as x', y', and z'.\n",
      "\n",
      "Now all the cubes and faces have been named so we can fill in the table with their colours.\n",
      "Use G for green, R for red, B for blue, and W for white.\n"
     ]
    }
   ],
   "source": [
    "!cat voiceovers/combinatorics/the-face-colour-table-2.txt"
   ]
  },
  {
   "cell_type": "markdown",
   "id": "92eb1921-b4ca-4112-b50b-b871d6dc276f",
   "metadata": {},
   "source": [
    "Continue discussing the face-colour table.\n",
    "When the voiceover mentions face 3y', highlight its row and column showing the B entry.\n",
    "Similarly, highlight the front and top rows, and then the back and bottom rows, when the voiceover\n",
    "mentions them."
   ]
  },
  {
   "cell_type": "code",
   "execution_count": 10,
   "id": "f07cb6cb-b31e-49a6-b009-f151b734fba2",
   "metadata": {},
   "outputs": [
    {
     "name": "stdout",
     "output_type": "stream",
     "text": [
      "For example, face 3y' is the name of the left face of cube 3.\n",
      "It's colour is given in the cell at row y' and column 3 of the face-colour table.\n",
      "We can look up the colour of this face in the table and see that it is B which stands for blue.\n",
      "\n",
      "There is nothing remarkable about this particular way of ordering and orienting the cubes\n",
      "other than the fact that both the front and top faces contain each colour once.\n",
      "However, the back and bottom faces contain some repeated colours so we do not have a solution yet.\n",
      "We need to do some searching.\n"
     ]
    }
   ],
   "source": [
    "!cat voiceovers/combinatorics/the-face-colour-table-3.txt"
   ]
  },
  {
   "cell_type": "markdown",
   "id": "46034873-cc22-49b8-b17d-54756966ae39",
   "metadata": {},
   "source": [
    "## Scene: Combinations and Solutions\n",
    "\n",
    "The purpose of this scene is to precisely define the terms combination and solution, \n",
    "and to settle on using a horizontal row when displaying combinations, rather than a vertical stack.\n",
    "\n",
    "Show a vertical stack solution and the sentence from the 1947 Carteblache paper that says:\n",
    "\n",
    "> The problem is to stack these cubes in a vertical pile (thus forming a square prism) in such a way that each of the four vertical faces of this pile contains all four colours.\n",
    "\n",
    "Show a horizontal row solution and the sentence from the back of the puzzle box that says:\n",
    "\n",
    "> Can you arrange the cubes in a row or stack so that all four colors appear on each side?\n",
    "\n",
    "Maybe split the screen into left and right frames and show a vertical stack on the left and \n",
    "a horizontal row on the right, with the textual quotes below them."
   ]
  },
  {
   "cell_type": "code",
   "execution_count": 11,
   "id": "8428207d-d59c-480b-96e4-8ee4a9010c09",
   "metadata": {},
   "outputs": [
    {
     "name": "stdout",
     "output_type": "stream",
     "text": [
      "Now let's precisely define what we mean by a combination of the cubes and a solution of the puzzle.\n",
      "\n",
      "The 1947 Carteblanche paper describes the goal of the puzzle as follows:\n",
      "\n",
      "The problem is to stack these cubes in a vertical pile (thus forming a square prism) \n",
      "in such a way that each of the four vertical faces of this pile contains all four colours.\n",
      "\n",
      "The Winning Moves puzzle box asks:\n",
      "\n",
      "Can you arrange the cubes in a row or stack so that all four colors appear on each side?\n",
      "\n",
      "Clearly, it doesn't matter if we arrange the cubes in a vertical stack or a horizontal row because we can\n",
      "easily turn one into the other.\n",
      "In this video, we'll work with the cubes in a horizonal row.\n",
      "\n",
      "We'll use the following terminology.\n",
      "\n",
      "A combination is any arrangement of the four cubes in a row.\n",
      "The cubes can be in any order and each cube can have any orientation.\n",
      "\n",
      "A solution is any combination in which the top, front, bottom, and back rows of four faces each contain\n",
      "all four colours.\n"
     ]
    }
   ],
   "source": [
    "!cat voiceovers/combinatorics/combinations-and-solutions.txt"
   ]
  },
  {
   "cell_type": "markdown",
   "id": "4e45dffa-af12-45f6-84ce-e8688b4ba5f3",
   "metadata": {},
   "source": [
    "## Scene: The Probability of a Solution\n",
    "\n",
    "The purpose of this scene is to define the probability of a solution.\n",
    "\n",
    "Show the following mathematical formula (images/latex/solution-probability.png):\n",
    "\n",
    "<div style=\"text-align: center;\">\n",
    "    <img src=\"images/latex/solution-probability.png\" alt=\"Solution Probability\" style=\"width: 50%;\">\n",
    "</div>"
   ]
  },
  {
   "cell_type": "code",
   "execution_count": 12,
   "id": "f7153870-be36-491e-8115-03dada04b65d",
   "metadata": {},
   "outputs": [
    {
     "name": "stdout",
     "output_type": "stream",
     "text": [
      "Carteblanche makes the following claim:\n",
      "\n",
      "The chance of obtaining the solution by a random arrangement of the cubes is only 1 in 41,472.\n",
      "\n",
      "The chance of an event is its relative frequency which is also known as its probability.\n",
      "The probability of an event is some number between 0 and 1 where 0 means the event will never occur\n",
      "and 1 means the event will always occur.\n",
      "Probabilities greater than 0 and less than 1 quantify the degree to which the event may or may not occur.\n",
      "\n",
      "To compute the probability of an event in which all possible outcomes are equally likely,\n",
      "we need to divide the number of outcomes that satisfy the conditions for the event\n",
      "by the total number of possible outcomes.\n",
      "\n",
      "For example, the probability that a flip of a fair coin will come up heads is one half\n",
      "because there are two possible outcomes, namely heads or tails, and only one of them is the event\n",
      "we are looking for, namely heads.\n",
      "\n",
      "Therefore, to compute the probability that a random combination is a solution,\n",
      "we need to compute the number of solutions and the number of combinations.\n",
      "\n",
      "Let N be the total number of possible cube combinations and let S be the total number of solutions.\n",
      "Let P be the probability that a randomly chosen combination is a solution.\n",
      "The probability P is therefore the number of solutions S divided by the number of combinations N.\n",
      "\n",
      "Let's compute N and S and see what we get for P.\n"
     ]
    }
   ],
   "source": [
    "!cat voiceovers/combinatorics/the-probability-of-a-solution.txt"
   ]
  },
  {
   "attachments": {},
   "cell_type": "markdown",
   "id": "c267b33c-6ca5-4e00-9863-a3daccbe77be",
   "metadata": {},
   "source": [
    "## Scene: Generating all Possible Combinations\n",
    "\n",
    "The purpose of this scene is to show what it means to generate a random combination.\n",
    "\n",
    "Animate a random cube combination generator.\n",
    "For example, put the cubes in a box or bag and then draw them out one at a one.\n",
    "Or, this could be like one of those lottery machines that scrambles numbered balls and pumps them out one at a time to produce the winning number.\n",
    "Alternatively, it could be a physics simulation of dropping the four cubes and then lining them up in a horizontal row.\n"
   ]
  },
  {
   "cell_type": "code",
   "execution_count": 13,
   "id": "9e8c21ce-f069-492a-8163-dad512538394",
   "metadata": {},
   "outputs": [
    {
     "name": "stdout",
     "output_type": "stream",
     "text": [
      "We can generate all possible combinations by performing the following random procedure.\n",
      "Put the four cubes in a bag, shake it, draw out the cubes one at a time, and arrange them in a row.\n",
      "If we repeat this procedure often enough then it will eventually generate all possible combinations.\n",
      "\n",
      "How many different combinations are there?\n"
     ]
    }
   ],
   "source": [
    "!cat voiceovers/combinatorics/generating-all-possible-combinations.txt"
   ]
  },
  {
   "cell_type": "markdown",
   "id": "2f83ab19-68a7-4fac-8d0e-53847823b14a",
   "metadata": {},
   "source": [
    "## Scene: Naming Combinations\n",
    "\n",
    "The purpose of this scene is to explain how we can use the cube and face naming scheme to name combinations\n",
    "\n",
    "Show the row of cubes defined by the four-tuple (3y'z, 1xy, 4x'z, 2zx).\n",
    "Include all the visible face names."
   ]
  },
  {
   "cell_type": "code",
   "execution_count": 14,
   "id": "32748c24-c3cd-4418-bcb0-3f0cd56ceb4e",
   "metadata": {},
   "outputs": [
    {
     "name": "stdout",
     "output_type": "stream",
     "text": [
      "We can use Carteblanche's cube and face names to describe any combination.\n",
      "\n",
      "Each cube is labelled with a number from 1 to 4.\n",
      "We can specify the orientation of a cube by saying which face is on top and which face is in front.\n",
      "We'll refer to a cube together with an orientation as an oriented cube.\n",
      "\n",
      "For example, suppose cube 3 is oriented with face y' on top face z in front.\n",
      "We can label this oriented cube as 3y'z.\n",
      "\n",
      "A combination consists of a row of four oriented cubes.\n",
      "We can specify the combination by listing the labels of the oriented cubes from left to right.\n",
      "\n",
      "For example the list (3y'z, 1xy, 4x'z, 2zx) specifies the combination\n",
      "in which cube 3 is on the extreme left, followed by cubes 1, 4, and 2 from left right in that order.\n",
      "Cube 3 is oriented with face y' on top and face z in front.\n",
      "Cube 1 is oriented with face x on top and face y in front.\n",
      "And so on for cubes 4 and 2.\n"
     ]
    }
   ],
   "source": [
    "!cat voiceovers/combinatorics/naming-combinations.txt"
   ]
  },
  {
   "cell_type": "markdown",
   "id": "65cf5999-b6fe-4e7a-ab9b-48fd90ec7fde",
   "metadata": {},
   "source": [
    "## Scene: Counting the Number of Cube Orderings\n",
    "\n",
    "The purpose of this scene is to count the number of cube orderings.\n",
    "\n",
    "A nice way to visualize this is to create a horizontally oriented tree.\n",
    "\n",
    "Put the root node on the left. It represents and empty sequence of cubes.\n",
    "\n",
    "We need to pick the first cube in the order.\n",
    "There are four choices so draw 4 arcs from the root to each of the choices.\n",
    "We could draw the cube with its name or just the name.\n",
    "\n",
    "Next we choose the second cube.\n",
    "There are now only three possible choices so draw three arcs from the first cube to each of the three possible second cubes.\n",
    "\n",
    "Proceed until all four cubes have been chosen.\n",
    "The final tree has 24 leaf nodes.\n",
    "\n",
    "Animate counting the leaf nodes by writing the numbers 1 to 24 to the right of each root node."
   ]
  },
  {
   "cell_type": "code",
   "execution_count": 15,
   "id": "74c349fb-dae4-43e0-88c7-8e853901c378",
   "metadata": {},
   "outputs": [
    {
     "name": "stdout",
     "output_type": "stream",
     "text": [
      "Our goal is to count the total number of possible combinations.\n",
      "A combination consists of an ordering of the cubes together with an orientation for each cube.\n",
      "Let's start by counting the total number of possible cube orderings.\n",
      "\n",
      "We'll build up each ordering from left to right and keep track of our progress in a decision tree.\n",
      "Each cube ordering requires us to make four choices, namely which cube goes in each position.\n",
      "We have four choices for the first cube.\n",
      "After we have made the first choice there are three cubes left so for each choice of the first cube we have three possibilities left for the second cube.\n",
      "Similarly, for each ordering of the first two cubes we have two possibilities left for the third cube.\n",
      "Finally, for each ordering of the first three cubes we only have one possibility left for the four cube.\n",
      "\n",
      "Count all the cube orderings. There are 24 of them.\n"
     ]
    }
   ],
   "source": [
    "!cat voiceovers/combinatorics/counting-the-number-of-cube-orderings.txt"
   ]
  },
  {
   "cell_type": "markdown",
   "id": "2c48c688-0124-4c9a-9910-3ab1cf242d30",
   "metadata": {},
   "source": [
    "## Scene: Factorials\n",
    "\n",
    "The purpose of this scene is to make contact with the concept of permuations and the factorial function.\n",
    "\n",
    "Show an image of the math formula for $n!$ (images/latex/n-factorial.png):\n",
    "\n",
    "<div style=\"text-align: center;\">\n",
    "  <img src=\"images/latex/n-factorial.png\" alt=\"n Factorial\" style=\"width: 50%;\">\n",
    "</div>\n",
    "\n",
    "Then fade that general formula into the case $n = 4$ giving the answer $24$ (images/latex/4-factorial.png):\n",
    "\n",
    "<div style=\"text-align: center;\">\n",
    "  <img src=\"images/latex/4-factorial.png\" alt=\"4 Factorial\" style=\"width: 50%;\">\n",
    "</div>"
   ]
  },
  {
   "cell_type": "code",
   "execution_count": 16,
   "id": "6de18c82-b951-467a-abc3-d28128e9886d",
   "metadata": {},
   "outputs": [
    {
     "name": "stdout",
     "output_type": "stream",
     "text": [
      "Combinatorics is the branch of mathematics that tells us how to count things.\n",
      "\n",
      "One of the most important cases in combinatorics is how to count the number of ways that you can arrange a set of distinct objects in some order.\n",
      "An arrangement of a set of distinct objects in some order is called a permuation of that set.\n",
      "\n",
      "Combinatorics tells us that there are n factorial permutations of a set of n distinct objects.\n",
      "To see this, observe that there are n ways to pick the first object, \n",
      "then for each choice of the first object there are n minus 1 ways to pick the second, and so on.\n",
      "\n",
      "This is exactly how we counted the number of cube orderings.\n",
      "There are four cubes and so combinatorics tells us there are four factorial ordering.\n",
      "But four factorial equals twenty-four which is the result we obtained by enumerating all the orderings.\n"
     ]
    }
   ],
   "source": [
    "!cat voiceovers/combinatorics/factorials.txt"
   ]
  },
  {
   "cell_type": "markdown",
   "id": "a12a39bf-46d4-4944-9d0f-bf25d61dde1c",
   "metadata": {},
   "source": [
    "## Scene: The factorial Function in Python\n",
    "\n",
    "This is an optional scene.\n",
    "\n",
    "The purpose of this scene is to show how Python supports combinatorics.\n",
    "Show the following Jupyter notebook Python cells."
   ]
  },
  {
   "cell_type": "code",
   "execution_count": 17,
   "id": "3435fb20-4551-4d87-9398-69026c9563a5",
   "metadata": {},
   "outputs": [
    {
     "name": "stdout",
     "output_type": "stream",
     "text": [
      "Python has some built-in support for combinatorics.\n",
      "\n",
      "Let's compute four factorial using expicit multiplication.\n"
     ]
    }
   ],
   "source": [
    "!cat voiceovers/combinatorics/the-factorial-function-in-python-1.txt"
   ]
  },
  {
   "cell_type": "code",
   "execution_count": 18,
   "id": "28f91b0d-6662-418c-b860-05dec6154d36",
   "metadata": {},
   "outputs": [
    {
     "data": {
      "text/plain": [
       "24"
      ]
     },
     "execution_count": 18,
     "metadata": {},
     "output_type": "execute_result"
    }
   ],
   "source": [
    "4 * 3 * 2 * 1\n"
   ]
  },
  {
   "cell_type": "code",
   "execution_count": 19,
   "id": "216e0c41-fcfb-4113-9a55-0293b93e41a6",
   "metadata": {},
   "outputs": [
    {
     "name": "stdout",
     "output_type": "stream",
     "text": [
      "Python has a built-in factorial function.\n",
      "\n",
      "Import it from the math package and use it to compute the number of cube orderings.\n"
     ]
    }
   ],
   "source": [
    "!cat voiceovers/combinatorics/the-factorial-function-in-python-2.txt"
   ]
  },
  {
   "cell_type": "code",
   "execution_count": 20,
   "id": "9d5d0735-ae4c-4004-ae7d-f658a949d30a",
   "metadata": {},
   "outputs": [
    {
     "name": "stdout",
     "output_type": "stream",
     "text": [
      "24\n"
     ]
    }
   ],
   "source": [
    "from math import factorial\n",
    "\n",
    "number_of_cube_orderings = factorial(4)\n",
    "\n",
    "print(number_of_cube_orderings)"
   ]
  },
  {
   "cell_type": "markdown",
   "id": "9caa066c-7f2d-4a84-be61-0a818522ba3b",
   "metadata": {},
   "source": [
    "## Scene: Counting the Number of Cube Orientations\n",
    "\n",
    "The purpose of this scene is to count the number of cube orientations.\n",
    "We'll build up each orientation by first choosing the top face and then choosing the front face.\n",
    "\n",
    "Start with an animation showing a cube. \n",
    "Rotate the cube slowly about each axis so that we can see the face names x, y, z, x', y', and z'.\n",
    "\n",
    "Next we'll build up a decision tree from left to right.\n",
    "The leftmost node is the tree root which represents no choices yet.\n",
    "\n",
    "We'll choose the top face first.\n",
    "Draw six lines from the root to nodes that represent the six possible top faces x, y, z, x', y', and z'.\n",
    "\n",
    "Then draw four lines from each of the six possible top face nodes to four more nodes that represent the possible front faces.\n",
    "\n",
    "The following table summarizes the possible choices for the front face given a choice for the top face.\n",
    "| Number | Top | Front |\n",
    "|--------|-----|-------|\n",
    "| 1 | x | y, z, y', z' |\n",
    "| 2 | x' | y, z, y', z' |\n",
    "| 3 | y | x, z, x', z' |\n",
    "| 4 | y' | x, z, x', z' |\n",
    "| 5 | z | x, y, x', y' |\n",
    "| 6 | z' | x, y, x', y' |"
   ]
  },
  {
   "cell_type": "code",
   "execution_count": 21,
   "id": "219bfe8e-517e-47dd-9ed6-ef8f56edbbd2",
   "metadata": {},
   "outputs": [
    {
     "name": "stdout",
     "output_type": "stream",
     "text": [
      "How many ways can a single cube be oriented?\n",
      "\n",
      "We can specify an orientation by saying which face is on top and which face is in front.\n",
      "Let's count the number of orientations.\n",
      "\n",
      "We'll use another basic theorem of combinatorics. \n",
      "If we have two sets of things, say A containing n things and B containing m things\n",
      "then the number of ways we can pair things from A with things from B is n times m.\n",
      "\n",
      "Here are we are pairing top faces with front faces.\n",
      "\n",
      "A cube has 6 faces. Therefore, there are 6 ways to pick the top face.\n"
     ]
    }
   ],
   "source": [
    "!cat voiceovers/combinatorics/counting-the-number-of-cube-orientations-1.txt"
   ]
  },
  {
   "cell_type": "markdown",
   "id": "b057de67-079e-4cb8-9288-5533cfbca1fd",
   "metadata": {},
   "source": [
    "Finally, count the number of the leaf nodes.\n",
    "There are 24. Draw each cube to the right of the corresponding leaf node.\n",
    "\n",
    "Here is a table of the orientations.\n",
    "\n",
    "| Number | Top | Front |\n",
    "|--------|-----|-------|\n",
    "| 1 | x | y |\n",
    "| 2 | x | z |\n",
    "| 3 | x | y' |\n",
    "| 4 | x | z' |\n",
    "| 5 | x' | y |\n",
    "| 6 | x' | z |\n",
    "| 7 | x' | y' |\n",
    "| 8 | x' | z' |\n",
    "| 9 | y | x |\n",
    "| 10 | y | z |\n",
    "| 11 | y | x' |\n",
    "| 12 | y | z' |\n",
    "| 13 | y' | x |\n",
    "| 14 | y' | z |\n",
    "| 15 | y' | x' |\n",
    "| 16 | y' | z |\n",
    "| 17 | z | x |\n",
    "| 18 | z | y |\n",
    "| 19 | z | x' |\n",
    "| 20 | z | y' |\n",
    "| 21 | z' | x |\n",
    "| 22 | z' | y |\n",
    "| 23 | z' | x' |\n",
    "| 24 | z' | y' |"
   ]
  },
  {
   "cell_type": "code",
   "execution_count": 22,
   "id": "0697660e-95a5-4ddc-814b-e55c0e444295",
   "metadata": {},
   "outputs": [
    {
     "name": "stdout",
     "output_type": "stream",
     "text": [
      "Having picked the top face, we can pick any of the four adjacent faces as the front face by spinning the cube about its vertical axis.\n",
      "\n",
      "Therefore, the total number of cube orientations is six times four which equals twenty-four.\n"
     ]
    }
   ],
   "source": [
    "!cat voiceovers/combinatorics/counting-the-number-of-cube-orientations-2.txt"
   ]
  },
  {
   "cell_type": "markdown",
   "id": "e267a6e6-d969-4546-be8a-d407313c5890",
   "metadata": {},
   "source": [
    "## Optional Python Code"
   ]
  },
  {
   "cell_type": "code",
   "execution_count": 23,
   "id": "9d12616f-63d7-4f1f-8972-55d04e224a93",
   "metadata": {},
   "outputs": [
    {
     "name": "stdout",
     "output_type": "stream",
     "text": [
      "24\n"
     ]
    }
   ],
   "source": [
    "number_of_top_face_choices = 6\n",
    "\n",
    "number_of_front_face_choices = 4\n",
    "\n",
    "number_of_cube_orientations = number_of_top_face_choices * number_of_front_face_choices\n",
    "\n",
    "print(number_of_cube_orientations)"
   ]
  },
  {
   "attachments": {},
   "cell_type": "markdown",
   "id": "cc612e74-26e7-4add-a19a-1bab7a7f159a",
   "metadata": {},
   "source": [
    "## Scene: Counting the Number of Combinations\n",
    "\n",
    "The purpose of this scene is to compute the total number of combinations $N$.\n",
    "We'll use the previously computed values for the number of cube orderings and orientations.\n",
    "\n",
    "Show an image of the following math formula (images/latex/n-equals-7962624.png):\n",
    "\n",
    "<div style=\"text-align: center;\">\n",
    "  <img src=\"images/latex/n-equals-7962624.png\" alt=\"N equals 7,962,624\" style=\"width: 50%;\">\n",
    "</div>"
   ]
  },
  {
   "cell_type": "code",
   "execution_count": 24,
   "id": "2273105c-8914-4b58-aac5-74e2ae2dca08",
   "metadata": {},
   "outputs": [
    {
     "name": "stdout",
     "output_type": "stream",
     "text": [
      "A combination is fully specified by giving the ordering of the four cubes and the orientation of each of cube.\n",
      "There are 24 orderings of the cubes.\n",
      "Each of the four cubes has 24 orientations.\n",
      "Apply the basic combination rule again to get the total number of combinations as follows.\n",
      "Multiply the number of cube orderings and the number of cube orientations multiplied by itself four times\n",
      "which is the same as raising the number of cube orientations to the power 4.\n",
      "\n",
      "We get a whopping total of 7,962,624 combinations which is much bigger than \n",
      "the number 82,944 which is claimed on the box and in the YouTube videos.\n",
      "\n",
      "Why the difference?\n",
      "\n",
      "The answer to this question is that, \n",
      "although random draws do generate 7,962,624 distinct cube combinations,\n",
      "we should not consider them all to be essentially distinct.\n",
      "It turns out that we can easily transform any combination into many other essentially equivalent\n",
      "ones by applying what are known as symmetry operations.\n",
      "These symmetries transform solutions to solutions.\n",
      "\n",
      "The branch of mathematics that studies symmetry operations is called group theory.\n",
      "Next we'll apply some group theory to compute the number of essentially distinct combinations.\n"
     ]
    }
   ],
   "source": [
    "!cat voiceovers/combinatorics/counting-the-number-of-combinations.txt"
   ]
  },
  {
   "cell_type": "markdown",
   "id": "f3d9de97-709e-4375-bdd7-2e49a15be632",
   "metadata": {},
   "source": [
    "## Optional Python Code"
   ]
  },
  {
   "cell_type": "code",
   "execution_count": 25,
   "id": "2ed2e447-baee-46fa-ae4a-0ce2341bb751",
   "metadata": {},
   "outputs": [
    {
     "name": "stdout",
     "output_type": "stream",
     "text": [
      "7962624\n"
     ]
    }
   ],
   "source": [
    "N = number_of_combinations = number_of_cube_orderings * number_of_cube_orientations ** 4\n",
    "\n",
    "print(N)"
   ]
  },
  {
   "cell_type": "markdown",
   "id": "3034e479-5415-43f7-8c37-a5edf3b4cbb7",
   "metadata": {},
   "source": [
    "## Scene: When Are Two Combinations Essentially Equivalent?\n",
    "\n",
    "The purpose of this scene is to introduce the notion of essentially equivalent combinations by first considering the cube ordering.\n",
    "\n",
    "Line up the four cubes in a solution.\n",
    "The following combination is a solution:\n",
    "\n",
    "$$\n",
    "(1zx', 2zx', 3zy', 4zx')\n",
    "$$\n",
    "\n",
    "Animate the action of swapping the positions of any two cubes and noting that we still have a solution.\n",
    "Do a few swaps, e.g. swap cubes 1 and 2, 2 and 4, etc.\n",
    "If we started with a solution then we still have a solution after the swaps."
   ]
  },
  {
   "cell_type": "code",
   "execution_count": 26,
   "id": "a28053f5-bc48-4562-b75a-6c0cf8872fe6",
   "metadata": {},
   "outputs": [
    {
     "name": "stdout",
     "output_type": "stream",
     "text": [
      "We can specify a combination by giving a cube ordering and an orientation for each cube.\n",
      "An orientation is given by specifying the top and front faces.\n",
      "Consider the combination given by the four-tuple (one z x', two z x', three z y', four z x').\n",
      "This combination is in fact a solution.\n",
      "\n",
      "Now create a new combination by swapping the positions of any two cubes, say one and two, \n",
      "without changing their orientations.\n",
      "The new combination is given by the four-tuple (two z x', one z x', three z y', four z x').\n",
      "Since each side of the row contained four different colours before the swap, \n",
      "it will still contain four different colours after the swap.\n",
      "Therefore the new combination is also a solution.\n",
      "\n",
      "In general, changing the order of the cubes while perserving the orientation of each cube \n",
      "sends combinations to combinations and solutions to solutions.\n",
      "We can achieve any cube ordering by swapping pairs of cubes.\n",
      "As we computed above, there are twenty-four possible orderings of four cubes.\n",
      "Therefore, we can use swaps to split up the set of all combinations into families \n",
      "that each consist of twenty-four related combinations.\n",
      "This means that given any solution, it belongs to a family of twenty-four solutions \n",
      "that differ from each other only in the cube ordering.\n",
      "\n",
      "It is natural to regard solutions that differ only in the cube ordering as being essentially equivalent \n",
      "since we can transform one into the other by a sequence of swaps.\n",
      "We can therefore use this notion of equivalence to cut down the size of our search space by a factor of twenty-four.\n",
      "Rather than examining all combinations for solutions, we can safely confine our attention to one fixed cube ordering, \n",
      "say the natural ordering one, two, three, four.\n"
     ]
    }
   ],
   "source": [
    "!cat voiceovers/combinatorics/when-are-two-combinations-essentially-equivalent.txt"
   ]
  },
  {
   "cell_type": "markdown",
   "id": "ca8da6e7-03dd-4ed4-a504-bf747f6bcc79",
   "metadata": {},
   "source": [
    "## Scene: The Number of Combinations Modulo Order\n",
    "\n",
    "The purpose of this scene is to compute the number of combinations that are essentially distinct when we disregard cube orderings.\n",
    "\n",
    "Display an image of the following mathematical formulas (images/latex/n-mod-o-equals-331776.png):\n",
    "\n",
    "<div style=\"text-align: center;\">\n",
    "  <img src=\"images/latex/n-mod-o-equals-331776.png\" alt=\"N mod O equals 331,776\" style=\"width: 50%;\">\n",
    "</div>"
   ]
  },
  {
   "cell_type": "code",
   "execution_count": 27,
   "id": "8bcf82c5-b7c8-41e3-899e-c794f8b7a4b2",
   "metadata": {},
   "outputs": [
    {
     "name": "stdout",
     "output_type": "stream",
     "text": [
      "As previously discussed, we are going to regard all combinations \n",
      "that differ only in cube ordering as being essentially equivalent.\n",
      "When mathematicians say that two objects are equivalent with regard to some property, \n",
      "they say that the objects are equivalent modulo that property, or more briefly, mod that property.\n",
      "\n",
      "Let O denote the notion of equivalence of combinations when we ignore the order of the cubes.\n",
      "Every combination belongs to a family of 24 combinations that are equalivent modulo O.\n",
      "\n",
      "Let's calculate the number of combinations modulo O.\n",
      "Since the swap operations divide the set of all combinations into orbits of size 24,\n",
      "the number of combinations modulo O is the number of combinations divided by 24.\n",
      "\n",
      "Now we get that there are 331,776 essentially distinct combinations \n",
      "which is much smaller than 7,962,624 but still much bigger than 82,944.\n",
      "Why are we still getting more than 82,944?\n",
      "The reason is that we should regard more combinations as being essentially equivalent.\n",
      "We'll do this next.\n"
     ]
    }
   ],
   "source": [
    "!cat voiceovers/combinatorics/the-number-of-combinations-modulo-o.txt"
   ]
  },
  {
   "cell_type": "markdown",
   "id": "f3a83ff4-032e-4c00-adef-154999233eb7",
   "metadata": {},
   "source": [
    "## Optional Python Code"
   ]
  },
  {
   "cell_type": "code",
   "execution_count": 28,
   "id": "7f8df864-3917-45a1-92b9-30e3449d33b6",
   "metadata": {},
   "outputs": [
    {
     "data": {
      "text/plain": [
       "331776"
      ]
     },
     "execution_count": 28,
     "metadata": {},
     "output_type": "execute_result"
    }
   ],
   "source": [
    "size_O = 24\n",
    "number_of_combinations_O = number_of_combinations // size_O\n",
    "\n",
    "number_of_combinations_O"
   ]
  },
  {
   "cell_type": "markdown",
   "id": "08f00ce3-2c09-4e70-9cef-ec866492796b",
   "metadata": {},
   "source": [
    "## Scene: Quarter Turns About the Horizontal Axis\n",
    "\n",
    "The purpose of this scene is to describe the symmetry operation that consists of rotation the row one quarter of a turn about the horizontal axis.\n",
    "\n",
    "Show an animation of rotating the combination one-quarter turn about the horizontal axis.\n",
    "Use the solution and point out that this operation results in another solution."
   ]
  },
  {
   "cell_type": "code",
   "execution_count": 29,
   "id": "6f5a04b6-d9d3-4586-85eb-137f60aadb8e",
   "metadata": {},
   "outputs": [
    {
     "name": "stdout",
     "output_type": "stream",
     "text": [
      "Consider any combination.\n",
      "We can generate another combination from it by rotating it by one quarter of a turn about the horizontal axis.\n",
      "This operation sends the top faces to the front, the front to the bottom,\n",
      "the bottom to the back, and the back to the top.\n",
      "\n",
      "We can perform this rotation four times before ending up with the combination we started with.\n",
      "Therefore every combination belongs to a family four essentially equivalent combinations.\n",
      "\n",
      "Now suppose the combination was a solution.\n",
      "Since the top faces contained all four colours before the rotation, so will the front faces after the rotation.\n",
      "By the same reasoning, the bottom, back, and top faces will also contain all four colours after the rotation.\n",
      "Therefore, this operation sends solutions to solutions.\n",
      "Therefore, every solution belongs to a family of four essentially equivalent solutions.\n"
     ]
    }
   ],
   "source": [
    "!cat voiceovers/combinatorics/quarter-turns-about-the-horizontal-axis.txt"
   ]
  },
  {
   "attachments": {},
   "cell_type": "markdown",
   "id": "d9b9295a-5f1a-49ac-a151-601bace22134",
   "metadata": {},
   "source": [
    "## Scene: The Number of Combinations Modulo Order and Quarter Turns\n",
    "\n",
    "The purpose of this scene is to compute the number of essentially distinct combinations when we additionally regard combinations that\n",
    "differ by a quarter turn along the horizontal axis as being equivalent.\n",
    "\n",
    "Display an image of the following mathematical formulas (images/latex/n-mod-oq-equals-82944.png):\n",
    "\n",
    "<div style=\"text-align: center;\">\n",
    "  <img src=\"images/latex/n-mod-oq-equals-82944.png\" alt=\"N mod OQ equals 82944\" style=\"width: 50%;\">\n",
    "</div>"
   ]
  },
  {
   "cell_type": "code",
   "execution_count": 30,
   "id": "1fecfbc2-cebc-4132-9c8f-c59fc9241f58",
   "metadata": {},
   "outputs": [
    {
     "name": "stdout",
     "output_type": "stream",
     "text": [
      "A quarter turn about the horizontal axis does not change the cube ordering.\n",
      "Therefore this additional symmetry operation increases the size of our families of \n",
      "essentially equivalent combinations by a factor of four and \n",
      "so reduces the number of combinations we need to search by the same factor.\n",
      "\n",
      "Let Q denote the notion of equivalence generated by these quarter-turn symmetry operations. \n",
      "Clearly, these operations do not change the order of the cubes\n",
      "and so they send one O orbit to another. \n",
      "In fact, the Q operations groups the set the O orbits into sets of four related orbits.\n",
      "We refer to these combined orbits as OQ orbits.\n",
      "Each OQ orbit contains 4 times 24 = 96 combinations.\n",
      "\n",
      "Let's compute the number of OQ orbits.\n",
      "Take the number of combinations modulo O, namely 331,776, and divide it by the size of the Q orbit, \n",
      "namely 4, to get 82,944 as the number of combinations module OQ.\n",
      "\n",
      "Progress! Now we understand where the number 82,944 comes from.\n",
      "It is the number of essentially distinct combinations where we consider combinations \n",
      "related by O and Q operations to be essentially equivalent.\n",
      "\n",
      "But what about 41,472?\n",
      "The explanation is similar to the above.\n",
      "We have yet another symmetry operation.\n",
      "\n",
      "This additional symmetry operation is similar to the quarter turns but is a little less obvious.\n",
      "If you like challenges, pause the video and see if you can visualize this additional symmetry operation.\n"
     ]
    }
   ],
   "source": [
    "!cat voiceovers/combinatorics/the-number-of-combinations-modulo-oq.txt"
   ]
  },
  {
   "cell_type": "markdown",
   "id": "54c873b8-d8f3-4376-9cea-9620a83719d0",
   "metadata": {},
   "source": [
    "## Optional Python Code"
   ]
  },
  {
   "cell_type": "code",
   "execution_count": 31,
   "id": "53c8819a-9223-4a35-9212-3947f8f24828",
   "metadata": {},
   "outputs": [
    {
     "name": "stdout",
     "output_type": "stream",
     "text": [
      "82944\n"
     ]
    }
   ],
   "source": [
    "size_Q = 4\n",
    "number_of_combinations_OQ = number_of_combinations_O // size_Q\n",
    "\n",
    "print(number_of_combinations_OQ)"
   ]
  },
  {
   "cell_type": "markdown",
   "id": "d4e6aa38-131d-45d2-a04d-caabda90d4b0",
   "metadata": {},
   "source": [
    "## Scene: Half Twists About the Vertical Axis\n",
    "\n",
    "The purpose of this scene is to describe the symmetry operation that consists of rotation of each cube one half of a turn about its vertical axis.\n",
    "\n",
    "Show an animation of rotating each cube one-half turn about its vertical axis.\n",
    "Use the solution and point out that this operation results in another solution."
   ]
  },
  {
   "cell_type": "code",
   "execution_count": 32,
   "id": "52b73389-3a5a-41c7-8aee-e09e99d02994",
   "metadata": {},
   "outputs": [
    {
     "name": "stdout",
     "output_type": "stream",
     "text": [
      "Suppose we have a combination. \n",
      "We can obtain another combination by rotating each cube by one half turn about its vertical axis.\n",
      "We'll call this operation a half twist to distinguish it from a quarter turn.\n",
      "\n",
      "A half twist does not change the cube ordering.\n",
      "It also leaves the top and botton faces unchanged.\n",
      "A half twist simply interchanges the front and back faces of the combination.\n",
      "It also interchanges the left and right faces of each cube but they do not contribute to the solution so we can ignore them.\n",
      "\n",
      "Suppose we started with a solution.\n",
      "Since the top and bottom sides are unchanged, they each contain four different colours before and after the operation.\n",
      "The back and front sides also each contain four distinct colours before the operation.\n",
      "But the operation simply interchanges the back and front so they still each contain four different colours after the operation.\n",
      "Therefore the half twist operation sends solutions to solutions.\n"
     ]
    }
   ],
   "source": [
    "!cat voiceovers/combinatorics/half-twists-about-the-vertical-axis.txt"
   ]
  },
  {
   "attachments": {},
   "cell_type": "markdown",
   "id": "a1551601-ba1b-43a1-9508-3e630b43d862",
   "metadata": {},
   "source": [
    "## Scene: The Number of Combinations Modulo Order, Quarter Turns, and Half Twists\n",
    "\n",
    "The purpose of this scene is to compute the number of essentially distinct combinations when we additionally regard combinations that\n",
    "differ by a half twist along the vertical axis as being equivalent.\n",
    "\n",
    "Display an image of the following mathematical formulas (images/latex/n-mod-oqh-equals-41472.png):\n",
    "\n",
    "<div style=\"text-align: center;\">\n",
    "  <img src=\"images/latex/n-mod-oqh-equals-41472.png\" alt=\"N mod OQH equals 41472\" style=\"width: 50%;\">\n",
    "</div>"
   ]
  },
  {
   "cell_type": "code",
   "execution_count": 33,
   "id": "b2b36e0f-3d98-4e9b-8c1b-5f7234e2c98d",
   "metadata": {},
   "outputs": [
    {
     "name": "stdout",
     "output_type": "stream",
     "text": [
      "Let H denote the notion of equivalence generated by the half twist operation. \n",
      "The cube orientation produced by a half twist is always different from any cube orientation \n",
      "that can be produced by applying some sequence of quarter turns to the starting orientation.\n",
      "\n",
      "We can apply a half twist twice before returning to the starting orientation\n",
      "so the orbit generated by H has size 2.\n",
      "Therefore, we need to further divide the number of combinations by 2 to get \n",
      "the number of essentially distinct combinations when we regard combinations that differ by a half twist to\n",
      "be essentially equivalent.\n",
      "\n",
      "When we apply the H and Q operations, we get an orbit of size 2 times 4 = 8.\n",
      "Applying the O operations to the QH orbits, we get an OQH orbit of size 8 times 24 = 192.\n",
      "Therefore every combination belongs to a family of 192 essentially equivalent combinations.\n",
      "So every solution belongs to family of 192 essentially equivalent solutions.\n",
      "\n",
      "Let's compute the number of OQH orbits.\n",
      "Divide the number of OQ orbits, namely 82,944, by the size of an H orbit, namely 2, to give the result 41,472.\n",
      "\n",
      "Eureka! Carteblanche was right.\n",
      "We now understand where the number 41,472 comes from. \n",
      "It is the number of essentially distinct combinations if we consider combinations that are related \n",
      "by any combination of O, Q, and H symmetry operations to be essentially equivalent.\n",
      "Furthermore, as we will soon prove, there is exactly one essentially distinct combination that is a solution.\n",
      "\n",
      "In summary, there are around 8 million combinations but these are divided into orbits of symmetry operations \n",
      "each consisting of 192 mutually equivalent combinations.\n",
      "The total number of essentially distinct combinations is 41,472 and this is the true meassure of the difficulty \n",
      "of finding a solution by simply checking all combinations.\n",
      "However, we can find the solution much more easily by using the elegant graph theory approach discovered by Carteblanche.\n"
     ]
    }
   ],
   "source": [
    "!cat voiceovers/combinatorics/the-number-of-combinations-modulo-oqh.txt"
   ]
  },
  {
   "cell_type": "markdown",
   "id": "c5498303-3ab7-4148-aaad-f6614d5ca7d8",
   "metadata": {},
   "source": [
    "## Optional Python Code"
   ]
  },
  {
   "cell_type": "code",
   "execution_count": 34,
   "id": "32008e52-1564-4176-a008-19707d742705",
   "metadata": {},
   "outputs": [
    {
     "name": "stdout",
     "output_type": "stream",
     "text": [
      "41472\n"
     ]
    }
   ],
   "source": [
    "size_H = 2\n",
    "number_of_combinations_OQH = number_of_combinations_OQ // size_H\n",
    "\n",
    "print(number_of_combinations_OQH)"
   ]
  },
  {
   "cell_type": "code",
   "execution_count": 35,
   "id": "dcc63967-621c-4477-a6df-51b61c4892e9",
   "metadata": {},
   "outputs": [
    {
     "name": "stdout",
     "output_type": "stream",
     "text": [
      "192\n"
     ]
    }
   ],
   "source": [
    "S = size_O * size_Q * size_H\n",
    "\n",
    "print(S)"
   ]
  },
  {
   "cell_type": "code",
   "execution_count": 36,
   "id": "1d5ef981-cd42-47c8-a4db-f75ec9ada49a",
   "metadata": {},
   "outputs": [
    {
     "name": "stdout",
     "output_type": "stream",
     "text": [
      "41472\n"
     ]
    }
   ],
   "source": [
    "print(N // S)"
   ]
  },
  {
   "attachments": {},
   "cell_type": "markdown",
   "id": "7652de8e-e2fd-45ac-8583-3bcf6e60e09a",
   "metadata": {},
   "source": [
    "## Scene: Brute-Force Search\n",
    "\n",
    "The purpose of this scene is to estimate how long it would take a human to try all essentially distinct combinations.\n",
    "\n",
    "Show an image of the following mathematical formulas (images/latex/brute-force-daily-rate.png):\n",
    "\n",
    "<div style=\"text-align: center;\">\n",
    "  <img src=\"images/latex/brute-force-daily-rate.png\" alt=\"Brute-force Daily Rate\" style=\"width: 50%;\">\n",
    "</div>\n",
    "\n",
    "Fade to an image of the following mathematical formulas (images/latex/brute-force-search.png)\n",
    "after the voiceover says \"our human could try 17,280 combinations per day\":\n",
    "\n",
    "<div style=\"text-align: center;\">\n",
    "  <img src=\"images/latex/brute-force-search.png\" alt=\"Brute-force Search\" style=\"width: 50%;\">\n",
    "</div>"
   ]
  },
  {
   "cell_type": "code",
   "execution_count": 37,
   "id": "bb76ffe5-3c27-4fcb-ac23-7ef3d0b9752e",
   "metadata": {},
   "outputs": [
    {
     "name": "stdout",
     "output_type": "stream",
     "text": [
      "We now know that, in the absence of any shortcuts, we'd have to check 41,472 combinations in order to find a solution.\n",
      "Given enough time and patience, we could systematically generate every possible essentially distinct combination\n",
      "and check if it was a solution. \n",
      "Mathematicians call this approach a brute-force search.\n",
      "\n",
      "How long would it take a human to perform a brute-force search?\n",
      "Let's compute the total time.\n",
      "\n",
      "As a rough estimate, suppose it takes our human 1 second to rotate a cube and 1 second to check\n",
      "if the combination is a solution.\n",
      "In some cases our human would have to rotate all four cubes to generate the next combination,\n",
      "So allowing four seconds to rotate the cubes and 1 second to check the combination \n",
      "means it would take our human 5 seconds per combination.\n",
      "\n",
      "There are 60 seconds in a minute, 60 minutes in an hour, and 24 hours in a day giving a total of 86,400 seconds per day.\n",
      "At 5 seconds per combination, our human could try 17,280 combinations per day.\n",
      "\n",
      "There are 41,472 essentially distinct combinations.\n",
      "Therefore, our human would find the solution if they worked nonstop for 2.4 days and made no errors.\n",
      "This is called the worst-case time since it assumes that we are unlucky and have to generate all the combinations\n",
      "before we find the solution.\n",
      "\n",
      "This puzzle is clearly challenging, which likely contributes to its enduring popularity. \n",
      "According to its Winning Moves box, over 20 million copies have been sold!\n"
     ]
    }
   ],
   "source": [
    "!cat voiceovers/combinatorics/brute-force-search.txt"
   ]
  },
  {
   "cell_type": "markdown",
   "id": "25053f36-8899-411e-a713-61bcabac50fe",
   "metadata": {},
   "source": [
    "## Optional Python Code"
   ]
  },
  {
   "cell_type": "code",
   "execution_count": 38,
   "id": "a996882a-189f-450c-bcd4-43e4247047e5",
   "metadata": {},
   "outputs": [
    {
     "name": "stdout",
     "output_type": "stream",
     "text": [
      "207360\n"
     ]
    }
   ],
   "source": [
    "seconds_per_combination = 5\n",
    "total_seconds = number_of_combinations_OQH * seconds_per_combination\n",
    "\n",
    "print(total_seconds)"
   ]
  },
  {
   "cell_type": "code",
   "execution_count": 39,
   "id": "1e14f129-7b5e-4643-a0cf-d5579dccd831",
   "metadata": {},
   "outputs": [
    {
     "name": "stdout",
     "output_type": "stream",
     "text": [
      "86400\n"
     ]
    }
   ],
   "source": [
    "seconds_per_minute = 60\n",
    "minutes_per_hour = 60\n",
    "hours_per_day = 24\n",
    "seconds_per_day = seconds_per_minute * minutes_per_hour * hours_per_day\n",
    "\n",
    "print(seconds_per_day)"
   ]
  },
  {
   "cell_type": "code",
   "execution_count": 40,
   "id": "3d4d6bba-054c-4b1b-8f0f-b124830a9e7e",
   "metadata": {},
   "outputs": [
    {
     "name": "stdout",
     "output_type": "stream",
     "text": [
      "2.4\n"
     ]
    }
   ],
   "source": [
    "total_days = total_seconds / seconds_per_day\n",
    "\n",
    "print(total_days)"
   ]
  },
  {
   "cell_type": "markdown",
   "id": "3a680278-2360-48a7-ae1b-f98c56e43fa2",
   "metadata": {},
   "source": [
    "## Scene: Optional Python Brute-Force Search\n",
    "\n",
    "This scene is optional.\n",
    "At present we have more than enough material for the video so let's defer this.\n",
    "\n",
    "How long would a computer take to find the solution? \n",
    "One of us actually tried this in 1967 using a Fortran 4 program running on their high school's IBM 1130 computer.\n",
    "Next, we'll write some Python code to perform the brute-force search and then optimize it for speed."
   ]
  }
 ],
 "metadata": {
  "kernelspec": {
   "display_name": "Python 3 (ipykernel)",
   "language": "python",
   "name": "python3"
  },
  "language_info": {
   "codemirror_mode": {
    "name": "ipython",
    "version": 3
   },
   "file_extension": ".py",
   "mimetype": "text/x-python",
   "name": "python",
   "nbconvert_exporter": "python",
   "pygments_lexer": "ipython3",
   "version": "3.11.13"
  }
 },
 "nbformat": 4,
 "nbformat_minor": 5
}
