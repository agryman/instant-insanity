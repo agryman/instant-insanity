{
 "cells": [
  {
   "cell_type": "markdown",
   "id": "54436685-189b-4cb3-96a7-968c0940ff2d",
   "metadata": {},
   "source": [
    "# Epilogue with Voiceovers\n",
    "*Arthur Ryman, last updated 2025-07-03*\n",
    "\n",
    "[<img src=\"images/colab-badge.png\" alt=\"Open in Colab\" style=\"width: 15%;\">\n",
    "](https://colab.research.google.com/github/agryman/instant-insanity/blob/main/notebooks/Epilogue-Voiceovers.ipynb)"
   ]
  },
  {
   "cell_type": "markdown",
   "id": "95594172-5dcb-404d-a5f7-94b0f1cd73ed",
   "metadata": {},
   "source": [
    "## Introduction\n",
    "\n",
    "Source: [Wikipedia - Instant Insanity](https://en.wikipedia.org/wiki/Instant_Insanity)\n",
    "\n",
    "This notebook describes the epilogue for a short video that explains the graph theory solution to the \n",
    "Instant Insanity puzzle."
   ]
  },
  {
   "cell_type": "markdown",
   "id": "9bdd060c-4fd0-457a-9dfb-f6d251808f6c",
   "metadata": {},
   "source": [
    "## Change History\n",
    "\n",
    "This is a working document and will be edited frequency.\n",
    "All voiceovers are saved as plain text files to make it easy to automate text-to-speech conversion.\n",
    "Each voiceover follows the figure or animation it describes.\n",
    "\n",
    "### 2025-07-03\n",
    "\n",
    "First draft completed."
   ]
  },
  {
   "cell_type": "markdown",
   "id": "db7beaa1-5175-4b32-9377-8d8e5eb82615",
   "metadata": {},
   "source": [
    "## Scene: Northview Heights Secondary School\n",
    "\n",
    "Source: [Toronto District School Board - Northview Heights Secondary School\n",
    "](https://schoolweb.tdsb.on.ca/northviewheights)\n",
    "\n",
    "Show this image of Northview:\n",
    "\n",
    "<div style=\"text-align: center;\">\n",
    "    <img src=\"images/nhss.jpeg\" alt=\"Northview Heights Secondary School\" style=\"width: 100%;\">\n",
    "</div>"
   ]
  },
  {
   "cell_type": "code",
   "execution_count": 1,
   "id": "cef4f8cb-e300-408f-a0a4-d27d3d6c4788",
   "metadata": {},
   "outputs": [
    {
     "name": "stdout",
     "output_type": "stream",
     "text": [
      "The high school that Arthur and Will attended was\n",
      "Northview Heights Secondary School in North York, Toronto.\n",
      "It offered a Science, Technology, and Trades program.\n",
      "They went to Northview because they were both interested in computers.\n"
     ]
    }
   ],
   "source": [
    "!cat voiceovers/epilogue/northview-heights-secondary-school.txt"
   ]
  },
  {
   "cell_type": "markdown",
   "id": "072b3ecf-4925-495d-8656-87288ee48868",
   "metadata": {},
   "source": [
    "## Scene: The IBM 1130 Minicomputer\n",
    "\n",
    "Source: [Ontario's Educative Society, Volume VI, \n",
    "Significant developments in local school systems by W.G. Fleming, p59,\n",
    "University of Toronto Press, 1972, ISBN 0-8020-3272-9\n",
    "](https://www.google.ca/books/edition/Significant_Developments_in_Local_School/JPs2DwAAQBAJ?hl=en&gbpv=1&dq=inauthor:%22W.+G.+Fleming%22&printsec=frontcover)\n",
    "\n",
    "Source: [The National Museum of Computing - IBM 1130](https://www.tnmoc.org/ibm1130)\n",
    "\n",
    "Show this image of the 1130:\n",
    "\n",
    "<div style=\"text-align: center;\">\n",
    "    <img src=\"images/ibm-1130.jpeg\" alt=\"IBM 1130\" style=\"width: 75%;\">\n",
    "</div>"
   ]
  },
  {
   "cell_type": "code",
   "execution_count": 2,
   "id": "ae398272-7f95-4326-91a0-3ab78cbc5e8a",
   "metadata": {},
   "outputs": [
    {
     "name": "stdout",
     "output_type": "stream",
     "text": [
      "In the spring of 1966 the first computer installed in a secondary school\n",
      "in Canada for instructional purposes only, an IBM model 1130, began\n",
      "operations at Northview Heights Secondary School.\n",
      "\n",
      "Arthur entered Northview in the fall of 1966 and so became one of the first\n",
      "high school students in Canada to have hands-on access to a real computer.\n",
      "He learned how to write FORTRAN programs and immediately coded up a brute-force\n",
      "search to solve Instant Insanity.\n",
      "The program took a long time to run but it eventually printed out the solution.\n"
     ]
    }
   ],
   "source": [
    "!cat voiceovers/epilogue/the-ibm-1130-minicomputer.txt"
   ]
  },
  {
   "cell_type": "markdown",
   "id": "bbd44e5b-a09f-45f7-8cc8-d8dfacb62ccc",
   "metadata": {},
   "source": [
    "## Scene: Ross Honsberger\n",
    "\n",
    "Source: [University of Waterloo - Combinatorics and Optimization - Professor Ross Honsberger\n",
    "](https://uwaterloo.ca/combinatorics-and-optimization/professor-ross-honsberger)\n",
    "\n",
    "Show this picture of Ross Honsberger:\n",
    "\n",
    "<div style=\"text-align: center;\">\n",
    "    <img src=\"images/ross-honsberger.png\" alt=\"Ross Honsberger\" style=\"width: 25%;\">\n",
    "</div>"
   ]
  },
  {
   "cell_type": "code",
   "execution_count": 3,
   "id": "b183197d-6ed6-4d7e-938b-c7e82806f6a9",
   "metadata": {},
   "outputs": [
    {
     "name": "stdout",
     "output_type": "stream",
     "text": [
      "The professor who visited Northview and showed the students\n",
      "how to solve Instant Insanity using\n",
      "graph theory was Ross Honsberger from the University of Waterloo.\n",
      "\n",
      "This was no coincidence.\n",
      "Honsberger had been the Head of the Mathematics Department at Northview before\n",
      "he returned to academia, got a PhD, and became of professor at Waterloo.\n",
      "\n",
      "Honsberger loved mathematical puzzles and was a connoisseur of elegant solutions.\n",
      "The Mathematical Association of America published a total of thirteen books \n",
      "authored by him on this topic.\n",
      "Remarkably, none of them discusses Instant Insanity.\n"
     ]
    }
   ],
   "source": [
    "!cat voiceovers/epilogue/ross-honsberger.txt"
   ]
  },
  {
   "cell_type": "markdown",
   "id": "68bee6fe-0a58-496e-9854-efd6457259b5",
   "metadata": {},
   "source": [
    "## Scene: Bill Tutte\n",
    "\n",
    "Source: [University of Waterloo - Combinatorics and Optimization - Professor William T. Tutte\n",
    "](https://uwaterloo.ca/combinatorics-and-optimization/professor-ross-honsberger)\n",
    "\n",
    "Source: [Wikipedia - W. T. Tutte](https://en.wikipedia.org/wiki/W._T._Tutte)\n",
    "\n",
    "Show this picture of Bill Tutte:\n",
    "\n",
    "<div style=\"text-align: center;\">\n",
    "    <img src=\"images/W._T._Tutte.jpeg\" alt=\"W. T. Tutte\" style=\"width: 50%;\">\n",
    "</div>"
   ]
  },
  {
   "cell_type": "code",
   "execution_count": 4,
   "id": "2040b86e-5684-4c33-a21a-4efd6b876d07",
   "metadata": {},
   "outputs": [
    {
     "name": "stdout",
     "output_type": "stream",
     "text": [
      "William (Bill) T. Tutte was an eniment British graph theorist who,\n",
      "after getting his PhD from Cambridge, came to Canada.\n",
      "He started at the University of Toronto and later moved to the University of Waterloo.\n",
      "\n",
      "Tutte's PhD studies were interrupted by World War II when he joined the team of\n",
      "legendary codebreakers, including Alan Turing, at Bletchley Park.\n",
      "While Turing is famous for breaking the Enigma cipher, Tutte is far less well-known for\n",
      "cracking Lorenz, a.k.a. Fish, a.k.a. Tunny, which was much more difficult and kept top-secret for much longer.\n",
      "Those familiar with his accomplishment say it was the greatest intellectual feat of World War II.\n",
      "\n",
      "At Cambridge, Tutte was a member of the Trinity Four who, writing under the pseudonym of F. de Carteblanche,\n",
      "published the 1947 Eureka paper containing the elegant graph theory solution to The Coloured Cubes Problem,\n",
      "now known as Instant Insanity.\n",
      "\n",
      "It is highly likely that Tutte showed the solution to Honsberger, his puzzle-loving colleague at Waterloo.\n",
      "Honsberger in turn showed it to the students at Northview, two of whom made this video.\n",
      "Therefore, by watching this video, you have become part of an unbroken chain of communication \n",
      "that stretches right back to Tutte!\n",
      "If you appreciated the elegance of Carteblanche's solution then \n",
      "be sure to retell it to the upcoming generation of math enthusiasts and keep the chain growing.\n"
     ]
    }
   ],
   "source": [
    "!cat voiceovers/epilogue/bill-tutte.txt"
   ]
  }
 ],
 "metadata": {
  "kernelspec": {
   "display_name": "Python 3 (ipykernel)",
   "language": "python",
   "name": "python3"
  },
  "language_info": {
   "codemirror_mode": {
    "name": "ipython",
    "version": 3
   },
   "file_extension": ".py",
   "mimetype": "text/x-python",
   "name": "python",
   "nbconvert_exporter": "python",
   "pygments_lexer": "ipython3",
   "version": "3.11.13"
  }
 },
 "nbformat": 4,
 "nbformat_minor": 5
}
