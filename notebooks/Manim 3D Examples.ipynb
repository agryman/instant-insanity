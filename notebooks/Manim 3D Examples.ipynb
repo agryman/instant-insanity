{
 "cells": [
  {
   "cell_type": "markdown",
   "id": "5b428be9-f202-4a36-9552-1b0c84458df2",
   "metadata": {},
   "source": [
    "# Manim 3D Examples"
   ]
  },
  {
   "cell_type": "code",
   "execution_count": 1,
   "id": "650ab10f-ea9c-4770-9f7d-15712201caee",
   "metadata": {},
   "outputs": [
    {
     "name": "stdout",
     "output_type": "stream",
     "text": [
      "0.19.0\n"
     ]
    }
   ],
   "source": [
    "import manim as mn\n",
    "from manim import *\n",
    "\n",
    "config.media_width = \"75%\"\n",
    "config.verbosity = \"WARNING\"\n",
    "\n",
    "print(mn.__version__)"
   ]
  },
  {
   "cell_type": "code",
   "execution_count": 2,
   "id": "63a7bfd5-7f1b-4db2-816c-e3cad1df2701",
   "metadata": {},
   "outputs": [
    {
     "data": {
      "text/html": [
       "<pre style=\"white-space:pre;overflow-x:auto;line-height:normal;font-family:Menlo,'DejaVu Sans Mono',consolas,'Courier New',monospace\">Manim Community <span style=\"color: #008000; text-decoration-color: #008000\">v0.19.0</span>\n",
       "\n",
       "</pre>\n"
      ],
      "text/plain": [
       "Manim Community \u001b[32mv0.\u001b[0m\u001b[32m19.0\u001b[0m\n",
       "\n"
      ]
     },
     "metadata": {},
     "output_type": "display_data"
    },
    {
     "name": "stderr",
     "output_type": "stream",
     "text": [
      "                                                                                                                                                                                                                             "
     ]
    },
    {
     "data": {
      "text/html": [
       "<video src=\"media/jupyter/RotatingCube3D@2025-07-06@21-48-20.mp4\" controls autoplay loop style=\"max-width: 75%;\"  >\n",
       "      Your browser does not support the <code>video</code> element.\n",
       "    </video>"
      ],
      "text/plain": [
       "<IPython.core.display.Video object>"
      ]
     },
     "metadata": {},
     "output_type": "display_data"
    }
   ],
   "source": [
    "%%manim -qm RotatingCube3D\n",
    "\n",
    "class RotatingCube3D(ThreeDScene):\n",
    "    def construct(self):\n",
    "        # Create axes\n",
    "        axes = ThreeDAxes()\n",
    "        self.add(axes)\n",
    "\n",
    "        # Create a cube\n",
    "        cube = Cube(side_length=2, fill_opacity=0.5, fill_color=BLUE)\n",
    "        self.add(cube)\n",
    "\n",
    "        # Set the initial camera orientation\n",
    "        self.set_camera_orientation(phi=75 * DEGREES, theta=30 * DEGREES)\n",
    "\n",
    "        # Animate the rotation of the cube\n",
    "        self.play(Rotate(cube, angle=2*PI, axis=UP, run_time=5))\n",
    "\n",
    "        # Hold the final frame\n",
    "        self.wait(1)"
   ]
  },
  {
   "cell_type": "code",
   "execution_count": 3,
   "id": "3033e3b8-a103-45da-ba3c-5480e2a2fb62",
   "metadata": {},
   "outputs": [
    {
     "data": {
      "text/html": [
       "<pre style=\"white-space:pre;overflow-x:auto;line-height:normal;font-family:Menlo,'DejaVu Sans Mono',consolas,'Courier New',monospace\">Manim Community <span style=\"color: #008000; text-decoration-color: #008000\">v0.19.0</span>\n",
       "\n",
       "</pre>\n"
      ],
      "text/plain": [
       "Manim Community \u001b[32mv0.\u001b[0m\u001b[32m19.0\u001b[0m\n",
       "\n"
      ]
     },
     "metadata": {},
     "output_type": "display_data"
    },
    {
     "name": "stderr",
     "output_type": "stream",
     "text": [
      "                                                                                                                                                                                                                             "
     ]
    },
    {
     "data": {
      "text/html": [
       "<video src=\"media/jupyter/ColoredCube3D@2025-07-06@21-48-21.mp4\" controls autoplay loop style=\"max-width: 75%;\"  >\n",
       "      Your browser does not support the <code>video</code> element.\n",
       "    </video>"
      ],
      "text/plain": [
       "<IPython.core.display.Video object>"
      ]
     },
     "metadata": {},
     "output_type": "display_data"
    }
   ],
   "source": [
    "%%manim -qm ColoredCube3D\n",
    "\n",
    "class ColoredCube3D(ThreeDScene):\n",
    "    def construct(self):\n",
    "        # Set up axes\n",
    "        axes = ThreeDAxes()\n",
    "        self.add(axes)\n",
    "\n",
    "        # Create cube\n",
    "        cube = Cube(side_length=2)\n",
    "        self.add(cube)\n",
    "\n",
    "        # Get the individual faces from cube.submobjects\n",
    "        # Face order: +Z, -Z, +Y, -Y, +X, -X\n",
    "        # Corresponds to: front, back, top, bottom, right, left\n",
    "        face_colors = {\n",
    "            0: GREEN,  # +Z: front\n",
    "            1: WHITE,  # -Z: back\n",
    "            2: BLUE,   # +Y: top\n",
    "            3: RED,    # -Y: bottom\n",
    "            4: RED,    # +X: right\n",
    "            5: GREEN,  # -X: left\n",
    "        }\n",
    "\n",
    "        for i, face in enumerate(cube.submobjects):\n",
    "            face.set_fill(color=face_colors[i], opacity=1.0)\n",
    "\n",
    "        # Camera position\n",
    "        self.set_camera_orientation(phi=70 * DEGREES, theta=45 * DEGREES)\n",
    "\n",
    "        # Animate rotation\n",
    "        self.play(Rotate(cube, angle=2*PI, axis=UP, run_time=6))\n",
    "        self.wait(1)"
   ]
  },
  {
   "cell_type": "code",
   "execution_count": 4,
   "id": "766daa11-070c-4c87-a3a9-5d7946d77332",
   "metadata": {},
   "outputs": [
    {
     "data": {
      "text/html": [
       "<pre style=\"white-space:pre;overflow-x:auto;line-height:normal;font-family:Menlo,'DejaVu Sans Mono',consolas,'Courier New',monospace\">Manim Community <span style=\"color: #008000; text-decoration-color: #008000\">v0.19.0</span>\n",
       "\n",
       "</pre>\n"
      ],
      "text/plain": [
       "Manim Community \u001b[32mv0.\u001b[0m\u001b[32m19.0\u001b[0m\n",
       "\n"
      ]
     },
     "metadata": {},
     "output_type": "display_data"
    },
    {
     "name": "stderr",
     "output_type": "stream",
     "text": [
      "                                                                                                                                                                                                                             "
     ]
    },
    {
     "data": {
      "text/html": [
       "<video src=\"media/jupyter/LabeledColoredCube3D@2025-07-06@21-48-23.mp4\" controls autoplay loop style=\"max-width: 75%;\"  >\n",
       "      Your browser does not support the <code>video</code> element.\n",
       "    </video>"
      ],
      "text/plain": [
       "<IPython.core.display.Video object>"
      ]
     },
     "metadata": {},
     "output_type": "display_data"
    }
   ],
   "source": [
    "%%manim -qm LabeledColoredCube3D\n",
    "\n",
    "class LabeledColoredCube3D(ThreeDScene):\n",
    "    def construct(self):\n",
    "        # Set up axes\n",
    "        axes = ThreeDAxes()\n",
    "        self.add(axes)\n",
    "\n",
    "        # Create cube\n",
    "        cube = Cube(side_length=2)\n",
    "        self.add(cube)\n",
    "\n",
    "        # Face color map (same order as submobjects)\n",
    "        face_colors = {\n",
    "            0: GREEN,  # +Z: front → x\n",
    "            1: WHITE,  # -Z: back  → x'\n",
    "            2: BLUE,   # +Y: top   → z\n",
    "            3: RED,    # -Y: bottom → z'\n",
    "            4: RED,    # +X: right → y\n",
    "            5: GREEN,  # -X: left  → y'\n",
    "        }\n",
    "\n",
    "        # Face labels corresponding to each submobject\n",
    "        face_labels = {\n",
    "            0: \"x\",   # front\n",
    "            1: \"x'\",  # back\n",
    "            2: \"z\",   # top\n",
    "            3: \"z'\",  # bottom\n",
    "            4: \"y\",   # right\n",
    "            5: \"y'\",  # left\n",
    "        }\n",
    "\n",
    "        for i, face in enumerate(cube.submobjects):\n",
    "            face.set_fill(color=face_colors[i], opacity=1.0)\n",
    "\n",
    "            # Compute center of the face to position the label\n",
    "            center = face.get_center()\n",
    "            label = Text(face_labels[i], font=\"Arial\", weight=BOLD).scale(0.5)\n",
    "            label.move_to(center + 0.01 * OUT)  # Slight offset so text appears in front\n",
    "\n",
    "            self.add(label)\n",
    "\n",
    "        # Set camera angle\n",
    "        self.set_camera_orientation(phi=70 * DEGREES, theta=45 * DEGREES)\n",
    "\n",
    "        # Animate rotation\n",
    "        self.play(Rotate(cube, angle=2 * PI, axis=UP, run_time=6))\n",
    "        self.wait(1)"
   ]
  },
  {
   "cell_type": "code",
   "execution_count": 5,
   "id": "9ac1c65e-d60f-48b5-a19c-973039efd79f",
   "metadata": {},
   "outputs": [
    {
     "data": {
      "text/html": [
       "<pre style=\"white-space:pre;overflow-x:auto;line-height:normal;font-family:Menlo,'DejaVu Sans Mono',consolas,'Courier New',monospace\">Manim Community <span style=\"color: #008000; text-decoration-color: #008000\">v0.19.0</span>\n",
       "\n",
       "</pre>\n"
      ],
      "text/plain": [
       "Manim Community \u001b[32mv0.\u001b[0m\u001b[32m19.0\u001b[0m\n",
       "\n"
      ]
     },
     "metadata": {},
     "output_type": "display_data"
    },
    {
     "name": "stderr",
     "output_type": "stream",
     "text": [
      "                                                                                                                                                                                                                             "
     ]
    },
    {
     "data": {
      "text/html": [
       "<video src=\"media/jupyter/LabeledColoredCube3D@2025-07-06@21-48-24.mp4\" controls autoplay loop style=\"max-width: 75%;\"  >\n",
       "      Your browser does not support the <code>video</code> element.\n",
       "    </video>"
      ],
      "text/plain": [
       "<IPython.core.display.Video object>"
      ]
     },
     "metadata": {},
     "output_type": "display_data"
    }
   ],
   "source": [
    "%%manim -qm LabeledColoredCube3D\n",
    "\n",
    "class LabeledColoredCube3D(ThreeDScene):\n",
    "    def construct(self):\n",
    "        # Set up axes\n",
    "        axes = ThreeDAxes()\n",
    "        self.add(axes)\n",
    "\n",
    "        # Create cube\n",
    "        cube = Cube(side_length=2)\n",
    "\n",
    "        # Face color map (submobject index order)\n",
    "        face_colors = {\n",
    "            0: GREEN,  # +Z: front  → x\n",
    "            1: WHITE,  # -Z: back   → x'\n",
    "            2: BLUE,   # +Y: top    → z\n",
    "            3: RED,    # -Y: bottom → z'\n",
    "            4: RED,    # +X: right  → y\n",
    "            5: GREEN,  # -X: left   → y'\n",
    "        }\n",
    "\n",
    "        # Face labels\n",
    "        face_labels = {\n",
    "            0: \"x\",\n",
    "            1: \"x'\",\n",
    "            2: \"z\",\n",
    "            3: \"z'\",\n",
    "            4: \"y\",\n",
    "            5: \"y'\",\n",
    "        }\n",
    "\n",
    "        # Group to hold labeled faces\n",
    "        labeled_faces = VGroup()\n",
    "\n",
    "        for i, face in enumerate(cube.submobjects):\n",
    "            # Color the face\n",
    "            face.set_fill(color=face_colors[i], opacity=1.0)\n",
    "\n",
    "            # Create label\n",
    "            label = Text(face_labels[i], font=\"Arial\", color=BLACK).scale(0.8)\n",
    "            label.move_to(face.get_center())\n",
    "\n",
    "            # Group label with face so they transform together\n",
    "            labeled_face = VGroup(face, label)\n",
    "            labeled_faces.add(labeled_face)\n",
    "\n",
    "        # Add to scene\n",
    "        self.add(labeled_faces)\n",
    "\n",
    "        # Set camera angle\n",
    "        self.set_camera_orientation(phi=70 * DEGREES, theta=45 * DEGREES)\n",
    "\n",
    "        # Animate cube rotation\n",
    "        self.play(Rotate(labeled_faces, angle=2 * PI, axis=UP, run_time=6))\n",
    "        self.wait(1)"
   ]
  },
  {
   "cell_type": "code",
   "execution_count": 6,
   "id": "8c8c1596-8986-4d60-b41b-76f2840be7e4",
   "metadata": {},
   "outputs": [
    {
     "data": {
      "text/html": [
       "<pre style=\"white-space:pre;overflow-x:auto;line-height:normal;font-family:Menlo,'DejaVu Sans Mono',consolas,'Courier New',monospace\">Manim Community <span style=\"color: #008000; text-decoration-color: #008000\">v0.19.0</span>\n",
       "\n",
       "</pre>\n"
      ],
      "text/plain": [
       "Manim Community \u001b[32mv0.\u001b[0m\u001b[32m19.0\u001b[0m\n",
       "\n"
      ]
     },
     "metadata": {},
     "output_type": "display_data"
    },
    {
     "name": "stderr",
     "output_type": "stream",
     "text": [
      "                                                                                                                                                                                                                             "
     ]
    },
    {
     "data": {
      "text/html": [
       "<video src=\"media/jupyter/LabeledColoredCube3D@2025-07-06@21-48-26.mp4\" controls autoplay loop style=\"max-width: 75%;\"  >\n",
       "      Your browser does not support the <code>video</code> element.\n",
       "    </video>"
      ],
      "text/plain": [
       "<IPython.core.display.Video object>"
      ]
     },
     "metadata": {},
     "output_type": "display_data"
    }
   ],
   "source": [
    "%%manim -qm LabeledColoredCube3D\n",
    "\n",
    "class LabeledColoredCube3D(ThreeDScene):\n",
    "    def construct(self):\n",
    "        # Add 3D axes\n",
    "        axes = ThreeDAxes()\n",
    "        self.add(axes)\n",
    "\n",
    "        # Define cube\n",
    "        cube = Cube(side_length=2)\n",
    "\n",
    "        # Face colors\n",
    "        face_colors = {\n",
    "            0: GREEN,  # +Z: front\n",
    "            1: WHITE,  # -Z: back\n",
    "            2: BLUE,   # +Y: top\n",
    "            3: RED,    # -Y: bottom\n",
    "            4: RED,    # +X: right\n",
    "            5: GREEN,  # -X: left\n",
    "        }\n",
    "\n",
    "        # Face labels\n",
    "        face_labels = {\n",
    "            0: \"x\",   # front\n",
    "            1: \"x'\",  # back\n",
    "            2: \"z\",   # top\n",
    "            3: \"z'\",  # bottom\n",
    "            4: \"y\",   # right\n",
    "            5: \"y'\",  # left\n",
    "        }\n",
    "\n",
    "        # Corresponding normal vectors for each face\n",
    "        face_normals = {\n",
    "            0: OUT,   # +Z\n",
    "            1: IN,    # -Z\n",
    "            2: UP,    # +Y\n",
    "            3: DOWN,  # -Y\n",
    "            4: RIGHT, # +X\n",
    "            5: LEFT,  # -X\n",
    "        }\n",
    "\n",
    "        # Group of faces + oriented labels\n",
    "        labeled_faces = VGroup()\n",
    "\n",
    "        for i, face in enumerate(cube.submobjects):\n",
    "            face.set_fill(face_colors[i], opacity=1.0)\n",
    "\n",
    "            # Create a label in 3D and orient it to face normal\n",
    "            label_text = face_labels[i]\n",
    "            label = Text(label_text, font=\"Arial\", color=BLACK).scale(0.8)\n",
    "\n",
    "            # Center label on face\n",
    "            label.move_to(face.get_center())\n",
    "\n",
    "            # Orient label: use `rotate` with axis-angle to align Z-axis to face normal\n",
    "            normal = face_normals[i]\n",
    "            # Find rotation that maps Z to the face normal\n",
    "            z_axis = OUT\n",
    "            rotation_axis = np.cross(z_axis, normal)\n",
    "            if np.linalg.norm(rotation_axis) != 0:\n",
    "                angle = angle_between_vectors(z_axis, normal)\n",
    "                label.rotate(angle, axis=rotation_axis)\n",
    "\n",
    "            labeled_faces.add(VGroup(face, label))\n",
    "\n",
    "        self.add(labeled_faces)\n",
    "\n",
    "        # Camera setup\n",
    "        self.set_camera_orientation(phi=70 * DEGREES, theta=45 * DEGREES)\n",
    "\n",
    "        # Rotate the labeled cube\n",
    "        self.play(Rotate(labeled_faces, angle=2 * PI, axis=UP, run_time=6))\n",
    "        self.wait(1)"
   ]
  },
  {
   "cell_type": "code",
   "execution_count": 7,
   "id": "5a797d72-4ad6-4e6d-8d0d-b25ea2cea868",
   "metadata": {},
   "outputs": [
    {
     "data": {
      "text/html": [
       "<pre style=\"white-space:pre;overflow-x:auto;line-height:normal;font-family:Menlo,'DejaVu Sans Mono',consolas,'Courier New',monospace\">Manim Community <span style=\"color: #008000; text-decoration-color: #008000\">v0.19.0</span>\n",
       "\n",
       "</pre>\n"
      ],
      "text/plain": [
       "Manim Community \u001b[32mv0.\u001b[0m\u001b[32m19.0\u001b[0m\n",
       "\n"
      ]
     },
     "metadata": {},
     "output_type": "display_data"
    },
    {
     "name": "stderr",
     "output_type": "stream",
     "text": [
      "                                                                                                                                                                                                                             "
     ]
    },
    {
     "data": {
      "text/html": [
       "<video src=\"media/jupyter/ProperlyOrientedLabeledCube@2025-07-06@21-48-27.mp4\" controls autoplay loop style=\"max-width: 75%;\"  >\n",
       "      Your browser does not support the <code>video</code> element.\n",
       "    </video>"
      ],
      "text/plain": [
       "<IPython.core.display.Video object>"
      ]
     },
     "metadata": {},
     "output_type": "display_data"
    }
   ],
   "source": [
    "%%manim -qm ProperlyOrientedLabeledCube\n",
    "\n",
    "class ProperlyOrientedLabeledCube(ThreeDScene):\n",
    "    def construct(self):\n",
    "        axes = ThreeDAxes()\n",
    "        self.add(axes)\n",
    "\n",
    "        cube = Cube(side_length=2)\n",
    "\n",
    "        # Define face colors\n",
    "        face_colors = {\n",
    "            0: GREEN,  # +Z: front  → x\n",
    "            1: WHITE,  # -Z: back   → x'\n",
    "            2: BLUE,   # +Y: top    → z\n",
    "            3: RED,    # -Y: bottom → z'\n",
    "            4: RED,    # +X: right  → y\n",
    "            5: GREEN,  # -X: left   → y'\n",
    "        }\n",
    "\n",
    "        # Define labels\n",
    "        face_labels = {\n",
    "            0: \"x\",\n",
    "            1: \"x'\",\n",
    "            2: \"z\",\n",
    "            3: \"z'\",\n",
    "            4: \"y\",\n",
    "            5: \"y'\",\n",
    "        }\n",
    "\n",
    "        labeled_faces = VGroup()\n",
    "\n",
    "        for i, face in enumerate(cube.submobjects):\n",
    "            face.set_fill(face_colors[i], opacity=1.0)\n",
    "\n",
    "            label = Text(face_labels[i], font=\"Arial\", color=BLACK).scale(0.8)\n",
    "            label.move_to(face.get_center())\n",
    "\n",
    "            # Orient label based on face index\n",
    "            if i == 0:       # front (+Z)\n",
    "                pass  # already oriented correctly\n",
    "            elif i == 1:     # back (-Z)\n",
    "                label.rotate(PI, axis=UP)\n",
    "            elif i == 2:     # top (+Y)\n",
    "                label.rotate(-PI/2, axis=RIGHT)\n",
    "            elif i == 3:     # bottom (-Y)\n",
    "                label.rotate(PI/2, axis=RIGHT)\n",
    "            elif i == 4:     # right (+X)\n",
    "                label.rotate(-PI/2, axis=UP)\n",
    "            elif i == 5:     # left (-X)\n",
    "                label.rotate(PI/2, axis=UP)\n",
    "\n",
    "            labeled_faces.add(VGroup(face, label))\n",
    "\n",
    "        self.add(labeled_faces)\n",
    "\n",
    "        self.set_camera_orientation(phi=70 * DEGREES, theta=45 * DEGREES)\n",
    "        self.play(Rotate(labeled_faces, angle=2*PI, axis=UP, run_time=6))\n",
    "        self.wait(1)"
   ]
  },
  {
   "cell_type": "code",
   "execution_count": 8,
   "id": "f4907774-a795-4a67-bca5-f412917e9c6e",
   "metadata": {},
   "outputs": [
    {
     "data": {
      "text/html": [
       "<pre style=\"white-space:pre;overflow-x:auto;line-height:normal;font-family:Menlo,'DejaVu Sans Mono',consolas,'Courier New',monospace\">Manim Community <span style=\"color: #008000; text-decoration-color: #008000\">v0.19.0</span>\n",
       "\n",
       "</pre>\n"
      ],
      "text/plain": [
       "Manim Community \u001b[32mv0.\u001b[0m\u001b[32m19.0\u001b[0m\n",
       "\n"
      ]
     },
     "metadata": {},
     "output_type": "display_data"
    },
    {
     "name": "stderr",
     "output_type": "stream",
     "text": [
      "                                                                                                                                                                                                                             "
     ]
    },
    {
     "data": {
      "text/html": [
       "<video src=\"media/jupyter/FaceLabeledCube@2025-07-06@21-48-31.mp4\" controls autoplay loop style=\"max-width: 75%;\"  >\n",
       "      Your browser does not support the <code>video</code> element.\n",
       "    </video>"
      ],
      "text/plain": [
       "<IPython.core.display.Video object>"
      ]
     },
     "metadata": {},
     "output_type": "display_data"
    }
   ],
   "source": [
    "%%manim FaceLabeledCube\n",
    "\n",
    "class FaceLabeledCube(ThreeDScene):\n",
    "    def construct(self):\n",
    "        # Axes for reference\n",
    "        self.add(ThreeDAxes())\n",
    "\n",
    "        # Create cube\n",
    "        cube = Cube(side_length=2)\n",
    "\n",
    "        # Assign face colors (0 to 5)\n",
    "        face_colors = {\n",
    "            0: GREEN,  # +Z: front → x\n",
    "            1: WHITE,  # -Z: back  → x'\n",
    "            2: BLUE,   # +Y: top   → z\n",
    "            3: RED,    # -Y: bottom → z'\n",
    "            4: RED,    # +X: right → y\n",
    "            5: GREEN,  # -X: left  → y'\n",
    "        }\n",
    "\n",
    "        # Face labels\n",
    "        face_labels = {\n",
    "            0: (\"x\",    ORIGIN,    None),                # front\n",
    "            1: (\"x'\",   ORIGIN,    [PI, UP]),            # back\n",
    "            2: (\"z\",    ORIGIN,    [-PI/2, RIGHT]),      # top\n",
    "            3: (\"z'\",   ORIGIN,    [PI/2, RIGHT]),       # bottom\n",
    "            4: (\"y\",    ORIGIN,    [-PI/2, UP]),         # right\n",
    "            5: (\"y'\",   ORIGIN,    [PI/2, UP]),          # left\n",
    "        }\n",
    "\n",
    "        # Build the cube with labeled faces\n",
    "        labeled_faces = VGroup()\n",
    "\n",
    "        for i, face in enumerate(cube.submobjects):\n",
    "            # Set face color and full opacity\n",
    "            face.set_fill(face_colors[i], opacity=1.0)\n",
    "            face.set_stroke(BLACK, width=0.5)\n",
    "\n",
    "            # Build label\n",
    "            label_text, offset, rotation = face_labels[i]\n",
    "            label = Text(label_text, font=\"Arial\", color=BLACK).scale(0.8)\n",
    "\n",
    "            # Move label to face center\n",
    "            label.move_to(face.get_center())\n",
    "\n",
    "            # Rotate into the face plane if needed\n",
    "            if rotation:\n",
    "                angle, axis = rotation\n",
    "                label.rotate(angle, axis=axis)\n",
    "\n",
    "            # Attach label to face in a group (so it rotates with cube)\n",
    "            labeled_faces.add(VGroup(face, label))\n",
    "\n",
    "        # Add cube with face-attached labels\n",
    "        self.add(labeled_faces)\n",
    "\n",
    "        # Set camera angle\n",
    "        self.set_camera_orientation(phi=70 * DEGREES, theta=45 * DEGREES)\n",
    "\n",
    "        # Animate rotation\n",
    "        self.play(Rotate(labeled_faces, angle=2*PI, axis=UP, run_time=6))\n",
    "        self.wait(1)"
   ]
  }
 ],
 "metadata": {
  "kernelspec": {
   "display_name": "Python 3 (ipykernel)",
   "language": "python",
   "name": "python3"
  },
  "language_info": {
   "codemirror_mode": {
    "name": "ipython",
    "version": 3
   },
   "file_extension": ".py",
   "mimetype": "text/x-python",
   "name": "python",
   "nbconvert_exporter": "python",
   "pygments_lexer": "ipython3",
   "version": "3.11.13"
  }
 },
 "nbformat": 4,
 "nbformat_minor": 5
}
