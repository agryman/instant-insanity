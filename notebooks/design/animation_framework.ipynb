{
 "cells": [
  {
   "cell_type": "markdown",
   "id": "46ef9aa6beb31616",
   "metadata": {},
   "source": [
    "# Animation Framework\n",
    "*Arthur Ryman, lasted updated 2025-08-22*"
   ]
  },
  {
   "cell_type": "markdown",
   "id": "6ae1fb02a39bd538",
   "metadata": {
    "collapsed": true,
    "jupyter": {
     "outputs_hidden": true
    }
   },
   "source": [
    "\n",
    "## Introduction\n",
    "\n",
    "These notes describe an idea for organizing\n",
    "animation code into modules that each have a limited scope.\n",
    "\n",
    "The purpose of an animation is to draw a sequence of pictures.\n",
    "A picture can have many parts. For example, a cube has six faces,\n",
    "each of which is a Polygon. \n",
    "\n",
    "A Manim Scene can contain many Mobject's.\n",
    "A Mobject can contain many submobjects.\n",
    "Without loss of generality, we can assume that a picture is a Mobject."
   ]
  },
  {
   "cell_type": "code",
   "execution_count": 1,
   "id": "40a2cf0fe92c0df9",
   "metadata": {
    "ExecuteTime": {
     "end_time": "2025-08-22T21:57:03.191442Z",
     "start_time": "2025-08-22T21:57:02.482951Z"
    }
   },
   "outputs": [
    {
     "name": "stderr",
     "output_type": "stream",
     "text": [
      "/Users/arthurryman/Documents/repositories/GitHub/agryman/instant-insanity/venv/lib/python3.13/site-packages/manim_voiceover/__init__.py:4: UserWarning: pkg_resources is deprecated as an API. See https://setuptools.pypa.io/en/latest/pkg_resources.html. The pkg_resources package is slated for removal as early as 2025-11-30. Refrain from using this package or pin to Setuptools<81.\n",
      "  import pkg_resources\n"
     ]
    }
   ],
   "source": [
    "from manim import Mobject\n",
    "\n",
    "type Picture = Mobject"
   ]
  },
  {
   "cell_type": "markdown",
   "id": "23a1ee27edcf6c66",
   "metadata": {},
   "source": [
    "A picture represents a single, static, frame\n",
    "of a movie. Let Movie denote a list of pictures."
   ]
  },
  {
   "cell_type": "code",
   "execution_count": 2,
   "id": "b96bf7eff944470c",
   "metadata": {
    "ExecuteTime": {
     "end_time": "2025-08-22T21:57:03.201876Z",
     "start_time": "2025-08-22T21:57:03.199493Z"
    }
   },
   "outputs": [],
   "source": [
    "type Movie = list[Picture]"
   ]
  },
  {
   "cell_type": "markdown",
   "id": "8860c31f10a27d7e",
   "metadata": {},
   "source": [
    "The state of the Picture will depend on some collection of variables.\n",
    "We refer to this set of variables as a configuration.\n",
    "We refer to the set of all configurations as the configuration space.\n",
    "\n",
    "For example, a Circle depends on a centre point, a radius, and a\n",
    "collection of settings such as fill_colour and stroke_colour.\n",
    "\n",
    "Let C denote some configuration space type. \n",
    "C varies depending on the animation we are drawing. \n",
    "\n",
    "Think of C as a type variable. \n",
    "For the concrete example of a Circle we might define the parameter space CircleConfig\n",
    "as follows:"
   ]
  },
  {
   "cell_type": "code",
   "execution_count": 3,
   "id": "d610ac7d2fcf0207",
   "metadata": {
    "ExecuteTime": {
     "end_time": "2025-08-22T21:57:03.208926Z",
     "start_time": "2025-08-22T21:57:03.206613Z"
    }
   },
   "outputs": [],
   "source": [
    "from dataclasses import dataclass\n",
    "from manim.typing import Point3D\n",
    "from manim import ManimColor\n",
    "\n",
    "@dataclass\n",
    "class CircleConfig:\n",
    "    radius: float\n",
    "    centre: Point3D\n",
    "    stroke_colour: ManimColor\n",
    "    fill_colour: ManimColor"
   ]
  },
  {
   "cell_type": "markdown",
   "id": "30d88321386f1933",
   "metadata": {},
   "source": [
    "The whole point of defining a configuration space is that we can use it to create a Picture.\n",
    "Therefore, we need to define a draw function that generates a Picture from a parameter.\n",
    "\n",
    "For example, draw a Picture that contains one Circle."
   ]
  },
  {
   "cell_type": "code",
   "execution_count": 4,
   "id": "8d2f47fe28c88a25",
   "metadata": {
    "ExecuteTime": {
     "end_time": "2025-08-22T21:57:03.216349Z",
     "start_time": "2025-08-22T21:57:03.214345Z"
    }
   },
   "outputs": [],
   "source": [
    "from manim import Circle\n",
    "\n",
    "def draw_circle_params(config: CircleConfig) -> Picture:\n",
    "    circle: Circle = Circle(radius=config.radius,\n",
    "                            fill_color=config.fill_colour,\n",
    "                            stroke_color=config.stroke_colour)\n",
    "    circle.move_to(config.centre)\n",
    "    return circle"
   ]
  },
  {
   "cell_type": "markdown",
   "id": "f646711b0d8cce92",
   "metadata": {},
   "source": [
    "In general, a drawing function creates a Picture from some configuration space C."
   ]
  },
  {
   "cell_type": "code",
   "execution_count": 5,
   "id": "de24e1d5e592a1db",
   "metadata": {
    "ExecuteTime": {
     "end_time": "2025-08-22T21:57:03.223426Z",
     "start_time": "2025-08-22T21:57:03.221733Z"
    }
   },
   "outputs": [],
   "source": [
    "from typing import Callable\n",
    "\n",
    "type DrawPicture[C] = Callable[[C], Picture]"
   ]
  },
  {
   "cell_type": "markdown",
   "id": "8a7adbeb-1552-4195-a556-f82164a5a2d2",
   "metadata": {},
   "source": [
    "The DrawPicture type definition can be used by type checkers such as mypy.\n",
    "\n",
    "So far we have the following ingredients:\n",
    "* an arbitrary configuration space C, e.g. CircleParams\n",
    "* drawing function f, of type DrawPicture[C], e.g. draw_p_circle"
   ]
  },
  {
   "cell_type": "markdown",
   "id": "ad447d143b9de937",
   "metadata": {},
   "source": [
    "## Animations\n",
    "\n",
    "Next, consider animations.\n",
    "An animation is a movie in which successive pictures vary slightly so that when they are played back\n",
    "we get the illusion of continuous motion.\n",
    "\n",
    "Since we can draw any point in the configuration space, we can generate a movie from a continuous\n",
    "path in the configuration space.\n",
    "All movies have a start and a stop.\n",
    "A path in the configuration space is simply a function that maps some finite interval of real numbers to\n",
    "the configuration space.\n",
    "Without loss of generality, we can assume the real numbers $\\alpha$ lie in the unit interval $I = [0, 1]$\n",
    "where $0$ corresponds to the start and $1$ to the stop.\n",
    "\n",
    "Let Alpha be a type alias for float which we restrict to the unit interval."
   ]
  },
  {
   "cell_type": "code",
   "execution_count": 6,
   "id": "166dff5d85e63e15",
   "metadata": {
    "ExecuteTime": {
     "end_time": "2025-08-22T21:57:03.231760Z",
     "start_time": "2025-08-22T21:57:03.229984Z"
    }
   },
   "outputs": [],
   "source": [
    "type Alpha = float\n",
    "type CircleConfigPath = Callable[[Alpha], CircleConfig]"
   ]
  },
  {
   "cell_type": "markdown",
   "id": "a53bc5a20bfe1dca",
   "metadata": {},
   "source": [
    "For example, here is a path that uniformly varies the radius from 1.0 to 2.0\n",
    "of a red circle, with black boundary, centered at the origin."
   ]
  },
  {
   "cell_type": "code",
   "execution_count": 7,
   "id": "a7eca9bf8fa3f45f",
   "metadata": {
    "ExecuteTime": {
     "end_time": "2025-08-22T21:57:03.240101Z",
     "start_time": "2025-08-22T21:57:03.238202Z"
    }
   },
   "outputs": [
    {
     "ename": "NameError",
     "evalue": "name 'CircleParams' is not defined",
     "output_type": "error",
     "traceback": [
      "\u001b[31m---------------------------------------------------------------------------\u001b[39m",
      "\u001b[31mNameError\u001b[39m                                 Traceback (most recent call last)",
      "\u001b[36mCell\u001b[39m\u001b[36m \u001b[39m\u001b[32mIn[7]\u001b[39m\u001b[32m, line 3\u001b[39m\n\u001b[32m      1\u001b[39m \u001b[38;5;28;01mfrom\u001b[39;00m\u001b[38;5;250m \u001b[39m\u001b[34;01mmanim\u001b[39;00m\u001b[38;5;250m \u001b[39m\u001b[38;5;28;01mimport\u001b[39;00m ORIGIN, RED, BLACK\n\u001b[32m----> \u001b[39m\u001b[32m3\u001b[39m \u001b[38;5;28;01mdef\u001b[39;00m\u001b[38;5;250m \u001b[39m\u001b[34mcircle_radius_1_2\u001b[39m(alpha: \u001b[38;5;28mfloat\u001b[39m) -> \u001b[43mCircleParams\u001b[49m:\n\u001b[32m      4\u001b[39m     radius: \u001b[38;5;28mfloat\u001b[39m = \u001b[32m1.0\u001b[39m + alpha\n\u001b[32m      5\u001b[39m     config: CircleConfig = CircleConfig(radius=radius,\n\u001b[32m      6\u001b[39m                                         centre=ORIGIN,\n\u001b[32m      7\u001b[39m                                         stroke_colour=BLACK,\n\u001b[32m      8\u001b[39m                                         fill_colour=RED)\n",
      "\u001b[31mNameError\u001b[39m: name 'CircleParams' is not defined"
     ]
    }
   ],
   "source": [
    "from manim import ORIGIN, RED, BLACK\n",
    "\n",
    "def circle_radius_1_2(alpha: float) -> CircleParams:\n",
    "    radius: float = 1.0 + alpha\n",
    "    config: CircleConfig = CircleConfig(radius=radius,\n",
    "                                        centre=ORIGIN,\n",
    "                                        stroke_colour=BLACK,\n",
    "                                        fill_colour=RED)\n",
    "    return config"
   ]
  },
  {
   "cell_type": "markdown",
   "id": "5c3cc841b07bf3f6",
   "metadata": {},
   "source": [
    "\n",
    "Of course, pictures will be drawn for only a finite number of values of $\\alpha$.\n",
    "The actual values of $\\alpha$ generated depends on the run time and frame rate.\n",
    "That level of detail is controlled by a renderer.\n",
    "We can ignore those details."
   ]
  },
  {
   "cell_type": "markdown",
   "id": "98e6b59fbb438f73",
   "metadata": {
    "ExecuteTime": {
     "end_time": "2025-08-22T19:36:26.149475Z",
     "start_time": "2025-08-22T19:36:26.148294Z"
    }
   },
   "source": [
    "A generic configuration path is parameterized by a configuration space C."
   ]
  },
  {
   "cell_type": "code",
   "execution_count": null,
   "id": "fbfc3f05768309ad",
   "metadata": {
    "ExecuteTime": {
     "end_time": "2025-08-22T21:57:03.248261Z",
     "start_time": "2025-08-22T21:57:03.246556Z"
    }
   },
   "outputs": [],
   "source": [
    "type ConfigPath[C] = Callable[[Alpha], C]"
   ]
  },
  {
   "cell_type": "markdown",
   "id": "741decc3402a8c3a",
   "metadata": {},
   "source": [
    "A movie is therefore defined by the combination of a configuration path and a drawing function.\n",
    "Here we assume a uniform sampling of Alpha consisting of n equally-spaced values."
   ]
  },
  {
   "cell_type": "code",
   "execution_count": null,
   "id": "fa31c0b3e3e5b30d",
   "metadata": {
    "ExecuteTime": {
     "end_time": "2025-08-22T21:57:03.257107Z",
     "start_time": "2025-08-22T21:57:03.254968Z"
    }
   },
   "outputs": [],
   "source": [
    "import numpy as np\n",
    "from numpy.typing import NDArray\n",
    "\n",
    "def make_movie[C](config_path: ConfigPath[C], draw_picture: DrawPicture[C], n: int) -> Movie:\n",
    "    alphas: NDArray = np.linspace(0.0, 1.0, num=n, endpoint=False, dtype=float)\n",
    "    movie: Movie = [draw_picture(config_path(alpha)) for alpha in alphas]\n",
    "    return movie"
   ]
  },
  {
   "cell_type": "markdown",
   "id": "d9d357b46059809a",
   "metadata": {},
   "source": [
    "Of course, make_movie() is just conceptual. It's what the Manim renderer does. When Manim renders a scene it runs\n",
    "several animations, one after the other, looping over a time parameter and updating the Picture incrementally.\n",
    "\n",
    "The point here is that an animation is conceptually composed of the following three main components:\n",
    "* a configuration space C\n",
    "* a drawing function f that computes a Picture given a configuration c in C\n",
    "* a path function p that maps a real parameter alpha to the configuration space\n",
    "\n",
    "These breakdown of the animation into these three parts will let us define classes that have well-defined\n",
    "responsibilities.\n",
    "\n",
    "The drawing function is very tightly associated with the configuration space.\n",
    "However, there are many possible paths in configuration space.\n",
    "For example, consider rigid motions in euclidean space.\n",
    "Here the configuration space is the set of rotations and translations acting on euclidean space.\n",
    "These parameters can be applied to any collection of objects embedded in euclidean space."
   ]
  },
  {
   "cell_type": "markdown",
   "id": "5b3b7560-0175-4452-90f0-ac7e16b1b713",
   "metadata": {},
   "source": [
    "## Transformations\n",
    "\n",
    "We frequently encounter the situation in which the configuration space decomposes into a pair consisting of an initial geometry g of Type G and a transformation t of\n",
    "type T. The transformation acts on the set of geometries:\n",
    "\n",
    "$$\n",
    "t: G \\rightarrow G\n",
    "$$\n",
    "\n",
    "In this case:\n",
    "$$\n",
    "C = T \\times G\n",
    "$$\n",
    "\n",
    "We can evaluate the transform and a configuration to get another configuration.\n",
    "\n",
    "$$\n",
    "(t, g) \\mapsto t(g)\n",
    "$$"
   ]
  },
  {
   "cell_type": "code",
   "execution_count": null,
   "id": "3a8da52a-ef78-4555-abc8-521f11175c8c",
   "metadata": {},
   "outputs": [],
   "source": [
    "type TransformationConfig[T,G] = tuple[T,G]"
   ]
  },
  {
   "cell_type": "markdown",
   "id": "27ba2c04-ec76-4380-b8e1-6da0e79c1a7f",
   "metadata": {},
   "source": [
    "We further require that T contains an identity transformation e:\n",
    "\n",
    "$$\n",
    "\\forall g: G \\bullet e(g) = g\n",
    "$$"
   ]
  },
  {
   "cell_type": "markdown",
   "id": "e464c009-338d-4ee2-a958-983957326f1a",
   "metadata": {},
   "source": [
    "Suppose we are given a path $\\tau: [0,1] \\rightarrow T$ in transformation space such that $\\tau(0) = e$.\n",
    "Suppose also that we are given a starting configuration $c_0 \\in C$.\n",
    "Then this defines a path $\\gamma$ in C by:\n",
    "\n",
    "$$\n",
    "\\gamma(\\alpha) = (\\tau(\\alpha), \\tau(\\alpha)(c_0))\n",
    "$$\n",
    "\n",
    "with $\\gamma(0) = (e, c_0)$\n",
    "\n",
    "Furthermore, the drawing function typically only depends on the $G$ component of $C$."
   ]
  },
  {
   "cell_type": "markdown",
   "id": "37a7400148e47519",
   "metadata": {},
   "source": [
    "## Classes\n",
    "\n",
    "Above we used simple type definitions for the configuration space, the drawing functions, and the configuration paths.\n",
    "However, these type will in general have a lot of internal structure so they should be implemented as classes.\n",
    "Here are my proposed names for three abstract base classes.\n",
    "* ConfigSpace: $C$\n",
    "* DrawFunction: $C \\rightarrow \\mbox{Picture}$\n",
    "* ConfigPath: $I \\rightarrow C$"
   ]
  }
 ],
 "metadata": {
  "kernelspec": {
   "display_name": "Python 3 (ipykernel)",
   "language": "python",
   "name": "python3"
  },
  "language_info": {
   "codemirror_mode": {
    "name": "ipython",
    "version": 3
   },
   "file_extension": ".py",
   "mimetype": "text/x-python",
   "name": "python",
   "nbconvert_exporter": "python",
   "pygments_lexer": "ipython3",
   "version": "3.13.5"
  }
 },
 "nbformat": 4,
 "nbformat_minor": 5
}
