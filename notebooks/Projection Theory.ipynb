{
 "cells": [
  {
   "cell_type": "markdown",
   "id": "4d1b78f8-4590-4281-a00e-cb1778345539",
   "metadata": {},
   "source": [
    "# Projection Theory\n",
    "*Arthur Ryman, lasted updated 2025-09-03*"
   ]
  },
  {
   "cell_type": "markdown",
   "id": "0b90b393-38dc-421f-8fbc-504cb0ab787f",
   "metadata": {},
   "source": [
    "## Introduction\n",
    "\n",
    "The goal of this notebook is to analyze and develop the theory of projections as originally outlined in the document \n",
    "[projection.md](https://github.com/agryman/instant-insanity/blob/main/src/instant_insanity/core/projection.md)."
   ]
  },
  {
   "cell_type": "markdown",
   "id": "c4d6952e-e829-4b8c-81de-3928cedc11f5",
   "metadata": {},
   "source": [
    "## SymPy\n",
    "\n",
    "I will use SymPy to represent and verify the math.\n",
    "I will convert the notation used in the original document to a notation that SymPy easily handles, namely using\n",
    "numeric subscripts for components of vectors."
   ]
  },
  {
   "cell_type": "markdown",
   "id": "80b3cd39-a4e8-4c20-a4a4-c713500f03e6",
   "metadata": {},
   "source": [
    "## Model Space\n",
    "\n",
    "Let $M = \\mathbb{R}^3$ denote the 3d model space.\n",
    "Model space is where our simple 3d objects live.\n",
    "\n",
    "Let $x, y, z$ be the usual Cartesian coordinates on model space.\n",
    "\n",
    "We will use the default Manim orientation of model space relative to the display screen, \n",
    "namely:\n",
    "* x increases from left to right,\n",
    "* y increases from bottom to top, and \n",
    "* z increases from in (back) to out (front)."
   ]
  },
  {
   "cell_type": "markdown",
   "id": "4f0e5087-f6f7-4f2d-b2bc-043823c64b78",
   "metadata": {},
   "source": [
    "Model space and scene space are 3-dimensional real vector spaces.\n",
    "\n",
    "Define the types Scalar to be a real number and Vector to be a triple of scalars.\n",
    "SymPy represents vectors as column vectors.\n",
    "\n",
    "Define some convenience functions to create scalars, positive scalars, and vectors.\n",
    "The components of vectors will be subscripted with the numbers 1, 2, and 3."
   ]
  },
  {
   "cell_type": "code",
   "execution_count": 1,
   "id": "9bb3c803-91d4-47c9-b2d3-a6465118881f",
   "metadata": {},
   "outputs": [],
   "source": [
    "from sympy import *\n",
    "from instant_insanity.core.symbolic_projection import Scalar, Vector\n",
    "\n",
    "def scalar(name: str) -> Scalar:\n",
    "    return symbols(name, real=True)\n",
    "\n",
    "def positive_scalar(name: str) -> Scalar:\n",
    "    return symbols(name, real=True, positive=True)\n",
    "\n",
    "def vector(name: str) -> Vector:\n",
    "    return Matrix(symbols(name + '1:4', real=True))"
   ]
  },
  {
   "cell_type": "markdown",
   "id": "d2dba4af-4ca8-4e99-8772-7e583d380e99",
   "metadata": {},
   "source": [
    "Let m represent a generic point in model space."
   ]
  },
  {
   "cell_type": "code",
   "execution_count": 2,
   "id": "8a75d707-fd84-4385-b068-2cf1b8ed6a90",
   "metadata": {},
   "outputs": [
    {
     "data": {
      "text/latex": [
       "$\\displaystyle \\left[\\begin{matrix}m_{1} & m_{2} & m_{3}\\end{matrix}\\right]$"
      ],
      "text/plain": [
       "Matrix([[m1, m2, m3]])"
      ]
     },
     "execution_count": 2,
     "metadata": {},
     "output_type": "execute_result"
    }
   ],
   "source": [
    "model_point = m = vector('m')\n",
    "\n",
    "m.T"
   ]
  },
  {
   "cell_type": "code",
   "execution_count": 3,
   "id": "02e5da2f-8c31-4e48-bfb8-45595400bfa8",
   "metadata": {},
   "outputs": [
    {
     "data": {
      "text/plain": [
       "sympy.matrices.dense.MutableDenseMatrix"
      ]
     },
     "execution_count": 3,
     "metadata": {},
     "output_type": "execute_result"
    }
   ],
   "source": [
    "type(m)"
   ]
  },
  {
   "cell_type": "code",
   "execution_count": 4,
   "id": "cac1bbde-dc43-454b-94fb-6009da07756d",
   "metadata": {},
   "outputs": [
    {
     "data": {
      "text/latex": [
       "$\\displaystyle m_{3}$"
      ],
      "text/plain": [
       "m3"
      ]
     },
     "execution_count": 4,
     "metadata": {},
     "output_type": "execute_result"
    }
   ],
   "source": [
    "m1, m2, m3 = m\n",
    "\n",
    "m3"
   ]
  },
  {
   "cell_type": "markdown",
   "id": "0de7a7eb-6c0a-4d12-bb26-d67c90dbe2da",
   "metadata": {},
   "source": [
    "## Translations and Scalings\n",
    "\n",
    "Translations allow us to shift the origins of model space and scene space relative to each other.\n",
    "\n",
    "Scaling allows us to change their relative units of measure.\n",
    "For example, our standard puzzle cube has side length 2.0 in model space, but might fit better with side length 1.0 in scene space.\n",
    "In this case we would use a scale factor of 0.5.\n",
    "\n",
    "Technically, translations and scalings are independent of projections.\n",
    "Historically, we have introduced the idea of the camera plane.\n",
    "The position of the camera plane has no impact on the magnification of objects in orthographic projections.\n",
    "It does influence the magnification in perspective transformations. The closer the camera plane is to the viewpoint,\n",
    "the smaller it looks. However, I believe this effect can be compensated for by a suitably chosen scale factor.\n",
    "\n",
    "TODO: Confirm that an arbitrary location of the camera plane is equivalent to the camera plane at z=0 plus a suitable\n",
    "scale factor.\n",
    "\n",
    "Now let's create some SymPy types variables to use in our formulae.\n",
    "\n",
    "Keep the translation and scaling separate from the projection for now. They may not actually be independent parameters\n",
    "but they are conceptually distinct."
   ]
  },
  {
   "cell_type": "code",
   "execution_count": 5,
   "id": "4c3dce0f-8ec6-45dc-b417-561e2f9c29c7",
   "metadata": {},
   "outputs": [
    {
     "data": {
      "text/latex": [
       "$\\displaystyle \\left[\\begin{matrix}o_{1} & o_{2} & o_{3}\\end{matrix}\\right]$"
      ],
      "text/plain": [
       "Matrix([[o1, o2, o3]])"
      ]
     },
     "execution_count": 5,
     "metadata": {},
     "output_type": "execute_result"
    }
   ],
   "source": [
    "scene_origin = o = vector('o')\n",
    "\n",
    "o.T"
   ]
  },
  {
   "cell_type": "code",
   "execution_count": 6,
   "id": "d4f8b4f5-5ebe-4fde-8de8-827e955ef424",
   "metadata": {},
   "outputs": [
    {
     "data": {
      "text/plain": [
       "sympy.matrices.dense.MutableDenseMatrix"
      ]
     },
     "execution_count": 6,
     "metadata": {},
     "output_type": "execute_result"
    }
   ],
   "source": [
    "type(o)"
   ]
  },
  {
   "cell_type": "code",
   "execution_count": 7,
   "id": "09558582-cf5f-478d-89bd-46d6e64153b7",
   "metadata": {},
   "outputs": [
    {
     "data": {
      "text/latex": [
       "$\\displaystyle o_{3}$"
      ],
      "text/plain": [
       "o3"
      ]
     },
     "execution_count": 7,
     "metadata": {},
     "output_type": "execute_result"
    }
   ],
   "source": [
    "o1, o2, o3 = o\n",
    "\n",
    "o3"
   ]
  },
  {
   "cell_type": "code",
   "execution_count": 8,
   "id": "6dfdeba9-d5f9-445e-bffe-d4f5e6c44623",
   "metadata": {},
   "outputs": [
    {
     "data": {
      "text/plain": [
       "sympy.core.symbol.Symbol"
      ]
     },
     "execution_count": 8,
     "metadata": {},
     "output_type": "execute_result"
    }
   ],
   "source": [
    "type(o3)"
   ]
  },
  {
   "cell_type": "markdown",
   "id": "ef14dcb9-6484-45bc-b0d8-afe9670877bb",
   "metadata": {},
   "source": [
    "The parameters scene_x, scene_y, and scene_z SHOULD be interpretted as coordinates of the point $o$ in model space\n",
    "that maps to the origin in scene space."
   ]
  },
  {
   "cell_type": "markdown",
   "id": "b4ed2667-fe0d-4ade-8a53-12725bf4ee37",
   "metadata": {},
   "source": [
    "We allow the mapping from model space to scene space to include a positive scalar scale factor.\n",
    "Think of this as a change of measurement units.\n",
    "The scale factor is the number of scene units per model unit."
   ]
  },
  {
   "cell_type": "code",
   "execution_count": 9,
   "id": "57f43dcf-7b00-410f-8e63-a08c0f43a32a",
   "metadata": {},
   "outputs": [
    {
     "data": {
      "text/latex": [
       "$\\displaystyle \\alpha$"
      ],
      "text/plain": [
       "alpha"
      ]
     },
     "execution_count": 9,
     "metadata": {},
     "output_type": "execute_result"
    }
   ],
   "source": [
    "scale = alpha = positive_scalar('alpha')\n",
    "\n",
    "alpha"
   ]
  },
  {
   "cell_type": "code",
   "execution_count": 10,
   "id": "b2663d14-980d-4408-a9e0-96256133426a",
   "metadata": {},
   "outputs": [
    {
     "data": {
      "text/plain": [
       "sympy.core.symbol.Symbol"
      ]
     },
     "execution_count": 10,
     "metadata": {},
     "output_type": "execute_result"
    }
   ],
   "source": [
    "type(alpha)"
   ]
  },
  {
   "cell_type": "markdown",
   "id": "ee9a6061-1175-4718-95aa-fe53f2c17a6b",
   "metadata": {},
   "source": [
    "The mapping from model space to scene space is as follows. "
   ]
  },
  {
   "cell_type": "code",
   "execution_count": 11,
   "id": "10156c4c-3ae1-4db7-a756-39bfc4b07414",
   "metadata": {},
   "outputs": [
    {
     "data": {
      "text/latex": [
       "$\\displaystyle \\left[\\begin{matrix}\\alpha \\left(m_{1} - o_{1}\\right) & \\alpha \\left(m_{2} - o_{2}\\right) & \\alpha \\left(m_{3} - o_{3}\\right)\\end{matrix}\\right]$"
      ],
      "text/plain": [
       "Matrix([[alpha*(m1 - o1), alpha*(m2 - o2), alpha*(m3 - o3)]])"
      ]
     },
     "execution_count": 11,
     "metadata": {},
     "output_type": "execute_result"
    }
   ],
   "source": [
    "def model_to_scene(m: Vector) -> Vector:\n",
    "    return scale * (m - o)\n",
    "\n",
    "model_to_scene(m).T"
   ]
  },
  {
   "cell_type": "markdown",
   "id": "a5eb8aa3-deac-4cca-9233-705e077ea378",
   "metadata": {},
   "source": [
    "Let s be a generic point in Scene space."
   ]
  },
  {
   "cell_type": "code",
   "execution_count": 12,
   "id": "73f14f01-9220-4466-a454-d6c3ea7ce370",
   "metadata": {},
   "outputs": [
    {
     "data": {
      "text/latex": [
       "$\\displaystyle \\left[\\begin{matrix}s_{1} & s_{2} & s_{3}\\end{matrix}\\right]$"
      ],
      "text/plain": [
       "Matrix([[s1, s2, s3]])"
      ]
     },
     "execution_count": 12,
     "metadata": {},
     "output_type": "execute_result"
    }
   ],
   "source": [
    "scene_point = s = vector('s')\n",
    "\n",
    "s.T"
   ]
  },
  {
   "cell_type": "code",
   "execution_count": 13,
   "id": "0b782cf2-4a5d-488c-9f73-81174d489142",
   "metadata": {},
   "outputs": [
    {
     "data": {
      "text/latex": [
       "$\\displaystyle s_{3}$"
      ],
      "text/plain": [
       "s3"
      ]
     },
     "execution_count": 13,
     "metadata": {},
     "output_type": "execute_result"
    }
   ],
   "source": [
    "s1, s2, s3 = s\n",
    "\n",
    "s3"
   ]
  },
  {
   "cell_type": "markdown",
   "id": "77bba12d-cd83-4d18-95bf-af45deb39256",
   "metadata": {},
   "source": [
    "The mapping from scene space to model space is the inverse."
   ]
  },
  {
   "cell_type": "code",
   "execution_count": 14,
   "id": "9d8aaeda-3c8c-41db-80c2-7492edfe743a",
   "metadata": {},
   "outputs": [
    {
     "data": {
      "text/latex": [
       "$\\displaystyle \\left[\\begin{matrix}o_{1} + \\frac{s_{1}}{\\alpha} & o_{2} + \\frac{s_{2}}{\\alpha} & o_{3} + \\frac{s_{3}}{\\alpha}\\end{matrix}\\right]$"
      ],
      "text/plain": [
       "Matrix([[o1 + s1/alpha, o2 + s2/alpha, o3 + s3/alpha]])"
      ]
     },
     "execution_count": 14,
     "metadata": {},
     "output_type": "execute_result"
    }
   ],
   "source": [
    "def scene_to_model(s: Vector) -> Vector:\n",
    "    return s / alpha + o\n",
    "\n",
    "scene_to_model(s).T"
   ]
  },
  {
   "cell_type": "markdown",
   "id": "4ff82cd7-4265-49c9-8f33-18e565b9d5d4",
   "metadata": {},
   "source": [
    "Verify that these mappings are inverses."
   ]
  },
  {
   "cell_type": "code",
   "execution_count": 15,
   "id": "e0285e8a-92d0-4800-8c75-8fb93bddd7e3",
   "metadata": {},
   "outputs": [
    {
     "data": {
      "text/latex": [
       "$\\displaystyle \\left[\\begin{matrix}m_{1} & m_{2} & m_{3}\\end{matrix}\\right]$"
      ],
      "text/plain": [
       "Matrix([[m1, m2, m3]])"
      ]
     },
     "execution_count": 15,
     "metadata": {},
     "output_type": "execute_result"
    }
   ],
   "source": [
    "sm = model_to_scene(m)\n",
    "msm = scene_to_model(sm)\n",
    "\n",
    "msm.T"
   ]
  },
  {
   "cell_type": "markdown",
   "id": "42e9cd61-1faf-4e90-9d1f-03ce60401e80",
   "metadata": {},
   "source": [
    "Ask SymPy to verify that the functions are inverses."
   ]
  },
  {
   "cell_type": "code",
   "execution_count": 16,
   "id": "57cb8e9f-f2d8-44e2-acb0-fbdf29a973f4",
   "metadata": {},
   "outputs": [
    {
     "data": {
      "text/latex": [
       "$\\displaystyle \\text{True}$"
      ],
      "text/plain": [
       "True"
      ]
     },
     "execution_count": 16,
     "metadata": {},
     "output_type": "execute_result"
    }
   ],
   "source": [
    "Eq(scene_to_model(model_to_scene(m)), m)"
   ]
  },
  {
   "cell_type": "code",
   "execution_count": 17,
   "id": "9f5c3dff-ea3e-4386-8bad-ebb233676050",
   "metadata": {},
   "outputs": [
    {
     "data": {
      "text/latex": [
       "$\\displaystyle \\left[\\begin{matrix}s_{1} & s_{2} & s_{3}\\end{matrix}\\right]$"
      ],
      "text/plain": [
       "Matrix([[s1, s2, s3]])"
      ]
     },
     "execution_count": 17,
     "metadata": {},
     "output_type": "execute_result"
    }
   ],
   "source": [
    "ms = scene_to_model(s)\n",
    "sms = model_to_scene(ms)\n",
    "\n",
    "sms.T"
   ]
  },
  {
   "cell_type": "code",
   "execution_count": 18,
   "id": "2ef1f662-3991-41fe-96ef-83ae2027cf07",
   "metadata": {},
   "outputs": [
    {
     "data": {
      "text/latex": [
       "$\\displaystyle \\text{True}$"
      ],
      "text/plain": [
       "True"
      ]
     },
     "execution_count": 18,
     "metadata": {},
     "output_type": "execute_result"
    }
   ],
   "source": [
    "Eq(model_to_scene(scene_to_model(s)), s)"
   ]
  },
  {
   "attachments": {},
   "cell_type": "markdown",
   "id": "feb7a28c-9c2a-4fa3-bd8b-3ef61876d93a",
   "metadata": {},
   "source": [
    "## Projections\n",
    "\n",
    "A projection is a mapping from 3d space to 2d space.\n",
    "Projections let us draw 3d objects on 2d screens.\n",
    "This document gives a precise, mathematical specification of projections.\n",
    "\n",
    "Implementing projections will let us draw simple 3d scenes in Manim\n",
    "using the `Scene` class and the Cairo renderer.\n",
    "\n",
    "Although work is underway to produce a high-quality OpenGL renderer for use with the `ThreeDScene` class,\n",
    "the majority of our planned content is 2d so using Cairo with the `Scene` class\n",
    "is an acceptable short-term workaround.\n",
    "\n",
    "Both types of projection project model space onto the camera plane which is always perpendicular to the z-axis.\n",
    "The camera plane $C$ is defined by the equation $z = c$."
   ]
  },
  {
   "cell_type": "code",
   "execution_count": 19,
   "id": "aa769ac3-620f-4477-8acc-ce58dfe082e9",
   "metadata": {},
   "outputs": [
    {
     "data": {
      "text/latex": [
       "$\\displaystyle c$"
      ],
      "text/plain": [
       "c"
      ]
     },
     "execution_count": 19,
     "metadata": {},
     "output_type": "execute_result"
    }
   ],
   "source": [
    "camera_z = c = scalar('c')\n",
    "\n",
    "c"
   ]
  },
  {
   "cell_type": "markdown",
   "id": "f72cee93-289a-4fff-a0c8-103a7975fa19",
   "metadata": {},
   "source": [
    "A generic point $m$ in model space has z-component $m_3$.\n",
    "The camera plane in model space defined by the parameter $c$ is given by the equation $m_3 = c$."
   ]
  },
  {
   "cell_type": "code",
   "execution_count": 20,
   "id": "200ddc98-f137-49eb-8d6a-2ca58b79087c",
   "metadata": {},
   "outputs": [
    {
     "data": {
      "text/latex": [
       "$\\displaystyle m_{3} = c$"
      ],
      "text/plain": [
       "Eq(m3, c)"
      ]
     },
     "execution_count": 20,
     "metadata": {},
     "output_type": "execute_result"
    }
   ],
   "source": [
    "def camera_plane(c: Scalar) -> Eq:\n",
    "    return Eq(m3, c)\n",
    "\n",
    "C = camera_plane(c)\n",
    "\n",
    "C"
   ]
  },
  {
   "cell_type": "markdown",
   "id": "4d483f33-5b0f-4ba9-8b34-ff9a476d6aaf",
   "metadata": {},
   "source": [
    "Ask SymPy to verify that any point with z-component $c$ in in the camera plane $C$."
   ]
  },
  {
   "cell_type": "code",
   "execution_count": 21,
   "id": "0265365c-7c6e-438a-b884-d2a672927bb9",
   "metadata": {},
   "outputs": [
    {
     "data": {
      "text/latex": [
       "$\\displaystyle \\text{True}$"
      ],
      "text/plain": [
       "True"
      ]
     },
     "execution_count": 21,
     "metadata": {},
     "output_type": "execute_result"
    }
   ],
   "source": [
    "C.subs({m3: c})"
   ]
  },
  {
   "cell_type": "markdown",
   "id": "9d832f6d-7907-4db9-bbf2-a3ca4f400d95",
   "metadata": {},
   "source": [
    "SymPy may not be able to determine if a point in the plane, in which case the equation does not reduce to the truth value."
   ]
  },
  {
   "cell_type": "code",
   "execution_count": 22,
   "id": "a2aacdc1-b7a8-4746-890e-a35458ed74bd",
   "metadata": {},
   "outputs": [
    {
     "data": {
      "text/latex": [
       "$\\displaystyle 0 = c$"
      ],
      "text/plain": [
       "Eq(0, c)"
      ]
     },
     "execution_count": 22,
     "metadata": {},
     "output_type": "execute_result"
    }
   ],
   "source": [
    "C.subs({m3: 0})"
   ]
  },
  {
   "cell_type": "markdown",
   "id": "d2d3c1b7-2722-486c-afef-bf95aeacc7d2",
   "metadata": {},
   "source": [
    "Define a function that tests if a point in model space satisfies an equation defined in terms of a generic point in \n",
    "model space. SymPy may be able to reduce the equation to a boolean if it can simplify it enough.\n",
    "For example, $c = c$ is always true while $c = c + 1$ is always false."
   ]
  },
  {
   "cell_type": "code",
   "execution_count": 23,
   "id": "108dd8e0-2f03-4649-93b8-a185a095b108",
   "metadata": {},
   "outputs": [
    {
     "data": {
      "text/latex": [
       "$\\displaystyle \\text{True}$"
      ],
      "text/plain": [
       "True"
      ]
     },
     "execution_count": 23,
     "metadata": {},
     "output_type": "execute_result"
    }
   ],
   "source": [
    "def is_solution(p: Vector, eq: Eq) -> Eq:\n",
    "    p1, p2, p3 = p\n",
    "    return eq.subs({m1: p1, m2: p2, m3: p3})\n",
    "\n",
    "p00c = Matrix([0, 0, c])\n",
    "\n",
    "is_solution(p00c, C)"
   ]
  },
  {
   "cell_type": "code",
   "execution_count": 24,
   "id": "2a3faa1e-88e9-4388-8543-dbc400fd7353",
   "metadata": {},
   "outputs": [
    {
     "data": {
      "text/latex": [
       "$\\displaystyle \\text{False}$"
      ],
      "text/plain": [
       "False"
      ]
     },
     "execution_count": 24,
     "metadata": {},
     "output_type": "execute_result"
    }
   ],
   "source": [
    "p00c1 = Matrix([0, 0, c + 1])\n",
    "\n",
    "is_solution(p00c1, C)"
   ]
  },
  {
   "cell_type": "markdown",
   "id": "fb8e51ab-89e6-4309-bf8c-33069cda4a22",
   "metadata": {},
   "source": [
    "## Perspective Projections\n",
    "\n",
    "We define perspective projections by giving a viewpoint.\n",
    "Define a generic viewpoint."
   ]
  },
  {
   "cell_type": "code",
   "execution_count": 25,
   "id": "fa82cc4b-9584-496e-bfce-987fb89812bc",
   "metadata": {},
   "outputs": [
    {
     "data": {
      "text/latex": [
       "$\\displaystyle \\left[\\begin{matrix}v_{1} & v_{2} & v_{3}\\end{matrix}\\right]$"
      ],
      "text/plain": [
       "Matrix([[v1, v2, v3]])"
      ]
     },
     "execution_count": 25,
     "metadata": {},
     "output_type": "execute_result"
    }
   ],
   "source": [
    "viewpoint = v = vector('v')\n",
    "\n",
    "viewpoint.T"
   ]
  },
  {
   "cell_type": "markdown",
   "id": "9721b4b7-fc31-4942-9ae6-47c16db35a07",
   "metadata": {},
   "source": [
    "## Orthographic Projections\n",
    "\n",
    "We define an orthographic projection by giving the unit vector $u$ that specifies the direction of the projection.\n",
    "Since we'll be doing exact mathematics, we'll define the unit vector in terms of spherical polar angles.\n",
    "Any unit vector $u$ is parameterized by the polar angle $\\theta$ and the azimuthal angle $\\theta$.\n",
    "\n",
    "Define a generic unit vector $u$."
   ]
  },
  {
   "cell_type": "code",
   "execution_count": 26,
   "id": "decdf80f-1c89-4be6-b726-f6eda45dda6d",
   "metadata": {},
   "outputs": [
    {
     "data": {
      "text/latex": [
       "$\\displaystyle \\left[\\begin{matrix}\\theta & \\phi\\end{matrix}\\right]$"
      ],
      "text/plain": [
       "Matrix([[theta, phi]])"
      ]
     },
     "execution_count": 26,
     "metadata": {},
     "output_type": "execute_result"
    }
   ],
   "source": [
    "theta = scalar('theta')\n",
    "phi = scalar('phi')\n",
    "\n",
    "Matrix([theta, phi]).T"
   ]
  },
  {
   "cell_type": "code",
   "execution_count": 27,
   "id": "2583999a-0734-41ab-be2d-d08bbfc6c7da",
   "metadata": {},
   "outputs": [
    {
     "data": {
      "text/latex": [
       "$\\displaystyle \\left[\\begin{matrix}\\sin{\\left(\\theta \\right)} \\cos{\\left(\\phi \\right)} & \\sin{\\left(\\phi \\right)} \\sin{\\left(\\theta \\right)} & \\cos{\\left(\\theta \\right)}\\end{matrix}\\right]$"
      ],
      "text/plain": [
       "Matrix([[sin(theta)*cos(phi), sin(phi)*sin(theta), cos(theta)]])"
      ]
     },
     "execution_count": 27,
     "metadata": {},
     "output_type": "execute_result"
    }
   ],
   "source": [
    "u_x = sin(theta) * cos(phi)\n",
    "u_y = sin(theta) * sin(phi)\n",
    "u_z = cos(theta)\n",
    "u = Matrix([u_x, u_y, u_z])\n",
    "\n",
    "u.T"
   ]
  },
  {
   "cell_type": "code",
   "execution_count": 28,
   "id": "246344dd-cf79-4a32-9c8c-e661154035de",
   "metadata": {},
   "outputs": [
    {
     "data": {
      "text/latex": [
       "$\\displaystyle \\sqrt{\\sin^{2}{\\left(\\phi \\right)} \\sin^{2}{\\left(\\theta \\right)} + \\sin^{2}{\\left(\\theta \\right)} \\cos^{2}{\\left(\\phi \\right)} + \\cos^{2}{\\left(\\theta \\right)}}$"
      ],
      "text/plain": [
       "sqrt(sin(phi)**2*sin(theta)**2 + sin(theta)**2*cos(phi)**2 + cos(theta)**2)"
      ]
     },
     "execution_count": 28,
     "metadata": {},
     "output_type": "execute_result"
    }
   ],
   "source": [
    "u.norm()"
   ]
  },
  {
   "cell_type": "code",
   "execution_count": 29,
   "id": "7143a9ce-0ad7-4736-854f-184258c6e7ed",
   "metadata": {},
   "outputs": [
    {
     "data": {
      "text/latex": [
       "$\\displaystyle 1$"
      ],
      "text/plain": [
       "1"
      ]
     },
     "execution_count": 29,
     "metadata": {},
     "output_type": "execute_result"
    }
   ],
   "source": [
    "simplify(u.norm())"
   ]
  },
  {
   "cell_type": "markdown",
   "id": "a23e476d-f91a-4738-82dd-a602357652f1",
   "metadata": {},
   "source": [
    "## The Camera Plane \n",
    "\n",
    "Let $C$ denote the camera plane in model space.\n",
    "The camera plane is where we will draw the 2d projections of 3d objects.\n",
    "The points in the camera plane get mapped to the pixels of the \n",
    "display screen by the Manim `Scene` class.\n",
    "\n",
    "The camera plane is oriented parallel to the plane z = 0.\n",
    "Let $c$ be a real number that defines the camera plane \n",
    "as the solutions to the equation $z = c$.\n",
    "\n",
    "$$\n",
    "C = \\{~(x, y, c) \\mid (x, y) \\in \\mathbb{R}^2~\\}\n",
    "$$\n",
    "\n",
    "In terms of our generic variables we have:"
   ]
  },
  {
   "cell_type": "code",
   "execution_count": 30,
   "id": "4737b2f2-ca2d-4511-8fd3-78a81302be2c",
   "metadata": {},
   "outputs": [
    {
     "data": {
      "text/latex": [
       "$\\displaystyle c$"
      ],
      "text/plain": [
       "c"
      ]
     },
     "execution_count": 30,
     "metadata": {},
     "output_type": "execute_result"
    }
   ],
   "source": [
    "c = camera_z\n",
    "\n",
    "c"
   ]
  },
  {
   "cell_type": "markdown",
   "id": "eb0658bd-374f-4f16-a909-f4b1ad33d702",
   "metadata": {},
   "source": [
    "Given any point $m$ in model space, we define its projection $\\pi(m)$ onto the camera\n",
    "plane by:\n",
    "$$\n",
    "\\pi(m_x, m_y, m_z) = (m_x, m_y, c)\n",
    "$$"
   ]
  },
  {
   "cell_type": "markdown",
   "id": "9834a1e3-268b-48b9-bb63-a91e9e809f2b",
   "metadata": {},
   "source": [
    "The variable $\\pi$ is predefined in SymPy, so let's call this projection proj_xy."
   ]
  },
  {
   "cell_type": "code",
   "execution_count": 31,
   "id": "1e664081-e1ce-461e-b4c4-39923c0e9d1c",
   "metadata": {},
   "outputs": [
    {
     "data": {
      "text/latex": [
       "$\\displaystyle \\left[\\begin{matrix}m_{1} & m_{2} & c\\end{matrix}\\right]$"
      ],
      "text/plain": [
       "Matrix([[m1, m2, c]])"
      ]
     },
     "execution_count": 31,
     "metadata": {},
     "output_type": "execute_result"
    }
   ],
   "source": [
    "def proj_xy(p: Vector) -> Vector:\n",
    "    return Matrix([p[0], p[1], c])\n",
    "\n",
    "proj_xy(m).T"
   ]
  },
  {
   "cell_type": "markdown",
   "id": "1b56e537-35a5-41f1-98ea-866a4a9ff6c4",
   "metadata": {},
   "source": [
    "Thus, $\\pi$ maps $M$ onto $C$:\n",
    "$$\n",
    "\\pi: M \\rightarrow C\n",
    "$$\n",
    "\n",
    "The projection $\\pi$ does nothing to the $(x,y)$-coordinates\n",
    "and forgets the $z$-coordinate of points in $M$.\n",
    "\n",
    "We need more sophisticated projections that give us the illusion of 3d scenes\n",
    "but don't forget information so that we can invert them and compute the relative\n",
    "ordering of model space points that project to the same camera plane points.\n",
    "These are referred to as 3d projections, and they include perspective and orthographic\n",
    "projections."
   ]
  },
  {
   "cell_type": "markdown",
   "id": "e6bba427-483a-4198-999f-5f287ea37167",
   "metadata": {},
   "source": [
    "## Projections\n",
    "\n",
    "Our goal is to draw 3d objects that live in model space $M$ as 2d objects on the camera plane $C$.\n",
    "However, we need to draw the 2d projections of our 3d objects in the correct order to achieve the correct appearance.\n",
    "If object A is behind object B in model space then we need to draw the 2d projection\n",
    "of object A before we draw that of object B. \n",
    "This procedure is known as the \n",
    "[Painter's Algorithm](https://en.wikipedia.org/wiki/Painter%27s_algorithm).\n",
    "\n",
    "For simplicity, we will assume that our 3d objects can be modelled as collections of opaque, convex, planar\n",
    "polygons and that we can always sort them into some drawing order that will produce the correct visual appearance.\n",
    "\n",
    "Note that it is possible to arrange three nonintersecting, convex, \n",
    "planar polygons in a way that has no corresponding correct drawing order.\n",
    "\n",
    "Given the known requirements for our current project, \n",
    "all collections of 3d objects will be simple enough so that a correct\n",
    "drawing order always exists.\n",
    "\n",
    "If we actually needed to draw some collection of polygons that had no correct drawing order,\n",
    "then we would have to split some of the polygons.\n",
    "If we split the polygons enough then a correct drawing order always exists.\n",
    "In the extreme case, we could split each polygon into individual pixels.\n",
    "We'll defer dealing with this situation until project requirements force us to do so.\n",
    "\n",
    "\n",
    "A 3d projection \n",
    "$$f: M \\rightarrow M$$\n",
    "is linear transformation of model space that preserves $z$-coordinates.\n",
    "\n",
    "Let $$m \\in M$$ map to: $$f(m) = n \\in M$$\n",
    "\n",
    "Let $$m = (m_1, m_2, m_3)$$ \n",
    "and let \n",
    "$$f(m) = n = (n_1, n_2, n_3)$$\n",
    "be its projection.\n",
    "Then we require:\n",
    "$$m_3 = n_3$$ \n",
    "This means that the $z$-depth of the point hasn't changed,\n",
    "only its $(x, y)$ coordinates.\n",
    "\n",
    "Let $m$ and $m'$ be distinct points in model space that project to the same\n",
    "point in the camera plane:\n",
    "$$\\pi(f(m)) = \\pi(f(m'))$$\n",
    "\n",
    "We say that $m$ and $m'$ are *collinear* with respect to $f$.\n",
    "\n",
    "Suppose that $m$ is behind $m'$.\n",
    "Denote this as:\n",
    "$$ m \\prec m'$$\n",
    "\n",
    "We will define a real-valued $t_f$ function for $f$ \n",
    "$$ t_f: M \\rightarrow \\mathbb{R}$$\n",
    "with the property that it respects\n",
    "the relative ordering of collinear points in the sense that\n",
    "their $t_f$ values must satisfy:\n",
    "$$t_f(m) < t_f(m')$$\n",
    "\n",
    "There are two commonly used 3d projections, namely perspective and orthographic.\n",
    "These will be defined next."
   ]
  },
  {
   "cell_type": "markdown",
   "id": "243add30-071d-447c-b744-7a54d914e803",
   "metadata": {},
   "source": [
    "## Perspective Projection\n",
    "\n",
    "A perspective projection models the way we see things.\n",
    "Objects that are further away appear smaller and parallel lines converge.\n",
    "\n",
    "A perspective projection is defined by giving a viewpoint $v \\in M$.\n",
    "The viewpoint represents the position of our eyes.\n",
    "\n",
    "Treat $v$ as a fixed parameter in what follows.\n",
    "Consider points $m$ that are distinct from $v$.\n",
    "If $m = v$ then the projection of $m$ is not defined.\n",
    "\n",
    "Let $L(v;m)$ be the line in model space that passes through the points $m$ and $v$.\n",
    "This line exists because we have assumed that $m \\ne v$.\n",
    "\n",
    "Think of $L(v;m)$ as a light ray that leaves the 3d object at \n",
    "$m$ and enters our eye at $v$.\n",
    "The projection $f(v;m)$ is defined in terms of the unique point $b(v;m)$ where \n",
    "the light ray intersects the camera plane.\n",
    "\n",
    "$$\n",
    "L(v;m) \\cap C = \\{ b(v;m) \\}\n",
    "$$\n",
    "\n",
    "Therefore,\n",
    "$$\n",
    "b(v;m) = (b(v;m)_1, b(v;m)_2, c)\n",
    "$$\n",
    "where $b(v;m)_x$ and $b(v;m)_y$ are unknown quantities that we have to compute.\n",
    "\n",
    "Let $\\hat{u}(v;m)$ denote the unit vector that points from $m$ to $v$.\n",
    "$$\n",
    "\\hat{u}(v;m) = \\frac{v - m}{\\lVert v - m \\rVert}\n",
    "$$\n",
    "\n",
    "Let $\\hat{u}(v;m)$ have the following components:\n",
    "$$\n",
    "\\hat{u}(v;m) = (u(v;m)_1, u(v;m)_2, u(v;m)_3)\n",
    "$$\n",
    "\n",
    "Define $L(v;m,\\lambda)$ to be the point on $L(v;m)$ corresponding to the\n",
    "real parameter $\\lambda$ as follows:\n",
    "$$\n",
    "L(v;m, \\lambda) = b(v;m) + \\lambda \\hat{u}(v;m)\n",
    "$$\n",
    "With this parameterization, we can think of the line as being directed from\n",
    "$m$ to $v$.\n",
    "\n",
    "In terms of coordinates, we have:\n",
    "$$\n",
    "L(v;m,\\lambda) = (b(v;m)_x + \\lambda u_x, b(v;m)_y + \\lambda u_y, c + \\lambda u_z)\n",
    "$$\n",
    "\n",
    "By construction, the parameter value $\\lambda = 0$ maps to the point $b(v;m)$.\n",
    "$$\n",
    "L(v;m, 0) = b(v;m)\n",
    "$$\n",
    "\n",
    "By construction, the parameter value $\\lambda = \\lVert v - m \\rVert$ \n",
    "maps to the point $v$.\n",
    "$$\n",
    "L(v;m, \\lVert v - m \\rVert) = v\n",
    "$$\n",
    "\n",
    "Define $t(v;m)$ to be the parameter value that maps to the point $m$.\n",
    "$$\n",
    "L(v;m, t(v;m)) = m\n",
    "$$\n",
    "\n",
    "In terms of coordinates, we have\n",
    "$$\n",
    "\\begin{align}\n",
    "b(v;m)_x + t(v;m) u_x &= m_x \\\\\n",
    "b(v;m)_y + t(v;m) u_y &= m_y \\\\\n",
    "c + t(v;m) u_z &= m_z\n",
    "\\end{align}\n",
    "$$\n",
    "\n",
    "Now solve for $t(v;m), b(v;m)_x, b(v;m)_y$ as follows:\n",
    "$$\n",
    "\\begin{align}\n",
    "t(v;m) &= \\frac{m_z - c}{u_z} \\\\\n",
    "b(v;m)_x &= m_x - t(v;m) u_x \\\\\n",
    "b(v;m)_y &= m_y - t(v;m) u_y\n",
    "\\end{align}\n",
    "$$\n",
    "\n",
    "In summary, a viewpoint $v$ defines a 3d projection $f$ as follows:\n",
    "\n",
    "$$\n",
    "f(v;m) = (b(v;m)_x, b(v;m_y), m_z))\n",
    "$$\n",
    "\n",
    "Given $b(v;m)$, we can compute $m$ as follows:\n",
    "$$\n",
    "\\begin{align}\n",
    "t(v;m) &= \\frac{m_z - c}{u_z} \\\\\n",
    "m_x &= b(v;m)_x + t(v;m) u_x \\\\\n",
    "m_y &= b(v;m)_y + t(v;m) u_y\n",
    "\\end{align}\n",
    "$$"
   ]
  },
  {
   "cell_type": "markdown",
   "id": "fa76912a-ada6-4edd-979d-706ef25e87c3",
   "metadata": {},
   "source": [
    "## Orthographic Projection\n",
    "\n",
    "An orthographic projection is a limiting case of a perspective projection as\n",
    "the viewpoint $v$ moves off to infinity in a fixed direction.\n",
    "Let $\\hat{u}$ be a unit vector that defines the direction that the viewpoint moves in.\n",
    "Let $\\mu$ be a real parameter, let $v_0$ be an initial viewpoint,\n",
    "and define the viewpoint $v(\\hat{u};\\mu)$ as follows:\n",
    "$$\n",
    "v(\\hat{u};\\mu) = v_0 + \\mu \\hat{u}\n",
    "$$\n",
    "\n",
    "Define $\\hat{u}(m; \\mu)$ to be the unit vector that points from $m$ to $v(\\mu)$.\n",
    "$$\n",
    "\\hat{u}(m; \\mu) = \\frac{v(\\hat{u};\\mu) - m}{\\lVert v(\\hat{u};\\mu) - m \\rVert}\n",
    "$$\n",
    "\n",
    "Clearly, as $\\mu$ becomes very large, \n",
    "$v(\\hat{u};\\mu)$ approaches $\\mu \\hat{v}$.\n",
    "$$\n",
    "\\begin{align}\n",
    "\\lim_{\\mu \\to \\infty} \\hat{u}(m; \\mu) \n",
    "&= \\lim_{\\mu \\to \\infty} \\frac{v(\\hat{u};\\mu) - m}{\\lVert v(\\hat{u};\\mu) - m \\rVert} \\\\\n",
    "&= \\lim_{\\mu \\to \\infty} \\frac{v_0 + \\mu \\hat{u} - m}{\\lVert v_0 + \\mu \\hat{v} - m \\rVert} \\\\\n",
    "&= \\lim_{\\mu \\to \\infty} \\frac{\\mu \\hat{u}}{\\lVert \\mu \\hat{u} \\rVert} \\\\\n",
    "&= \\lim_{\\mu \\to \\infty} \\frac{\\mu \\hat{u}}{\\mu \\lVert \\hat{u} \\rVert} \\\\\n",
    "&= \\hat{u}\n",
    "\\end{align}\n",
    "$$\n",
    "\n",
    "Therefore, an orthographic projection is like a perspective projection except that\n",
    "rather than compute the unit vector $\\hat{u}(v;m)$ we use the given constant unit vector $\\hat{u}$."
   ]
  },
  {
   "cell_type": "markdown",
   "id": "722d6e76-c47a-48d1-89ac-df50a0e8ddd0",
   "metadata": {},
   "source": [
    "## Mapping from Model Space to Scene Space\n",
    "\n",
    "In practice, it is useful to not regard the camera as being embedded in scene space.\n",
    "For example, the puzzle cubes have side length 2 which may be too big for the scene.\n",
    "In this case allowing a scaling factor is handy.\n",
    "Also, the objects in model space may appear to be shifted after applying a 3d projection.\n",
    "In this case allowing a translation is handy.\n",
    "\n",
    "We therefore allow the following mapping from model space to scene space which\n",
    "we apply after the 3d projection. Let $o$ be a point in model space that will map to\n",
    "the origin in scene space. The $\\alpha$ be a real number scaling factor. The mapping $g$\n",
    "from model space to space if given by:\n",
    "$$\n",
    "g(o,\\alpha;m) = \\alpha \\cdot (m - o)\n",
    "$$\n",
    "\n",
    "The inverse is:\n",
    "$$\n",
    "g^{-1}(s) = o + s / \\alpha\n",
    "$$"
   ]
  },
  {
   "cell_type": "markdown",
   "id": "d53881be-36d9-4398-92ac-4847e41fd17f",
   "metadata": {},
   "source": [
    "## The Relation Between the Camera Plane, Scaling, and Translation\n",
    "\n",
    "The projection depends on the viewpoint $v$, the camera plane $c$,\n",
    "the scene origin $o$, and the model-to-scene scaling factor $\\alpha$.\n",
    "This scene origin includes $c$ as its $z$-component. Altogether, we\n",
    "have 3 ($v$) + 3 ($o$) + 1 ($c$) + 1 ($\\alpha$) parameters\n",
    "for a grand total of 8 parameters. Are these independent or can we\n",
    "canconicalize them, say by finding an equivalent set of parameters\n",
    "with $c = 0$?"
   ]
  }
 ],
 "metadata": {
  "kernelspec": {
   "display_name": "Python 3 (ipykernel)",
   "language": "python",
   "name": "python3"
  },
  "language_info": {
   "codemirror_mode": {
    "name": "ipython",
    "version": 3
   },
   "file_extension": ".py",
   "mimetype": "text/x-python",
   "name": "python",
   "nbconvert_exporter": "python",
   "pygments_lexer": "ipython3",
   "version": "3.13.5"
  }
 },
 "nbformat": 4,
 "nbformat_minor": 5
}
