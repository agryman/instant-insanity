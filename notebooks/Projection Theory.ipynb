{
 "cells": [
  {
   "cell_type": "markdown",
   "id": "4d1b78f8-4590-4281-a00e-cb1778345539",
   "metadata": {},
   "source": [
    "# Projection Theory\n",
    "*Arthur Ryman, lasted updated 2025-09-06*"
   ]
  },
  {
   "cell_type": "markdown",
   "id": "0b90b393-38dc-421f-8fbc-504cb0ab787f",
   "metadata": {},
   "source": [
    "## Introduction\n",
    "\n",
    "The goal of this notebook is to analyze and develop the theory of projections as originally outlined in the document \n",
    "[projection.md](https://github.com/agryman/instant-insanity/blob/main/src/instant_insanity/core/projection.md)."
   ]
  },
  {
   "cell_type": "markdown",
   "id": "1ae91261-606a-4d9a-a03f-059411beec36",
   "metadata": {},
   "source": [
    "## Motivation\n",
    "\n",
    "Although work is underway in the Manim Community \n",
    "to produce a high-quality OpenGL renderer for use with the `ThreeDScene` class,\n",
    "the majority of our planned content is 2d so using Cairo with the `Scene` class\n",
    "in conjunction with projections from 3d model space to 2d scene space with depth-sorting\n",
    "is an acceptable short-term workaround."
   ]
  },
  {
   "cell_type": "markdown",
   "id": "c4d6952e-e829-4b8c-81de-3928cedc11f5",
   "metadata": {},
   "source": [
    "## SymPy\n",
    "\n",
    "We'll use SymPy to represent and verify the math.\n",
    "\n",
    "SymPy provides two subsystems that are relevant to this calculation:\n",
    "* The [Matrix](https://docs.sympy.org/latest/reference/public/matrices/index.html)\n",
    "subsystem is ideal for performining vector space calculations such as addition, scalar multiplication,\n",
    "and matrix multiplication.\n",
    "* The [Geometry](https://docs.sympy.org/latest/modules/geometry/index.html)\n",
    "subsystem is ideal for euclidean geometry calculations involving points, lines, and planes.\n",
    "\n",
    "We'll use both."
   ]
  },
  {
   "cell_type": "markdown",
   "id": "8aa31cee-d02f-452f-8fae-81b9af419975",
   "metadata": {},
   "source": [
    "## Scalars and Vectors\n",
    "\n",
    "Model space and scene space are 3-dimensional real vector spaces, that is they are copies of $\\mathbb{R}^3$.\n",
    "\n",
    "Define Scalar to be a real number and Vector to be a triple of scalars.\n",
    "SymPy represents vectors as matrices that have a single column, i.e. as column vectors.\n",
    "\n",
    "Define some convenience functions to create scalars, positive scalars, and vectors.\n",
    "We'll use the numbers 1, 2, and 3 to subscript the components of vectors."
   ]
  },
  {
   "cell_type": "code",
   "execution_count": 1,
   "id": "9bb3c803-91d4-47c9-b2d3-a6465118881f",
   "metadata": {},
   "outputs": [],
   "source": [
    "from sympy import *\n",
    "from instant_insanity.core.symbolic_projection import Scalar, Vector\n",
    "\n",
    "def scalar(name: str) -> Scalar:\n",
    "    return symbols(name, real=True)\n",
    "\n",
    "def positive_scalar(name: str) -> Scalar:\n",
    "    return symbols(name, real=True, positive=True)\n",
    "\n",
    "def vector(name: str) -> Vector:\n",
    "    return Matrix(symbols(name + '1:4', real=True))"
   ]
  },
  {
   "cell_type": "markdown",
   "id": "80b3cd39-a4e8-4c20-a4a4-c713500f03e6",
   "metadata": {},
   "source": [
    "## Model Space\n",
    "\n",
    "Let $M$ denote the 3d model space.\n",
    "Model space is where our simple 3d objects live.\n",
    "\n",
    "SymPy provides a [CoordSys3D](docs.sympy.org/latest/modules/vector/coordsys.html)\n",
    "class for representing vector spaces.\n",
    "It might be useful to use it, but I'll defer that for now.\n",
    "\n",
    "Let $x, y, z$ be the usual Cartesian coordinates on model space.\n",
    "\n",
    "We will use the default Manim orientation of model space relative to the display screen, \n",
    "namely:\n",
    "* $x$ increases from left (LEFT) to right (RIGHT),\n",
    "* $y$ increases from bottom (DOWN) to top (UP), and \n",
    "* $z$ increases from in back (IN) to front (OUT)."
   ]
  },
  {
   "cell_type": "markdown",
   "id": "d2dba4af-4ca8-4e99-8772-7e583d380e99",
   "metadata": {},
   "source": [
    "Let $m$ represent an arbitrary point in model space."
   ]
  },
  {
   "cell_type": "code",
   "execution_count": 2,
   "id": "8a75d707-fd84-4385-b068-2cf1b8ed6a90",
   "metadata": {},
   "outputs": [
    {
     "data": {
      "text/latex": [
       "$\\displaystyle \\left[\\begin{matrix}m_{1} & m_{2} & m_{3}\\end{matrix}\\right]$"
      ],
      "text/plain": [
       "Matrix([[m1, m2, m3]])"
      ]
     },
     "execution_count": 2,
     "metadata": {},
     "output_type": "execute_result"
    }
   ],
   "source": [
    "model_point = m = vector('m')\n",
    "\n",
    "m.T"
   ]
  },
  {
   "cell_type": "code",
   "execution_count": 3,
   "id": "02e5da2f-8c31-4e48-bfb8-45595400bfa8",
   "metadata": {},
   "outputs": [
    {
     "data": {
      "text/plain": [
       "sympy.matrices.dense.MutableDenseMatrix"
      ]
     },
     "execution_count": 3,
     "metadata": {},
     "output_type": "execute_result"
    }
   ],
   "source": [
    "type(m)"
   ]
  },
  {
   "cell_type": "code",
   "execution_count": 4,
   "id": "cac1bbde-dc43-454b-94fb-6009da07756d",
   "metadata": {},
   "outputs": [
    {
     "data": {
      "text/latex": [
       "$\\displaystyle m_{3}$"
      ],
      "text/plain": [
       "m3"
      ]
     },
     "execution_count": 4,
     "metadata": {},
     "output_type": "execute_result"
    }
   ],
   "source": [
    "m1, m2, m3 = m\n",
    "\n",
    "m3"
   ]
  },
  {
   "cell_type": "code",
   "execution_count": 62,
   "id": "ac4d75aa-42ac-4866-8b05-7c7d979a3d7b",
   "metadata": {},
   "outputs": [
    {
     "data": {
      "text/plain": [
       "sympy.core.symbol.Symbol"
      ]
     },
     "execution_count": 62,
     "metadata": {},
     "output_type": "execute_result"
    }
   ],
   "source": [
    "type(m3)"
   ]
  },
  {
   "cell_type": "markdown",
   "id": "696b1163-42f9-4558-8b25-65941bfc15a8",
   "metadata": {},
   "source": [
    "## Projections\n",
    "\n",
    "Our goal is to draw 3d objects that live in model space $M$ as 2d objects that live in scene space.\n",
    "For example, a 3d cube consists of six square faces. \n",
    "We project each square face onto scene space.\n",
    "Each projected square may no longer be a true geometric square.\n",
    "Instead, it becomes a quadrilateral whose angles may no longer be right angles and whose sides may no longer be equal. \n",
    "The square has become distorted in a way that mimicks our depth perception.\n",
    "\n",
    "In addition to projecting the faces of the cube, we need to draw them on scene space \n",
    "in the correct order so as to achieve the desired visual appearance.\n",
    "If face A is behind face B in model space then we need to draw the 2d projection\n",
    "of face A before we draw that of face B. \n",
    "Part of the projection of face B may cover part of the projection of face A, reproducing the actual visual appearance.\n",
    "This procedure is known as the \n",
    "[Painter's Algorithm](https://en.wikipedia.org/wiki/Painter%27s_algorithm).\n",
    "\n",
    "For simplicity, we will assume that our 3d objects can be modelled as collections of opaque, convex, planar\n",
    "polygons and that we can always sort them into some drawing order that will produce the correct visual appearance.\n",
    "\n",
    "Note that it is possible to arrange as few as three nonintersecting, convex, \n",
    "planar polygons in a way that has no corresponding correct drawing order.\n",
    "\n",
    "Given the known requirements for our current animation project, \n",
    "all collections of 3d objects will be simple enough so that a correct\n",
    "drawing order always exists.\n",
    "\n",
    "If we actually needed to draw some collection of polygons that had no correct drawing order,\n",
    "then we would have to split some of the polygons.\n",
    "If we split the polygons enough then a correct drawing order always exists.\n",
    "In the extreme case, we could split each polygon into individual pixels.\n",
    "We'll defer dealing with this situation until project requirements force us to do so."
   ]
  },
  {
   "cell_type": "markdown",
   "id": "29ee0c8b-9340-46f2-897a-34a464dfdd94",
   "metadata": {},
   "source": [
    "## Perspective Projections\n",
    "\n",
    "Consider the following geometric setup which defines a perspective projection of model space.\n",
    "\n",
    "<img src=\"images/diagrams/perspective-projection-diagram.png\" />"
   ]
  },
  {
   "cell_type": "markdown",
   "id": "3c03db5a-efba-4764-b114-eb691e88022e",
   "metadata": {},
   "source": [
    "The projection is defined by specifying a camera plane $C$ and a viewpoint $v$ not contained in it.\n",
    "The $z$ coordinate increases up the diagram and the $x$ coordinate increases to the right.\n",
    "We have suppressed the $y$ direction.\n",
    "Without loss a generality, we require that the camera plane is perpendicular to the $z$ axis.\n",
    "\n",
    "STOPPED HERE 2025-09-06 9:51 PM\n"
   ]
  },
  {
   "attachments": {},
   "cell_type": "markdown",
   "id": "850e3849-638a-4344-9ab8-a05fa5d960df",
   "metadata": {},
   "source": [
    "In our context, a 3d projection \n",
    "$$f: M \\rightarrow M$$\n",
    "is projective linear transformation of model space that preserves $z$-coordinates.\n",
    "\n",
    "Let $$m \\in M$$ map to: $$f(m) = n \\in M$$\n",
    "\n",
    "Let $$m = (m_1, m_2, m_3)$$ \n",
    "and let \n",
    "$$f(m) = n = (n_1, n_2, n_3)$$\n",
    "be its projection.\n",
    "Then we require:\n",
    "$$m_3 = n_3$$ \n",
    "This means that the $z$-depth of the point hasn't changed,\n",
    "only its $(x, y)$ coordinates.\n",
    "\n",
    "Let $m$ and $m'$ be distinct points in model space that project to the same\n",
    "point in the camera plane:\n",
    "$$\\pi(f(m)) = \\pi(f(m'))$$\n",
    "\n",
    "We say that $m$ and $m'$ are *collinear* with respect to $f$.\n",
    "\n",
    "Suppose that $m$ is behind $m'$.\n",
    "Denote this as:\n",
    "$$ m \\prec m'$$\n",
    "\n",
    "We will define a real-valued $t_f$ function for $f$ \n",
    "$$ t_f: M \\rightarrow \\mathbb{R}$$\n",
    "with the property that it respects\n",
    "the relative ordering of collinear points in the sense that\n",
    "their $t_f$ values must satisfy:\n",
    "$$t_f(m) < t_f(m')$$\n",
    "\n",
    "There are two commonly used 3d projections, namely perspective and orthographic.\n",
    "These will be defined next."
   ]
  },
  {
   "attachments": {},
   "cell_type": "markdown",
   "id": "bdd88e39-b67c-4c53-9118-17ac650ac984",
   "metadata": {},
   "source": [
    "## The Camera Plane\n",
    "\n",
    "Both types of projection are defined by families of lines, which we think of as light rays,\n",
    "that pass through the camera plane.\n",
    "We will only consider camera planes that are perpendicular to the z-axis.\n",
    "The camera plane $C$ is defined by the equation $z = c$ where $c$ is some scalar value.\n",
    "\n",
    "Let $C$ denote the camera plane in model space.\n",
    "The camera plane is where we will draw the 2d projections of 3d objects.\n",
    "The points in the camera plane get mapped to the pixels of the \n",
    "display screen by the Manim Scene class.\n",
    "\n",
    "The camera plane is oriented parallel to the plane z = 0.\n",
    "Let $c$ be a real number that defines the camera plane \n",
    "as the solutions to the equation $z = c$:\n",
    "\n",
    "$$\n",
    "C = \\{~(x, y, c) \\mid (x, y) \\in \\mathbb{R}^2~\\}\n",
    "$$"
   ]
  },
  {
   "cell_type": "code",
   "execution_count": 7,
   "id": "aa769ac3-620f-4477-8acc-ce58dfe082e9",
   "metadata": {},
   "outputs": [
    {
     "data": {
      "text/latex": [
       "$\\displaystyle c$"
      ],
      "text/plain": [
       "c"
      ]
     },
     "execution_count": 7,
     "metadata": {},
     "output_type": "execute_result"
    }
   ],
   "source": [
    "camera_z = c = scalar('c')\n",
    "\n",
    "c"
   ]
  },
  {
   "cell_type": "markdown",
   "id": "dcd861f3-80a7-437b-ac33-14038019b74b",
   "metadata": {},
   "source": [
    "An arbitrary point $m$ in model space has $z$-component $m_3$.\n",
    "The camera plane in model space defined by the parameter $c$ is given by the equation:\n",
    "\n",
    "$$\n",
    "m_3 = c\n",
    "$$"
   ]
  },
  {
   "cell_type": "code",
   "execution_count": 8,
   "id": "200ddc98-f137-49eb-8d6a-2ca58b79087c",
   "metadata": {},
   "outputs": [
    {
     "data": {
      "text/latex": [
       "$\\displaystyle m_{3} = c$"
      ],
      "text/plain": [
       "Eq(m3, c)"
      ]
     },
     "execution_count": 8,
     "metadata": {},
     "output_type": "execute_result"
    }
   ],
   "source": [
    "def camera_plane(c: Scalar) -> Eq:\n",
    "    return Eq(m3, c)\n",
    "\n",
    "C = camera_plane(c)\n",
    "\n",
    "C"
   ]
  },
  {
   "cell_type": "markdown",
   "id": "565bd993-2b33-4176-b72b-f8c082702fa8",
   "metadata": {},
   "source": [
    "Ask SymPy to verify that any point with $z$-component $c$ is contained in the camera plane $C$."
   ]
  },
  {
   "cell_type": "code",
   "execution_count": 9,
   "id": "0265365c-7c6e-438a-b884-d2a672927bb9",
   "metadata": {},
   "outputs": [
    {
     "data": {
      "text/latex": [
       "$\\displaystyle \\text{True}$"
      ],
      "text/plain": [
       "True"
      ]
     },
     "execution_count": 9,
     "metadata": {},
     "output_type": "execute_result"
    }
   ],
   "source": [
    "C.subs({m3: c})"
   ]
  },
  {
   "cell_type": "markdown",
   "id": "bc429fd4-7ace-4b94-9f81-5f8a97bcc9a6",
   "metadata": {},
   "source": [
    "SymPy may not be able to determine if a point is in the plane, \n",
    "in which case the equation does not reduce to a truth value.\n",
    "\n",
    "For example, a point with $z$-component 0 lies in $C$ exactly when $c = 0$."
   ]
  },
  {
   "cell_type": "code",
   "execution_count": 10,
   "id": "a2aacdc1-b7a8-4746-890e-a35458ed74bd",
   "metadata": {},
   "outputs": [
    {
     "data": {
      "text/latex": [
       "$\\displaystyle 0 = c$"
      ],
      "text/plain": [
       "Eq(0, c)"
      ]
     },
     "execution_count": 10,
     "metadata": {},
     "output_type": "execute_result"
    }
   ],
   "source": [
    "C.subs({m3: 0})"
   ]
  },
  {
   "cell_type": "markdown",
   "id": "2b7c32d3-232f-4103-8ecb-64724455bfdc",
   "metadata": {},
   "source": [
    "Define a function that tests if a point $p$ in model space satisfies an equation defined in terms of the \n",
    "arbitrary point $m$ in model space. "
   ]
  },
  {
   "cell_type": "code",
   "execution_count": 11,
   "id": "4e811944-0642-4048-87d3-9caddee3ceb9",
   "metadata": {},
   "outputs": [],
   "source": [
    "def is_solution(p: Vector, eq: Eq) -> Eq:\n",
    "    p1, p2, p3 = p\n",
    "    return eq.subs({m1: p1, m2: p2, m3: p3})"
   ]
  },
  {
   "cell_type": "markdown",
   "id": "67e85769-a8a9-4de4-be91-fc69020e366c",
   "metadata": {},
   "source": [
    "SymPy may be able to reduce the equation to a boolean if it can simplify it enough.\n",
    "For example, the equation $c = c$ is always true."
   ]
  },
  {
   "cell_type": "code",
   "execution_count": 12,
   "id": "20d30509-b339-461c-85e9-824f67efe7c4",
   "metadata": {},
   "outputs": [
    {
     "data": {
      "text/latex": [
       "$\\displaystyle \\left[\\begin{matrix}0 & 0 & c\\end{matrix}\\right]$"
      ],
      "text/plain": [
       "Matrix([[0, 0, c]])"
      ]
     },
     "execution_count": 12,
     "metadata": {},
     "output_type": "execute_result"
    }
   ],
   "source": [
    "p00c = Matrix([0, 0, c])\n",
    "\n",
    "p00c.T"
   ]
  },
  {
   "cell_type": "code",
   "execution_count": 13,
   "id": "108dd8e0-2f03-4649-93b8-a185a095b108",
   "metadata": {},
   "outputs": [
    {
     "data": {
      "text/latex": [
       "$\\displaystyle \\text{True}$"
      ],
      "text/plain": [
       "True"
      ]
     },
     "execution_count": 13,
     "metadata": {},
     "output_type": "execute_result"
    }
   ],
   "source": [
    "is_solution(p00c, C)"
   ]
  },
  {
   "cell_type": "markdown",
   "id": "d73f405f-f2ad-4d23-949b-227f27d5fba8",
   "metadata": {},
   "source": [
    "The equation $c = c + 1$ is always false."
   ]
  },
  {
   "cell_type": "code",
   "execution_count": 14,
   "id": "f3eae095-a1de-4a9f-b351-e5ca50ac1ed0",
   "metadata": {},
   "outputs": [
    {
     "data": {
      "text/latex": [
       "$\\displaystyle \\left[\\begin{matrix}0 & 0 & c + 1\\end{matrix}\\right]$"
      ],
      "text/plain": [
       "Matrix([[0, 0, c + 1]])"
      ]
     },
     "execution_count": 14,
     "metadata": {},
     "output_type": "execute_result"
    }
   ],
   "source": [
    "p00c1 = Matrix([0, 0, c + 1])\n",
    "\n",
    "p00c1.T"
   ]
  },
  {
   "cell_type": "code",
   "execution_count": 15,
   "id": "2a3faa1e-88e9-4388-8543-dbc400fd7353",
   "metadata": {},
   "outputs": [
    {
     "data": {
      "text/latex": [
       "$\\displaystyle \\text{False}$"
      ],
      "text/plain": [
       "False"
      ]
     },
     "execution_count": 15,
     "metadata": {},
     "output_type": "execute_result"
    }
   ],
   "source": [
    "is_solution(p00c1, C)"
   ]
  },
  {
   "cell_type": "markdown",
   "id": "e410172a-de5c-4dd0-8f63-c6867c46f92b",
   "metadata": {},
   "source": [
    "Given any point $m$ in model space, we define its projection $\\pi(c, m)$ onto the camera\n",
    "plane by:\n",
    "$$\n",
    "\\pi(c, (m_1, m_2, m_3)) = (m_1, m_2, c)\n",
    "$$"
   ]
  },
  {
   "cell_type": "markdown",
   "id": "c94230f0-f613-413c-a04f-3134b8adc7e0",
   "metadata": {},
   "source": [
    "The variable $\\pi$ is predefined in SymPy, so let's call this projection proj_xy."
   ]
  },
  {
   "cell_type": "code",
   "execution_count": 16,
   "id": "1e664081-e1ce-461e-b4c4-39923c0e9d1c",
   "metadata": {},
   "outputs": [
    {
     "data": {
      "text/latex": [
       "$\\displaystyle \\left[\\begin{matrix}m_{1} & m_{2} & c\\end{matrix}\\right]$"
      ],
      "text/plain": [
       "Matrix([[m1, m2, c]])"
      ]
     },
     "execution_count": 16,
     "metadata": {},
     "output_type": "execute_result"
    }
   ],
   "source": [
    "def proj_xy(c: Scalar, p: Vector) -> Vector:\n",
    "    return Matrix([p[0], p[1], c])\n",
    "\n",
    "proj_xy(c, m).T"
   ]
  },
  {
   "cell_type": "markdown",
   "id": "3a25bf7a-d7a6-4af9-9df6-efb5646bd982",
   "metadata": {},
   "source": [
    "Thus, $\\pi$ maps $M$ onto $C$:\n",
    "$$\n",
    "\\pi: M \\rightarrow C\n",
    "$$\n",
    "\n",
    "The projection $\\pi$ does nothing to the $(x,y)$-coordinates\n",
    "and forgets the $z$-coordinate of points in $M$.\n",
    "\n",
    "We need more sophisticated projections that give us the illusion of 3d scenes\n",
    "but don't forget depth information so that we can invert them and compute the relative\n",
    "ordering of model space points that project to the same camera plane points.\n",
    "These are referred to as 3d projections, and they include perspective and orthographic\n",
    "projections."
   ]
  },
  {
   "cell_type": "markdown",
   "id": "ceca4f3b-26d2-4043-9f11-39ad2e268ff2",
   "metadata": {},
   "source": [
    "### SymPy Geometry Classes\n",
    "\n",
    "SymPy has some classes that are useful for 3d geometry.\n",
    "These are Point3D, Line3D, and Plane.\n",
    "\n",
    "Let's define the camera plane using Plane and perform the previous point membership tests.\n",
    "\n",
    "We can define a Plane by providing a point that lies in it and a vector that is normal to it."
   ]
  },
  {
   "cell_type": "code",
   "execution_count": 17,
   "id": "8c02c842-9fb4-4c77-b380-65e067bce4d2",
   "metadata": {},
   "outputs": [
    {
     "data": {
      "text/latex": [
       "$\\displaystyle \\operatorname{Point3D}\\left(0, 0, c\\right)$"
      ],
      "text/plain": [
       "Point3D(0, 0, c)"
      ]
     },
     "execution_count": 17,
     "metadata": {},
     "output_type": "execute_result"
    }
   ],
   "source": [
    "from sympy import Point3D, Line3D, Plane\n",
    "\n",
    "point_C = Point3D(0, 0, c)\n",
    "\n",
    "point_C"
   ]
  },
  {
   "cell_type": "code",
   "execution_count": 18,
   "id": "7931a4cc-92b2-47c9-88ac-8d661555907a",
   "metadata": {},
   "outputs": [
    {
     "data": {
      "text/latex": [
       "$\\displaystyle \\operatorname{Point3D}\\left(0, 0, 1\\right)$"
      ],
      "text/plain": [
       "Point3D(0, 0, 1)"
      ]
     },
     "execution_count": 18,
     "metadata": {},
     "output_type": "execute_result"
    }
   ],
   "source": [
    "import warnings\n",
    "warnings.filterwarnings(\"ignore\", category=UserWarning, module=\"manim_voiceover\")\n",
    "\n",
    "from manim import OUT\n",
    "\n",
    "normal_C = Point3D(OUT)\n",
    "\n",
    "normal_C"
   ]
  },
  {
   "cell_type": "code",
   "execution_count": 19,
   "id": "27230a70-d87b-4aff-a146-d5370d64703e",
   "metadata": {},
   "outputs": [
    {
     "data": {
      "text/latex": [
       "$\\displaystyle \\operatorname{Plane}\\left(\\operatorname{Point3D}\\left(0, 0, c\\right), \\left( 0, \\  0, \\  1\\right)\\right)$"
      ],
      "text/plain": [
       "Plane(Point3D(0, 0, c), (0, 0, 1))"
      ]
     },
     "execution_count": 19,
     "metadata": {},
     "output_type": "execute_result"
    }
   ],
   "source": [
    "plane_C = Plane(point_C, normal_vector=normal_C)\n",
    "\n",
    "plane_C"
   ]
  },
  {
   "cell_type": "markdown",
   "id": "754e0b13-3a6f-49d7-afed-226ee964d4b0",
   "metadata": {},
   "source": [
    "The point we used to construct $C$ is contained in it.\n",
    "Any point with $z$-component $c$ is contained in $C$."
   ]
  },
  {
   "cell_type": "code",
   "execution_count": 20,
   "id": "af3d4796-9181-453d-8fc6-fb5f6a347b96",
   "metadata": {},
   "outputs": [
    {
     "data": {
      "text/plain": [
       "True"
      ]
     },
     "execution_count": 20,
     "metadata": {},
     "output_type": "execute_result"
    }
   ],
   "source": [
    "point_C in plane_C"
   ]
  },
  {
   "cell_type": "code",
   "execution_count": 21,
   "id": "3c7ec0a7-8d40-4244-9974-8e5e3fd77551",
   "metadata": {},
   "outputs": [
    {
     "data": {
      "text/plain": [
       "True"
      ]
     },
     "execution_count": 21,
     "metadata": {},
     "output_type": "execute_result"
    }
   ],
   "source": [
    "point_p00c = Point3D(p00c)\n",
    "point_C == point_p00c"
   ]
  },
  {
   "cell_type": "code",
   "execution_count": 22,
   "id": "78c4ba1c-424a-4b72-97be-bc5315c8f3bf",
   "metadata": {},
   "outputs": [
    {
     "data": {
      "text/plain": [
       "True"
      ]
     },
     "execution_count": 22,
     "metadata": {},
     "output_type": "execute_result"
    }
   ],
   "source": [
    "point_p00c in plane_C"
   ]
  },
  {
   "cell_type": "markdown",
   "id": "4bf2f0d6-a818-4c17-bd16-3ada3badff22",
   "metadata": {},
   "source": [
    "Any point with $z$-component $c+1$ is not contained in $C$."
   ]
  },
  {
   "cell_type": "code",
   "execution_count": 23,
   "id": "ea5d79b6-b62e-4395-8234-a398f634420d",
   "metadata": {},
   "outputs": [
    {
     "data": {
      "text/plain": [
       "False"
      ]
     },
     "execution_count": 23,
     "metadata": {},
     "output_type": "execute_result"
    }
   ],
   "source": [
    "point_p00c1 = Point3D(p00c1)\n",
    "\n",
    "point_p00c1 in plane_C"
   ]
  },
  {
   "cell_type": "markdown",
   "id": "2caa6c3a-a43c-404d-a285-8d85ed548952",
   "metadata": {},
   "source": [
    "## Perspective Projections\n",
    "\n",
    "A perspective projection models the way we see things.\n",
    "Objects that are further away appear smaller and parallel lines converge.\n",
    "\n",
    "A perspective projection is defined by a viewpoint $v \\in M$.\n",
    "The viewpoint represents the position of our eyes.\n",
    "\n",
    "Treat $v$ as a fixed parameter in what follows.\n",
    "Consider points $m$ that are distinct from $v$.\n",
    "If $m = v$ then the projection of $m$ is not defined."
   ]
  },
  {
   "cell_type": "markdown",
   "id": "14030dd4-a764-4e8b-93bb-a9f372716b03",
   "metadata": {},
   "source": [
    "### The Viewpoint\n",
    "\n",
    "We define perspective projections by giving a viewpoint $v$.\n",
    "Define an arbitrary viewpoint."
   ]
  },
  {
   "cell_type": "code",
   "execution_count": 24,
   "id": "fa82cc4b-9584-496e-bfce-987fb89812bc",
   "metadata": {},
   "outputs": [
    {
     "data": {
      "text/latex": [
       "$\\displaystyle \\left[\\begin{matrix}v_{1} & v_{2} & v_{3}\\end{matrix}\\right]$"
      ],
      "text/plain": [
       "Matrix([[v1, v2, v3]])"
      ]
     },
     "execution_count": 24,
     "metadata": {},
     "output_type": "execute_result"
    }
   ],
   "source": [
    "viewpoint = v = vector('v')\n",
    "\n",
    "viewpoint.T"
   ]
  },
  {
   "cell_type": "markdown",
   "id": "edfd558c-c8c1-4974-9026-cc66245b2006",
   "metadata": {},
   "source": [
    "Let $L(m,v)$ be the line in model space that passes through the points $m$ and $v$.\n",
    "This line exists because we have assumed that $m \\ne v$.\n",
    "Define $L(m, v)$ using Line3D.\n",
    "\n",
    "Start by creating Point3D instances from $m$ and $v$,"
   ]
  },
  {
   "cell_type": "code",
   "execution_count": 25,
   "id": "01c2deaf-ffc3-4fc4-84ee-0d9de49992df",
   "metadata": {},
   "outputs": [
    {
     "data": {
      "text/latex": [
       "$\\displaystyle \\operatorname{Point3D}\\left(m_{1}, m_{2}, m_{3}\\right)$"
      ],
      "text/plain": [
       "Point3D(m1, m2, m3)"
      ]
     },
     "execution_count": 25,
     "metadata": {},
     "output_type": "execute_result"
    }
   ],
   "source": [
    "point_m = Point3D(m)\n",
    "\n",
    "point_m"
   ]
  },
  {
   "cell_type": "code",
   "execution_count": 26,
   "id": "437e50eb-a136-4761-91a7-903d17a12ca1",
   "metadata": {},
   "outputs": [
    {
     "data": {
      "text/latex": [
       "$\\displaystyle \\operatorname{Point3D}\\left(v_{1}, v_{2}, v_{3}\\right)$"
      ],
      "text/plain": [
       "Point3D(v1, v2, v3)"
      ]
     },
     "execution_count": 26,
     "metadata": {},
     "output_type": "execute_result"
    }
   ],
   "source": [
    "point_v = Point3D(v)\n",
    "\n",
    "point_v"
   ]
  },
  {
   "cell_type": "code",
   "execution_count": 27,
   "id": "55fd7b75-bef7-480c-915e-a968d731ef25",
   "metadata": {},
   "outputs": [
    {
     "data": {
      "text/latex": [
       "$\\displaystyle \\operatorname{Line3D}\\left(\\operatorname{Point3D}\\left(m_{1}, m_{2}, m_{3}\\right), \\operatorname{Point3D}\\left(v_{1}, v_{2}, v_{3}\\right)\\right)$"
      ],
      "text/plain": [
       "Line3D(Point3D(m1, m2, m3), Point3D(v1, v2, v3))"
      ]
     },
     "execution_count": 27,
     "metadata": {},
     "output_type": "execute_result"
    }
   ],
   "source": [
    "line_mv = Line3D(point_m, point_v)\n",
    "\n",
    "line_mv"
   ]
  },
  {
   "cell_type": "markdown",
   "id": "fb41513e-2754-4a79-b376-0a8c25b1ec8d",
   "metadata": {},
   "source": [
    "Verify that $L(m,v)$ contains both $m$ and $v$."
   ]
  },
  {
   "cell_type": "code",
   "execution_count": 28,
   "id": "20fa41b5-2c45-4988-acd3-33b74937544e",
   "metadata": {},
   "outputs": [
    {
     "data": {
      "text/plain": [
       "True"
      ]
     },
     "execution_count": 28,
     "metadata": {},
     "output_type": "execute_result"
    }
   ],
   "source": [
    "line_mv.contains(point_m)"
   ]
  },
  {
   "cell_type": "code",
   "execution_count": 29,
   "id": "331c6d5a-5c1d-4d2c-95dc-6110fd350f96",
   "metadata": {},
   "outputs": [
    {
     "data": {
      "text/plain": [
       "True"
      ]
     },
     "execution_count": 29,
     "metadata": {},
     "output_type": "execute_result"
    }
   ],
   "source": [
    "point_m in line_mv"
   ]
  },
  {
   "cell_type": "code",
   "execution_count": 30,
   "id": "fd42fc26-933e-4bc3-8275-c09d4bfc079d",
   "metadata": {},
   "outputs": [
    {
     "data": {
      "text/plain": [
       "True"
      ]
     },
     "execution_count": 30,
     "metadata": {},
     "output_type": "execute_result"
    }
   ],
   "source": [
    "line_mv.contains(point_v)"
   ]
  },
  {
   "cell_type": "code",
   "execution_count": 31,
   "id": "a064179a-71ab-4a5d-a7e5-13415e0adab2",
   "metadata": {},
   "outputs": [
    {
     "data": {
      "text/plain": [
       "True"
      ]
     },
     "execution_count": 31,
     "metadata": {},
     "output_type": "execute_result"
    }
   ],
   "source": [
    "point_v in line_mv"
   ]
  },
  {
   "cell_type": "markdown",
   "id": "aa9262ca-2a4f-45f5-8dfa-c492012cc24d",
   "metadata": {},
   "source": [
    "Think of $L(m,v)$ as a light ray that leaves the 3d object at \n",
    "$m$ and enters our eye at $v$.\n",
    "\n",
    "Note that $L(m,v)$ does not depend on $c$.\n",
    "\n",
    "The projection $f(m,v,c)$ is defined in terms of the unique point $r(m,v,c)$ where \n",
    "the light ray $L(m,v)$ intersects the camera plane $C$.\n",
    "\n",
    "$$\n",
    "L(m,v) \\cap C = \\{ r(m,v,c) \\}\n",
    "$$\n",
    "\n",
    "Therefore,\n",
    "$$\n",
    "r(m,v,c) = (r(m,v,c)_1, r(m,v,c)_2, c)\n",
    "$$\n",
    "where $r(m,v,c)_1$ and $r(m,v,c)_2$ are unknown quantities that we have to compute.\n",
    "\n",
    "Use SymPy to compute this intersection."
   ]
  },
  {
   "cell_type": "code",
   "execution_count": 32,
   "id": "146d7bed-21d9-419b-8c58-1934794c5e84",
   "metadata": {},
   "outputs": [
    {
     "data": {
      "text/plain": [
       "1"
      ]
     },
     "execution_count": 32,
     "metadata": {},
     "output_type": "execute_result"
    }
   ],
   "source": [
    "list_rmvc = line_mv.intersection(plane_C)\n",
    "\n",
    "len(list_rmvc)"
   ]
  },
  {
   "cell_type": "markdown",
   "id": "16e48fab-b06e-4370-869f-e5902c50743b",
   "metadata": {},
   "source": [
    "In general, the intersection of two sets may contain zero or more points.\n",
    "We get a unique intersection point here as expected."
   ]
  },
  {
   "cell_type": "code",
   "execution_count": 33,
   "id": "8f21e5c3-ffba-42b4-b150-4115a81b7309",
   "metadata": {},
   "outputs": [
    {
     "data": {
      "text/latex": [
       "$\\displaystyle \\operatorname{Point3D}\\left(m_{1} - \\frac{\\left(- c + m_{3}\\right) \\left(m_{1} - v_{1}\\right)}{m_{3} - v_{3}}, m_{2} - \\frac{\\left(- c + m_{3}\\right) \\left(m_{2} - v_{2}\\right)}{m_{3} - v_{3}}, c\\right)$"
      ],
      "text/plain": [
       "Point3D(m1 - (-c + m3)*(m1 - v1)/(m3 - v3), m2 - (-c + m3)*(m2 - v2)/(m3 - v3), c)"
      ]
     },
     "execution_count": 33,
     "metadata": {},
     "output_type": "execute_result"
    }
   ],
   "source": [
    "point_rmvc = list_rmvc[0]\n",
    "\n",
    "point_rmvc"
   ]
  },
  {
   "cell_type": "markdown",
   "id": "2be420e3-573b-4ebe-b810-323aead4e0ad",
   "metadata": {},
   "source": [
    "Work out the math by hand to verify the SymPy answer.\n",
    "\n",
    "Let $\\hat{u}(m,v)$ denote the unit vector that points from $m$ to $v$.\n",
    "$$\n",
    "\\hat{u}(m,v) = \\frac{v - m}{\\lVert v - m \\rVert}\n",
    "$$"
   ]
  },
  {
   "cell_type": "code",
   "execution_count": 34,
   "id": "5b51f17b-ed74-421e-aab0-d0e197d70769",
   "metadata": {},
   "outputs": [
    {
     "data": {
      "text/latex": [
       "$\\displaystyle \\operatorname{Point3D}\\left(- m_{1} + v_{1}, - m_{2} + v_{2}, - m_{3} + v_{3}\\right)$"
      ],
      "text/plain": [
       "Point3D(-m1 + v1, -m2 + v2, -m3 + v3)"
      ]
     },
     "execution_count": 34,
     "metadata": {},
     "output_type": "execute_result"
    }
   ],
   "source": [
    "vector_mv = point_v - point_m\n",
    "\n",
    "vector_mv"
   ]
  },
  {
   "cell_type": "markdown",
   "id": "aff02ccb-e06e-4f6d-980e-e6e8b9fcb1e2",
   "metadata": {},
   "source": [
    "The norm of a vector is its distance from the origin."
   ]
  },
  {
   "cell_type": "code",
   "execution_count": 35,
   "id": "7e2036e9-04b9-49cb-ae5a-accbde7ef310",
   "metadata": {},
   "outputs": [
    {
     "data": {
      "text/latex": [
       "$\\displaystyle \\operatorname{Point3D}\\left(0, 0, 0\\right)$"
      ],
      "text/plain": [
       "Point3D(0, 0, 0)"
      ]
     },
     "execution_count": 35,
     "metadata": {},
     "output_type": "execute_result"
    }
   ],
   "source": [
    "origin = Point3D(0, 0, 0)\n",
    "\n",
    "origin"
   ]
  },
  {
   "cell_type": "code",
   "execution_count": 36,
   "id": "af6cdb0c-4443-4626-91b5-3ae397ae5ce9",
   "metadata": {},
   "outputs": [
    {
     "data": {
      "text/latex": [
       "$\\displaystyle \\sqrt{\\left(- m_{1} + v_{1}\\right)^{2} + \\left(- m_{2} + v_{2}\\right)^{2} + \\left(- m_{3} + v_{3}\\right)^{2}}$"
      ],
      "text/plain": [
       "sqrt((-m1 + v1)**2 + (-m2 + v2)**2 + (-m3 + v3)**2)"
      ]
     },
     "execution_count": 36,
     "metadata": {},
     "output_type": "execute_result"
    }
   ],
   "source": [
    "norm_mv = vector_mv.distance(origin)\n",
    "\n",
    "norm_mv"
   ]
  },
  {
   "cell_type": "code",
   "execution_count": 37,
   "id": "4a4db668-d5dd-44bb-9e85-039c18fe7062",
   "metadata": {},
   "outputs": [
    {
     "data": {
      "text/latex": [
       "$\\displaystyle \\operatorname{Point3D}\\left(\\frac{- m_{1} + v_{1}}{\\sqrt{\\left(m_{1} - v_{1}\\right)^{2} + \\left(m_{2} - v_{2}\\right)^{2} + \\left(m_{3} - v_{3}\\right)^{2}}}, \\frac{- m_{2} + v_{2}}{\\sqrt{\\left(m_{1} - v_{1}\\right)^{2} + \\left(m_{2} - v_{2}\\right)^{2} + \\left(m_{3} - v_{3}\\right)^{2}}}, \\frac{- m_{3} + v_{3}}{\\sqrt{\\left(m_{1} - v_{1}\\right)^{2} + \\left(m_{2} - v_{2}\\right)^{2} + \\left(m_{3} - v_{3}\\right)^{2}}}\\right)$"
      ],
      "text/plain": [
       "Point3D((-m1 + v1)/sqrt((m1 - v1)**2 + (m2 - v2)**2 + (m3 - v3)**2), (-m2 + v2)/sqrt((m1 - v1)**2 + (m2 - v2)**2 + (m3 - v3)**2), (-m3 + v3)/sqrt((m1 - v1)**2 + (m2 - v2)**2 + (m3 - v3)**2))"
      ]
     },
     "execution_count": 37,
     "metadata": {},
     "output_type": "execute_result"
    }
   ],
   "source": [
    "vector_umv = vector_mv / norm_mv\n",
    "\n",
    "vector_umv"
   ]
  },
  {
   "cell_type": "markdown",
   "id": "2cd3292a-4561-4e2d-86f9-b82a553217a3",
   "metadata": {},
   "source": [
    "Let $\\hat{u}(m,v)$ have the following components:\n",
    "$$\n",
    "\\hat{u}(m,v) = (u(m,v)_1, u(m,v)_2, u(m,v)_3)\n",
    "$$"
   ]
  },
  {
   "cell_type": "code",
   "execution_count": 38,
   "id": "a7e22b73-529e-4fb2-b242-02334acb286e",
   "metadata": {},
   "outputs": [
    {
     "data": {
      "text/latex": [
       "$\\displaystyle \\frac{- m_{3} + v_{3}}{\\sqrt{\\left(m_{1} - v_{1}\\right)^{2} + \\left(m_{2} - v_{2}\\right)^{2} + \\left(m_{3} - v_{3}\\right)^{2}}}$"
      ],
      "text/plain": [
       "(-m3 + v3)/sqrt((m1 - v1)**2 + (m2 - v2)**2 + (m3 - v3)**2)"
      ]
     },
     "execution_count": 38,
     "metadata": {},
     "output_type": "execute_result"
    }
   ],
   "source": [
    "umv_1, umv_2, umv_3 = vector_umv\n",
    "\n",
    "umv_3"
   ]
  },
  {
   "cell_type": "markdown",
   "id": "ddf73c5f-a3b9-483b-a2cf-b56969b401b4",
   "metadata": {},
   "source": [
    "Let $\\lambda$ denote a real line parameter."
   ]
  },
  {
   "cell_type": "code",
   "execution_count": 39,
   "id": "ac148cea-bd36-4afb-bfde-6f7bfee8df24",
   "metadata": {},
   "outputs": [
    {
     "data": {
      "text/latex": [
       "$\\displaystyle \\lambda$"
      ],
      "text/plain": [
       "lambda"
      ]
     },
     "execution_count": 39,
     "metadata": {},
     "output_type": "execute_result"
    }
   ],
   "source": [
    "lamda = l = scalar('lambda')\n",
    "\n",
    "l"
   ]
  },
  {
   "cell_type": "markdown",
   "id": "fc9f54c3-6017-4f25-b47e-9fa3498fb765",
   "metadata": {},
   "source": [
    "Define $L(m,v,c,\\lambda)$ to be the point on $L(m,v)$ parameterized by $\\lambda$ as follows:\n",
    "$$\n",
    "L(m,v,c,\\lambda) = r(m,v,c) + \\lambda \\hat{u}(m,v)\n",
    "$$"
   ]
  },
  {
   "cell_type": "code",
   "execution_count": 40,
   "id": "15662ddb-d213-455a-93fc-219d54b62818",
   "metadata": {},
   "outputs": [
    {
     "data": {
      "text/latex": [
       "$\\displaystyle \\operatorname{Point3D}\\left(- \\frac{\\lambda \\left(m_{1} - v_{1}\\right)}{\\sqrt{\\left(m_{1} - v_{1}\\right)^{2} + \\left(m_{2} - v_{2}\\right)^{2} + \\left(m_{3} - v_{3}\\right)^{2}}} + m_{1} + \\frac{\\left(c - m_{3}\\right) \\left(m_{1} - v_{1}\\right)}{m_{3} - v_{3}}, - \\frac{\\lambda \\left(m_{2} - v_{2}\\right)}{\\sqrt{\\left(m_{1} - v_{1}\\right)^{2} + \\left(m_{2} - v_{2}\\right)^{2} + \\left(m_{3} - v_{3}\\right)^{2}}} + m_{2} + \\frac{\\left(c - m_{3}\\right) \\left(m_{2} - v_{2}\\right)}{m_{3} - v_{3}}, c - \\frac{\\lambda \\left(m_{3} - v_{3}\\right)}{\\sqrt{\\left(m_{1} - v_{1}\\right)^{2} + \\left(m_{2} - v_{2}\\right)^{2} + \\left(m_{3} - v_{3}\\right)^{2}}}\\right)$"
      ],
      "text/plain": [
       "Point3D(-lambda*(m1 - v1)/sqrt((m1 - v1)**2 + (m2 - v2)**2 + (m3 - v3)**2) + m1 + (c - m3)*(m1 - v1)/(m3 - v3), -lambda*(m2 - v2)/sqrt((m1 - v1)**2 + (m2 - v2)**2 + (m3 - v3)**2) + m2 + (c - m3)*(m2 - v2)/(m3 - v3), c - lambda*(m3 - v3)/sqrt((m1 - v1)**2 + (m2 - v2)**2 + (m3 - v3)**2))"
      ]
     },
     "execution_count": 40,
     "metadata": {},
     "output_type": "execute_result"
    }
   ],
   "source": [
    "point_Lmvcl = point_rmvc + l * vector_umv\n",
    "\n",
    "point_Lmvcl"
   ]
  },
  {
   "cell_type": "markdown",
   "id": "f4f47de0-ff44-4222-8810-addf064a613d",
   "metadata": {},
   "source": [
    "We can think of the line as being directed from\n",
    "$m$ to $v$ with $\\lambda$ being the distance travelled along the line from \n",
    "$r(m,v,c) = L(m,v,c,0)$ to $L(m,v,c,\\lambda)$."
   ]
  },
  {
   "cell_type": "markdown",
   "id": "2ce84dde-b354-4150-8ea4-73bbc802148f",
   "metadata": {},
   "source": [
    "By definition, the parameter value $\\lambda = 0$ maps to the point $r(m,v,c)$.\n",
    "$$\n",
    "L(m,v,c,0) = r(m,v,c)\n",
    "$$\n",
    "\n",
    "Verify this using SymPy."
   ]
  },
  {
   "cell_type": "code",
   "execution_count": 41,
   "id": "acaa1030-25d6-43ce-b09a-4890b1ae42df",
   "metadata": {},
   "outputs": [
    {
     "data": {
      "text/latex": [
       "$\\displaystyle \\operatorname{Point3D}\\left(m_{1} + \\frac{\\left(c - m_{3}\\right) \\left(m_{1} - v_{1}\\right)}{m_{3} - v_{3}}, m_{2} + \\frac{\\left(c - m_{3}\\right) \\left(m_{2} - v_{2}\\right)}{m_{3} - v_{3}}, c\\right)$"
      ],
      "text/plain": [
       "Point3D(m1 + (c - m3)*(m1 - v1)/(m3 - v3), m2 + (c - m3)*(m2 - v2)/(m3 - v3), c)"
      ]
     },
     "execution_count": 41,
     "metadata": {},
     "output_type": "execute_result"
    }
   ],
   "source": [
    "point_Lmvc0 = point_Lmvcl.subs({l: 0})\n",
    "\n",
    "point_Lmvc0"
   ]
  },
  {
   "cell_type": "code",
   "execution_count": 42,
   "id": "95bcbb21-81d8-49c0-bacb-32196500fd6a",
   "metadata": {},
   "outputs": [
    {
     "data": {
      "text/plain": [
       "True"
      ]
     },
     "execution_count": 42,
     "metadata": {},
     "output_type": "execute_result"
    }
   ],
   "source": [
    "point_Lmvc0 - point_rmvc == origin"
   ]
  },
  {
   "cell_type": "markdown",
   "id": "ee4c2f61-c219-4543-9092-0820df528931",
   "metadata": {},
   "source": [
    "In terms of components, we have:\n",
    "$$\n",
    "\\begin{align}\n",
    "L(m,v,c,\\lambda)_1 &= \\lambda u(m,v)_1 + r(m,v,c)_1 \\\\\n",
    "L(m,v,c,\\lambda)_2 &= \\lambda u(m,v)_2 + r(m,v,c)_2 \\\\\n",
    "L(m,v,c,\\lambda)_3 &= \\lambda u(m,v)_3 + c\n",
    "\\end{align}\n",
    "$$"
   ]
  },
  {
   "cell_type": "markdown",
   "id": "707f7d59-6fdd-4266-b4cd-95210fbb9a2f",
   "metadata": {},
   "source": [
    "Define $t(m,v,c)$ to be the line parameter value $\\lambda$ that corresponds to the point $m$.\n",
    "$$\n",
    "L(m,v,c,t(m,v,c)) = m\n",
    "$$"
   ]
  },
  {
   "cell_type": "markdown",
   "id": "cf1225d4-1aea-4ca6-b3c4-b33df0ab0da2",
   "metadata": {},
   "source": [
    "In terms of components, we have\n",
    "$$\n",
    "\\begin{align}\n",
    "r(m,v,c)_1 + t(m,v,c) u(m,v)_1 &= m_1 \\\\\n",
    "r(m,v,c)_2 + t(m,v,c) u(m,v)_2 &= m_2 \\\\\n",
    "c + t(m,v,c) u(m,v)_3 &= m_3\n",
    "\\end{align}\n",
    "$$"
   ]
  },
  {
   "cell_type": "markdown",
   "id": "d0af28c2-f50a-4735-8ae5-821a4fdd8272",
   "metadata": {},
   "source": [
    "Now solve for $t(m,v,c), r(m,v,c)_1, r(m,v,c)_2$ as follows:\n",
    "$$\n",
    "\\begin{align}\n",
    "t(m,v,c) &= \\frac{m_3 - c}{u(m,v)_3} \\\\\n",
    "r(m,v,c)_1 &= m_1 - t(m,v,c) u(m,v)_1 \\\\\n",
    "r(m,v,c)_2 &= m_2 - t(m,v,c) u(m,v)_2\n",
    "\\end{align}\n",
    "$$"
   ]
  },
  {
   "cell_type": "markdown",
   "id": "5ca2b630-35a9-413f-a6e1-38bd5b51760a",
   "metadata": {},
   "source": [
    "In summary, a viewpoint $v$ defines a 3d projection $f$ as follows:\n",
    "\n",
    "$$\n",
    "f(m,v,c) = (r(m,v,c)_1, r(m,v,c)_2, m_3))\n",
    "$$"
   ]
  },
  {
   "cell_type": "markdown",
   "id": "243add30-071d-447c-b744-7a54d914e803",
   "metadata": {},
   "source": [
    "Conversely, given a point $(r_1, r_2, m_3)$ we can compute the point $(m_1, m_2, m_3)$\n",
    "\n",
    "Given $r(m,v,c), m_3$, we can compute $t(m,v,c), m_1, m_2$ as follows:\n",
    "$$\n",
    "\\begin{align}\n",
    "t(m,v,c) &= \\frac{m_3 - c}{u(r,v)_3} \\\\\n",
    "m_1 &= r(m,v,c)_1 + t(m,v) u(r,v)_1 \\\\\n",
    "m_2 &= r(m,v,c)_2 + t(m,v) u(r,v)_2\n",
    "\\end{align}\n",
    "$$"
   ]
  },
  {
   "cell_type": "markdown",
   "id": "fa76912a-ada6-4edd-979d-706ef25e87c3",
   "metadata": {},
   "source": [
    "## Orthographic Projection\n",
    "\n",
    "An orthographic projection is a limiting case of a perspective projection as\n",
    "the viewpoint $v$ moves off to infinity in a fixed direction.\n",
    "Let $\\hat{u}$ be a unit vector that defines the direction that the viewpoint moves in.\n",
    "Let $\\mu$ be a real parameter, let $v_0$ be an initial viewpoint,\n",
    "and define the viewpoint $v(\\hat{u};\\mu)$ as follows:\n",
    "$$\n",
    "v(\\hat{u};\\mu) = v_0 + \\mu \\hat{u}\n",
    "$$\n",
    "\n",
    "Define $\\hat{u}(m; \\mu)$ to be the unit vector that points from $m$ to $v(\\mu)$.\n",
    "$$\n",
    "\\hat{u}(m; \\mu) = \\frac{v(\\hat{u};\\mu) - m}{\\lVert v(\\hat{u};\\mu) - m \\rVert}\n",
    "$$\n",
    "\n",
    "Clearly, as $\\mu$ becomes very large, \n",
    "$v(\\hat{u};\\mu)$ approaches $\\mu \\hat{v}$.\n",
    "$$\n",
    "\\begin{align}\n",
    "\\lim_{\\mu \\to \\infty} \\hat{u}(m; \\mu) \n",
    "&= \\lim_{\\mu \\to \\infty} \\frac{v(\\hat{u};\\mu) - m}{\\lVert v(\\hat{u};\\mu) - m \\rVert} \\\\\n",
    "&= \\lim_{\\mu \\to \\infty} \\frac{v_0 + \\mu \\hat{u} - m}{\\lVert v_0 + \\mu \\hat{v} - m \\rVert} \\\\\n",
    "&= \\lim_{\\mu \\to \\infty} \\frac{\\mu \\hat{u}}{\\lVert \\mu \\hat{u} \\rVert} \\\\\n",
    "&= \\lim_{\\mu \\to \\infty} \\frac{\\mu \\hat{u}}{\\mu \\lVert \\hat{u} \\rVert} \\\\\n",
    "&= \\hat{u}\n",
    "\\end{align}\n",
    "$$\n",
    "\n",
    "Therefore, an orthographic projection is like a perspective projection except that\n",
    "rather than compute the unit vector $\\hat{u}(v;m)$ we use the given constant unit vector $\\hat{u}$."
   ]
  },
  {
   "cell_type": "markdown",
   "id": "10d7ac23-e9b2-4bdd-9c6c-5d4357ce7abf",
   "metadata": {},
   "source": [
    "### Spherical Polar Coordinates\n",
    "\n",
    "We define an orthographic projection by giving the unit vector $u$ that specifies the direction of the projection.\n",
    "Since we'll be doing exact symbolic mathematics, we'll define the unit vector in terms of spherical polar angles.\n",
    "Any unit vector $u$ is parameterized by the polar angle $\\theta$ and the azimuthal angle $\\phi$.\n",
    "\n",
    "Define an arbitrary unit vector $u$."
   ]
  },
  {
   "cell_type": "code",
   "execution_count": 43,
   "id": "decdf80f-1c89-4be6-b726-f6eda45dda6d",
   "metadata": {},
   "outputs": [
    {
     "data": {
      "text/latex": [
       "$\\displaystyle \\left[\\begin{matrix}\\theta & \\phi\\end{matrix}\\right]$"
      ],
      "text/plain": [
       "Matrix([[theta, phi]])"
      ]
     },
     "execution_count": 43,
     "metadata": {},
     "output_type": "execute_result"
    }
   ],
   "source": [
    "theta = scalar('theta')\n",
    "phi = scalar('phi')\n",
    "\n",
    "Matrix([theta, phi]).T"
   ]
  },
  {
   "cell_type": "code",
   "execution_count": 44,
   "id": "2583999a-0734-41ab-be2d-d08bbfc6c7da",
   "metadata": {},
   "outputs": [
    {
     "data": {
      "text/latex": [
       "$\\displaystyle \\left[\\begin{matrix}\\sin{\\left(\\theta \\right)} \\cos{\\left(\\phi \\right)} & \\sin{\\left(\\phi \\right)} \\sin{\\left(\\theta \\right)} & \\cos{\\left(\\theta \\right)}\\end{matrix}\\right]$"
      ],
      "text/plain": [
       "Matrix([[sin(theta)*cos(phi), sin(phi)*sin(theta), cos(theta)]])"
      ]
     },
     "execution_count": 44,
     "metadata": {},
     "output_type": "execute_result"
    }
   ],
   "source": [
    "u_x = sin(theta) * cos(phi)\n",
    "u_y = sin(theta) * sin(phi)\n",
    "u_z = cos(theta)\n",
    "u = Matrix([u_x, u_y, u_z])\n",
    "\n",
    "u.T"
   ]
  },
  {
   "cell_type": "code",
   "execution_count": 45,
   "id": "246344dd-cf79-4a32-9c8c-e661154035de",
   "metadata": {},
   "outputs": [
    {
     "data": {
      "text/latex": [
       "$\\displaystyle \\sqrt{\\sin^{2}{\\left(\\phi \\right)} \\sin^{2}{\\left(\\theta \\right)} + \\sin^{2}{\\left(\\theta \\right)} \\cos^{2}{\\left(\\phi \\right)} + \\cos^{2}{\\left(\\theta \\right)}}$"
      ],
      "text/plain": [
       "sqrt(sin(phi)**2*sin(theta)**2 + sin(theta)**2*cos(phi)**2 + cos(theta)**2)"
      ]
     },
     "execution_count": 45,
     "metadata": {},
     "output_type": "execute_result"
    }
   ],
   "source": [
    "u.norm()"
   ]
  },
  {
   "cell_type": "code",
   "execution_count": 46,
   "id": "7143a9ce-0ad7-4736-854f-184258c6e7ed",
   "metadata": {},
   "outputs": [
    {
     "data": {
      "text/latex": [
       "$\\displaystyle 1$"
      ],
      "text/plain": [
       "1"
      ]
     },
     "execution_count": 46,
     "metadata": {},
     "output_type": "execute_result"
    }
   ],
   "source": [
    "simplify(u.norm())"
   ]
  },
  {
   "cell_type": "markdown",
   "id": "0d101a35-d60c-42f2-8c34-3e437a4978ba",
   "metadata": {},
   "source": [
    "## Translations and Scalings\n",
    "\n",
    "Translations allow us to shift the origins of model space and scene space relative to each other.\n",
    "\n",
    "Scaling allows us to change their relative units of measure.\n",
    "For example, our standard puzzle cube has side length 2.0 in model space, but might fit better with side length 1.0 in scene space.\n",
    "In this case we would use a scale factor of 0.5.\n",
    "\n",
    "Technically, translations and scalings are independent of projections.\n",
    "Historically, we have introduced the idea of the camera plane.\n",
    "The position of the camera plane has no impact on the magnification of objects in orthographic projections.\n",
    "It does influence the magnification in perspective transformations. The closer the camera plane is to the viewpoint,\n",
    "the smaller it looks. However, I believe this effect can be compensated for by a suitably chosen scale factor.\n",
    "\n",
    "TODO: Confirm that an arbitrary location of the camera plane is equivalent to the camera plane at z=0 plus a suitable\n",
    "scale factor.\n",
    "\n",
    "Now let's create some SymPy variables to use in our formulae.\n",
    "\n",
    "Keep the translation and scaling separate from the projection for now. They may not actually be independent parameters\n",
    "but they are conceptually distinct."
   ]
  },
  {
   "cell_type": "markdown",
   "id": "71638998-d244-410a-b1c6-279c78708082",
   "metadata": {},
   "source": [
    "Let $o$ be the point in model space that maps to the origin of scene space."
   ]
  },
  {
   "cell_type": "code",
   "execution_count": 47,
   "id": "4c3dce0f-8ec6-45dc-b417-561e2f9c29c7",
   "metadata": {},
   "outputs": [
    {
     "data": {
      "text/latex": [
       "$\\displaystyle \\left[\\begin{matrix}o_{1} & o_{2} & o_{3}\\end{matrix}\\right]$"
      ],
      "text/plain": [
       "Matrix([[o1, o2, o3]])"
      ]
     },
     "execution_count": 47,
     "metadata": {},
     "output_type": "execute_result"
    }
   ],
   "source": [
    "scene_origin = o = vector('o')\n",
    "\n",
    "o.T"
   ]
  },
  {
   "cell_type": "code",
   "execution_count": 48,
   "id": "d4f8b4f5-5ebe-4fde-8de8-827e955ef424",
   "metadata": {},
   "outputs": [
    {
     "data": {
      "text/plain": [
       "sympy.matrices.dense.MutableDenseMatrix"
      ]
     },
     "execution_count": 48,
     "metadata": {},
     "output_type": "execute_result"
    }
   ],
   "source": [
    "type(o)"
   ]
  },
  {
   "cell_type": "code",
   "execution_count": 49,
   "id": "09558582-cf5f-478d-89bd-46d6e64153b7",
   "metadata": {},
   "outputs": [
    {
     "data": {
      "text/latex": [
       "$\\displaystyle o_{3}$"
      ],
      "text/plain": [
       "o3"
      ]
     },
     "execution_count": 49,
     "metadata": {},
     "output_type": "execute_result"
    }
   ],
   "source": [
    "o1, o2, o3 = o\n",
    "\n",
    "o3"
   ]
  },
  {
   "cell_type": "code",
   "execution_count": 50,
   "id": "6dfdeba9-d5f9-445e-bffe-d4f5e6c44623",
   "metadata": {},
   "outputs": [
    {
     "data": {
      "text/plain": [
       "sympy.core.symbol.Symbol"
      ]
     },
     "execution_count": 50,
     "metadata": {},
     "output_type": "execute_result"
    }
   ],
   "source": [
    "type(o3)"
   ]
  },
  {
   "cell_type": "markdown",
   "id": "cac307c8-d3b3-4e38-ad2a-ab6a6515041b",
   "metadata": {},
   "source": [
    "The parameters scene_x, scene_y, and scene_z SHOULD be interpretted as coordinates of the point $o$ in model space\n",
    "that maps to the origin in scene space."
   ]
  },
  {
   "cell_type": "code",
   "execution_count": 51,
   "id": "de7d54b0-541e-433a-ae5d-f07ef363165a",
   "metadata": {},
   "outputs": [
    {
     "data": {
      "text/latex": [
       "$\\displaystyle o_{3}$"
      ],
      "text/plain": [
       "o3"
      ]
     },
     "execution_count": 51,
     "metadata": {},
     "output_type": "execute_result"
    }
   ],
   "source": [
    "scene_x, scene_y, scene_z = scene_origin\n",
    "\n",
    "scene_z"
   ]
  },
  {
   "cell_type": "markdown",
   "id": "95464579-27b6-4820-ae6f-3492653fcd15",
   "metadata": {},
   "source": [
    "We allow the mapping from model space to scene space to include a positive scalar scale factor.\n",
    "Think of this as a change of measurement units.\n",
    "The scale factor is the number of scene units per model unit."
   ]
  },
  {
   "cell_type": "code",
   "execution_count": 52,
   "id": "57f43dcf-7b00-410f-8e63-a08c0f43a32a",
   "metadata": {},
   "outputs": [
    {
     "data": {
      "text/latex": [
       "$\\displaystyle \\alpha$"
      ],
      "text/plain": [
       "alpha"
      ]
     },
     "execution_count": 52,
     "metadata": {},
     "output_type": "execute_result"
    }
   ],
   "source": [
    "scale = alpha = positive_scalar('alpha')\n",
    "\n",
    "alpha"
   ]
  },
  {
   "cell_type": "code",
   "execution_count": 53,
   "id": "b2663d14-980d-4408-a9e0-96256133426a",
   "metadata": {},
   "outputs": [
    {
     "data": {
      "text/plain": [
       "sympy.core.symbol.Symbol"
      ]
     },
     "execution_count": 53,
     "metadata": {},
     "output_type": "execute_result"
    }
   ],
   "source": [
    "type(alpha)"
   ]
  },
  {
   "cell_type": "markdown",
   "id": "1d682783-8ce1-432c-90e5-9c7f10bd6899",
   "metadata": {},
   "source": [
    "The mapping from model space to scene space is as follows. "
   ]
  },
  {
   "cell_type": "code",
   "execution_count": 54,
   "id": "10156c4c-3ae1-4db7-a756-39bfc4b07414",
   "metadata": {},
   "outputs": [
    {
     "data": {
      "text/latex": [
       "$\\displaystyle \\left[\\begin{matrix}\\alpha \\left(m_{1} - o_{1}\\right) & \\alpha \\left(m_{2} - o_{2}\\right) & \\alpha \\left(m_{3} - o_{3}\\right)\\end{matrix}\\right]$"
      ],
      "text/plain": [
       "Matrix([[alpha*(m1 - o1), alpha*(m2 - o2), alpha*(m3 - o3)]])"
      ]
     },
     "execution_count": 54,
     "metadata": {},
     "output_type": "execute_result"
    }
   ],
   "source": [
    "def model_to_scene(m: Vector) -> Vector:\n",
    "    return alpha * (m - o)\n",
    "\n",
    "model_to_scene(m).T"
   ]
  },
  {
   "cell_type": "markdown",
   "id": "5d5f5c0f-792a-4919-83b2-8abf49be8c7b",
   "metadata": {},
   "source": [
    "Let $s$ be an arbitrary point in Scene space."
   ]
  },
  {
   "cell_type": "code",
   "execution_count": 55,
   "id": "73f14f01-9220-4466-a454-d6c3ea7ce370",
   "metadata": {},
   "outputs": [
    {
     "data": {
      "text/latex": [
       "$\\displaystyle \\left[\\begin{matrix}s_{1} & s_{2} & s_{3}\\end{matrix}\\right]$"
      ],
      "text/plain": [
       "Matrix([[s1, s2, s3]])"
      ]
     },
     "execution_count": 55,
     "metadata": {},
     "output_type": "execute_result"
    }
   ],
   "source": [
    "scene_point = s = vector('s')\n",
    "\n",
    "s.T"
   ]
  },
  {
   "cell_type": "code",
   "execution_count": 56,
   "id": "0b782cf2-4a5d-488c-9f73-81174d489142",
   "metadata": {},
   "outputs": [
    {
     "data": {
      "text/latex": [
       "$\\displaystyle s_{3}$"
      ],
      "text/plain": [
       "s3"
      ]
     },
     "execution_count": 56,
     "metadata": {},
     "output_type": "execute_result"
    }
   ],
   "source": [
    "s1, s2, s3 = s\n",
    "\n",
    "s3"
   ]
  },
  {
   "cell_type": "markdown",
   "id": "022f2a45-a7c7-41e8-9982-611fa4daf4af",
   "metadata": {},
   "source": [
    "The mapping from scene space to model space is the inverse."
   ]
  },
  {
   "cell_type": "code",
   "execution_count": 57,
   "id": "9d8aaeda-3c8c-41db-80c2-7492edfe743a",
   "metadata": {},
   "outputs": [
    {
     "data": {
      "text/latex": [
       "$\\displaystyle \\left[\\begin{matrix}o_{1} + \\frac{s_{1}}{\\alpha} & o_{2} + \\frac{s_{2}}{\\alpha} & o_{3} + \\frac{s_{3}}{\\alpha}\\end{matrix}\\right]$"
      ],
      "text/plain": [
       "Matrix([[o1 + s1/alpha, o2 + s2/alpha, o3 + s3/alpha]])"
      ]
     },
     "execution_count": 57,
     "metadata": {},
     "output_type": "execute_result"
    }
   ],
   "source": [
    "def scene_to_model(s: Vector) -> Vector:\n",
    "    return s / alpha + o\n",
    "\n",
    "scene_to_model(s).T"
   ]
  },
  {
   "cell_type": "markdown",
   "id": "7f378b44-11db-493e-8824-2d9b99651a1b",
   "metadata": {},
   "source": [
    "Verify that these mappings are inverses."
   ]
  },
  {
   "cell_type": "code",
   "execution_count": 58,
   "id": "e0285e8a-92d0-4800-8c75-8fb93bddd7e3",
   "metadata": {},
   "outputs": [
    {
     "data": {
      "text/latex": [
       "$\\displaystyle \\left[\\begin{matrix}m_{1} & m_{2} & m_{3}\\end{matrix}\\right]$"
      ],
      "text/plain": [
       "Matrix([[m1, m2, m3]])"
      ]
     },
     "execution_count": 58,
     "metadata": {},
     "output_type": "execute_result"
    }
   ],
   "source": [
    "m_to_s = model_to_scene(m)\n",
    "m_to_s_to_m = scene_to_model(m_to_s)\n",
    "\n",
    "m_to_s_to_m.T"
   ]
  },
  {
   "cell_type": "markdown",
   "id": "7f86e64a-d126-47e3-bd7b-04827cb18694",
   "metadata": {},
   "source": [
    "Ask SymPy to verify that the mappings are inverses."
   ]
  },
  {
   "cell_type": "code",
   "execution_count": 59,
   "id": "57cb8e9f-f2d8-44e2-acb0-fbdf29a973f4",
   "metadata": {},
   "outputs": [
    {
     "data": {
      "text/latex": [
       "$\\displaystyle \\text{True}$"
      ],
      "text/plain": [
       "True"
      ]
     },
     "execution_count": 59,
     "metadata": {},
     "output_type": "execute_result"
    }
   ],
   "source": [
    "Eq(scene_to_model(model_to_scene(m)), m)"
   ]
  },
  {
   "cell_type": "code",
   "execution_count": 60,
   "id": "9f5c3dff-ea3e-4386-8bad-ebb233676050",
   "metadata": {},
   "outputs": [
    {
     "data": {
      "text/latex": [
       "$\\displaystyle \\left[\\begin{matrix}s_{1} & s_{2} & s_{3}\\end{matrix}\\right]$"
      ],
      "text/plain": [
       "Matrix([[s1, s2, s3]])"
      ]
     },
     "execution_count": 60,
     "metadata": {},
     "output_type": "execute_result"
    }
   ],
   "source": [
    "s_to_m = scene_to_model(s)\n",
    "s_to_m_to_s = model_to_scene(s_to_m)\n",
    "\n",
    "s_to_m_to_s.T"
   ]
  },
  {
   "cell_type": "code",
   "execution_count": 61,
   "id": "2ef1f662-3991-41fe-96ef-83ae2027cf07",
   "metadata": {},
   "outputs": [
    {
     "data": {
      "text/latex": [
       "$\\displaystyle \\text{True}$"
      ],
      "text/plain": [
       "True"
      ]
     },
     "execution_count": 61,
     "metadata": {},
     "output_type": "execute_result"
    }
   ],
   "source": [
    "Eq(model_to_scene(scene_to_model(s)), s)"
   ]
  },
  {
   "cell_type": "markdown",
   "id": "722d6e76-c47a-48d1-89ac-df50a0e8ddd0",
   "metadata": {},
   "source": [
    "## Mapping from Model Space to Scene Space\n",
    "\n",
    "In practice, it is useful to not regard the camera as being embedded in scene space.\n",
    "For example, the puzzle cubes have side length 2 which may be too big for the scene.\n",
    "In this case allowing a scaling factor is handy.\n",
    "Also, the objects in model space may appear to be shifted after applying a 3d projection.\n",
    "In this case allowing a translation is handy.\n",
    "\n",
    "We therefore allow the following mapping from model space to scene space which\n",
    "we apply after the 3d projection. Let $o$ be a point in model space that will map to\n",
    "the origin in scene space. The $\\alpha$ be a real number scaling factor. The mapping $g$\n",
    "from model space to space if given by:\n",
    "$$\n",
    "g(o,\\alpha;m) = \\alpha \\cdot (m - o)\n",
    "$$\n",
    "\n",
    "The inverse is:\n",
    "$$\n",
    "g^{-1}(s) = o + s / \\alpha\n",
    "$$"
   ]
  },
  {
   "cell_type": "markdown",
   "id": "d53881be-36d9-4398-92ac-4847e41fd17f",
   "metadata": {},
   "source": [
    "## The Relation Between the Camera Plane, Scaling, and Translation\n",
    "\n",
    "The projection depends on the viewpoint $v$, the camera plane $c$,\n",
    "the scene origin $o$, and the model-to-scene scaling factor $\\alpha$.\n",
    "This scene origin includes $c$ as its $z$-component. Altogether, we\n",
    "have 3 ($v$) + 3 ($o$) + 1 ($c$) + 1 ($\\alpha$) parameters\n",
    "for a grand total of 8 parameters. Are these independent or can we\n",
    "canconicalize them, say by finding an equivalent set of parameters\n",
    "with $c = 0$?"
   ]
  }
 ],
 "metadata": {
  "kernelspec": {
   "display_name": "Python 3 (ipykernel)",
   "language": "python",
   "name": "python3"
  },
  "language_info": {
   "codemirror_mode": {
    "name": "ipython",
    "version": 3
   },
   "file_extension": ".py",
   "mimetype": "text/x-python",
   "name": "python",
   "nbconvert_exporter": "python",
   "pygments_lexer": "ipython3",
   "version": "3.13.5"
  }
 },
 "nbformat": 4,
 "nbformat_minor": 5
}
