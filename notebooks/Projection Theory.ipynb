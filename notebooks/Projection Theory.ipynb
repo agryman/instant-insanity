{
 "cells": [
  {
   "cell_type": "markdown",
   "id": "4d1b78f8-4590-4281-a00e-cb1778345539",
   "metadata": {},
   "source": [
    "# Projection Theory\n",
    "*Arthur Ryman, lasted updated 2025-09-12*"
   ]
  },
  {
   "cell_type": "markdown",
   "id": "0b90b393-38dc-421f-8fbc-504cb0ab787f",
   "metadata": {},
   "source": [
    "## Introduction\n",
    "\n",
    "The goal of this notebook is to present the theory of \n",
    "perspective and orthographic projections.\n",
    "\n",
    "My initial attempt at a write-up is available as a Markdown document at:\n",
    "[projection.md](https://github.com/agryman/instant-insanity/blob/main/src/instant_insanity/core/projection.md).\n",
    "However, GitHub no longer renders math in Markdown previews.\n",
    "Furthermore, I want to execute SymPy code to verify the math.\n",
    "Hence the switch to this Jupyter notebook."
   ]
  },
  {
   "cell_type": "markdown",
   "id": "1ae91261-606a-4d9a-a03f-059411beec36",
   "metadata": {},
   "source": [
    "### Background\n",
    "\n",
    "Our goal is to draw 3d objects, such as cubes, in math animations using Manim.\n",
    "At first I attempted to use the ThreeDScene class and OpenGL renderer.\n",
    "I assumed that the OpenGL renderer would draw 3d objects correctly through the use of\n",
    "a z-buffer.\n",
    "\n",
    "Unfortunately, I ran into othed problems with OpenGL which I reported to the \n",
    "Manim Community Edition project.\n",
    "Work is in-progress there to produce a high-quality OpenGL renderer but it does not seem ready\n",
    "yet.\n",
    "\n",
    "I therefore reverted to using the Scene class and Cairo renderer\n",
    "As I workaround, I developed code that projects 3d objects onto 2d space and depth-sorts them.\n",
    "\n",
    "Most of my planned content is 2d, so using the Scene class and Cairo\n",
    "in conjunction with projections and depth-sorting is an acceptable short-term workaround.\n",
    "Furthermore, the Cairo renderer is very stable and the vast majority of the Manim examples use it.\n",
    "Cairo is therefore a safer bet until the OpenGL renderer is ready."
   ]
  },
  {
   "cell_type": "markdown",
   "id": "55f6884c-4b93-424a-9509-b85f2542e577",
   "metadata": {},
   "source": [
    "### Depth-Sorting\n",
    "\n",
    "As stated above, our goal is to draw 3d objects as 2d objects in a way that conveys\n",
    "the appearance of depth.\n",
    "For example, a 3d cube consists of six square faces. \n",
    "We project each square face from 3d to 2d.\n",
    "In general, each projected face will no longer be a square.\n",
    "Instead, the projection will transform each face into\n",
    "some quadrilateral whose interior angles are no longer right angles and \n",
    "whose sides are no longer equal. \n",
    "The projection distorts the square in a way that is consistent our depth perception.\n",
    "\n",
    "In addition to projecting the faces of the cube, we need to draw them on $C$ \n",
    "in the correct order so as to achieve the desired visual appearance.\n",
    "If face A is behind face B in $M$ then we need to draw the 2d projection\n",
    "of face A on $C$ before we draw that of face B. \n",
    "Part of the projection of face B may cover part of the projection of face A, \n",
    "reproducing the actual visual appearance.\n",
    "This drawing procedure is known as the \n",
    "[Painter's Algorithm](https://en.wikipedia.org/wiki/Painter%27s_algorithm).\n",
    "\n",
    "For simplicity, we will assume that our 3d objects can be modelled as \n",
    "collections of opaque, convex, planar polygons and \n",
    "that we can always sort them into some drawing order that will produce the correct visual appearance.\n",
    "\n",
    "The ability to sort the polygons is a strong assumption.\n",
    "It is possible to arrange as few as three nonintersecting, convex, \n",
    "planar polygons in a way that has no corresponding correct drawing order.\n",
    "\n",
    "Given the known requirements for our current animation project, \n",
    "all collections of 3d objects will be simple enough that a correct\n",
    "drawing order always exists.\n",
    "\n",
    "If we actually needed to draw some collection of polygons that had no correct drawing order,\n",
    "then we would have to split some of the polygons.\n",
    "If we split the polygons enough then a correct drawing order always exists.\n",
    "In the extreme case, we could split each polygon into individual pixels.\n",
    "We'll defer dealing with this situation until project requirements force us to do so."
   ]
  },
  {
   "cell_type": "markdown",
   "id": "e9c0f036-6c31-4d7d-a563-7c1a762c67b4",
   "metadata": {},
   "source": [
    "# 3D Geometry\n",
    "\n",
    "This section reviews some standard definitions and notation."
   ]
  },
  {
   "cell_type": "markdown",
   "id": "2a8cc383-bb72-4c22-b2b9-641bcceeeead",
   "metadata": {},
   "source": [
    "### Model Space\n",
    "We are going to draw geometrical objects, such as cubes,\n",
    "in model space which is a real 3-dimensional vector space.\n",
    "Let $M$ denote model space:\n",
    "\n",
    "$$\n",
    "M \\cong \\mathbb{R}^3\n",
    "$$"
   ]
  },
  {
   "cell_type": "markdown",
   "id": "cf29e971-40f2-47b1-a167-7bc6d42cf0a7",
   "metadata": {},
   "source": [
    "### The Origin\n",
    "Let $O$ denote the zero vector of $M$, aka the origin.\n",
    "\n",
    "$$\n",
    "O = (0, 0, 0)\n",
    "$$"
   ]
  },
  {
   "cell_type": "markdown",
   "id": "d1fb159c-8b43-4778-a113-6c5ef17af7f2",
   "metadata": {},
   "source": [
    "### The Standard Unit Basis Vectors\n",
    "\n",
    "Let $\\hat{\\imath}$, $\\hat{\\jmath}$, and $\\hat{k}$ denote the standard unit basis vectors\n",
    "for $M$.\n",
    "\n",
    "$$\n",
    "\\begin{gather}\n",
    "\\hat{\\imath} = (1, 0, 0) \\\\\n",
    "\\hat{\\jmath} = (0, 1, 0) \\\\\n",
    "\\hat{k} = (0, 0, 1)\n",
    "\\end{gather}\n",
    "$$"
   ]
  },
  {
   "cell_type": "markdown",
   "id": "bf93811b-f46b-4b6b-a23a-812dd5b1e77b",
   "metadata": {},
   "source": [
    "### Nonzero Vectors\n",
    "Let $M^\\times$ denote $M$ with the origin removed, aka the set of nonzero vectors.\n",
    "\n",
    "$$\n",
    "M^\\times = M \\setminus \\{O\\}\n",
    "$$"
   ]
  },
  {
   "cell_type": "markdown",
   "id": "448dd0b9-bf41-4cd1-8da0-a376a238de74",
   "metadata": {},
   "source": [
    "### Lines\n",
    "The projection will be defined in terms of lines and planes in $M$.\n",
    "\n",
    "A line in $M$ is the 1-dimensional\n",
    "set of points defined by some base point $b$ and some nonzero direction vector\n",
    "$d$ as follows.\n",
    "\n",
    "Let $\\mbox{line}(b,d)$ denote the line defined by $b$ and $d$.\n",
    "\n",
    "$$\n",
    "\\begin{gather}\n",
    "b \\in M \\\\\n",
    "d \\in M^\\times \\\\\n",
    "\\mbox{line}(b,d) = \\{~ t: \\mathbb{R} \\bullet b + t d ~\\}\n",
    "\\end{gather}\n",
    "$$"
   ]
  },
  {
   "cell_type": "markdown",
   "id": "71c0d64b-aac5-4b18-b769-ca35c8133454",
   "metadata": {},
   "source": [
    "### Planes\n",
    "A plane in $M$ is a set of points defined by some base point $b$ and a pair of linearly\n",
    "independent direction vectors $(d_1, d_2)$ as follows.\n",
    "\n",
    "Recall that a pair of vectors in 3d space is linearly independent if and only if \n",
    "their cross product is nonzero.\n",
    "\n",
    "Let $\\mbox{plane}(b, d_1, d_2)$ denote the plane defined by $b$, $d_1$, and $d_2$.\n",
    "\n",
    "$$\n",
    "\\begin{gather}\n",
    "b, d_1, d_2 \\in M \\\\\n",
    "d_1 \\times d_2 \\in M^\\times \\\\\n",
    "\\mbox{plane}(b, d_1, d_2) = \\{~ u, v : \\mathbb{R} \\bullet b + u d_1 + v d_2 ~\\}\n",
    "\\end{gather}\n",
    "$$"
   ]
  },
  {
   "cell_type": "markdown",
   "id": "748889a3-6ca0-480c-a42b-e86b6cc267ab",
   "metadata": {},
   "source": [
    "## Perspective Projections\n",
    "\n",
    "Consider the following diagram of points, lines, and planes in $M$.\n",
    "The points are black dots, the lines are red, and the planes are blue.\n",
    "Here the $z$-axis is vertical, the $x$-axis is horizontal, and we have suppressed the $y$-axis.\n",
    "\n",
    "It shows the geometric setup for a perspective projection $f$ which we'll define below.\n",
    "\n",
    "<div style=\"text-align: center;\">\n",
    "    <img src=\"images/diagrams/perspective-projection-diagram.png\" alt=\"Perspective Projection Diagram\" style=\"width: 100%;\"/>\n",
    "</div>"
   ]
  },
  {
   "cell_type": "markdown",
   "id": "9bba1bc0-9f51-4a67-9065-54d7aafcf059",
   "metadata": {},
   "source": [
    "### The Camera Plane\n",
    "\n",
    "We are going to project $M$ onto a plane,\n",
    "which we refer to as the camera plane $C$, that represents the display screen\n",
    "\n",
    "\n",
    "$$\n",
    "\\begin{gather}\n",
    "C \\subset M \\\\\n",
    "C \\cong \\mathbb{R}^2\n",
    "\\end{gather}\n",
    "$$\n",
    "\n",
    "Without loss of generality, we only consider camera planes that are perpendicular to the $z$-axis.\n",
    "Let $c$ be a real number that defines the point where $C$ intersects the $z$-axis.\n",
    "\n",
    "$$\n",
    "\\begin{gather}\n",
    "c \\in \\mathbb{R} \\\\\n",
    "C = \\mbox{plane}(c\\hat{k}, \\hat{\\imath}, \\hat{\\jmath})\n",
    "\\end{gather}\n",
    "$$"
   ]
  },
  {
   "cell_type": "markdown",
   "id": "945fd3f2-ca30-485f-b27c-b3c8ce2ab55d",
   "metadata": {},
   "source": [
    "### The Viewpoint\n",
    "\n",
    "The projection $f$ is defined by specifying both a camera plane $C$, and\n",
    "a viewpoint $v$ not contained in it.\n",
    "\n",
    "$$\n",
    "v \\in M \\setminus C\n",
    "$$"
   ]
  },
  {
   "cell_type": "markdown",
   "id": "b5698d62-9e77-4cca-8303-d45662cfaf8f",
   "metadata": {},
   "source": [
    "### The Projection\n",
    "\n",
    "Let $m$ be a point in $M$. \n",
    "\n",
    "$$\n",
    "m \\in M\n",
    "$$\n",
    "\n",
    "Let $L$ be the line from $m$ to $v$.\n",
    "\n",
    "$$\n",
    "L = \\mbox{line}(m,v)\n",
    "$$\n",
    "\n",
    "The line $L$ is well-defined whenever $m$ and $v$ are distinct\n",
    "points.\n",
    "\n",
    "$$\n",
    "m \\neq v\n",
    "$$\n",
    "\n",
    "The projection $p = f(m)$ of $m$ onto $C$ is defined to be the point\n",
    "where $L$ intersects $C$.\n",
    "\n",
    "$$\n",
    "\\{~p~\\} = L \\cap C\n",
    "$$\n",
    "\n",
    "Define $V$ to be the plane through $v$ parallel to $C$.\n",
    "\n",
    "$$\n",
    "V = \\mbox{plane}(v, \\hat{\\imath}, \\hat{\\jmath})\n",
    "$$\n",
    "\n",
    "The plane $C$, and any plane parallel to it,\n",
    "appears as a horizontal line in the diagram.\n",
    "For example, the horizontal lines $D$ and $E$ represent planes parallel to $C$.\n",
    "\n",
    "The point $p$ is well-defined only if the intersection of $L$ and $C$ contains exactly one point.\n",
    "This condition is violated when $L$ \n",
    "lies in $V$ because any such a line never intersects $C$.\n",
    "\n",
    "Clearly, if $m$ lines in $V$ then $L$ lies in $V$.\n",
    "\n",
    "$$\n",
    "m \\in V \\implies L \\subset V\n",
    "$$\n",
    "\n",
    "Therefore, $p$ is well-defined when $m$ does not lie $V$.\n",
    "\n",
    "$$\n",
    "m \\notin V \\implies \\exists_1 p \\in C \\bullet L \\cap C = \\{~p~\\}\n",
    "$$\n",
    "\n",
    "In summary, we must exclude $V$ from the domain of definition of $f$.\n",
    "\n",
    "$$\n",
    "f: M \\setminus V \\rightarrow C\n",
    "$$"
   ]
  },
  {
   "cell_type": "markdown",
   "id": "c4d6952e-e829-4b8c-81de-3928cedc11f5",
   "metadata": {},
   "source": [
    "## SymPy\n",
    "\n",
    "We'll use SymPy to represent the math.\n",
    "\n",
    "SymPy provides two modules that are relevant to this task:\n",
    "* The [Matrix](https://docs.sympy.org/latest/reference/public/matrices/index.html)\n",
    "module performs vector space calculations such as vector addition, scalar multiplication,\n",
    "and matrix multiplication.\n",
    "* The [Geometry](https://docs.sympy.org/latest/modules/geometry/index.html)\n",
    "module performs euclidean geometry calculations involving points, lines, and planes.\n",
    "\n",
    "We'll use both."
   ]
  },
  {
   "cell_type": "markdown",
   "id": "e8728c28-6fc4-42e0-a67a-77938d42ebe5",
   "metadata": {},
   "source": [
    "### Scalars and Vectors\n",
    "\n",
    "Model space $M$ is a 3-dimensional real vector space, namely a copy of $\\mathbb{R}^3$.\n",
    "\n",
    "Define the types Scalar to be a real number and Vector to be a triple of scalars.\n",
    "SymPy represents vectors as matrices that have a single column, i.e. as column vectors."
   ]
  },
  {
   "cell_type": "markdown",
   "id": "8aa31cee-d02f-452f-8fae-81b9af419975",
   "metadata": {},
   "source": [
    "Define some convenience functions to create SymPy objects that represent\n",
    "scalars, positive scalars, and vectors.\n",
    "We'll use the subscripts 1, 2, and 3 to label the components of vectors since the SymPy\n",
    "Symbols class supports that directly."
   ]
  },
  {
   "cell_type": "code",
   "execution_count": 1,
   "id": "9bb3c803-91d4-47c9-b2d3-a6465118881f",
   "metadata": {},
   "outputs": [],
   "source": [
    "from sympy import *\n",
    "from instant_insanity.core.symbolic_projection import Scalar, Vector\n",
    "\n",
    "def scalar(name: str) -> Scalar:\n",
    "    return symbols(name, real=True)\n",
    "\n",
    "def positive_scalar(name: str) -> Scalar:\n",
    "    return symbols(name, real=True, positive=True)\n",
    "\n",
    "def vector(name: str) -> Vector:\n",
    "    return Matrix(symbols(name + '1:4', real=True))"
   ]
  },
  {
   "cell_type": "markdown",
   "id": "80b3cd39-a4e8-4c20-a4a4-c713500f03e6",
   "metadata": {},
   "source": [
    "###  Orientation of Model Space Coordinate Axes\n",
    "\n",
    "Let $x, y, z$ be the usual Cartesian coordinates on $M$.\n",
    "\n",
    "We will use the default Manim orientation of $M$ relative to the display screen, \n",
    "namely:\n",
    "* $x$ increases from left (LEFT) to right (RIGHT),\n",
    "* $y$ increases from bottom (DOWN) to top (UP), and \n",
    "* $z$ increases from in back (IN) to front (OUT)."
   ]
  },
  {
   "cell_type": "markdown",
   "id": "d2dba4af-4ca8-4e99-8772-7e583d380e99",
   "metadata": {},
   "source": [
    "### Representing Arbitrary Points in Model Space\n",
    "\n",
    "Let $m$ represent an arbitrary point in $M$."
   ]
  },
  {
   "cell_type": "code",
   "execution_count": 2,
   "id": "12446708-bc14-4330-8a52-49c687d42863",
   "metadata": {},
   "outputs": [
    {
     "data": {
      "text/latex": [
       "$\\displaystyle \\left[\\begin{matrix}m_{1}\\\\m_{2}\\\\m_{3}\\end{matrix}\\right]$"
      ],
      "text/plain": [
       "Matrix([\n",
       "[m1],\n",
       "[m2],\n",
       "[m3]])"
      ]
     },
     "execution_count": 2,
     "metadata": {},
     "output_type": "execute_result"
    }
   ],
   "source": [
    "m = vector('m')\n",
    "\n",
    "m"
   ]
  },
  {
   "cell_type": "markdown",
   "id": "e2b6b152-867f-48d5-a5e1-4fcdd9d59908",
   "metadata": {},
   "source": [
    "The point $m$ is a column vector.\n",
    "To save vertical space on output, take the transpose."
   ]
  },
  {
   "cell_type": "code",
   "execution_count": 3,
   "id": "8a75d707-fd84-4385-b068-2cf1b8ed6a90",
   "metadata": {},
   "outputs": [
    {
     "data": {
      "text/latex": [
       "$\\displaystyle \\left[\\begin{matrix}m_{1} & m_{2} & m_{3}\\end{matrix}\\right]$"
      ],
      "text/plain": [
       "Matrix([[m1, m2, m3]])"
      ]
     },
     "execution_count": 3,
     "metadata": {},
     "output_type": "execute_result"
    }
   ],
   "source": [
    "m.T"
   ]
  },
  {
   "cell_type": "markdown",
   "id": "2461924e-444b-42be-905c-0214eb6e7e71",
   "metadata": {},
   "source": [
    "The Matrix class is an abtract base class for several other concrete types of matrix."
   ]
  },
  {
   "cell_type": "code",
   "execution_count": 4,
   "id": "738f2f9b-e88a-42c4-a61b-eeda5df397e0",
   "metadata": {},
   "outputs": [
    {
     "data": {
      "text/plain": [
       "(True, sympy.matrices.dense.MutableDenseMatrix)"
      ]
     },
     "execution_count": 4,
     "metadata": {},
     "output_type": "execute_result"
    }
   ],
   "source": [
    "isinstance(m, Matrix), type(m)"
   ]
  },
  {
   "cell_type": "markdown",
   "id": "7b8c12d0-4913-4562-ba82-646fee31d6fa",
   "metadata": {},
   "source": [
    "Unpack $m$ into variables that reference its components."
   ]
  },
  {
   "cell_type": "code",
   "execution_count": 5,
   "id": "cac1bbde-dc43-454b-94fb-6009da07756d",
   "metadata": {},
   "outputs": [
    {
     "data": {
      "text/latex": [
       "$\\displaystyle m_{3}$"
      ],
      "text/plain": [
       "m3"
      ]
     },
     "execution_count": 5,
     "metadata": {},
     "output_type": "execute_result"
    }
   ],
   "source": [
    "m1, m2, m3 = m\n",
    "\n",
    "m3"
   ]
  },
  {
   "cell_type": "code",
   "execution_count": 6,
   "id": "ac4d75aa-42ac-4866-8b05-7c7d979a3d7b",
   "metadata": {},
   "outputs": [
    {
     "data": {
      "text/plain": [
       "sympy.core.symbol.Symbol"
      ]
     },
     "execution_count": 6,
     "metadata": {},
     "output_type": "execute_result"
    }
   ],
   "source": [
    "type(m3)"
   ]
  },
  {
   "cell_type": "markdown",
   "id": "ee81310e-b383-40cb-a079-c19a52240d3b",
   "metadata": {},
   "source": [
    "Confirm that $m_3$ is real."
   ]
  },
  {
   "cell_type": "code",
   "execution_count": 7,
   "id": "e5b8168f-3ce3-4b81-8c37-b6178ab00a76",
   "metadata": {},
   "outputs": [
    {
     "data": {
      "text/plain": [
       "True"
      ]
     },
     "execution_count": 7,
     "metadata": {},
     "output_type": "execute_result"
    }
   ],
   "source": [
    "ask(Q.real(m3))"
   ]
  },
  {
   "cell_type": "markdown",
   "id": "ffe5460c-491c-48e9-87a2-c874b46a4fa8",
   "metadata": {},
   "source": [
    "### The Viewpoint\n",
    "\n",
    "The viewpoint $v$ is an arbitrary point in $M$."
   ]
  },
  {
   "cell_type": "code",
   "execution_count": 8,
   "id": "f99c3bff-a6aa-4d5c-a222-195767ccb6fa",
   "metadata": {},
   "outputs": [
    {
     "data": {
      "text/latex": [
       "$\\displaystyle \\left[\\begin{matrix}v_{1} & v_{2} & v_{3}\\end{matrix}\\right]$"
      ],
      "text/plain": [
       "Matrix([[v1, v2, v3]])"
      ]
     },
     "execution_count": 8,
     "metadata": {},
     "output_type": "execute_result"
    }
   ],
   "source": [
    "v = vector('v')\n",
    "\n",
    "v.T"
   ]
  },
  {
   "cell_type": "markdown",
   "id": "976075de-fbb8-4f6f-b547-0e0c104d9a87",
   "metadata": {},
   "source": [
    "### The Camera Plane\n",
    "\n",
    "The camera plane $C$ is perpendicular to the $z$-axis. Let $c$ be its $z$-intercept."
   ]
  },
  {
   "cell_type": "code",
   "execution_count": 9,
   "id": "2769d752-616e-4834-8686-1269109d86e0",
   "metadata": {},
   "outputs": [
    {
     "data": {
      "text/latex": [
       "$\\displaystyle c$"
      ],
      "text/plain": [
       "c"
      ]
     },
     "execution_count": 9,
     "metadata": {},
     "output_type": "execute_result"
    }
   ],
   "source": [
    "c = scalar('c')\n",
    "\n",
    "c"
   ]
  },
  {
   "cell_type": "code",
   "execution_count": 10,
   "id": "15924dc6-2737-476a-82fa-12e5a97d29bc",
   "metadata": {},
   "outputs": [
    {
     "data": {
      "text/latex": [
       "$\\displaystyle \\operatorname{Plane}\\left(\\operatorname{Point3D}\\left(0, 0, c\\right), \\left( 0, \\  0, \\  1\\right)\\right)$"
      ],
      "text/plain": [
       "Plane(Point3D(0, 0, c), (0, 0, 1))"
      ]
     },
     "execution_count": 10,
     "metadata": {},
     "output_type": "execute_result"
    }
   ],
   "source": [
    "C = Plane(Point3D(0,0,c), normal_vector=(0,0,1))\n",
    "\n",
    "C"
   ]
  },
  {
   "cell_type": "markdown",
   "id": "fbb98c9d-6474-41f1-8996-63ed5c42636a",
   "metadata": {},
   "source": [
    "### The Line from the Model Point to the Viewpoint\n",
    "\n",
    "Let $L$ be the line that passes through $m$ and $v$.\n",
    "\n",
    "The most appropriate way to represent $L$ is as an instance of Line3D.\n",
    "The initializer for Line3D takes two Point3D instances.\n",
    "We have already defined $m$ and $p$ as column vectors.\n",
    "Can we create a Point3D from a column vector?"
   ]
  },
  {
   "cell_type": "code",
   "execution_count": 11,
   "id": "fc07e70b-26cc-437f-9541-d2e18e6dd99d",
   "metadata": {},
   "outputs": [
    {
     "data": {
      "text/latex": [
       "$\\displaystyle \\operatorname{Point3D}\\left(m_{1}, m_{2}, m_{3}\\right)$"
      ],
      "text/plain": [
       "Point3D(m1, m2, m3)"
      ]
     },
     "execution_count": 11,
     "metadata": {},
     "output_type": "execute_result"
    }
   ],
   "source": [
    "Point3D(m)"
   ]
  },
  {
   "attachments": {},
   "cell_type": "markdown",
   "id": "3a5da1cb-247d-496d-8a72-88123a9d1cdd",
   "metadata": {},
   "source": [
    "Success! The SymPy Geometry module appears to play nicely with the Matrix module.\n",
    "\n",
    "The problem we are trying to solve is to compute $p$ from $m$. We therefore need to \n",
    "define $L$ as the line from $m$ to $v$.\n",
    "Try using the column vectors as arguments to Line3D and see if they get accepted."
   ]
  },
  {
   "cell_type": "code",
   "execution_count": 12,
   "id": "955f747f-8894-4f72-82bc-caf295ad38d6",
   "metadata": {},
   "outputs": [
    {
     "data": {
      "text/latex": [
       "$\\displaystyle \\operatorname{Line3D}\\left(\\operatorname{Point3D}\\left(m_{1}, m_{2}, m_{3}\\right), \\operatorname{Point3D}\\left(v_{1}, v_{2}, v_{3}\\right)\\right)$"
      ],
      "text/plain": [
       "Line3D(Point3D(m1, m2, m3), Point3D(v1, v2, v3))"
      ]
     },
     "execution_count": 12,
     "metadata": {},
     "output_type": "execute_result"
    }
   ],
   "source": [
    "L = Line3D(m, v)\n",
    "\n",
    "L"
   ]
  },
  {
   "cell_type": "markdown",
   "id": "8bece0e4-b688-47a0-bf29-e37787cabe4d",
   "metadata": {},
   "source": [
    "This works. Next, compute the projection of $m$."
   ]
  },
  {
   "cell_type": "markdown",
   "id": "4aaa368b-c313-41f8-ba9c-d78a57cbb7b8",
   "metadata": {},
   "source": [
    "### The Projection\n",
    "\n",
    "Let $f(m) = p$ be the projection of $m$."
   ]
  },
  {
   "cell_type": "code",
   "execution_count": 13,
   "id": "832ef9eb-c0a4-46ae-b643-f7a2aa2e682c",
   "metadata": {},
   "outputs": [
    {
     "data": {
      "text/latex": [
       "$\\displaystyle \\left[\\begin{matrix}p_{1} & p_{2} & p_{3}\\end{matrix}\\right]$"
      ],
      "text/plain": [
       "Matrix([[p1, p2, p3]])"
      ]
     },
     "execution_count": 13,
     "metadata": {},
     "output_type": "execute_result"
    }
   ],
   "source": [
    "p = vector('p')\n",
    "\n",
    "p.T"
   ]
  },
  {
   "cell_type": "markdown",
   "id": "14f68f05-c60f-46b6-bb7f-4b0f3256d5dc",
   "metadata": {},
   "source": [
    "The point $p$ is the intersection of $L$ with $C$."
   ]
  },
  {
   "cell_type": "code",
   "execution_count": 14,
   "id": "fee60404-c5d7-4244-9b73-0969644ed59d",
   "metadata": {},
   "outputs": [
    {
     "data": {
      "text/plain": [
       "[Point3D(m1 - (-c + m3)*(m1 - v1)/(m3 - v3), m2 - (-c + m3)*(m2 - v2)/(m3 - v3), c)]"
      ]
     },
     "execution_count": 14,
     "metadata": {},
     "output_type": "execute_result"
    }
   ],
   "source": [
    "L.intersection(C)"
   ]
  },
  {
   "cell_type": "markdown",
   "id": "d863af2d-0913-447b-9e0f-b16fa9a9b8d6",
   "metadata": {},
   "source": [
    "In general, the intersection of linear entities is a list.\n",
    "Grab the first element of the list.\n",
    "This will be the RHS of an equation defining $p$."
   ]
  },
  {
   "cell_type": "code",
   "execution_count": 15,
   "id": "fb2b1c89-7ed1-4686-b29e-4fb475363aaf",
   "metadata": {},
   "outputs": [
    {
     "data": {
      "text/latex": [
       "$\\displaystyle \\operatorname{Point3D}\\left(m_{1} - \\frac{\\left(- c + m_{3}\\right) \\left(m_{1} - v_{1}\\right)}{m_{3} - v_{3}}, m_{2} - \\frac{\\left(- c + m_{3}\\right) \\left(m_{2} - v_{2}\\right)}{m_{3} - v_{3}}, c\\right)$"
      ],
      "text/plain": [
       "Point3D(m1 - (-c + m3)*(m1 - v1)/(m3 - v3), m2 - (-c + m3)*(m2 - v2)/(m3 - v3), c)"
      ]
     },
     "execution_count": 15,
     "metadata": {},
     "output_type": "execute_result"
    }
   ],
   "source": [
    "rhs = L.intersection(C)[0]\n",
    "\n",
    "rhs"
   ]
  },
  {
   "cell_type": "markdown",
   "id": "85e229ea-f717-416d-8226-a67edd285392",
   "metadata": {},
   "source": [
    "Create an equation that equates the point $p$ to the RHS."
   ]
  },
  {
   "cell_type": "code",
   "execution_count": 16,
   "id": "123567f7-331b-41b4-9dbe-7ba7522fbb96",
   "metadata": {},
   "outputs": [
    {
     "data": {
      "text/plain": [
       "[Eq(p1, m1 - (-c + m3)*(m1 - v1)/(m3 - v3)),\n",
       " Eq(p2, m2 - (-c + m3)*(m2 - v2)/(m3 - v3)),\n",
       " Eq(p3, c)]"
      ]
     },
     "execution_count": 16,
     "metadata": {},
     "output_type": "execute_result"
    }
   ],
   "source": [
    "def_p = [Eq(p_i, rhs_i) for p_i, rhs_i in zip(p, rhs)]\n",
    "def_p"
   ]
  },
  {
   "cell_type": "markdown",
   "id": "8149e6d5-8c49-4d3b-be75-0fe6f6aa54d0",
   "metadata": {},
   "source": [
    "Now solve the equation to associate the expressions with $p$."
   ]
  },
  {
   "cell_type": "code",
   "execution_count": 17,
   "id": "cad24261-8240-4c8b-9889-5fc124ddc9ac",
   "metadata": {},
   "outputs": [
    {
     "data": {
      "text/plain": [
       "{p1: (-c*m1 + c*v1 + m1*v3 - m3*v1)/(-m3 + v3),\n",
       " p2: (-c*m2 + c*v2 + m2*v3 - m3*v2)/(-m3 + v3),\n",
       " p3: c}"
      ]
     },
     "execution_count": 17,
     "metadata": {},
     "output_type": "execute_result"
    }
   ],
   "source": [
    "solve(def_p, *p)"
   ]
  },
  {
   "attachments": {},
   "cell_type": "markdown",
   "id": "850e3849-638a-4344-9ab8-a05fa5d960df",
   "metadata": {},
   "source": [
    "## Depth-Sorting\n",
    "\n",
    "Let $m$ and $n$ be distinct points in $M$ that project to the same\n",
    "point $p$ in $C$:\n",
    "\n",
    "$$\n",
    "f(m) = f(n)\n",
    "$$\n",
    "\n",
    "We say that $m$ and $n$ are *collinear* with respect to $f$.\n",
    "\n",
    "Suppose that $n$ is behind $m$ in the sense that $m$ blocks our view of $n$.\n",
    "Denote this as:\n",
    "\n",
    "$$ \n",
    "n \\prec m\n",
    "$$\n",
    "\n",
    "In terms of coordinates, this condition is:\n",
    "\n",
    "$$\n",
    "n_3 < m_3\n",
    "$$\n",
    "\n",
    "Now consider two 3d polygons, $A$ and $B$.\n",
    "We assume that $A$ and $B$ are nonintersecting, convex, planar polygons in $M$.\n",
    "\n",
    "$$\n",
    "A \\cap B = \\emptyset\n",
    "$$\n",
    "\n",
    "Our task is to decide on a drawing order.\n",
    "Project each polygon onto $C$.\n",
    "Let the projected 2d polygons be $A'$ and $B'$.\n",
    "Compute their 2D intersection $I$.\n",
    "\n",
    "$$\n",
    "I = A' \\cap B'\n",
    "$$\n",
    "\n",
    "If $I$ is empty then it doesn't matter in which order we draw $A$ and $B$.\n",
    "However, if $I$ is not empty then the order does matter.\n",
    "\n",
    "Assume $I$ is nonempty.\n",
    "Let $p$ be an any point in the intersection.\n",
    "\n",
    "$$\n",
    "p \\in I\n",
    "$$\n",
    "\n",
    "Define $L$ to be the line from $p$ to $v$.\n",
    "\n",
    "$$\n",
    "L = \\mbox{line}(p, v)\n",
    "$$\n",
    "\n",
    "Find the points $a$ in $A$ and $b$ in $B$ that project to $p$.\n",
    "These are the intersections of $L$ with $A$ and $B$.\n",
    "\n",
    "$$\n",
    "\\begin{gather}\n",
    "a = A \\cap L \\\\\n",
    "b = B \\cap L\n",
    "\\end{gather}\n",
    "$$\n",
    "\n",
    "Now compare the $z$-components of $a$ and $b$.\n",
    "The $z$-components cannot be equal to each other because $A$ and $B$ do not intersect.\n",
    "\n",
    "$$\n",
    "\\begin{gather}\n",
    "a_3 < b_3 \\implies A \\prec B \\\\\n",
    "b_3 < a_3 \\implies B \\prec A\n",
    "\\end{gather}\n",
    "$$\n",
    "\n",
    "This establishes the relative drawing order of $A$ and $B$.\n",
    "\n",
    "Perform this calculation for all pairs of polygons in the scene\n",
    "and then compute a topological sort on the $\\prec$ relation.\n",
    "This gives us a global drawing order for the polygons."
   ]
  },
  {
   "cell_type": "markdown",
   "id": "fa76912a-ada6-4edd-979d-706ef25e87c3",
   "metadata": {},
   "source": [
    "## Orthographic Projection\n",
    "\n",
    "An orthographic projection is a limiting case of a perspective projection as\n",
    "the viewpoint $v$ moves off to infinity in a fixed direction.\n",
    "Let $\\hat{u}$ be a unit vector that defines the direction that the viewpoint moves in.\n",
    "Let $\\mu$ be a real parameter, let $v_0$ be an initial viewpoint,\n",
    "and define the viewpoint $v(\\hat{u};\\mu)$ as follows:\n",
    "$$\n",
    "v(\\hat{u};\\mu) = v_0 + \\mu \\hat{u}\n",
    "$$\n",
    "\n",
    "Define $\\hat{u}(m; \\mu)$ to be the unit vector that points from $m$ to $v(\\mu)$.\n",
    "$$\n",
    "\\hat{u}(m; \\mu) = \\frac{v(\\hat{u};\\mu) - m}{\\lVert v(\\hat{u};\\mu) - m \\rVert}\n",
    "$$\n",
    "\n",
    "Clearly, as $\\mu$ becomes very large, \n",
    "$v(\\hat{u};\\mu)$ approaches $\\mu \\hat{v}$.\n",
    "$$\n",
    "\\begin{align}\n",
    "\\lim_{\\mu \\to \\infty} \\hat{u}(m; \\mu) \n",
    "&= \\lim_{\\mu \\to \\infty} \\frac{v(\\hat{u};\\mu) - m}{\\lVert v(\\hat{u};\\mu) - m \\rVert} \\\\\n",
    "&= \\lim_{\\mu \\to \\infty} \\frac{v_0 + \\mu \\hat{u} - m}{\\lVert v_0 + \\mu \\hat{v} - m \\rVert} \\\\\n",
    "&= \\lim_{\\mu \\to \\infty} \\frac{\\mu \\hat{u}}{\\lVert \\mu \\hat{u} \\rVert} \\\\\n",
    "&= \\lim_{\\mu \\to \\infty} \\frac{\\mu \\hat{u}}{\\mu \\lVert \\hat{u} \\rVert} \\\\\n",
    "&= \\hat{u}\n",
    "\\end{align}\n",
    "$$\n",
    "\n",
    "Therefore, an orthographic projection is like a perspective projection except that\n",
    "rather than compute the unit vector $\\hat{u}(v;m)$ we use the given constant unit vector $\\hat{u}$."
   ]
  },
  {
   "cell_type": "markdown",
   "id": "4a32783c-892b-48fe-8964-8f0013c0dfec",
   "metadata": {},
   "source": [
    "## Unifying Perspective and Orthographic Projections\n",
    "\n",
    "In perspective projections we defined $L$ to be the line from $m$ to $v$.\n",
    "However, there is no $v$ for orthographic projections, just a unit vector $\\hat{u}$.\n",
    "To unify the treatment, redefine $L$ to be the line from $m$ in the direction\n",
    "$\\hat{u}$.\n",
    "\n",
    "For orthographic projections, $\\hat{u}$ is a given parameter.\n",
    "\n",
    "For perspective projections, compute $\\hat{u}$ from $v$ as follows:\n",
    "\n",
    "$$\n",
    "\\hat{u} = \\frac{v - m}{\\lVert v - m \\rVert}\n",
    "$$"
   ]
  },
  {
   "cell_type": "markdown",
   "id": "1d682783-8ce1-432c-90e5-9c7f10bd6899",
   "metadata": {},
   "source": [
    "The mapping from model space to scene space is as follows. "
   ]
  },
  {
   "cell_type": "markdown",
   "id": "e98a5e75-6607-4f38-9584-6f09b14733e5",
   "metadata": {},
   "source": [
    "## Translations and Scalings\n",
    "\n",
    "Above we have discussed the project of $M$ onto $C$.\n",
    "However, it is useful to introduce another layer of mapping from $C$ to scene space $S$.\n",
    "Scene space is the space in which Manin draws objects.\n",
    "\n",
    "Translations allow us to shift the origins of model space and scene space relative to each other.\n",
    "\n",
    "Scaling allows us to change their relative units of measure.\n",
    "For example, our standard puzzle cube has side length 2.0 in model space, but might fit better with side length 1.0 in scene space.\n",
    "In this case we would use a scale factor of 0.5.\n",
    "\n",
    "Our framework should support this additional layer of mapping defined by a translate vector followed\n",
    "by a uniform scaling to transform $C$ to $S$.\n",
    "\n",
    "### TODO: Refactor the current projection classes to eliminate translation and scaling."
   ]
  },
  {
   "cell_type": "markdown",
   "id": "3a23510b-89ec-4c9d-9b62-7cafabf8337f",
   "metadata": {},
   "source": [
    "## Appendix: Spherical Polar Coordinates\n",
    "\n",
    "We define an orthographic projection by giving the unit vector $u$ that specifies the direction of the projection.\n",
    "Since we'll be doing exact symbolic mathematics, we'll define the unit vector in terms of spherical polar angles.\n",
    "Any unit vector $u$ is parameterized by the polar angle $\\theta$ and the azimuthal angle $\\phi$.\n",
    "\n",
    "Define an arbitrary unit vector $u$."
   ]
  },
  {
   "cell_type": "code",
   "execution_count": 18,
   "id": "decdf80f-1c89-4be6-b726-f6eda45dda6d",
   "metadata": {},
   "outputs": [
    {
     "data": {
      "text/latex": [
       "$\\displaystyle \\left[\\begin{matrix}\\theta & \\phi\\end{matrix}\\right]$"
      ],
      "text/plain": [
       "Matrix([[theta, phi]])"
      ]
     },
     "execution_count": 18,
     "metadata": {},
     "output_type": "execute_result"
    }
   ],
   "source": [
    "theta = scalar('theta')\n",
    "phi = scalar('phi')\n",
    "\n",
    "Matrix([theta, phi]).T"
   ]
  },
  {
   "cell_type": "code",
   "execution_count": 19,
   "id": "2583999a-0734-41ab-be2d-d08bbfc6c7da",
   "metadata": {},
   "outputs": [
    {
     "data": {
      "text/latex": [
       "$\\displaystyle \\left[\\begin{matrix}\\sin{\\left(\\theta \\right)} \\cos{\\left(\\phi \\right)} & \\sin{\\left(\\phi \\right)} \\sin{\\left(\\theta \\right)} & \\cos{\\left(\\theta \\right)}\\end{matrix}\\right]$"
      ],
      "text/plain": [
       "Matrix([[sin(theta)*cos(phi), sin(phi)*sin(theta), cos(theta)]])"
      ]
     },
     "execution_count": 19,
     "metadata": {},
     "output_type": "execute_result"
    }
   ],
   "source": [
    "u_x = sin(theta) * cos(phi)\n",
    "u_y = sin(theta) * sin(phi)\n",
    "u_z = cos(theta)\n",
    "u = Matrix([u_x, u_y, u_z])\n",
    "\n",
    "u.T"
   ]
  },
  {
   "cell_type": "code",
   "execution_count": 20,
   "id": "246344dd-cf79-4a32-9c8c-e661154035de",
   "metadata": {},
   "outputs": [
    {
     "data": {
      "text/latex": [
       "$\\displaystyle \\sqrt{\\sin^{2}{\\left(\\phi \\right)} \\sin^{2}{\\left(\\theta \\right)} + \\sin^{2}{\\left(\\theta \\right)} \\cos^{2}{\\left(\\phi \\right)} + \\cos^{2}{\\left(\\theta \\right)}}$"
      ],
      "text/plain": [
       "sqrt(sin(phi)**2*sin(theta)**2 + sin(theta)**2*cos(phi)**2 + cos(theta)**2)"
      ]
     },
     "execution_count": 20,
     "metadata": {},
     "output_type": "execute_result"
    }
   ],
   "source": [
    "u.norm()"
   ]
  },
  {
   "cell_type": "code",
   "execution_count": 21,
   "id": "7143a9ce-0ad7-4736-854f-184258c6e7ed",
   "metadata": {},
   "outputs": [
    {
     "data": {
      "text/latex": [
       "$\\displaystyle 1$"
      ],
      "text/plain": [
       "1"
      ]
     },
     "execution_count": 21,
     "metadata": {},
     "output_type": "execute_result"
    }
   ],
   "source": [
    "simplify(u.norm())"
   ]
  }
 ],
 "metadata": {
  "kernelspec": {
   "display_name": "Python 3 (ipykernel)",
   "language": "python",
   "name": "python3"
  },
  "language_info": {
   "codemirror_mode": {
    "name": "ipython",
    "version": 3
   },
   "file_extension": ".py",
   "mimetype": "text/x-python",
   "name": "python",
   "nbconvert_exporter": "python",
   "pygments_lexer": "ipython3",
   "version": "3.13.5"
  }
 },
 "nbformat": 4,
 "nbformat_minor": 5
}
