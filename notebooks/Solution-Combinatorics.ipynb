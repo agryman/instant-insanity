{
 "cells": [
  {
   "cell_type": "markdown",
   "id": "863a1ab7-c5c1-4c05-8714-6a36a1e7886e",
   "metadata": {},
   "source": [
    "# Solution Combinatorics\n",
    "*Arthur Ryman, last updated 2025-04-03*"
   ]
  },
  {
   "cell_type": "markdown",
   "id": "80a3a26e-dbb5-48ba-a5e7-22567af58789",
   "metadata": {},
   "source": [
    "## Introduction\n",
    "\n",
    "This notebook shows how to compute the total number of combinations of the Instant Insanity puzzle.\n",
    "The branch of mathematics that focuses on how to count combinations is called *Combinatorics*.\n",
    "The number of combinations for any puzzle is very interesting since it indicates how hard it is to solve the\n",
    "puzzle."
   ]
  },
  {
   "cell_type": "markdown",
   "id": "cbae630d-4bdf-4d13-9a38-6f09dc94a2f4",
   "metadata": {},
   "source": [
    "## 41,472 or 82,944?\n",
    "\n",
    "### 41,472\n",
    "\n",
    "The 1947 Eureka paper [The Coloured Cubes Problem\n",
    "](https://onedrive.live.com/?authkey=%21AG4HZAmpHD0fSWs&cid=BF134020839BC69B&id=BF134020839BC69B%21210&parId=BF134020839BC69B%21147&o=OneUp)\n",
    "by F. de Carteblanche which gives the elegant graph theory solution to the problem states that if you pick a random arrangement\n",
    "of the cubes your chance of it being a solution is 1 in 41,472.\n",
    "At that time, the puzzle was called the *Tantalizer*.\n",
    "Carteblanche was the pseudonym of a group of four Cambridge mathematics students which included the eminent graph theorist\n",
    "Bill Tutte.\n",
    "\n",
    "### 82,944\n",
    "\n",
    "The 2008 Gresham College lecture [The Four Cubes Problem](https://youtu.be/sI7lX3M7OZo?si=ijtOwtu-WV1sY4lH) \n",
    "by Robin Wilson, Gresham Professor of Geometry, gives the number as 82,944.\n",
    "\n",
    "The 2018 PBS Infinite Series video [Instant Insanity Puzzle](https://youtu.be/Lw1pF47N-0Q?si=WX3NlcEhPNLdY6Na) by Tai-Danea Bradley\n",
    "also gives the number as 82,944.\n",
    "\n",
    "The 2024 Winning Solutions [Instant Insanity](https://winning-moves.com/product/InstantInsanity.asp)\n",
    "package similarly advertises 82,944 combinations.\n",
    "\n",
    "<img src=\"images/package-front.jpeg\" alt=\"Instant Insanity package\" style=\"width: 25%;\">\n",
    "\n",
    "### Who's Correct?\n",
    "\n",
    "Let's apply some combinatorics and compute the answer for ourselves."
   ]
  },
  {
   "cell_type": "markdown",
   "id": "a5ef4845-3b52-470e-96f7-5716c5924fd8",
   "metadata": {},
   "source": [
    "## Counting the Combinations\n",
    "\n",
    "First we need to precisely define what we mean by a combination of the cubes.\n",
    "For example, suppose we put the four cubes in a bag, draw them out one at a time, and place them in a horizontal row without looking.\n",
    "So we are picking a random order for the cubes and a random orientation for each cube.\n",
    "\n",
    "(animate this)"
   ]
  },
  {
   "cell_type": "markdown",
   "id": "c70d7032-7f7d-42f9-9669-dbb1970e5162",
   "metadata": {},
   "source": [
    "### Counting the Number of Cube Orderings\n",
    "\n",
    "One of the most basic theorems of combinatorics is that if you have a set of $n$ distinct objects then you\n",
    "can order them in \n",
    "$$n \\times (n-1) \\times \\dots \\times 2 \\times 1$$ \n",
    "ways.\n",
    "This quantity is denoted $n!$ which is spoken as $n$ *factorial*.\n",
    "To see this observe that you have $n$ ways to choose the first object.\n",
    "Now there are $n-1$ objects remaining so for each of the $n$ first objects there are $n-1$ ways to choose the second\n",
    "object. Therefore there are $n \\times (n-1)$ orderings of two object.\n",
    "Continuing this reasoning, we get that there are $n!$ orderings $n$ objects.\n",
    "\n",
    "Let's compute $4!$."
   ]
  },
  {
   "cell_type": "code",
   "execution_count": 1,
   "id": "28f91b0d-6662-418c-b860-05dec6154d36",
   "metadata": {},
   "outputs": [
    {
     "name": "stdout",
     "output_type": "stream",
     "text": [
      "24\n"
     ]
    }
   ],
   "source": [
    "number_of_cube_orderings = 4 * 3 * 2 * 1\n",
    "\n",
    "print(number_of_cube_orderings)"
   ]
  },
  {
   "cell_type": "markdown",
   "id": "d1518631-dd22-402d-a004-01a4d91d6d83",
   "metadata": {},
   "source": [
    "However, do we really care about the order of the cubes?\n",
    "If we have found one solution then we can produce another solution simply by swapping the positions of the cubes without changing\n",
    "their orientations.\n",
    "That seems like artificially inflating the number of solutions.\n",
    "Two solutions that differ simply in the order of the cubes should not be considered as distinct solutions.\n",
    "Therefore, let's simply pick an order for the cubes.\n",
    "\n",
    "As we'll discuss later, swapping the positions of the cubes is an example of a symmetry operation on the set of solutions\n",
    "since it sends solutions to solutions.\n",
    "In general, we won't consider solutions that are related by symmetries to be essentially distinct."
   ]
  },
  {
   "cell_type": "markdown",
   "id": "d05e8dc3-3346-4545-b854-3892a3a04949",
   "metadata": {},
   "source": [
    "### Counting the Number of Cube Orientations\n",
    "\n",
    "Given a fixed order for the cubes, our remaining freedom is in orienting each cube.\n",
    "We can specify an orientation by saying which face is on top and which face is in front.\n",
    "Let's count the number of orientations.\n",
    "\n",
    "We'll use another basic theorem of combinatorics. \n",
    "If we have two sets of things, say $X$ containing $n$ things and $Y$ containing $m$ things\n",
    "then the number of ways we can pair things from $X$ with things from $Y$ is $n \\times m$.\n",
    "\n",
    "A cube has 6 faces. Therefore, there are 6 ways to pick the top face.\n",
    "\n",
    "(animate this)"
   ]
  },
  {
   "cell_type": "code",
   "execution_count": 2,
   "id": "29e8ac38-62bc-457b-a94a-00606496c073",
   "metadata": {},
   "outputs": [],
   "source": [
    "number_of_top_face_choices = 6"
   ]
  },
  {
   "cell_type": "markdown",
   "id": "c613a976-6968-4de6-9ead-7456ace05999",
   "metadata": {},
   "source": [
    "Having picked the top face, we can spin the cube one quarter turn about its vertical axis to pick the front face.\n",
    "\n",
    "(animate this)"
   ]
  },
  {
   "cell_type": "code",
   "execution_count": 3,
   "id": "e50c4d5d-f242-495a-8eda-1b53b55e33e4",
   "metadata": {},
   "outputs": [],
   "source": [
    "number_of_front_face_choices = 4"
   ]
  },
  {
   "cell_type": "markdown",
   "id": "94bda4d6-0a40-4e55-a1b1-665549d62e43",
   "metadata": {},
   "source": [
    "Therefore, the total number of cube orientations is $6 \\times 4$."
   ]
  },
  {
   "cell_type": "code",
   "execution_count": 4,
   "id": "b4d5a464-9ad7-4b3c-99b9-8a65fe87106f",
   "metadata": {},
   "outputs": [
    {
     "name": "stdout",
     "output_type": "stream",
     "text": [
      "24\n"
     ]
    }
   ],
   "source": [
    "number_of_cube_orientations = number_of_top_face_choices * number_of_front_face_choices\n",
    "\n",
    "print(number_of_cube_orientations)"
   ]
  },
  {
   "cell_type": "markdown",
   "id": "f526d723-7dab-405e-ad0f-350967038248",
   "metadata": {},
   "source": [
    "### Counting the Number of Cube Arrangements\n",
    "\n",
    "We have four cubes and we can pick any one of the 24 orientations for each cube.\n",
    "Apply the basic combination rule again to get the total number of cube arrangements.\n",
    "Multiply the number of cube orientations by itself four times.\n",
    "This is the same as raising the number of cube orientations to the power 4."
   ]
  },
  {
   "cell_type": "code",
   "execution_count": 5,
   "id": "2ed2e447-baee-46fa-ae4a-0ce2341bb751",
   "metadata": {},
   "outputs": [
    {
     "name": "stdout",
     "output_type": "stream",
     "text": [
      "331776\n"
     ]
    }
   ],
   "source": [
    "number_of_cube_arrangements = number_of_cube_orientations ** 4\n",
    "\n",
    "print(number_of_cube_arrangements)"
   ]
  },
  {
   "cell_type": "markdown",
   "id": "c9dfc704-7f3b-41e0-97af-dcff0a94ac8e",
   "metadata": {},
   "source": [
    "We get 331,776 which is much bigger than 82,944.\n",
    "Why the difference?\n",
    "The reason is that we should regard some arrangements as being essentially the same.\n",
    "\n",
    "Suppose we have a solution. Then we can easily get another solution simply by rotating the row of cubes one quarter of a turn\n",
    "about the horizontal axis. Furthermore, we can do this four times before ending up with the arrangement we started from.\n",
    "Therefore each solution belongs of a family of four essentially equivalent solutions.\n",
    "\n",
    "(animate this)"
   ]
  },
  {
   "cell_type": "markdown",
   "id": "ba7a3506-06b0-4b85-a990-c2780694d995",
   "metadata": {},
   "source": [
    "Let the symbol $Q$ denote the operation of rotating the row of cubes one quarter of a turn along the horizontal axis.\n",
    "We call $Q$ a *symmetry* operation for the solutions since it sends solutions to solution.\n",
    "We should therefore not regard arrangements that are related by a $Q$ operation as being essentially distinct.\n",
    "\n",
    "Mathematicians say that arrangements, or mathematical objects in general,\n",
    "that are related by some symmetry are the same *modulo* that symmetry.\n",
    "We therefore need to compute the number of arrangements modulo $Q$.\n",
    "This can be done by dividing the total number of arrangements by the number of arrangements in each family of equivalent arrangements,\n",
    "which for $Q$ is 4."
   ]
  },
  {
   "cell_type": "code",
   "execution_count": 6,
   "id": "53c8819a-9223-4a35-9212-3947f8f24828",
   "metadata": {},
   "outputs": [
    {
     "name": "stdout",
     "output_type": "stream",
     "text": [
      "82944\n"
     ]
    }
   ],
   "source": [
    "Q_size = 4\n",
    "number_of_arrangements_modulo_Q = number_of_cube_arrangements // Q_size\n",
    "\n",
    "print(number_of_arrangements_modulo_Q)"
   ]
  },
  {
   "cell_type": "markdown",
   "id": "0d925db4-77bc-4f10-a412-b69a1d82e25b",
   "metadata": {},
   "source": [
    "Eureka! Now we understand where the number 82,944 comes from.\n",
    "But what about 41,472?\n",
    "The explanation is similar to the above.\n",
    "We have yet another symmetry.\n",
    "\n",
    "Suppose we have a solution. We can obtain another solution by rotating each cube by one half turn about its vertical axis.\n",
    "Let's refer to this operations by the symbol $H$.\n",
    "We can apply the $H$ operation twice before returning to the starting arrangement.\n",
    "Therefore, we need to further divide the number of arrangements by 2 to get the number of essentially distinct arrangements."
   ]
  },
  {
   "cell_type": "code",
   "execution_count": 7,
   "id": "32008e52-1564-4176-a008-19707d742705",
   "metadata": {},
   "outputs": [
    {
     "name": "stdout",
     "output_type": "stream",
     "text": [
      "41472\n"
     ]
    }
   ],
   "source": [
    "H_size = 2\n",
    "number_of_arrangements_modulo_QH = number_of_arrangements_modulo_Q // H_size\n",
    "\n",
    "print(number_of_arrangements_modulo_QH)"
   ]
  },
  {
   "cell_type": "markdown",
   "id": "4c20fa5e-7104-4aba-aa68-af71f96fac30",
   "metadata": {},
   "source": [
    "Success! We now understand where the number 41,472 comes from. Carteblanche was right!"
   ]
  },
  {
   "cell_type": "markdown",
   "id": "145f7c92-7e63-4268-8df4-02644ff08c7c",
   "metadata": {},
   "source": [
    "## Brute-Force Search\n",
    "\n",
    "We now know how many arrangements, namely 41,472, we'd have to check in order to find a solution.\n",
    "Given enough time and patience, we could systematically generate every possible essentially distinct arrangement\n",
    "and check if it was a solution. Mathematicians call this approach a *brute-force search*.\n",
    "\n",
    "How long would a brute-force search take?\n",
    "Suppose a human was doing the search. As a rough estimate, suppose it takes 1 second to rotate a cube and 1 second to check\n",
    "if the arrangement is a solution.\n",
    "Let's compute the total time."
   ]
  },
  {
   "cell_type": "code",
   "execution_count": 8,
   "id": "a996882a-189f-450c-bcd4-43e4247047e5",
   "metadata": {},
   "outputs": [
    {
     "name": "stdout",
     "output_type": "stream",
     "text": [
      "207360\n"
     ]
    }
   ],
   "source": [
    "seconds_per_arrangement = 5\n",
    "total_seconds = number_of_arrangements_modulo_QH * seconds_per_arrangement\n",
    "\n",
    "print(total_seconds)"
   ]
  },
  {
   "cell_type": "code",
   "execution_count": 9,
   "id": "1e14f129-7b5e-4643-a0cf-d5579dccd831",
   "metadata": {},
   "outputs": [
    {
     "name": "stdout",
     "output_type": "stream",
     "text": [
      "3456.0\n"
     ]
    }
   ],
   "source": [
    "seconds_per_minute = 60\n",
    "total_minutes = total_seconds / seconds_per_minute\n",
    "\n",
    "print(total_minutes)"
   ]
  },
  {
   "cell_type": "code",
   "execution_count": 10,
   "id": "6b82bf44-e50b-42a4-96ac-ee34de154ed9",
   "metadata": {},
   "outputs": [
    {
     "name": "stdout",
     "output_type": "stream",
     "text": [
      "57.6\n"
     ]
    }
   ],
   "source": [
    "minutes_per_hour = 60\n",
    "total_hours = total_minutes / minutes_per_hour\n",
    "\n",
    "print(total_hours)"
   ]
  },
  {
   "cell_type": "code",
   "execution_count": 11,
   "id": "3d4d6bba-054c-4b1b-8f0f-b124830a9e7e",
   "metadata": {},
   "outputs": [
    {
     "name": "stdout",
     "output_type": "stream",
     "text": [
      "2.4\n"
     ]
    }
   ],
   "source": [
    "hours_per_day = 24\n",
    "total_days = total_hours / hours_per_day\n",
    "\n",
    "print(total_days)"
   ]
  },
  {
   "cell_type": "markdown",
   "id": "2377aee3-8747-47c9-b57e-2c1d1c4efcea",
   "metadata": {},
   "source": [
    "Therefore, a human would find the solution if they worked nonstop for 2.4 days and made no errors.\n",
    "This is called the *worst case* time since it assumes that you are unlucky and have to generate all the arrangements\n",
    "before you find the solution.\n",
    "\n",
    "Clearly, this puzzle is challenging which accounts for its popularity.\n",
    "The package states that over 20 million copies have been sold!"
   ]
  },
  {
   "cell_type": "markdown",
   "id": "3a680278-2360-48a7-ae1b-f98c56e43fa2",
   "metadata": {},
   "source": [
    "## Next\n",
    "\n",
    "How long would a computer take to find the solution? \n",
    "One of us actually tried this in 1967 using a Fortran 4 program running on their high school's IBM 1130 computer.\n",
    "Next, we'll write some Python code to perform the brute-force search and then optimize it for speed."
   ]
  }
 ],
 "metadata": {
  "kernelspec": {
   "display_name": "Python 3 (ipykernel)",
   "language": "python",
   "name": "python3"
  },
  "language_info": {
   "codemirror_mode": {
    "name": "ipython",
    "version": 3
   },
   "file_extension": ".py",
   "mimetype": "text/x-python",
   "name": "python",
   "nbconvert_exporter": "python",
   "pygments_lexer": "ipython3",
   "version": "3.11.11"
  }
 },
 "nbformat": 4,
 "nbformat_minor": 5
}
