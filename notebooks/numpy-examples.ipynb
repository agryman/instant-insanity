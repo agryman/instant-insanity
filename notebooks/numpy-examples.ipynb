{
 "cells": [
  {
   "cell_type": "markdown",
   "id": "76ff759e-e340-4481-833a-bfb00dd82b94",
   "metadata": {},
   "source": [
    "# NumPy Examples\n",
    "\n",
    "See https://numpy.org/doc/stable/reference/arrays.ndarray.html"
   ]
  },
  {
   "cell_type": "code",
   "execution_count": 1,
   "id": "75a8da90-006b-471e-8126-db636b6f420b",
   "metadata": {},
   "outputs": [
    {
     "data": {
      "text/plain": [
       "array([[1, 2, 3],\n",
       "       [4, 5, 6]])"
      ]
     },
     "execution_count": 1,
     "metadata": {},
     "output_type": "execute_result"
    }
   ],
   "source": [
    "import numpy as np\n",
    "\n",
    "x = np.array([[1,2,3],[4,5,6]])\n",
    "x"
   ]
  },
  {
   "cell_type": "code",
   "execution_count": 2,
   "id": "cc768fc8-7ff2-4f81-af98-ebf6eb7ce4de",
   "metadata": {},
   "outputs": [
    {
     "data": {
      "text/plain": [
       "array([2, 5])"
      ]
     },
     "execution_count": 2,
     "metadata": {},
     "output_type": "execute_result"
    }
   ],
   "source": [
    "x[:,1]"
   ]
  },
  {
   "cell_type": "code",
   "execution_count": 3,
   "id": "927b70e1-5008-4aa3-b895-5e3575f579e9",
   "metadata": {},
   "outputs": [
    {
     "data": {
      "text/plain": [
       "array([ 1,  0, -1])"
      ]
     },
     "execution_count": 3,
     "metadata": {},
     "output_type": "execute_result"
    }
   ],
   "source": [
    "v = np.array([1, 0, -1])\n",
    "v"
   ]
  },
  {
   "cell_type": "code",
   "execution_count": 4,
   "id": "f46d6a0c-e4c3-4f70-9bbe-4c14ba99bab9",
   "metadata": {},
   "outputs": [
    {
     "data": {
      "text/plain": [
       "array([-2, -2])"
      ]
     },
     "execution_count": 4,
     "metadata": {},
     "output_type": "execute_result"
    }
   ],
   "source": [
    "x @ v"
   ]
  },
  {
   "cell_type": "code",
   "execution_count": 5,
   "id": "e52e6e39-bd2d-4029-9452-01cfab22954f",
   "metadata": {},
   "outputs": [
    {
     "data": {
      "text/plain": [
       "array([[3, 5, 2],\n",
       "       [7, 3, 1],\n",
       "       [9, 4, 2]])"
      ]
     },
     "execution_count": 5,
     "metadata": {},
     "output_type": "execute_result"
    }
   ],
   "source": [
    "from numpy.linalg import det\n",
    "\n",
    "m = np.array([[3,5,2], [7,3,1], [9,4,2]])\n",
    "m"
   ]
  },
  {
   "cell_type": "code",
   "execution_count": 6,
   "id": "02e7d402-e7b3-4df7-956c-a99eee10eb70",
   "metadata": {},
   "outputs": [
    {
     "data": {
      "text/plain": [
       "np.float64(-17.00000000000001)"
      ]
     },
     "execution_count": 6,
     "metadata": {},
     "output_type": "execute_result"
    }
   ],
   "source": [
    "det(m)"
   ]
  },
  {
   "cell_type": "code",
   "execution_count": 7,
   "id": "80b31424-390d-4045-bf0f-023ce0d1efc3",
   "metadata": {},
   "outputs": [
    {
     "data": {
      "text/plain": [
       "array([[3, 7, 9],\n",
       "       [5, 3, 4],\n",
       "       [2, 1, 2]])"
      ]
     },
     "execution_count": 7,
     "metadata": {},
     "output_type": "execute_result"
    }
   ],
   "source": [
    "np.transpose(m)"
   ]
  },
  {
   "cell_type": "code",
   "execution_count": 8,
   "id": "3d869aa9-2a61-4bc4-9b62-102fd385c3b1",
   "metadata": {},
   "outputs": [
    {
     "data": {
      "text/plain": [
       "array([[3, 7, 9],\n",
       "       [5, 3, 4],\n",
       "       [2, 1, 2]])"
      ]
     },
     "execution_count": 8,
     "metadata": {},
     "output_type": "execute_result"
    }
   ],
   "source": [
    "m.T"
   ]
  },
  {
   "cell_type": "code",
   "execution_count": 9,
   "id": "e1777708-3a99-4278-b418-cdf814beac48",
   "metadata": {},
   "outputs": [
    {
     "data": {
      "text/plain": [
       "array([[ 38,  38,  51],\n",
       "       [ 38,  59,  77],\n",
       "       [ 51,  77, 101]])"
      ]
     },
     "execution_count": 9,
     "metadata": {},
     "output_type": "execute_result"
    }
   ],
   "source": [
    "m @ m.T"
   ]
  },
  {
   "cell_type": "code",
   "execution_count": 10,
   "id": "c0c07dbb-a0c7-4429-9e75-14bc8c138281",
   "metadata": {},
   "outputs": [
    {
     "data": {
      "text/plain": [
       "array([[139,  72,  31],\n",
       "       [ 72,  50,  21],\n",
       "       [ 31,  21,   9]])"
      ]
     },
     "execution_count": 10,
     "metadata": {},
     "output_type": "execute_result"
    }
   ],
   "source": [
    "m.T @ m"
   ]
  },
  {
   "cell_type": "markdown",
   "id": "41185612-82a0-4903-9cb2-5005ce994294",
   "metadata": {},
   "source": [
    "Quarter turn about the x-axis: Q_x"
   ]
  },
  {
   "cell_type": "code",
   "execution_count": 11,
   "id": "68b04337-a752-4117-b4e2-fa01715e1df6",
   "metadata": {},
   "outputs": [
    {
     "data": {
      "text/plain": [
       "array([[ 1,  0,  0],\n",
       "       [ 0,  0,  1],\n",
       "       [ 0, -1,  0]])"
      ]
     },
     "execution_count": 11,
     "metadata": {},
     "output_type": "execute_result"
    }
   ],
   "source": [
    "Qx = np.array([[1,0,0],[0,0,1],[0,-1,0]])\n",
    "Qx"
   ]
  },
  {
   "cell_type": "code",
   "execution_count": 12,
   "id": "7998886d-12cb-41ff-9ed5-f4273abc850e",
   "metadata": {},
   "outputs": [
    {
     "data": {
      "text/plain": [
       "array([[1, 0, 0],\n",
       "       [0, 1, 0],\n",
       "       [0, 0, 1]])"
      ]
     },
     "execution_count": 12,
     "metadata": {},
     "output_type": "execute_result"
    }
   ],
   "source": [
    "Qx @ Qx.T"
   ]
  },
  {
   "cell_type": "code",
   "execution_count": 13,
   "id": "99777bce-e523-44a3-8cfa-4d7bd4cda6c6",
   "metadata": {},
   "outputs": [
    {
     "data": {
      "text/plain": [
       "array([[ 1,  0,  0],\n",
       "       [ 0, -1,  0],\n",
       "       [ 0,  0, -1]])"
      ]
     },
     "execution_count": 13,
     "metadata": {},
     "output_type": "execute_result"
    }
   ],
   "source": [
    "Hx = Qx @ Qx\n",
    "Hx"
   ]
  },
  {
   "cell_type": "code",
   "execution_count": 14,
   "id": "25a8ebb3-5362-415a-8a08-75d5027c7dc7",
   "metadata": {},
   "outputs": [
    {
     "data": {
      "text/plain": [
       "array([[1, 0, 0],\n",
       "       [0, 1, 0],\n",
       "       [0, 0, 1]])"
      ]
     },
     "execution_count": 14,
     "metadata": {},
     "output_type": "execute_result"
    }
   ],
   "source": [
    "Fx = Hx @ Hx\n",
    "Fx"
   ]
  },
  {
   "cell_type": "code",
   "execution_count": 15,
   "id": "9f61d7ec-c3ed-4351-bc27-b4b92c99321e",
   "metadata": {},
   "outputs": [
    {
     "data": {
      "text/plain": [
       "array([[1, 0, 0],\n",
       "       [0, 1, 0],\n",
       "       [0, 0, 1]])"
      ]
     },
     "execution_count": 15,
     "metadata": {},
     "output_type": "execute_result"
    }
   ],
   "source": [
    "Qx @ Qx.T"
   ]
  },
  {
   "cell_type": "code",
   "execution_count": 16,
   "id": "33cc81c0-915f-44b9-96c5-6263096f4052",
   "metadata": {},
   "outputs": [
    {
     "data": {
      "text/plain": [
       "np.float64(1.0)"
      ]
     },
     "execution_count": 16,
     "metadata": {},
     "output_type": "execute_result"
    }
   ],
   "source": [
    "det(Qx)"
   ]
  },
  {
   "cell_type": "code",
   "execution_count": 17,
   "id": "db2271ff-9a03-4fd9-9f77-a337d9afd20a",
   "metadata": {},
   "outputs": [
    {
     "data": {
      "text/plain": [
       "array([[ 0,  0,  1],\n",
       "       [ 0,  1,  0],\n",
       "       [-1,  0,  0]])"
      ]
     },
     "execution_count": 17,
     "metadata": {},
     "output_type": "execute_result"
    }
   ],
   "source": [
    "Qy = np.array([[0,0,1], [0,1,0], [-1,0,0]])\n",
    "Qy"
   ]
  },
  {
   "cell_type": "code",
   "execution_count": 18,
   "id": "cdfde367-bd74-434b-b7a4-0b5be711bcd8",
   "metadata": {},
   "outputs": [
    {
     "data": {
      "text/plain": [
       "np.float64(1.0)"
      ]
     },
     "execution_count": 18,
     "metadata": {},
     "output_type": "execute_result"
    }
   ],
   "source": [
    "det(Qy)"
   ]
  },
  {
   "cell_type": "code",
   "execution_count": 19,
   "id": "633c4efc-2ca5-44c9-8cb5-f4456c42e7f5",
   "metadata": {},
   "outputs": [
    {
     "data": {
      "text/plain": [
       "array([[1, 0, 0],\n",
       "       [0, 1, 0],\n",
       "       [0, 0, 1]])"
      ]
     },
     "execution_count": 19,
     "metadata": {},
     "output_type": "execute_result"
    }
   ],
   "source": [
    "Qy@Qy.T"
   ]
  },
  {
   "cell_type": "code",
   "execution_count": 20,
   "id": "aa75c757-bef7-4481-91d6-e69955000678",
   "metadata": {},
   "outputs": [
    {
     "data": {
      "text/plain": [
       "array([[ 0,  1,  0],\n",
       "       [-1,  0,  0],\n",
       "       [ 0,  0,  1]])"
      ]
     },
     "execution_count": 20,
     "metadata": {},
     "output_type": "execute_result"
    }
   ],
   "source": [
    "Qz=np.array([[0,1,0],[-1,0,0],[0,0,1]])\n",
    "Qz"
   ]
  },
  {
   "cell_type": "code",
   "execution_count": 21,
   "id": "f11da75a-7ebc-4224-895b-303795f1fd4e",
   "metadata": {},
   "outputs": [
    {
     "data": {
      "text/plain": [
       "array([[1, 0, 0],\n",
       "       [0, 1, 0],\n",
       "       [0, 0, 1]])"
      ]
     },
     "execution_count": 21,
     "metadata": {},
     "output_type": "execute_result"
    }
   ],
   "source": [
    "Qz @ Qz.T"
   ]
  },
  {
   "cell_type": "code",
   "execution_count": 22,
   "id": "38fb0319-3f49-476b-befc-6253ab95e897",
   "metadata": {},
   "outputs": [
    {
     "data": {
      "text/plain": [
       "np.float64(1.0)"
      ]
     },
     "execution_count": 22,
     "metadata": {},
     "output_type": "execute_result"
    }
   ],
   "source": [
    "det(Qz)"
   ]
  },
  {
   "cell_type": "code",
   "execution_count": 23,
   "id": "1ab3e271-ca14-47c2-98f7-438915793e2f",
   "metadata": {},
   "outputs": [
    {
     "data": {
      "text/plain": [
       "array([[[0, 0, 0],\n",
       "        [1, 1, 1],\n",
       "        [2, 2, 2]],\n",
       "\n",
       "       [[0, 1, 2],\n",
       "        [0, 1, 2],\n",
       "        [0, 1, 2]]])"
      ]
     },
     "execution_count": 23,
     "metadata": {},
     "output_type": "execute_result"
    }
   ],
   "source": [
    "import numpy as np\n",
    "np.indices((3,3))"
   ]
  },
  {
   "cell_type": "code",
   "execution_count": 24,
   "id": "a4932859-e0f1-40cc-9163-e9c356b69893",
   "metadata": {},
   "outputs": [
    {
     "data": {
      "text/plain": [
       "array([1, 1, 1])"
      ]
     },
     "execution_count": 24,
     "metadata": {},
     "output_type": "execute_result"
    }
   ],
   "source": [
    "v = np.array([1,1,1])\n",
    "v"
   ]
  },
  {
   "cell_type": "code",
   "execution_count": 25,
   "id": "01251ecf-bde2-4ef4-9a2b-cdb49255dba7",
   "metadata": {},
   "outputs": [
    {
     "data": {
      "text/plain": [
       "[array([[1., 0., 0.],\n",
       "        [0., 1., 0.],\n",
       "        [0., 0., 1.]]),\n",
       " array([[ 1.,  0.,  0.],\n",
       "        [ 0.,  0.,  1.],\n",
       "        [ 0., -1.,  0.]]),\n",
       " array([[ 1.,  0.,  0.],\n",
       "        [ 0., -1.,  0.],\n",
       "        [ 0.,  0., -1.]]),\n",
       " array([[ 1.,  0.,  0.],\n",
       "        [ 0.,  0., -1.],\n",
       "        [ 0.,  1.,  0.]])]"
      ]
     },
     "execution_count": 25,
     "metadata": {},
     "output_type": "execute_result"
    }
   ],
   "source": [
    "def mk_powers(M, n):\n",
    "    powers = []\n",
    "    d, _ = M.shape\n",
    "    P = np.eye(d)\n",
    "    while True:\n",
    "        powers.append(P)\n",
    "        if len(powers) == n:\n",
    "            break\n",
    "        P = P @ M\n",
    "    return powers\n",
    "\n",
    "mk_powers(Qx, 4)\n",
    "    "
   ]
  },
  {
   "cell_type": "code",
   "execution_count": 26,
   "id": "1b83272c-2774-4714-a450-02a6d5478d19",
   "metadata": {},
   "outputs": [
    {
     "data": {
      "text/plain": [
       "array([[ 1,  1,  1],\n",
       "       [ 1,  1, -1],\n",
       "       [ 1, -1, -1],\n",
       "       [ 1, -1,  1]])"
      ]
     },
     "execution_count": 26,
     "metadata": {},
     "output_type": "execute_result"
    }
   ],
   "source": [
    "def mk_face(v, Q):\n",
    "    vs = [v]\n",
    "    for i in range(3):\n",
    "        v = Q @ v\n",
    "        vs.append(v)\n",
    "    return np.array(vs)\n",
    "\n",
    "mk_face(v, Qx)"
   ]
  }
 ],
 "metadata": {
  "kernelspec": {
   "display_name": "Python 3 (ipykernel)",
   "language": "python",
   "name": "python3"
  },
  "language_info": {
   "codemirror_mode": {
    "name": "ipython",
    "version": 3
   },
   "file_extension": ".py",
   "mimetype": "text/x-python",
   "name": "python",
   "nbconvert_exporter": "python",
   "pygments_lexer": "ipython3",
   "version": "3.11.11"
  }
 },
 "nbformat": 4,
 "nbformat_minor": 5
}
