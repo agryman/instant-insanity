{
 "cells": [
  {
   "cell_type": "markdown",
   "id": "ad880edf-3b56-4801-9394-4351c84a233d",
   "metadata": {},
   "source": [
    "# History with Voiceovers\n",
    "*Arthur Ryman, last updated 2025-06-17*\n",
    "\n",
    "[<img src=\"images/colab-badge.png\" alt=\"Open in Colab\" style=\"width: 15%;\">\n",
    "](https://colab.research.google.com/github/agryman/instant-insanity/blob/main/notebooks/History-Voiceovers.ipynb)"
   ]
  },
  {
   "cell_type": "markdown",
   "id": "11714b4b-4184-4c2a-a5d8-4b6af2c8108d",
   "metadata": {},
   "source": [
    "## Introduction\n",
    "\n",
    "The goal of this notebook is to discuss the history behind the elegant graph theory solution to the \n",
    "Instant Insanity puzzle that was published in 1947\n",
    "by four Cambridge mathematics students writing under the pseudonym of F. de Carteblache.\n",
    "\n",
    "The material in this notebook is supplementary and not essential to the main storyline of the\n",
    "Instant Insanity video. If time permits and we feel that it will be of interest to our\n",
    "target audience of high school students, then we'll include it.\n",
    "Otherwise, we may use this material for an expanded version of the video, or as a separate\n",
    "video that focuces just on the history of the puzzle.\n",
    "\n",
    "This notebook contains both voiceovers and explanatory text.\n",
    "The voiceovers are intended for use in the video.\n",
    "The explanatory text goes into more detail but may be too detailed for use in video."
   ]
  },
  {
   "cell_type": "markdown",
   "id": "3dd87788-ba50-460d-a9ad-4d7b57872969",
   "metadata": {},
   "source": [
    "## Change History\n",
    "\n",
    "This is a working document and will be edited frequency. \n",
    "All voiceovers are saved as plain text files to make it easy to automate text-to-speech conversion. \n",
    "Each voiceover follows the figure or animation it describes."
   ]
  },
  {
   "cell_type": "markdown",
   "id": "9c26ca56-1717-4279-9e8b-0b54ad84d316",
   "metadata": {},
   "source": [
    "## Prerequisites\n",
    "\n",
    "The material in this notebook should come after the graph theory material.\n",
    "At this point the viewer should understand what it means to solve the puzzle and how to solve it\n",
    "using graph theory."
   ]
  },
  {
   "cell_type": "markdown",
   "id": "e7155411-4bf4-466c-84f5-d1341d0b3f96",
   "metadata": {},
   "source": [
    "## Scene: The Trinity Four\n",
    "\n",
    "Start with some background on\n",
    "The Trinity Four, Blanche Descarte, Lady Isabel's Casket, Squaring the Square, and how graph theory was used.\n",
    "\n",
    "Source: [Tiling by Squares - Squaring the Square - Introduction](http://www.squaring.net/history_theory/history_theory.html)\n",
    "\n",
    "Show photographs of the Trinity Four\n",
    "\n",
    "Source: [Tiling by Squares - Brooks, Smith, Stone, Tutte (Part I) - The Trinity Four](http://www.squaring.net/history_theory/brooks_smith_stone_tutte.html)\n",
    "\n",
    "<div style=\"text-align: center;\">\n",
    "    <img src=\"images/trinity-four-med.jpg\" alt=\"The Trinity Four\" style=\"width: 75%;\">\n",
    "</div>"
   ]
  },
  {
   "cell_type": "code",
   "execution_count": 1,
   "id": "c2a999fa-1df7-431a-b0d6-c4ab6713020c",
   "metadata": {
    "scrolled": true
   },
   "outputs": [
    {
     "name": "stdout",
     "output_type": "stream",
     "text": [
      "Bill Tutte, Leonard Brooks, Arthur Stone, and Cedric Smith met in 1935 as undergraduates at \n",
      "Trinity College, Cambridge University. \n",
      "They formed a collaboration known as the Trinity Four based on their \n",
      "shared interest in mathematical puzzles.\n",
      "\n",
      "The Trinity Four published many papers together, \n",
      "mostly in the Cambridge Mathematical Society journal Eureka, writing under the pseudonym Blanche Descarte.\n",
      "\n",
      "Blanche Descarte later acquired a husband known variously as Filet de Carte Blanche or F. de Carteblanche,\n",
      "the author of the 1947 Coloured Cubes paper which is our main object of interest here.\n",
      "Filet is the French word for net which is short for network, providing further evidence that\n",
      "graph theory was very much on their minds.\n"
     ]
    }
   ],
   "source": [
    "!cat voiceovers/history/the-trinity-four.txt"
   ]
  },
  {
   "cell_type": "markdown",
   "id": "76910de2-d21c-4d08-b782-2da224c69546",
   "metadata": {},
   "source": [
    "## Scene: Lady Isabel's Casket\n",
    "\n",
    "Show an image of Lady Isabel's Casket puzzle from The Cantebury Puzzles book.\n",
    "\n",
    "Source: [The Project Gutenberg eBook of The Canterbury Puzzles, by Henry Ernest Dudeney\n",
    "](https://www.gutenberg.org/files/27635/27635-h/27635-h.htm)\n",
    "\n",
    "<div style=\"text-align: center;\">\n",
    "    <img src=\"images/lady-isabels-casket.png\" alt=\"Lady Isabel's Casket\" style=\"width: 75%;\">\n",
    "</div>"
   ]
  },
  {
   "cell_type": "code",
   "execution_count": 2,
   "id": "fd4a5e2c-84dd-482a-a763-77cfbe2359f1",
   "metadata": {
    "scrolled": true
   },
   "outputs": [
    {
     "name": "stdout",
     "output_type": "stream",
     "text": [
      "What led Carteblanche to use graph theory in The Coloured Cubes Problem?\n",
      "\n",
      "The Trinity Four were skilled users of graph theory as early as 1940\n",
      "as is evident from their paper on The Dissection of Rectangles into Squares published under their real names.\n",
      "\n",
      "This problem was inspired by puzzle #40, Lady Isabel's Casket in Dudeney's 1908 book The Cantebury Puzzles.\n",
      "This puzzle describes a square casket inlaid with squares, all of different\n",
      "dimensions, and one gold rectangle with given dimensions.\n",
      "The puzzle challenges you to find the dimensions of the casket and all the squares.\n",
      "\n",
      "Problems of this type became known as Squaring the Square.\n"
     ]
    }
   ],
   "source": [
    "!cat voiceovers/history/lady-isabels-casket-1.txt"
   ]
  },
  {
   "cell_type": "markdown",
   "id": "5c294c29-b8f5-4f59-a18d-0b7e7152bcdc",
   "metadata": {},
   "source": [
    "Show an image of the solution to Lady Isabel's Casket from The Cantebury Puzzles book.\n",
    "\n",
    "<div style=\"text-align: center;\">\n",
    "    <img src=\"images/lady-isabels-casket-solution.png\" alt=\"Lady Isabel's Casket Solution\" style=\"width: 75%;\">\n",
    "</div>"
   ]
  },
  {
   "cell_type": "code",
   "execution_count": 3,
   "id": "fe6926c8-ee0e-4d2b-8ed3-a026fc39842f",
   "metadata": {},
   "outputs": [
    {
     "name": "stdout",
     "output_type": "stream",
     "text": [
      "Here's the solution.\n",
      "Dudeney describes it as follows.\n",
      "\n",
      "This is the only possible\n",
      "solution, and it is a singular fact (though I cannot here show the\n",
      "subtle method of working) that the number, sizes and order of those\n",
      "squares can be calculated direct from the given dimensions of the\n",
      "strip of gold, and the casket can have no other dimensions than 20\n",
      "inches square."
     ]
    }
   ],
   "source": [
    "!cat voiceovers/history/lady-isabels-casket-2.txt"
   ]
  },
  {
   "cell_type": "markdown",
   "id": "2dd4121e-ede9-4ac1-baca-640401baf827",
   "metadata": {},
   "source": [
    "## Scene: Squaring the Square\n",
    "\n",
    "Show an image of the title page of the paper Dissection of Rectangles into Squares.\n",
    "\n",
    "Source: [Springer Nature Link - The Dissection of Rectangles into Squares](https://link.springer.com/chapter/10.1007/978-0-8176-4842-8_6)\n",
    "\n",
    "<div style=\"text-align: center;\">\n",
    "    <img src=\"images/the-dissection-of-rectangles-title-page.png\" alt=\"The Dissection of Rectangles - Title Page\" style=\"width: 75%;\">\n",
    "</div>"
   ]
  },
  {
   "cell_type": "code",
   "execution_count": 4,
   "id": "25b17b00-ba74-45a8-8b2e-7e274ee3adac",
   "metadata": {},
   "outputs": [
    {
     "name": "stdout",
     "output_type": "stream",
     "text": [
      "Here's title page of The Trinity Four's 1940 paper \n",
      "on The Dissection of Rectangles into Squares\n",
      "published under their real names.\n",
      "They solved the problem by associating a directed, labelled graph,\n",
      "also known as a network, with a dissection.\n"
     ]
    }
   ],
   "source": [
    "!cat voiceovers/history/squaring-the-square-1.txt"
   ]
  },
  {
   "cell_type": "markdown",
   "id": "6abd896d-2068-490e-b3fe-ef30509e04ad",
   "metadata": {},
   "source": [
    "Show an image of a graph from the paper Dissection of Rectangles into Squares.\n",
    "<div style=\"text-align: center;\">\n",
    "    <img src=\"images/the-dissection-of-rectangles-network.png\" alt=\"The Dissection of Rectangles - Network\" style=\"width: 75%;\">\n",
    "</div>"
   ]
  },
  {
   "cell_type": "code",
   "execution_count": 5,
   "id": "180816d5-1468-4695-82a9-59c7d0950a53",
   "metadata": {},
   "outputs": [
    {
     "name": "stdout",
     "output_type": "stream",
     "text": [
      "Here's a figure from the 1940 paper that shows an example\n",
      "of converting a rectangle dissection into a network.\n",
      "\n",
      "This tells us that, by the year 1940, The Trinity Four had become masters\n",
      "at applying graph theory to the solution of puzzles.\n",
      "In this case the puzzle had led to a very interesting mathematical problem.\n"
     ]
    }
   ],
   "source": [
    "!cat voiceovers/history/squaring-the-square-2.txt"
   ]
  },
  {
   "cell_type": "markdown",
   "id": "7766982d-3dfd-432f-92b6-f668348b8c0a",
   "metadata": {},
   "source": [
    "## Scene: Bill Tutte - Carteblanche's Graph Theory Genius\n",
    "\n",
    "The purpose of this scene is to provide some compelling evidence for the conclusion\n",
    "that Bill Tutte is Carteblanche's graph theory genius.\n",
    "\n",
    "When queued, do the following:\n",
    "\n",
    "* play the 13 second clip (13s to 26s) from the 2011 BBC documentary preview\n",
    "[Code-Breakers: Bletchley Park's Lost Heroes\n",
    "](https://youtu.be/bMu8UiHJHgs?t=13)\n",
    "* play the 22 second clip (994s to 1016s) from the 2025 BBC documentary\n",
    "[Physicist Brian Cox Explains How Isaac Newton Invented Modern Science\n",
    "](https://youtu.be/0X9izDOqRHs?t=994)\n",
    "* show an animation of a row of rotating rotors from the Lorenz cipher machine on the upper half of the display\n",
    "and a row of rotating coloured cubes below it\n",
    "* show a screenshot of his University of Waterloo page\n",
    "[Professor William T. Tutte](https://uwaterloo.ca/combinatorics-and-optimization/professor-william-t-tutte)\n",
    "* show a screenhot of the Tutte Institute page\n",
    "[Tutte Institute for Mathematics and Computing\n",
    "](https://www.cse-cst.gc.ca/en/mission/research-cse/tutte-institute-mathematics-computing)\n",
    "\n",
    "Here is a 2017 article marking the centenary of Tutte's birth:\n",
    "[Remembering Bill Tutte: another brilliant codebreaker from World War II\n",
    "](https://theconversation.com/remembering-bill-tutte-another-brilliant-codebreaker-from-world-war-ii-77556)\n",
    "\n",
    "The full 2011 BBC documentary is available on Amazon Prime Video via a BritBox subscription as:\n",
    "[Codebreakers - The Secret Geniuses Of World War Two\n",
    "](https://www.primevideo.com/region/na/detail/0TZYZYYKKJBTJXS8BL24E26FZF)\n",
    "\n",
    "Here is the quote from the 2011 BBC documentary:\n",
    "> This is a British mathematician called Bill Tutte.\n",
    "> You won't have heard of him but in 1943 he pulled off what many believe was the greatest intellectual\n",
    "> feat of World War II.\n",
    "\n",
    "Here is the quote from the 2025 BBC documentary:\n",
    "> and it might not have been were it not for the scientific approach taken by a shy and unassuming man\n",
    "> called Bill Tutte of reducing the complex to the simple.\n",
    "> He dedicated every waking hour for three months to cracking the code.\n",
    "\n",
    "Here is an \n",
    "[image](https://en.wikipedia.org/wiki/File:SZ42-6-wheels-lightened.jpg)\n",
    "of the \n",
    "[Lorenz cipher machine](https://en.wikipedia.org/wiki/Lorenz_cipher) rotors from Wikipedia:\n",
    "\n",
    "<div style=\"text-align: center;\">\n",
    "    <img src=\"images/SZ42-6-wheels-lightened.jpg\" alt=\"Lorenz cipher machine\" style=\"width: 50%;\">\n",
    "</div>\n",
    "\n",
    "Here is the Tutte's University of Waterloo page:\n",
    "\n",
    "<div style=\"text-align: center;\">\n",
    "    <img src=\"images/uwaterloo.ca_combinatorics-and-optimization_professor-william-t-tutte.png\" alt=\"UW\" style=\"width: 50%;\">\n",
    "</div>\n",
    "\n",
    "Here is the Tutte Institute page:\n",
    "\n",
    "<div style=\"text-align: center;\">\n",
    "    <img src=\"images/www.cse-cst.gc.ca_en_mission_research-cse_tutte-institute-mathematics-computing.png\" alt=\"TI\" style=\"width: 50%;\">\n",
    "</div>\n",
    "\n",
    "### Voiceover: last updated 2025-05-27\n",
    "\n",
    "TO DO: split up the voiceovers into small segments that as associated with the images.\n",
    "\n",
    "The Coloured Cubes Problem, which we call Instant Insanity,\n",
    "appeared as early as 1900 under the name Tantalizer, yet Carteblanche's ingeneous solution\n",
    "only appeared many years later in 1947.\n",
    "Given that it took at least 47 years for someone to discover this solution,\n",
    "it is safe to say that it was certainly not obvious.\n",
    "So how was it discovered and who discovered it?\n",
    "\n",
    "Carteblanche was the pseudonym of four Cambridge mathematics students, one of whom was Bill Tutte, \n",
    "a graph theory researcher who later became a world-reknown figure in that subject.\n",
    "It seems highly likely that Tutte was the one who realized that the opposite-face colourings could be elegantly \n",
    "represented as a labelled multigraph and used to solve the puzzle.\n",
    "\n",
    "Tutte's university studies were interrupted by World War II during which he worked as a codebreaker\n",
    "at the legendary Bletchley Park. \n",
    "Tutte successfully cracked the extremely difficult Lorenz cipher, codenamed Tunny.\n",
    "Although Alan Turing's decryption of the Enigma code has been widely popularized,\n",
    "for example in the movie The Imitation Game, \n",
    "Tutte's work on Lorenz was kept secret by the British Government.\n",
    "Many experts consider Tutte's cracking of Lorenz to have been much more impressive.\n",
    "\n",
    "The 2011 BBC documentary, Code-Breakers: Bletchley Park's Lost Heroes,\n",
    "describes Bill Tutte's remarkable code-breaking achievement as follows.\n",
    "\n",
    "The 2025 BBC documentary, Physicist Brian Cox Explains How Isaac Newton Invented Modern Science,\n",
    "has this to say about Tutte's approach to cracking Lorenz.\n",
    "\n",
    "Clearly, Bill Tutte was a genious of the first rank.\n",
    "\n",
    "It is tempting to speculate that Tutte's intensive mental concentration on the Lorenz cipher prepared his mind to\n",
    "solve the Coloured Cubes Problem.\n",
    "Both the Enigma and Lorenz machines had at their core a row of rotating wheels called rotors whose initial\n",
    "positions were set to a secret, shared encryption key. \n",
    "The sender and receiver had to set their rotors to the same encryption key in order to successfully\n",
    "encrypt and decrypt a message. \n",
    "Since the number of possible rotor settings was astronomically large, it was virtually\n",
    "impossible for anyone who intercepted the encrypted message to try all possible rotor settings \n",
    "in an effort to decrypt it.\n",
    "The similarity between a row of rotors and a row of rotating cubes may have attracted Tutte to the puzzle.\n",
    "Compared to cracking Lorenz, solving the puzzle must have seemed like child's play to him. \n",
    "\n",
    "After graduating from Cambridge Tutte joined the faculty of the \n",
    "Department of Combinatorics and Optimization at the University of Waterloo in Canada where\n",
    "he made many fundamental discoveries in graph theory.\n",
    "\n",
    "The Canadian Government Communications Security Establishment, which carries on highly classified\n",
    "cryptography research, named the Tutte Institute for Mathematics and Computing in his honour."
   ]
  }
 ],
 "metadata": {
  "kernelspec": {
   "display_name": "Python 3 (ipykernel)",
   "language": "python",
   "name": "python3"
  },
  "language_info": {
   "codemirror_mode": {
    "name": "ipython",
    "version": 3
   },
   "file_extension": ".py",
   "mimetype": "text/x-python",
   "name": "python",
   "nbconvert_exporter": "python",
   "pygments_lexer": "ipython3",
   "version": "3.11.13"
  }
 },
 "nbformat": 4,
 "nbformat_minor": 5
}
