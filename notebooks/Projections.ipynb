{
 "cells": [
  {
   "cell_type": "markdown",
   "id": "4d1b78f8-4590-4281-a00e-cb1778345539",
   "metadata": {},
   "source": [
    "# Projections\n",
    "*Arthur Ryman, lasted updated 2025-09-01*"
   ]
  },
  {
   "cell_type": "markdown",
   "id": "c4d6952e-e829-4b8c-81de-3928cedc11f5",
   "metadata": {},
   "source": [
    "## Introduction\n",
    "\n",
    "The goal of this notebook is to analyze the current implemations of the `Projection`\n",
    "abstract base class and its two concrete subclasses `PerspectiveProjection` and\n",
    "`OrthographicProjection`."
   ]
  },
  {
   "cell_type": "markdown",
   "id": "16a5b1c5-a7f7-422a-809e-f78876fc8b37",
   "metadata": {},
   "source": [
    "## The Projection Class\n",
    "\n",
    "Here is the code listing:"
   ]
  },
  {
   "cell_type": "code",
   "execution_count": null,
   "id": "57f43dcf-7b00-410f-8e63-a08c0f43a32a",
   "metadata": {},
   "outputs": [],
   "source": []
  }
 ],
 "metadata": {
  "kernelspec": {
   "display_name": "Python 3 (ipykernel)",
   "language": "python",
   "name": "python3"
  },
  "language_info": {
   "codemirror_mode": {
    "name": "ipython",
    "version": 3
   },
   "file_extension": ".py",
   "mimetype": "text/x-python",
   "name": "python",
   "nbconvert_exporter": "python",
   "pygments_lexer": "ipython3",
   "version": "3.13.5"
  }
 },
 "nbformat": 4,
 "nbformat_minor": 5
}
