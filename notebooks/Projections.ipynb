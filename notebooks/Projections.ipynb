{
 "cells": [
  {
   "cell_type": "markdown",
   "id": "4d1b78f8-4590-4281-a00e-cb1778345539",
   "metadata": {},
   "source": [
    "# Projections\n",
    "*Arthur Ryman, lasted updated 2025-09-01*"
   ]
  },
  {
   "cell_type": "markdown",
   "id": "c4d6952e-e829-4b8c-81de-3928cedc11f5",
   "metadata": {},
   "source": [
    "## Introduction\n",
    "\n",
    "The goal of this notebook is to analyze the current implemations of the `Projection`\n",
    "abstract base class and its two concrete subclasses `PerspectiveProjection` and\n",
    "`OrthographicProjection`."
   ]
  },
  {
   "cell_type": "code",
   "execution_count": 1,
   "id": "2e5d8b9b-284d-4304-83ab-577376d5a076",
   "metadata": {},
   "outputs": [],
   "source": [
    "from listings.list_python import lst"
   ]
  },
  {
   "cell_type": "markdown",
   "id": "16a5b1c5-a7f7-422a-809e-f78876fc8b37",
   "metadata": {},
   "source": [
    "## The Projection Class\n",
    "\n",
    "View the source code on GitHub: \n",
    "[projection.py](https://github.com/agryman/instant-insanity/blob/main/src/instant_insanity/core/projection.py)\n",
    "\n",
    "I am going to analyse this class by translating its computations into SymPy.\n",
    "I hope that SymPy can simplify the formulae."
   ]
  },
  {
   "cell_type": "code",
   "execution_count": 2,
   "id": "28e6bfa4-8ccf-4bda-ad9e-cceb83c0f273",
   "metadata": {},
   "outputs": [],
   "source": [
    "from sympy import *"
   ]
  },
  {
   "cell_type": "code",
   "execution_count": 9,
   "id": "0696ba76-639f-479c-97fe-10fc757a73d4",
   "metadata": {},
   "outputs": [
    {
     "data": {
      "text/plain": [
       "True"
      ]
     },
     "execution_count": 9,
     "metadata": {},
     "output_type": "execute_result"
    }
   ],
   "source": [
    "S.Zero.is_real"
   ]
  },
  {
   "cell_type": "code",
   "execution_count": 3,
   "id": "57f43dcf-7b00-410f-8e63-a08c0f43a32a",
   "metadata": {},
   "outputs": [
    {
     "name": "stdout",
     "output_type": "stream",
     "text": [
      "s Matrix([[x0], [x1], [x2]]) Matrix([[y0], [y1], [y2]]) Matrix([[s*x0], [s*x1], [s*x2]]) Matrix([[x0 + y0], [x1 + y1], [x2 + y2]])\n"
     ]
    }
   ],
   "source": [
    "type Scalar = Expr\n",
    "type Vector = Matrix\n",
    "\n",
    "def scalar(name: str) -> Scalar:\n",
    "    return symbols(name, real=True)\n",
    "\n",
    "def vector(name: str) -> Vector:\n",
    "    return Matrix(symbols(name + ':3', real=True))\n",
    "\n",
    "\n",
    "s = scalar('s')\n",
    "x = vector('x')\n",
    "y = vector('y')\n",
    "\n",
    "print(s, x, y, s * x, x + y)"
   ]
  },
  {
   "cell_type": "code",
   "execution_count": 4,
   "id": "3bbea365-2a33-4cfe-9dda-db414ea53f50",
   "metadata": {},
   "outputs": [
    {
     "data": {
      "text/latex": [
       "$\\displaystyle \\left[\\begin{matrix}s x_{0}\\\\s x_{1}\\\\s x_{2}\\end{matrix}\\right]$"
      ],
      "text/plain": [
       "Matrix([\n",
       "[s*x0],\n",
       "[s*x1],\n",
       "[s*x2]])"
      ]
     },
     "execution_count": 4,
     "metadata": {},
     "output_type": "execute_result"
    }
   ],
   "source": [
    "s * x"
   ]
  },
  {
   "cell_type": "code",
   "execution_count": 5,
   "id": "6cbffd8c-71dc-4935-b3b6-d5e38c82532e",
   "metadata": {},
   "outputs": [
    {
     "data": {
      "text/latex": [
       "$\\displaystyle \\left[\\begin{matrix}x_{0} + y_{0}\\\\x_{1} + y_{1}\\\\x_{2} + y_{2}\\end{matrix}\\right]$"
      ],
      "text/plain": [
       "Matrix([\n",
       "[x0 + y0],\n",
       "[x1 + y1],\n",
       "[x2 + y2]])"
      ]
     },
     "execution_count": 5,
     "metadata": {},
     "output_type": "execute_result"
    }
   ],
   "source": [
    "x + y"
   ]
  },
  {
   "cell_type": "code",
   "execution_count": 7,
   "id": "525b4e83-9e3b-4c6e-ba94-fe0a0570b5e8",
   "metadata": {},
   "outputs": [
    {
     "ename": "NameError",
     "evalue": "name 'np' is not defined",
     "output_type": "error",
     "traceback": [
      "\u001b[31m---------------------------------------------------------------------------\u001b[39m",
      "\u001b[31mNameError\u001b[39m                                 Traceback (most recent call last)",
      "\u001b[36mCell\u001b[39m\u001b[36m \u001b[39m\u001b[32mIn[7]\u001b[39m\u001b[32m, line 1\u001b[39m\n\u001b[32m----> \u001b[39m\u001b[32m1\u001b[39m \u001b[38;5;28;01mimport\u001b[39;00m\u001b[38;5;250m \u001b[39m\u001b[34;01minstant_insanity\u001b[39;00m\u001b[34;01m.\u001b[39;00m\u001b[34;01mcore\u001b[39;00m\u001b[34;01m.\u001b[39;00m\u001b[34;01msymbolic_projection\u001b[39;00m\u001b[38;5;250m \u001b[39m\u001b[38;5;28;01mas\u001b[39;00m\u001b[38;5;250m \u001b[39m\u001b[34;01msp\u001b[39;00m\n",
      "\u001b[36mFile \u001b[39m\u001b[32m~/Documents/repositories/GitHub/agryman/instant-insanity/src/instant_insanity/core/symbolic_projection.py:80\u001b[39m\n\u001b[32m     75\u001b[39m         \u001b[38;5;28;01massert\u001b[39;00m scene_point.shape == (\u001b[32m3\u001b[39m,\u001b[32m1\u001b[39m)\n\u001b[32m     77\u001b[39m         \u001b[38;5;28;01mreturn\u001b[39;00m scene_point / \u001b[38;5;28mself\u001b[39m.scene_per_model + \u001b[38;5;28mself\u001b[39m.scene_origin\n\u001b[32m---> \u001b[39m\u001b[32m80\u001b[39m \u001b[38;5;28;43;01mclass\u001b[39;49;00m\u001b[38;5;250;43m \u001b[39;49m\u001b[34;43;01mProjection\u001b[39;49;00m\u001b[43m(\u001b[49m\u001b[43mABC\u001b[49m\u001b[43m)\u001b[49m\u001b[43m:\u001b[49m\n\u001b[32m     81\u001b[39m \u001b[38;5;250;43m    \u001b[39;49m\u001b[33;43;03m\"\"\"\u001b[39;49;00m\n\u001b[32m     82\u001b[39m \u001b[33;43;03m    This is the abstract base class for projections.\u001b[39;49;00m\n\u001b[32m     83\u001b[39m \n\u001b[32m   (...)\u001b[39m\u001b[32m     89\u001b[39m \n\u001b[32m     90\u001b[39m \u001b[33;43;03m    \"\"\"\u001b[39;49;00m\n\u001b[32m     92\u001b[39m \u001b[43m    \u001b[49m\u001b[43mscene_x\u001b[49m\u001b[43m:\u001b[49m\u001b[43m \u001b[49m\u001b[43mScalar\u001b[49m\n",
      "\u001b[36mFile \u001b[39m\u001b[32m~/Documents/repositories/GitHub/agryman/instant-insanity/src/instant_insanity/core/symbolic_projection.py:109\u001b[39m, in \u001b[36mProjection\u001b[39m\u001b[34m()\u001b[39m\n\u001b[32m    105\u001b[39m     scene_per_model: \u001b[38;5;28mfloat\u001b[39m = scale\n\u001b[32m    106\u001b[39m     \u001b[38;5;28mself\u001b[39m.conversion = ModelToSceneConversion(scene_origin, scene_per_model)\n\u001b[32m    108\u001b[39m \u001b[38;5;129m@abstractmethod\u001b[39m\n\u001b[32m--> \u001b[39m\u001b[32m109\u001b[39m \u001b[38;5;28;01mdef\u001b[39;00m\u001b[38;5;250m \u001b[39m\u001b[34mcompute_u\u001b[39m(\u001b[38;5;28mself\u001b[39m, model_point: \u001b[43mnp\u001b[49m.ndarray) -> np.ndarray:\n\u001b[32m    110\u001b[39m     \u001b[38;5;28;01mpass\u001b[39;00m\n\u001b[32m    112\u001b[39m \u001b[38;5;28;01mdef\u001b[39;00m\u001b[38;5;250m \u001b[39m\u001b[34mproject_point\u001b[39m(\u001b[38;5;28mself\u001b[39m, model_point: np.ndarray) -> np.ndarray:\n",
      "\u001b[31mNameError\u001b[39m: name 'np' is not defined"
     ]
    }
   ],
   "source": [
    "import instant_insanity.core.symbolic_projection as sp"
   ]
  },
  {
   "cell_type": "code",
   "execution_count": null,
   "id": "ff9ddd52-65ac-4676-bf28-2086c48e7608",
   "metadata": {},
   "outputs": [],
   "source": [
    "lst(sp.ModelToSceneConversion.convert_model_to_scene)"
   ]
  },
  {
   "cell_type": "code",
   "execution_count": null,
   "id": "e0269329-1c05-4bf9-8991-0c7358249c9f",
   "metadata": {},
   "outputs": [],
   "source": [
    "scene_per_model = scalar('alpha')\n",
    "scene_per_model"
   ]
  },
  {
   "cell_type": "code",
   "execution_count": null,
   "id": "49a24ffc-b7af-4c96-9558-52332aa63521",
   "metadata": {},
   "outputs": [],
   "source": [
    "scene_origin = vector('S')\n",
    "scene_origin"
   ]
  },
  {
   "cell_type": "code",
   "execution_count": null,
   "id": "983a49c0-104d-4a50-a05d-dfda4a0d6f75",
   "metadata": {},
   "outputs": [],
   "source": [
    "model_point = vector('M')\n",
    "model_point"
   ]
  },
  {
   "cell_type": "code",
   "execution_count": null,
   "id": "57814dc4-d271-4527-923e-74bad336e8c0",
   "metadata": {},
   "outputs": [],
   "source": [
    "model_point.shape"
   ]
  },
  {
   "cell_type": "code",
   "execution_count": null,
   "id": "e17bfafa-4bbf-489c-9216-70e02e8e4b61",
   "metadata": {},
   "outputs": [],
   "source": [
    "scene_per_model.is_real"
   ]
  },
  {
   "cell_type": "code",
   "execution_count": null,
   "id": "b79506ef-2c4e-4169-b6f2-e1aabcc78ed1",
   "metadata": {},
   "outputs": [],
   "source": [
    "[p.is_real for p in model_point]"
   ]
  },
  {
   "cell_type": "code",
   "execution_count": null,
   "id": "edca83a2-fb9c-46f5-951e-96c1227e6d47",
   "metadata": {},
   "outputs": [],
   "source": [
    "conversion = ModelToSceneConversion(scene_origin, scene_per_model)\n",
    "conversion"
   ]
  },
  {
   "cell_type": "code",
   "execution_count": null,
   "id": "e1d70151-de2a-4211-9513-fd0113ce2492",
   "metadata": {},
   "outputs": [],
   "source": [
    "scene_point = conversion.convert_model_to_scene(model_point)\n",
    "scene_point"
   ]
  },
  {
   "cell_type": "code",
   "execution_count": null,
   "id": "2f6e9716-1b91-4a74-a6b2-3573e660ce99",
   "metadata": {},
   "outputs": [],
   "source": [
    "model_point_2 = conversion.convert_scene_to_model(scene_point)\n",
    "model_point_2"
   ]
  },
  {
   "cell_type": "code",
   "execution_count": null,
   "id": "55a517a8-c9a5-4455-96e7-b2e06e49bb7e",
   "metadata": {},
   "outputs": [],
   "source": [
    "simplify(model_point - model_point_2)"
   ]
  },
  {
   "cell_type": "code",
   "execution_count": null,
   "id": "24342549-22f4-45fa-80b7-a90971c58a21",
   "metadata": {},
   "outputs": [],
   "source": [
    "scene_point_2 = conversion.convert_model_to_scene(model_point_2)\n",
    "scene_point_2"
   ]
  },
  {
   "cell_type": "code",
   "execution_count": null,
   "id": "cc1b609a-cdc7-4855-acd2-bd6ff6c4d07a",
   "metadata": {},
   "outputs": [],
   "source": [
    "scene_point"
   ]
  },
  {
   "cell_type": "code",
   "execution_count": null,
   "id": "fcd75b67-e028-4395-ae69-5548085b9926",
   "metadata": {},
   "outputs": [],
   "source": [
    "scene_point_2 - scene_point"
   ]
  },
  {
   "cell_type": "code",
   "execution_count": null,
   "id": "cd917f48-a117-4ba0-9b97-4d4579cc5e8d",
   "metadata": {},
   "outputs": [],
   "source": [
    "from instant_insanity.core.projection import ModelToSceneConversion"
   ]
  },
  {
   "cell_type": "code",
   "execution_count": null,
   "id": "f7f5e2bd-52b5-420b-8542-92d13e491973",
   "metadata": {},
   "outputs": [],
   "source": [
    "lst(ModelToSceneConversion.convert_model_to_scene)"
   ]
  },
  {
   "cell_type": "code",
   "execution_count": null,
   "id": "0a296d87-0eab-476e-b36a-e3a696b2eba7",
   "metadata": {},
   "outputs": [],
   "source": [
    "lst(ModelToSceneConversion.convert_scene_to_model)"
   ]
  },
  {
   "cell_type": "code",
   "execution_count": null,
   "id": "b7e9e160-9b20-4cc2-92c5-0023f0a231cc",
   "metadata": {},
   "outputs": [],
   "source": [
    "m_s = ModelToSceneConversion(scene_origin, scene_per_model)\n",
    "\n",
    "m_s.scene_origin"
   ]
  },
  {
   "cell_type": "code",
   "execution_count": null,
   "id": "a0026ac3-f86a-4a7f-8c94-333c6f5f652d",
   "metadata": {},
   "outputs": [],
   "source": [
    "m_s.scene_per_model"
   ]
  },
  {
   "cell_type": "code",
   "execution_count": null,
   "id": "f88a2a5e-e088-4e19-9763-eba27a317806",
   "metadata": {},
   "outputs": [],
   "source": [
    "import numpy as np\n"
   ]
  },
  {
   "cell_type": "code",
   "execution_count": null,
   "id": "5596a4bb-e2cf-499f-9e74-55fd739d0ac4",
   "metadata": {},
   "outputs": [],
   "source": [
    "np.isclose(scene_per_model, 0.0)"
   ]
  },
  {
   "cell_type": "code",
   "execution_count": null,
   "id": "5e29a522-c56a-4a6a-ac36-5e5b9dedab00",
   "metadata": {},
   "outputs": [],
   "source": [
    "symbols('theta1:23')[4]"
   ]
  },
  {
   "cell_type": "code",
   "execution_count": null,
   "id": "15a837cd-6e8b-49d7-9779-08200cd62df4",
   "metadata": {},
   "outputs": [],
   "source": []
  }
 ],
 "metadata": {
  "kernelspec": {
   "display_name": "Python 3 (ipykernel)",
   "language": "python",
   "name": "python3"
  },
  "language_info": {
   "codemirror_mode": {
    "name": "ipython",
    "version": 3
   },
   "file_extension": ".py",
   "mimetype": "text/x-python",
   "name": "python",
   "nbconvert_exporter": "python",
   "pygments_lexer": "ipython3",
   "version": "3.13.5"
  }
 },
 "nbformat": 4,
 "nbformat_minor": 5
}
